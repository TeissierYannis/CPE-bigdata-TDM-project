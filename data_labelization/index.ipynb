{
 "cells": [
  {
   "cell_type": "markdown",
   "source": [
    "# Imports\n",
    "This code imports several libraries in order to perform some data processing tasks. The libraries used are:\n",
    "\n",
    "requests: A library that is used to make HTTP requests to web servers and retrieve the response data.\n",
    "\n",
    "functools: A module that provides several tools for functional programming in Python, including tools for working with higher-order functions.\n",
    "\n",
    "pathlib: A library that provides an object-oriented interface for working with files and directories on your system.\n",
    "\n",
    "pickle: A library that provides a way to serialize and deserialize Python objects to and from binary data streams.\n",
    "\n",
    "os: A library that provides a way to interact with the operating system, such as reading and writing files, checking the current directory, and executing shell commands.\n",
    "\n",
    "sqlite3: A library that provides a way to interact with SQLite databases, including creating and executing SQL queries.\n",
    "\n",
    "json: A library that provides a way to encode and decode JSON data.\n",
    "\n",
    "cv2: A library that provides an interface to the OpenCV computer vision library, allowing you to perform tasks such as image processing, object detection, and video analysis.\n",
    "\n",
    "numpy: A library that provides support for arrays and matrices, and includes functions for linear algebra, random number generation, and Fourier transforms.\n",
    "\n",
    "sklearn.cluster.KMeans: A class from the scikit-learn machine learning library that implements the k-means clustering algorithm.\n",
    "\n",
    "collections.Counter: A class from the collections module that provides a convenient way to count elements in a collection, such as a list or a dictionary.\n",
    "\n",
    "tqdm: A library that provides a convenient way to display progress bars for long-running tasks.\n",
    "\n",
    "With these libraries, you should be able to perform a wide range of data processing and analysis tasks."
   ],
   "metadata": {
    "collapsed": false
   }
  },
  {
   "cell_type": "code",
   "execution_count": 44,
   "outputs": [],
   "source": [
    "import functools\n",
    "import pathlib\n",
    "import pickle\n",
    "import os\n",
    "import sqlite3\n",
    "import json\n",
    "import cv2\n",
    "import numpy as np\n",
    "from sklearn.cluster import KMeans\n",
    "from collections import Counter\n",
    "from tqdm import tqdm\n",
    "from transformers import DetrImageProcessor, DetrForObjectDetection\n",
    "import torch\n",
    "import requests\n",
    "from PIL import Image"
   ],
   "metadata": {
    "collapsed": false
   }
  },
  {
   "cell_type": "markdown",
   "source": [
    "# Settings base variables and paths\n",
    "This code sets up the file structure and URL's for a project that uses data from an image dataset.\n"
   ],
   "metadata": {
    "collapsed": false
   }
  },
  {
   "cell_type": "code",
   "execution_count": 30,
   "outputs": [],
   "source": [
    "# Set the base folder path for the project\n",
    "output_path = \"../output\"\n",
    "images_path = os.path.join(output_path, \"images\")\n",
    "metadata_path = os.path.join(output_path, \"metadata\")\n",
    "config_path = os.path.join(output_path, \"config\")\n",
    "\n",
    "list_of_paths = [output_path, images_path, metadata_path, config_path]\n",
    "\n",
    "# Set the base URL for the dataset\n",
    "metadata_extension = \"sqlite\"\n",
    "\n",
    "yolo_cfg = \"https://raw.githubusercontent.com/pjreddie/darknet/master/cfg/yolov3.cfg\"\n",
    "yolo_weights = \"https://pjreddie.com/media/files/yolov3.weights\"\n",
    "yolo_classes = \"https://raw.githubusercontent.com/pjreddie/darknet/master/data/coco.names\"\n",
    "\n",
    "files_to_download = [\n",
    "    (yolo_cfg, os.path.join(config_path, \"yolov3.cfg\")),\n",
    "    (yolo_weights, os.path.join(config_path, \"yolov3.weights\")),\n",
    "    (yolo_classes, os.path.join(config_path, \"coco.names\")),\n",
    "]"
   ],
   "metadata": {
    "collapsed": false
   }
  },
  {
   "cell_type": "markdown",
   "source": [
    "# Create folder structure\n",
    "The code creates the folder structure for the project. The folder structure is as follows:\n",
    "- output\n",
    "    - images\n",
    "    - metadata\n",
    "    - config\n",
    "\n",
    "This method creates a folder with the given path if it doesn't already exist, It also outputs a message to inform the user if the folder was created or if it already exists.\n",
    "This is useful for organizing and managing files in a project. By creating a folder to store data and resources, it keeps the working directory tidy and makes it easier to locate files. Additionally, by checking if the folder exists before creating it, it prevents the program from overwriting existing data or throwing an error."
   ],
   "metadata": {
    "collapsed": false
   }
  },
  {
   "cell_type": "code",
   "execution_count": 31,
   "outputs": [],
   "source": [
    "def create_folder(path):\n",
    "    \"\"\"\n",
    "    This function creates a folder at the specified path.\n",
    "    If the folder already exists, it will print a message saying so.\n",
    "    If there is an error creating the folder, it will print the error message.\n",
    "\n",
    "    Parameters:\n",
    "        :param path (str): The path of the folder to be created.\n",
    "\n",
    "    Returns:\n",
    "    None\n",
    "    \"\"\"\n",
    "    try:\n",
    "        # Use os.mkdir to create the folder at the specified path\n",
    "        os.mkdir(path)\n",
    "        print(f\"Folder {path} created\")\n",
    "    except FileExistsError:\n",
    "        # If the folder already exists, print a message saying so\n",
    "        print(f\"Folder {path} already exists\")\n",
    "    except Exception as e:\n",
    "        # If there is an error creating the folder, print the error message\n",
    "        print(f\"Error creating folder {path}: {e}\")"
   ],
   "metadata": {
    "collapsed": false
   }
  },
  {
   "cell_type": "markdown",
   "source": [
    "# Create the folder structure\n",
    "This method initializes a list of folders by calling the create_folder method for each folder in the list.\n",
    "The purpose of this method is to make sure that all necessary folders exist before the program continues its execution.\n",
    "If a folder does not exist, the create_folder method will create it. If a folder already exists, the method will simply print a message indicating that the folder already exists. In case of any other error, the method will print the error message."
   ],
   "metadata": {
    "collapsed": false
   }
  },
  {
   "cell_type": "code",
   "execution_count": 32,
   "outputs": [],
   "source": [
    "def init_folder(folder_names: list):\n",
    "    for folder_name in folder_names:\n",
    "        create_folder(folder_name)"
   ],
   "metadata": {
    "collapsed": false
   }
  },
  {
   "cell_type": "code",
   "execution_count": 33,
   "outputs": [
    {
     "name": "stdout",
     "output_type": "stream",
     "text": [
      "Folder ../output already exists\n",
      "Folder ../output/images already exists\n",
      "Folder ../output/metadata already exists\n",
      "Folder ../output/config already exists\n"
     ]
    }
   ],
   "source": [
    "init_folder(list_of_paths)"
   ],
   "metadata": {
    "collapsed": false
   }
  },
  {
   "cell_type": "markdown",
   "source": [
    "# Define methods for downloading the necessary files for yolo\n",
    "The following code block is a method to download a file from a given URL and save it to a specified filename.\n",
    "The method starts by creating a session (s = requests.Session()) and then mounting it to the URL (s.mount(url, requests.adapters.HTTPAdapter(max_retries=3))). This sets the maximum number of retries to 3 if the connection to the URL fails.\n",
    "Then, the method makes a GET request to the URL (r = s.get(url, stream=True, allow_redirects=True)) and checks if it returns a successful response (r.raise_for_status()). If there was an HTTP error during the request, the error message is printed (print(f\"HTTP error occurred while downloading dataset: {e}\")).\n",
    "The method also checks the file size specified in the response headers and assigns it to the variable file_size (file_size = int(r.headers.get(‘Content-Length’, 0))). If the file size is 0, a default value of “(Unknown total file size)” is assigned to the variable desc; otherwise, the variable desc is left empty.\n",
    "Next, the method resolves the file path and creates a directory if it doesn’t already exist (path.parent.mkdir(parents=True, exist_ok=True)). The method then creates a tqdm progress bar to show the download progress (with tqdm.tqdm(total=file_size, unit=‘B’, unit_scale=True, desc=desc) as pbar:).\n",
    "Finally, the method writes the contents of the file to disk in chunks (for chunk in r.iter_content(chunk_size=1024):), updating the progress bar for each chunk that is written to disk (pbar.update(len(chunk))). If an error occurred during the download, a message with the error is printed (print(f\"Error occurred while downloading dataset: {e}\")). The file path is returned when the method is finished."
   ],
   "metadata": {
    "collapsed": false
   }
  },
  {
   "cell_type": "code",
   "execution_count": 34,
   "outputs": [],
   "source": [
    "def download(url, filename):\n",
    "    \"\"\"\n",
    "    This download a file from a given URL and save it to a specified filename.\n",
    "\n",
    "    Parameters:\n",
    "        :param url (str): The URL of the file to be downloaded.\n",
    "        :param filename (str): The filename to save the file as.\n",
    "\n",
    "    Returns:\n",
    "    path (str): The path of the downloaded file.\n",
    "    \"\"\"\n",
    "    try:\n",
    "        # Create a session object to persist the state of connection\n",
    "        s = requests.Session()\n",
    "        # Retry connecting to the URL up to 3 times\n",
    "        s.mount(url, requests.adapters.HTTPAdapter(max_retries=3))\n",
    "        # Send a GET request to the URL to start the download\n",
    "        r = s.get(url, stream=True, allow_redirects=True)\n",
    "        # Raise an error if the response is not 200 OK\n",
    "        r.raise_for_status()\n",
    "        # Get the file size from the Content-Length header, default to 0 if not present\n",
    "        file_size = int(r.headers.get('Content-Length', 0))\n",
    "        # Get the absolute path to the target file\n",
    "        path = pathlib.Path(filename).expanduser().resolve()\n",
    "        # Create parent directories if they don't exist\n",
    "        path.parent.mkdir(parents=True, exist_ok=True)\n",
    "        # Set the description to display while downloading, \"(Unknown total file size)\" if file size is 0\n",
    "        desc = \"(Unknown total file size)\" if file_size == 0 else \"\"\n",
    "        # Enable decoding the response content\n",
    "        r.raw.read = functools.partial(r.raw.read, decode_content=True)\n",
    "        # Use tqdm to display the download progress\n",
    "        with tqdm(total=file_size, unit='B', unit_scale=True, desc=desc) as pbar:\n",
    "            # Open the target file in binary write mode\n",
    "            with path.open(\"wb\") as f:\n",
    "                # Write each chunk of data from the response to the file\n",
    "                for chunk in r.iter_content(chunk_size=1024):\n",
    "                    f.write(chunk)\n",
    "                    pbar.update(len(chunk))\n",
    "        # Return the path to the downloaded file\n",
    "        return path\n",
    "    # Handle HTTP error if the response is not 200 OK\n",
    "    except requests.exceptions.HTTPError as e:\n",
    "        print(f\"HTTP error occurred while downloading dataset: {e}\")\n",
    "    # Handle any other exceptions that might occur while downloading the file\n",
    "    except Exception as e:\n",
    "        print(f\"Error occurred while downloading dataset: {e}\")"
   ],
   "metadata": {
    "collapsed": false
   }
  },
  {
   "cell_type": "markdown",
   "source": [
    "# Download the yolov3 files if they don't already exist\n",
    "This code block downloads the yolov3 files if they don't already exist. The files_to_download list contains tuples of the URL and the filename to save the file as. The method iterates through the list and checks if the file already exists. If the file doesn't exist, the download method is called to download the file. If the file already exists, a message is printed indicating that the file already exists."
   ],
   "metadata": {
    "collapsed": false
   }
  },
  {
   "cell_type": "code",
   "execution_count": 35,
   "outputs": [
    {
     "name": "stdout",
     "output_type": "stream",
     "text": [
      "All files are downloaded\n"
     ]
    }
   ],
   "source": [
    "for url, filename in files_to_download:\n",
    "    # check if the file already exists\n",
    "    if not pathlib.Path(filename).exists():\n",
    "        # download the file\n",
    "        download(url, filename)\n",
    "\n",
    "print(\"All files are downloaded\")"
   ],
   "metadata": {
    "collapsed": false
   }
  },
  {
   "cell_type": "markdown",
   "source": [
    "# Define methods to get all the image paths\n",
    "The get_all_images method is used to retrieve all images present in the specified image path. It uses the os.walk function to traverse through all subdirectories within the image path and collects the file names that end with either '.png' or '.jpg' extensions. The full path of each image is then generated by joining the root directory and the file name. The method returns a list of all images' full paths. In case of any error, an error message is printed and an empty list is returned."
   ],
   "metadata": {
    "collapsed": false
   }
  },
  {
   "cell_type": "code",
   "execution_count": 36,
   "metadata": {},
   "outputs": [],
   "source": [
    "def get_all_images(path):\n",
    "    \"\"\"Get all images from the given path.\n",
    "\n",
    "    Args:\n",
    "    param: image_path (str): path to the directory containing the images.\n",
    "\n",
    "    Returns:\n",
    "    - list: a list of full path to all the images with png or jpg extensions.\n",
    "    - empty list: an empty list if an error occurred while fetching images.\n",
    "    \"\"\"\n",
    "    try:\n",
    "        # use os.walk to traverse all the subdirectories and get all images\n",
    "        return [os.path.join(root, name)\n",
    "                for root, dirs, files in os.walk(path)\n",
    "                for name in files\n",
    "                if name.endswith((\".png\", \".jpg\"))]\n",
    "    except Exception as e:\n",
    "        # return an empty list and log the error message if an error occurred\n",
    "        print(f\"An error occurred while fetching images: {e}\")\n",
    "        return []"
   ]
  },
  {
   "cell_type": "markdown",
   "source": [
    "# Yolo for tagging\n",
    "\n",
    "This part of contains code for object detection using YOLO (You Only Look Once) deep learning architecture. The code is implemented using OpenCV and Python.\n",
    "\n",
    "The code contains three functions get_labels, get_colors, and detect that work together to perform the object detection task.\n",
    "\n",
    "get_labels takes the path to a label file as input and returns the labels in the file. If the label file does not exist, it prints a message and returns an empty list.\n",
    "\n",
    "get_colors generates random RGB color codes for each label in the input list.\n",
    "\n",
    "detect is the main function that performs the object detection task. It takes several parameters such as the path to the image, the paths to the pre-trained model files (weights, configuration, and labels), and several hyperparameters (confidence, score threshold, and IOU threshold).\n",
    "\n",
    "The function first loads the labels using the get_labels function and generates random colors for each label using the get_colors function. Then, it loads the pre-trained YOLO model using OpenCV's cv2.dnn.readNetFromDarknet method.\n",
    "\n",
    "The input image is then passed through the network, and the output is obtained by calling the net.forward method. The output is then processed to get the class IDs, confidences, and bounding box coordinates for each detected object.\n",
    "\n",
    "Finally, the bounding boxes are drawn on the image, and the labels and confidences scores are displayed on the image. The output image is saved to the specified output folder.\n",
    "\n",
    "In summary, this code provides an implementation of the YOLO object detection algorithm using OpenCV and Python."
   ],
   "metadata": {
    "collapsed": false
   }
  },
  {
   "cell_type": "code",
   "execution_count": 37,
   "outputs": [],
   "source": [
    "\n",
    "def get_labels(label_path):\n",
    "    # check if the file exists\n",
    "    if not pathlib.Path(label_path).exists():\n",
    "        print(f\"Label file {label_path} does not exist\")\n",
    "        return []\n",
    "    return open(label_path).read().strip().split(\"\\n\")\n",
    "\n",
    "def get_colors(labels):\n",
    "    return np.random.randint(0, 255, size=(len(labels), 3), dtype=\"uint8\")\n",
    "\n",
    "def detect(\n",
    "        path_name,\n",
    "        output_folder=\"../output/images_labelized/\",\n",
    "        label_path=\"../output/config/coco.names\",\n",
    "        weights_path=\"../output/config/yolov3.weights\",\n",
    "        config_path=\"../output/config/yolov3.cfg\",\n",
    "        CONFIDENCE=0.5,\n",
    "        SCORE_THRESHOLD=0.5,\n",
    "        IOU_THRESHOLD=0.5\n",
    "):\n",
    "    labels = get_labels(label_path)\n",
    "    colors = get_colors(labels)\n",
    "\n",
    "    # load the COCO class labels our YOLO model was trained on\n",
    "    net = cv2.dnn.readNetFromDarknet(config_path, weights_path)\n",
    "\n",
    "    image = cv2.imread(path_name)\n",
    "    file_name = os.path.basename(path_name)\n",
    "    filename, ext = file_name.split(\".\")\n",
    "\n",
    "    h, w = image.shape[:2]\n",
    "    # create 4D blob\n",
    "    blob = cv2.dnn.blobFromImage(image, 1 / 255.0, (416, 416), swapRB=True, crop=False)\n",
    "\n",
    "    # sets the blob as the input of the network\n",
    "    net.setInput(blob)\n",
    "    # get all the layer names\n",
    "    ln = net.getLayerNames()\n",
    "    print(ln)\n",
    "    try:\n",
    "        ln = [ln[i[0] - 1] for i in net.getUnconnectedOutLayers()]\n",
    "    except IndexError:\n",
    "        # in case getUnconnectedOutLayers() returns 1D array when CUDA isn't available\n",
    "        ln = [ln[i - 1] for i in net.getUnconnectedOutLayers()]\n",
    "    # feed forward (inference) and get the network output\n",
    "    # measure how much it took in seconds\n",
    "    layer_outputs = net.forward(ln)\n",
    "\n",
    "    font_scale = 1\n",
    "    thickness = 1\n",
    "    boxes, confidences, class_ids = [], [], []\n",
    "    text_labels = []\n",
    "    # loop over each of the layer outputs\n",
    "    for output in layer_outputs:\n",
    "        # loop over each of the object detections\n",
    "        for detection in output:\n",
    "            # extract the class id (label) and confidence (as a probability) of\n",
    "            # the current object detection\n",
    "            scores = detection[5:]\n",
    "            class_id = np.argmax(scores)\n",
    "            confidence = scores[class_id]\n",
    "            # discard out weak predictions by ensuring the detected\n",
    "            # probability is greater than the minimum probability\n",
    "            if confidence > CONFIDENCE:\n",
    "                # scale the bounding box coordinates back relative to the\n",
    "                # size of the image, keeping in mind that YOLO actually\n",
    "                # returns the center (x, y)-coordinates of the bounding\n",
    "                # box followed by the boxes' width and height\n",
    "                box = detection[:4] * np.array([w, h, w, h])\n",
    "                (centerX, centerY, width, height) = box.astype(\"int\")\n",
    "                # use the center (x, y)-coordinates to derive the top and\n",
    "                # and left corner of the bounding box\n",
    "                x = int(centerX - (width / 2))\n",
    "                y = int(centerY - (height / 2))\n",
    "                # update our list of bounding box coordinates, confidences,\n",
    "                # and class IDs\n",
    "                boxes.append([x, y, int(width), int(height)])\n",
    "                confidences.append(float(confidence))\n",
    "                class_ids.append(class_id)\n",
    "\n",
    "        # loop over the indexes we are keeping\n",
    "        for i in range(len(boxes)):\n",
    "            text_labels.append(labels[class_ids[i]])\n",
    "            # extract the bounding box coordinates\n",
    "            x, y = boxes[i][0], boxes[i][1]\n",
    "            w, h = boxes[i][2], boxes[i][3]\n",
    "            # draw a bounding box rectangle and label on the image\n",
    "            color = [int(c) for c in colors[class_ids[i]]]\n",
    "            cv2.rectangle(image, (x, y), (x + w, y + h), color=color, thickness=thickness)\n",
    "            text = f\"{labels[class_ids[i]]}: {confidences[i]:.2f}\"\n",
    "            # calculate text width & height to draw the transparent boxes as background of the text\n",
    "            (text_width, text_height) = \\\n",
    "            cv2.getTextSize(text, cv2.FONT_HERSHEY_SIMPLEX, fontScale=font_scale, thickness=thickness)[0]\n",
    "            text_offset_x = x\n",
    "            text_offset_y = y - 5\n",
    "            box_coords = ((text_offset_x, text_offset_y), (text_offset_x + text_width + 2, text_offset_y - text_height))\n",
    "            overlay = image.copy()\n",
    "            cv2.rectangle(overlay, box_coords[0], box_coords[1], color=color, thickness=cv2.FILLED)\n",
    "            # add opacity (transparency to the box)\n",
    "            image = cv2.addWeighted(overlay, 0.6, image, 0.4, 0)\n",
    "            # now put the text (label: confidence %)\n",
    "            cv2.putText(image, text, (x, y - 5), cv2.FONT_HERSHEY_SIMPLEX,\n",
    "                        fontScale=font_scale, color=(0, 0, 0), thickness=thickness)\n",
    "\n",
    "    cv2.imwrite(os.path.join(output_folder, filename + \".\" + ext), image)\n",
    "\n",
    "    return text_labels\n"
   ],
   "metadata": {
    "collapsed": false
   }
  },
  {
   "cell_type": "code",
   "execution_count": 38,
   "outputs": [
    {
     "name": "stdout",
     "output_type": "stream",
     "text": [
      "huggingface/tokenizers: The current process just got forked, after parallelism has already been used. Disabling parallelism to avoid deadlocks...\n",
      "To disable this warning, you can either:\n",
      "\t- Avoid using `tokenizers` before the fork if possible\n",
      "\t- Explicitly set the environment variable TOKENIZERS_PARALLELISM=(true | false)\n",
      "Requirement already satisfied: transformers in /Users/yannisteissier/Documents/bigdata/projet/venv/lib/python3.9/site-packages (4.26.1)\r\n",
      "Requirement already satisfied: torch in /Users/yannisteissier/Documents/bigdata/projet/venv/lib/python3.9/site-packages (1.13.1)\r\n",
      "Requirement already satisfied: regex!=2019.12.17 in /Users/yannisteissier/Documents/bigdata/projet/venv/lib/python3.9/site-packages (from transformers) (2022.10.31)\r\n",
      "Requirement already satisfied: pyyaml>=5.1 in /Users/yannisteissier/Documents/bigdata/projet/venv/lib/python3.9/site-packages (from transformers) (6.0)\r\n",
      "Requirement already satisfied: numpy>=1.17 in /Users/yannisteissier/Documents/bigdata/projet/venv/lib/python3.9/site-packages (from transformers) (1.24.1)\r\n",
      "Requirement already satisfied: requests in /Users/yannisteissier/Documents/bigdata/projet/venv/lib/python3.9/site-packages (from transformers) (2.28.2)\r\n",
      "Requirement already satisfied: packaging>=20.0 in /Users/yannisteissier/Documents/bigdata/projet/venv/lib/python3.9/site-packages (from transformers) (23.0)\r\n",
      "Requirement already satisfied: huggingface-hub<1.0,>=0.11.0 in /Users/yannisteissier/Documents/bigdata/projet/venv/lib/python3.9/site-packages (from transformers) (0.12.1)\r\n",
      "Requirement already satisfied: tqdm>=4.27 in /Users/yannisteissier/Documents/bigdata/projet/venv/lib/python3.9/site-packages (from transformers) (4.64.1)\r\n",
      "Requirement already satisfied: tokenizers!=0.11.3,<0.14,>=0.11.1 in /Users/yannisteissier/Documents/bigdata/projet/venv/lib/python3.9/site-packages (from transformers) (0.13.2)\r\n",
      "Requirement already satisfied: filelock in /Users/yannisteissier/Documents/bigdata/projet/venv/lib/python3.9/site-packages (from transformers) (3.9.0)\r\n",
      "Requirement already satisfied: typing-extensions in /Users/yannisteissier/Documents/bigdata/projet/venv/lib/python3.9/site-packages (from torch) (4.4.0)\r\n",
      "Requirement already satisfied: certifi>=2017.4.17 in /Users/yannisteissier/Documents/bigdata/projet/venv/lib/python3.9/site-packages (from requests->transformers) (2022.12.7)\r\n",
      "Requirement already satisfied: idna<4,>=2.5 in /Users/yannisteissier/Documents/bigdata/projet/venv/lib/python3.9/site-packages (from requests->transformers) (3.4)\r\n",
      "Requirement already satisfied: urllib3<1.27,>=1.21.1 in /Users/yannisteissier/Documents/bigdata/projet/venv/lib/python3.9/site-packages (from requests->transformers) (1.26.14)\r\n",
      "Requirement already satisfied: charset-normalizer<4,>=2 in /Users/yannisteissier/Documents/bigdata/projet/venv/lib/python3.9/site-packages (from requests->transformers) (3.0.1)\r\n",
      "\r\n",
      "\u001B[1m[\u001B[0m\u001B[34;49mnotice\u001B[0m\u001B[1;39;49m]\u001B[0m\u001B[39;49m A new release of pip is available: \u001B[0m\u001B[31;49m23.0\u001B[0m\u001B[39;49m -> \u001B[0m\u001B[32;49m23.0.1\u001B[0m\r\n",
      "\u001B[1m[\u001B[0m\u001B[34;49mnotice\u001B[0m\u001B[1;39;49m]\u001B[0m\u001B[39;49m To update, run: \u001B[0m\u001B[32;49mpip install --upgrade pip\u001B[0m\r\n"
     ]
    }
   ],
   "source": [
    "!pip install transformers torch"
   ],
   "metadata": {
    "collapsed": false
   }
  },
  {
   "cell_type": "code",
   "execution_count": 45,
   "outputs": [],
   "source": [
    "def detect(image):\n",
    "    processor = DetrImageProcessor.from_pretrained(\"facebook/detr-resnet-101\")\n",
    "    model = DetrForObjectDetection.from_pretrained(\"facebook/detr-resnet-101\")\n",
    "    inputs = processor(images=image, return_tensors=\"pt\")\n",
    "    outputs = model(**inputs)\n",
    "\n",
    "    # convert outputs (bounding boxes and class logits) to COCO API\n",
    "    # let's only keep detections with score > 0.9\n",
    "    target_sizes = torch.tensor([image.size[::-1]])\n",
    "    results = processor.post_process_object_detection(outputs, target_sizes=target_sizes, threshold=0.9)[0]\n",
    "    labels = []\n",
    "    for score, label, box in zip(results[\"scores\"], results[\"labels\"], results[\"boxes\"]):\n",
    "        box = [round(i, 2) for i in box.tolist()]\n",
    "        labels.append(model.config.id2label[label.item()])\n",
    "        print(\n",
    "            f\"Detected {model.config.id2label[label.item()]} with confidence \"\n",
    "            f\"{round(score.item(), 3)} at location {box}\"\n",
    "        )\n",
    "    return labels\n"
   ],
   "metadata": {
    "collapsed": false
   }
  },
  {
   "cell_type": "markdown",
   "source": [
    "# Save  metadata\n",
    "\n",
    "The function save_metadata allows you to save metadata information of an image in either pickle, json, or sqlite format. The function takes four parameters: metadata, img_name, metadata_path, and save_format.\n",
    "\n",
    "metadata is a dictionary that contains the metadata information of an image. img_name is a string that represents the file name of the image. metadata_path is a string that specifies the path to the directory where the metadata will be saved. save_format is an optional parameter that specifies the format in which the metadata will be saved. The default value is pickle.\n",
    "\n",
    "The function saves the metadata in the specified format. If save_format is set to pickle, the metadata is saved in the pickle format. If save_format is set to json, the metadata is saved in the json format. If save_format is set to sqlite, the metadata is saved in the sqlite database.\n",
    "\n",
    "If an error occurs while saving the metadata, the function will print an error message indicating the image name and the error that occurred.\n",
    "\n",
    "The function does not return any value."
   ],
   "metadata": {
    "collapsed": false
   }
  },
  {
   "cell_type": "code",
   "execution_count": 46,
   "outputs": [],
   "source": [
    "def save_metadata(metadata, img_name, metadata_path, save_format='pickle'):\n",
    "    \"\"\"\n",
    "    This function saves the metadata information of an image in either pickle or json format.\n",
    "    Parameters:\n",
    "    metadata (dict): The metadata information of an image.\n",
    "    img_name (str): The file name of the image.\n",
    "    metadata_path (str): The path to the directory where the metadata will be saved.\n",
    "    save_format (str): The format in which the metadata will be saved. The default is 'pickle'.\n",
    "\n",
    "    Returns:\n",
    "    None\n",
    "    \"\"\"\n",
    "    try:\n",
    "        if save_format == 'pickle':\n",
    "            # save the metadata in pickle format\n",
    "            with open(os.path.join(metadata_path, os.path.splitext(os.path.basename(img_name))[0] + '.pickle'),\n",
    "                      'wb') as f:\n",
    "                pickle.dump(metadata, f)\n",
    "        elif save_format == 'json':\n",
    "            # save the metadata in json format\n",
    "            with open(os.path.join(metadata_path, os.path.splitext(os.path.basename(img_name))[0] + '.json'), 'w') as f:\n",
    "                json.dump(metadata, f)\n",
    "        elif save_format == 'sqlite':\n",
    "            # Get only the file name of the image\n",
    "            img_name = os.path.basename(img_name)\n",
    "            # Open a connection to the database\n",
    "            conn = sqlite3.connect(os.path.join(metadata_path, 'metadata.db'))\n",
    "            # Create a cursor\n",
    "            c = conn.cursor()\n",
    "            # Create a table if it doesn't exist : filename, key, value\n",
    "            c.execute('''CREATE TABLE IF NOT EXISTS metadata (filename text, key text, value text)''')\n",
    "            # Insert the metadata into the table\n",
    "            for key, value in metadata.items():\n",
    "                # Convert key, value to string\n",
    "                key = str(key)\n",
    "                value = str(value)\n",
    "                # Check if the key is already in the table\n",
    "                c.execute(\"SELECT * FROM metadata WHERE filename=? AND key=?\", (img_name, key))\n",
    "                # If the key is already in the table, update the value\n",
    "                if c.fetchone():\n",
    "                    c.execute(\"UPDATE metadata SET value=? WHERE filename=? AND key=?\", (value, img_name, key))\n",
    "                    # Commit the changes\n",
    "                    conn.commit()\n",
    "                # If the key is not in the table, insert the key, value pair\n",
    "                else:\n",
    "                    c.execute(\"INSERT INTO metadata VALUES (?, ?, ?)\", (img_name, key, value))\n",
    "                    # Commit the changes\n",
    "                    conn.commit()\n",
    "            # Close the connection\n",
    "            conn.close()\n",
    "        else:\n",
    "            raise ValueError(\"Invalid save format\")\n",
    "    except Exception as e:\n",
    "        # print an error message if an error occurs\n",
    "        print(f\"An error occurred while saving metadata for {img_name}: {str(e)}\")"
   ],
   "metadata": {
    "collapsed": false
   }
  },
  {
   "cell_type": "markdown",
   "source": [
    "# Read SQLite metadata\n",
    "\n",
    "The read_sqlite method is a function used to read metadata information from a SQLite database. The method takes two parameters: metadata_path, the path to the directory where the metadata is saved, and filename, the name of the file for which the metadata is to be retrieved.\n",
    "\n",
    "The method starts by connecting to the SQLite database located at metadata_path/metadata.db using the sqlite3.connect method. A cursor is then created to allow interaction with the database. If the metadata table doesn't exist in the database, it is created.\n",
    "\n",
    "The metadata for the specified filename is retrieved from the database by executing a SQL query that selects all rows where the filename column is equal to the filename parameter. The retrieved metadata is stored in a dictionary, where the keys are taken from the key column and the values from the value column.\n",
    "\n",
    "Finally, the database connection is closed and the metadata dictionary is returned as the result of the function."
   ],
   "metadata": {
    "collapsed": false
   }
  },
  {
   "cell_type": "code",
   "execution_count": 47,
   "outputs": [],
   "source": [
    "def read_sqlite(metadata_path, filename):\n",
    "    # Open a connection to the database\n",
    "    conn = sqlite3.connect(os.path.join(metadata_path, 'metadata.db'))\n",
    "    # Create a cursor\n",
    "    c = conn.cursor()\n",
    "    # Create a table if it doesn't exist : filename, key, value\n",
    "    c.execute('''CREATE TABLE IF NOT EXISTS metadata (filename text, key text, value text)''')\n",
    "    # Insert the metadata into the table\n",
    "    c.execute(\"SELECT * FROM metadata WHERE filename=?\", (filename,))\n",
    "    # If the key is already in the table, update the value\n",
    "    metadata = {}\n",
    "    for row in c.fetchall():\n",
    "        metadata[row[1]] = row[2]\n",
    "    # Close the connection\n",
    "    conn.close()\n",
    "    return metadata"
   ],
   "metadata": {
    "collapsed": false
   }
  },
  {
   "cell_type": "markdown",
   "source": [
    "# Set tags in metadata\n",
    "This function \"update_tags\" is used to run the YOLOv3 algorithm on a set of images, update the metadata of each image with the detected labels (tags) and save the updated metadata.\n",
    "\n",
    "The function takes 3 parameters:\n",
    "\n",
    "images: a list of file paths for the images that need to be processed.\n",
    "metadata_path: a file path to the directory where the metadata files are stored.\n",
    "save_format: the format of the metadata files. Can be either 'pickle' or 'sqlite'.\n",
    "The function uses the tqdm library to display a progress bar for the image processing. For each image, the function tries to retrieve its metadata based on the save_format. If the metadata file format is 'sqlite', the function calls the read_sqlite function to retrieve the metadata. If the metadata file format is 'pickle', the function reads the metadata file directly.\n",
    "\n",
    "If the metadata already contains a \"tags\" key, it means that the image has already been processed and its metadata has been updated with the labels, so the function skips that image.\n",
    "\n",
    "The function then calls the detect function to run the YOLOv3 algorithm on the image and retrieve the labels (tags). The labels are added to the metadata under the \"tags\" key.\n",
    "\n",
    "Finally, the function calls the save_metadata function to save the updated metadata. If an error occurs while processing an image (e.g. the metadata file is not found), the function prints an error message and continues processing the next image."
   ],
   "metadata": {
    "collapsed": false
   }
  },
  {
   "cell_type": "code",
   "execution_count": 48,
   "outputs": [],
   "source": [
    "def update_tags(images, metadata_path, save_format='pickle'):\n",
    "    # Run the YOLOv3 algorithm on each image\n",
    "    # display progress bar in the first thread only\n",
    "    for image in tqdm(images, desc=\"Updating tags\"):\n",
    "        # read pickle file from ../output/metadata/file_name.pkl\n",
    "        file_name = os.path.basename(image)\n",
    "        file_name, ext = file_name.split(\".\")\n",
    "        try:\n",
    "            if save_format == 'sqlite':\n",
    "                metadata = read_sqlite(metadata_path, file_name + \".\" + ext)\n",
    "            else:\n",
    "                with open(os.path.join(\"../output/metadata\", file_name + \".\" + metadata_extension), \"rb\") as f:\n",
    "                    if metadata_extension == \"json\":\n",
    "                        metadata = json.load(f)\n",
    "                    else:\n",
    "                        metadata = pickle.load(f)\n",
    "\n",
    "            if \"tags\" in metadata:\n",
    "                continue\n",
    "\n",
    "            image = Image.open(image)\n",
    "            labels = detect(image)\n",
    "\n",
    "            # Remove duplicates from labels\n",
    "            labels = list(set(labels))\n",
    "            # add labels to metadata\n",
    "            metadata[\"tags\"] = labels\n",
    "\n",
    "            save_metadata(metadata, file_name + \".\" + ext, metadata_path, save_format)\n",
    "        except FileNotFoundError:\n",
    "            print(\"File not found: \", file_name)\n",
    "            continue\n",
    "        except Exception as e:\n",
    "            print(\"Error: \", e)\n",
    "            continue"
   ],
   "metadata": {
    "collapsed": false
   }
  },
  {
   "cell_type": "code",
   "execution_count": 49,
   "outputs": [
    {
     "name": "stderr",
     "output_type": "stream",
     "text": [
      "Updating tags:  17%|█▋        | 785/4491 [00:07<00:36, 101.38it/s]/Users/yannisteissier/Documents/bigdata/projet/venv/lib/python3.9/site-packages/transformers/models/detr/image_processing_detr.py:776: FutureWarning: The `max_size` parameter is deprecated and will be removed in v4.26. Please specify in `size['longest_edge'] instead`.\n",
      "  warnings.warn(\n",
      "Updating tags:  18%|█▊        | 806/4491 [00:10<03:15, 18.82it/s] "
     ]
    },
    {
     "name": "stdout",
     "output_type": "stream",
     "text": [
      "Error:  Unsupported number of image dimensions: 2\n"
     ]
    },
    {
     "name": "stderr",
     "output_type": "stream",
     "text": [
      "Updating tags:  30%|██▉       | 1333/4491 [00:16<00:42, 74.37it/s]"
     ]
    },
    {
     "name": "stdout",
     "output_type": "stream",
     "text": [
      "Error:  cannot identify image file '../output/images/image_sEDzxW4NhL4.jpg'\n"
     ]
    },
    {
     "name": "stderr",
     "output_type": "stream",
     "text": [
      "Updating tags:  36%|███▋      | 1632/4491 [00:21<02:35, 18.38it/s]"
     ]
    },
    {
     "name": "stdout",
     "output_type": "stream",
     "text": [
      "Error:  Unsupported number of image dimensions: 2\n"
     ]
    },
    {
     "name": "stderr",
     "output_type": "stream",
     "text": [
      "Updating tags:  39%|███▉      | 1766/4491 [00:25<03:40, 12.38it/s]"
     ]
    },
    {
     "name": "stdout",
     "output_type": "stream",
     "text": [
      "Error:  Unable to infer channel dimension format\n"
     ]
    },
    {
     "name": "stderr",
     "output_type": "stream",
     "text": [
      "Updating tags:  43%|████▎     | 1941/4491 [00:29<02:03, 20.65it/s]"
     ]
    },
    {
     "name": "stdout",
     "output_type": "stream",
     "text": [
      "Error:  Unsupported number of image dimensions: 2\n"
     ]
    },
    {
     "name": "stderr",
     "output_type": "stream",
     "text": [
      "Updating tags:  47%|████▋     | 2133/4491 [00:33<02:05, 18.72it/s]"
     ]
    },
    {
     "name": "stdout",
     "output_type": "stream",
     "text": [
      "Error:  Unsupported number of image dimensions: 2\n"
     ]
    },
    {
     "name": "stderr",
     "output_type": "stream",
     "text": [
      "Updating tags:  52%|█████▏    | 2314/4491 [00:37<01:44, 20.77it/s]"
     ]
    },
    {
     "name": "stdout",
     "output_type": "stream",
     "text": [
      "Error:  Unsupported number of image dimensions: 2\n"
     ]
    },
    {
     "name": "stderr",
     "output_type": "stream",
     "text": [
      "Updating tags:  66%|██████▌   | 2969/4491 [00:46<01:19, 19.06it/s] "
     ]
    },
    {
     "name": "stdout",
     "output_type": "stream",
     "text": [
      "Error:  Unable to infer channel dimension format\n"
     ]
    },
    {
     "name": "stderr",
     "output_type": "stream",
     "text": [
      "Updating tags:  67%|██████▋   | 3000/4491 [00:46<00:37, 39.71it/s]"
     ]
    },
    {
     "name": "stdout",
     "output_type": "stream",
     "text": [
      "Error:  cannot identify image file '../output/images/TERMS.md'\n"
     ]
    },
    {
     "name": "stderr",
     "output_type": "stream",
     "text": [
      "Updating tags:  67%|██████▋   | 3011/4491 [00:46<00:30, 48.87it/s]"
     ]
    },
    {
     "name": "stdout",
     "output_type": "stream",
     "text": [
      "Detected person with confidence 1.0 at location [2033.74, 1282.5, 2217.99, 1901.06]\n"
     ]
    },
    {
     "name": "stderr",
     "output_type": "stream",
     "text": [
      "Updating tags:  67%|██████▋   | 3022/4491 [00:50<02:57,  8.29it/s]"
     ]
    },
    {
     "name": "stdout",
     "output_type": "stream",
     "text": [
      "Detected bird with confidence 0.967 at location [1417.34, 1909.24, 1691.71, 2030.55]\n"
     ]
    },
    {
     "name": "stderr",
     "output_type": "stream",
     "text": [
      "Updating tags:  67%|██████▋   | 3022/4491 [01:04<02:57,  8.29it/s]"
     ]
    },
    {
     "name": "stdout",
     "output_type": "stream",
     "text": [
      "Detected dog with confidence 0.999 at location [936.81, 16.53, 3664.9, 3405.93]\n"
     ]
    },
    {
     "name": "stderr",
     "output_type": "stream",
     "text": [
      "Updating tags:  67%|██████▋   | 3026/4491 [01:06<15:55,  1.53it/s]"
     ]
    },
    {
     "name": "stdout",
     "output_type": "stream",
     "text": [
      "Detected person with confidence 0.984 at location [1892.17, 2554.86, 4479.44, 4192.16]\n"
     ]
    },
    {
     "name": "stderr",
     "output_type": "stream",
     "text": [
      "Updating tags:  67%|██████▋   | 3027/4491 [01:10<19:17,  1.26it/s]"
     ]
    },
    {
     "name": "stdout",
     "output_type": "stream",
     "text": [
      "Detected sheep with confidence 0.979 at location [2946.42, 1030.17, 3750.83, 2678.05]\n"
     ]
    },
    {
     "name": "stderr",
     "output_type": "stream",
     "text": [
      "Updating tags:  68%|██████▊   | 3032/4491 [01:28<38:03,  1.56s/it]"
     ]
    },
    {
     "name": "stdout",
     "output_type": "stream",
     "text": [
      "Detected bear with confidence 0.97 at location [2181.73, 1502.35, 5382.82, 3636.25]\n",
      "Detected bird with confidence 0.999 at location [754.42, 244.48, 2925.62, 1969.59]\n"
     ]
    },
    {
     "name": "stderr",
     "output_type": "stream",
     "text": [
      "Updating tags:  68%|██████▊   | 3037/4491 [01:48<58:06,  2.40s/it]"
     ]
    },
    {
     "name": "stdout",
     "output_type": "stream",
     "text": [
      "Detected cat with confidence 0.999 at location [69.72, 1342.95, 2517.1, 4039.89]\n"
     ]
    },
    {
     "name": "stderr",
     "output_type": "stream",
     "text": [
      "Updating tags:  68%|██████▊   | 3040/4491 [01:58<1:05:17,  2.70s/it]"
     ]
    },
    {
     "name": "stdout",
     "output_type": "stream",
     "text": [
      "Detected cake with confidence 0.91 at location [-0.77, 15.37, 3998.08, 5915.48]\n"
     ]
    },
    {
     "name": "stderr",
     "output_type": "stream",
     "text": [
      "Updating tags:  68%|██████▊   | 3041/4491 [02:01<1:07:29,  2.79s/it]"
     ]
    },
    {
     "name": "stdout",
     "output_type": "stream",
     "text": [
      "Detected dog with confidence 1.0 at location [1563.68, 972.36, 3124.57, 3468.63]\n"
     ]
    },
    {
     "name": "stderr",
     "output_type": "stream",
     "text": [
      "Updating tags:  68%|██████▊   | 3048/4491 [02:28<1:24:18,  3.51s/it]"
     ]
    },
    {
     "name": "stdout",
     "output_type": "stream",
     "text": [
      "Detected cat with confidence 0.999 at location [2026.76, 40.61, 3835.72, 2129.33]\n",
      "Detected chair with confidence 0.915 at location [5734.32, 2245.14, 5999.99, 2439.1]\n",
      "Detected chair with confidence 0.947 at location [4681.87, 2287.96, 5356.89, 2720.92]\n",
      "Detected umbrella with confidence 0.983 at location [2050.47, 1626.47, 2845.2, 2445.76]\n",
      "Detected umbrella with confidence 0.94 at location [0.18, 1626.23, 528.5, 2462.91]\n",
      "Detected chair with confidence 0.934 at location [1669.69, 2132.39, 2380.57, 3042.42]\n",
      "Detected chair with confidence 0.912 at location [5147.79, 2045.17, 5682.39, 2379.94]\n",
      "Detected umbrella with confidence 0.947 at location [941.13, 1667.76, 1633.02, 2217.81]\n",
      "Detected chair with confidence 0.977 at location [575.7, 2120.78, 1407.76, 3115.94]\n",
      "Detected umbrella with confidence 0.979 at location [3380.23, 1639.97, 4205.19, 2502.39]\n",
      "Detected chair with confidence 0.959 at location [1162.59, 2086.23, 2363.65, 3057.04]\n",
      "Detected person with confidence 0.991 at location [2230.73, 2020.29, 2398.15, 2337.53]\n",
      "Detected chair with confidence 0.953 at location [4084.41, 2313.06, 4665.67, 2689.99]\n",
      "Detected umbrella with confidence 0.955 at location [4562.02, 1711.96, 5303.42, 2276.23]\n",
      "Detected umbrella with confidence 0.972 at location [5632.34, 1773.19, 5999.64, 2137.62]\n"
     ]
    },
    {
     "name": "stderr",
     "output_type": "stream",
     "text": [
      "Updating tags:  68%|██████▊   | 3052/4491 [02:43<1:28:17,  3.68s/it]"
     ]
    },
    {
     "name": "stdout",
     "output_type": "stream",
     "text": [
      "Detected cup with confidence 0.996 at location [1437.78, 2543.85, 2526.47, 3400.61]\n",
      "Detected vase with confidence 0.997 at location [1110.67, 1274.5, 2332.5, 2707.68]\n"
     ]
    },
    {
     "name": "stderr",
     "output_type": "stream",
     "text": [
      "Updating tags:  68%|██████▊   | 3053/4491 [02:46<1:25:28,  3.57s/it]"
     ]
    },
    {
     "name": "stdout",
     "output_type": "stream",
     "text": [
      "Detected bird with confidence 0.983 at location [1155.85, 0.56, 1251.0, 119.68]\n",
      "Detected bird with confidence 0.901 at location [1852.84, 481.87, 1937.79, 586.9]\n",
      "Detected bird with confidence 0.996 at location [3126.91, 1712.27, 3358.74, 1931.87]\n"
     ]
    },
    {
     "name": "stderr",
     "output_type": "stream",
     "text": [
      "Updating tags:  68%|██████▊   | 3055/4491 [02:53<1:21:23,  3.40s/it]"
     ]
    },
    {
     "name": "stdout",
     "output_type": "stream",
     "text": [
      "Detected bird with confidence 0.955 at location [1070.43, 1077.33, 1201.97, 1213.68]\n",
      "Detected bird with confidence 0.94 at location [1665.64, 1048.54, 1758.57, 1175.39]\n"
     ]
    },
    {
     "name": "stderr",
     "output_type": "stream",
     "text": [
      "Updating tags:  68%|██████▊   | 3058/4491 [03:04<1:27:50,  3.68s/it]"
     ]
    },
    {
     "name": "stdout",
     "output_type": "stream",
     "text": [
      "Detected potted plant with confidence 0.95 at location [0.72, 4.43, 3565.67, 5093.15]\n"
     ]
    },
    {
     "name": "stderr",
     "output_type": "stream",
     "text": [
      "Updating tags:  68%|██████▊   | 3059/4491 [03:08<1:26:52,  3.64s/it]"
     ]
    },
    {
     "name": "stdout",
     "output_type": "stream",
     "text": [
      "Detected bird with confidence 0.999 at location [1862.34, 1569.6, 2567.34, 2267.81]\n"
     ]
    },
    {
     "name": "stderr",
     "output_type": "stream",
     "text": [
      "Updating tags:  68%|██████▊   | 3062/4491 [03:19<1:29:45,  3.77s/it]"
     ]
    },
    {
     "name": "stdout",
     "output_type": "stream",
     "text": [
      "Detected boat with confidence 0.989 at location [4953.93, 2114.56, 5087.45, 2168.75]\n"
     ]
    },
    {
     "name": "stderr",
     "output_type": "stream",
     "text": [
      "Updating tags:  68%|██████▊   | 3063/4491 [03:23<1:32:16,  3.88s/it]"
     ]
    },
    {
     "name": "stdout",
     "output_type": "stream",
     "text": [
      "Detected cat with confidence 1.0 at location [687.92, 633.59, 1301.19, 963.8]\n"
     ]
    },
    {
     "name": "stderr",
     "output_type": "stream",
     "text": [
      "Updating tags:  68%|██████▊   | 3064/4491 [03:26<1:28:05,  3.70s/it]"
     ]
    },
    {
     "name": "stdout",
     "output_type": "stream",
     "text": [
      "Detected elephant with confidence 1.0 at location [681.9, 1321.5, 988.6, 1918.43]\n",
      "Detected elephant with confidence 0.998 at location [2211.57, 1132.15, 2362.95, 1299.76]\n",
      "Detected elephant with confidence 0.984 at location [2051.78, 1107.27, 2126.39, 1236.53]\n",
      "Detected elephant with confidence 1.0 at location [1064.33, 780.95, 2109.07, 1908.46]\n"
     ]
    },
    {
     "name": "stderr",
     "output_type": "stream",
     "text": [
      "Updating tags:  68%|██████▊   | 3067/4491 [03:39<1:35:39,  4.03s/it]"
     ]
    },
    {
     "name": "stdout",
     "output_type": "stream",
     "text": [
      "Detected backpack with confidence 0.997 at location [1731.95, 1253.49, 2348.28, 2049.13]\n",
      "Detected person with confidence 1.0 at location [1721.01, 990.2, 2635.46, 3425.49]\n"
     ]
    },
    {
     "name": "stderr",
     "output_type": "stream",
     "text": [
      "Updating tags:  68%|██████▊   | 3068/4491 [03:43<1:37:59,  4.13s/it]"
     ]
    },
    {
     "name": "stdout",
     "output_type": "stream",
     "text": [
      "Detected baseball bat with confidence 0.936 at location [1780.15, 1930.59, 1843.78, 2057.88]\n",
      "Detected person with confidence 0.998 at location [1733.93, 1891.44, 1901.89, 2192.21]\n"
     ]
    },
    {
     "name": "stderr",
     "output_type": "stream",
     "text": [
      "Updating tags:  68%|██████▊   | 3071/4491 [03:54<1:34:06,  3.98s/it]"
     ]
    },
    {
     "name": "stdout",
     "output_type": "stream",
     "text": [
      "Detected bird with confidence 0.914 at location [2320.5, 1489.4, 2367.99, 1569.55]\n"
     ]
    },
    {
     "name": "stderr",
     "output_type": "stream",
     "text": [
      "Updating tags:  68%|██████▊   | 3072/4491 [03:59<1:35:14,  4.03s/it]"
     ]
    },
    {
     "name": "stdout",
     "output_type": "stream",
     "text": [
      "Detected person with confidence 0.934 at location [2789.59, 6.48, 3994.94, 2153.32]\n"
     ]
    },
    {
     "name": "stderr",
     "output_type": "stream",
     "text": [
      "Updating tags:  68%|██████▊   | 3073/4491 [04:02<1:34:31,  4.00s/it]"
     ]
    },
    {
     "name": "stdout",
     "output_type": "stream",
     "text": [
      "Detected cow with confidence 1.0 at location [2.65, 3364.95, 1865.47, 4903.48]\n"
     ]
    },
    {
     "name": "stderr",
     "output_type": "stream",
     "text": [
      "Updating tags:  68%|██████▊   | 3074/4491 [04:06<1:32:37,  3.92s/it]"
     ]
    },
    {
     "name": "stdout",
     "output_type": "stream",
     "text": [
      "Detected potted plant with confidence 0.977 at location [769.3, 5666.27, 4391.07, 7907.19]\n"
     ]
    },
    {
     "name": "stderr",
     "output_type": "stream",
     "text": [
      "Updating tags:  69%|██████▊   | 3079/4491 [04:24<1:25:20,  3.63s/it]"
     ]
    },
    {
     "name": "stdout",
     "output_type": "stream",
     "text": [
      "Detected dog with confidence 0.999 at location [299.85, 1225.46, 5462.95, 2750.44]\n"
     ]
    },
    {
     "name": "stderr",
     "output_type": "stream",
     "text": [
      "Updating tags:  69%|██████▊   | 3080/4491 [04:28<1:31:41,  3.90s/it]"
     ]
    },
    {
     "name": "stdout",
     "output_type": "stream",
     "text": [
      "Detected bird with confidence 0.998 at location [2049.8, 1477.91, 3655.94, 3577.69]\n",
      "Detected bird with confidence 1.0 at location [268.74, 1529.04, 1824.15, 3623.85]\n"
     ]
    },
    {
     "name": "stderr",
     "output_type": "stream",
     "text": [
      "Updating tags:  69%|██████▊   | 3082/4491 [04:36<1:29:12,  3.80s/it]"
     ]
    },
    {
     "name": "stdout",
     "output_type": "stream",
     "text": [
      "Detected train with confidence 0.912 at location [2716.39, 2860.34, 5282.49, 3468.22]\n"
     ]
    },
    {
     "name": "stderr",
     "output_type": "stream",
     "text": [
      "Updating tags:  69%|██████▊   | 3084/4491 [04:44<1:34:15,  4.02s/it]"
     ]
    },
    {
     "name": "stdout",
     "output_type": "stream",
     "text": [
      "Detected person with confidence 0.989 at location [3822.77, 3163.9, 3966.12, 3439.19]\n",
      "Detected person with confidence 0.998 at location [1487.26, 2953.76, 1655.99, 3271.89]\n",
      "Detected person with confidence 0.997 at location [824.76, 2879.13, 997.34, 3219.52]\n",
      "Detected skis with confidence 0.942 at location [884.69, 3157.82, 990.42, 3208.61]\n",
      "Detected skis with confidence 0.916 at location [2790.25, 3345.78, 2997.47, 3379.74]\n",
      "Detected person with confidence 0.996 at location [4626.61, 3233.15, 4788.35, 3489.39]\n",
      "Detected person with confidence 0.913 at location [6054.33, 3264.41, 6210.14, 3562.63]\n",
      "Detected person with confidence 0.995 at location [5599.09, 3259.51, 5784.77, 3527.25]\n",
      "Detected person with confidence 0.993 at location [5060.16, 3254.21, 5212.8, 3508.83]\n",
      "Detected backpack with confidence 0.915 at location [6143.3, 3289.32, 6241.21, 3423.77]\n",
      "Detected skis with confidence 0.901 at location [1506.96, 3245.38, 1661.49, 3282.28]\n",
      "Detected skis with confidence 0.949 at location [5618.42, 3508.82, 5789.93, 3546.31]\n",
      "Detected backpack with confidence 0.912 at location [1558.76, 3011.6, 1647.77, 3142.19]\n",
      "Detected person with confidence 0.997 at location [3330.83, 3115.99, 3509.96, 3410.49]\n",
      "Detected person with confidence 0.994 at location [2832.74, 3090.08, 2976.1, 3386.95]\n",
      "Detected person with confidence 0.985 at location [6076.92, 3255.54, 6264.41, 3561.37]\n",
      "Detected person with confidence 0.997 at location [1984.36, 3034.31, 2177.22, 3324.12]\n",
      "Detected skis with confidence 0.93 at location [5069.5, 3487.56, 5232.08, 3523.17]\n",
      "Detected person with confidence 0.995 at location [2380.04, 3047.74, 2542.28, 3344.8]\n"
     ]
    },
    {
     "name": "stderr",
     "output_type": "stream",
     "text": [
      "Updating tags:  69%|██████▉   | 3091/4491 [05:11<1:25:32,  3.67s/it]"
     ]
    },
    {
     "name": "stdout",
     "output_type": "stream",
     "text": [
      "Detected cat with confidence 0.994 at location [1245.22, 2310.08, 2631.08, 4673.94]\n"
     ]
    },
    {
     "name": "stderr",
     "output_type": "stream",
     "text": [
      "Updating tags:  69%|██████▉   | 3092/4491 [05:13<1:19:13,  3.40s/it]"
     ]
    },
    {
     "name": "stdout",
     "output_type": "stream",
     "text": [
      "Detected person with confidence 0.996 at location [917.94, 449.05, 1110.99, 799.18]\n"
     ]
    },
    {
     "name": "stderr",
     "output_type": "stream",
     "text": [
      "Updating tags:  69%|██████▉   | 3093/4491 [05:16<1:16:06,  3.27s/it]"
     ]
    },
    {
     "name": "stdout",
     "output_type": "stream",
     "text": [
      "Detected spoon with confidence 0.979 at location [2468.3, 1587.71, 3342.5, 2466.92]\n",
      "Detected sink with confidence 0.936 at location [-0.58, 12.02, 3998.31, 2958.88]\n"
     ]
    },
    {
     "name": "stderr",
     "output_type": "stream",
     "text": [
      "Updating tags:  69%|██████▉   | 3094/4491 [05:21<1:24:22,  3.62s/it]"
     ]
    },
    {
     "name": "stdout",
     "output_type": "stream",
     "text": [
      "Detected boat with confidence 0.95 at location [2473.72, 2192.66, 2544.36, 2268.74]\n",
      "Detected boat with confidence 0.947 at location [2174.56, 1635.5, 2275.46, 1765.72]\n",
      "Detected boat with confidence 0.909 at location [2518.26, 2275.16, 2597.42, 2390.78]\n",
      "Detected boat with confidence 0.986 at location [2369.77, 2351.76, 2434.67, 2458.94]\n",
      "Detected car with confidence 0.907 at location [2134.24, 1447.12, 2213.1, 1527.61]\n",
      "Detected boat with confidence 0.91 at location [189.12, 3370.19, 274.43, 3537.55]\n",
      "Detected boat with confidence 0.931 at location [2013.01, 1196.81, 2081.26, 1275.71]\n",
      "Detected car with confidence 0.912 at location [2133.97, 1400.97, 2207.35, 1479.57]\n"
     ]
    },
    {
     "name": "stderr",
     "output_type": "stream",
     "text": [
      "Updating tags:  69%|██████▉   | 3099/4491 [05:38<1:16:28,  3.30s/it]"
     ]
    },
    {
     "name": "stdout",
     "output_type": "stream",
     "text": [
      "Detected cat with confidence 0.997 at location [972.29, 651.64, 2994.5, 1848.03]\n"
     ]
    },
    {
     "name": "stderr",
     "output_type": "stream",
     "text": [
      "Updating tags:  69%|██████▉   | 3100/4491 [05:41<1:17:37,  3.35s/it]"
     ]
    },
    {
     "name": "stdout",
     "output_type": "stream",
     "text": [
      "Detected car with confidence 0.932 at location [4355.78, 3492.97, 4496.25, 3626.9]\n",
      "Detected bus with confidence 0.951 at location [3753.05, 3266.7, 3935.39, 3541.47]\n",
      "Detected car with confidence 0.924 at location [4085.54, 2969.44, 4185.87, 3057.13]\n",
      "Detected car with confidence 0.96 at location [4232.67, 3189.82, 4358.52, 3278.97]\n",
      "Detected car with confidence 0.954 at location [3893.5, 3047.58, 4022.82, 3166.81]\n",
      "Detected car with confidence 0.923 at location [3889.49, 3008.7, 4021.47, 3111.07]\n",
      "Detected truck with confidence 0.919 at location [1531.57, 3153.43, 1759.63, 3396.56]\n",
      "Detected person with confidence 0.913 at location [3416.96, 3381.05, 3466.7, 3467.53]\n",
      "Detected traffic light with confidence 0.957 at location [3004.16, 1552.83, 3051.59, 1637.08]\n",
      "Detected truck with confidence 0.966 at location [3481.12, 2925.31, 3810.28, 3160.46]\n",
      "Detected car with confidence 0.901 at location [3730.05, 2765.76, 3841.73, 2855.18]\n",
      "Detected car with confidence 0.902 at location [4385.88, 3461.59, 4515.14, 3594.87]\n"
     ]
    },
    {
     "name": "stderr",
     "output_type": "stream",
     "text": [
      "Updating tags:  69%|██████▉   | 3105/4491 [06:01<1:28:13,  3.82s/it]"
     ]
    },
    {
     "name": "stdout",
     "output_type": "stream",
     "text": [
      "Detected cake with confidence 0.989 at location [2.28, 6.31, 2164.94, 2957.96]\n"
     ]
    },
    {
     "name": "stderr",
     "output_type": "stream",
     "text": [
      "Updating tags:  69%|██████▉   | 3110/4491 [06:18<1:20:00,  3.48s/it]"
     ]
    },
    {
     "name": "stdout",
     "output_type": "stream",
     "text": [
      "Detected boat with confidence 0.945 at location [1544.94, 3960.26, 2045.08, 4421.54]\n",
      "Detected boat with confidence 0.993 at location [386.75, 3806.13, 751.47, 3911.56]\n",
      "Detected boat with confidence 0.922 at location [1022.22, 3998.46, 1507.22, 4212.34]\n",
      "Detected boat with confidence 0.996 at location [699.03, 3939.71, 1036.87, 4139.81]\n",
      "Detected boat with confidence 0.986 at location [54.85, 3760.95, 382.69, 3831.87]\n",
      "Detected boat with confidence 0.99 at location [1067.34, 3911.64, 1436.25, 4030.51]\n",
      "Detected boat with confidence 0.983 at location [1235.75, 4168.34, 1706.6, 4388.68]\n",
      "Detected boat with confidence 0.987 at location [782.39, 3849.33, 1130.29, 3951.45]\n",
      "Detected boat with confidence 0.934 at location [0.11, 3740.91, 131.75, 3819.39]\n",
      "Detected boat with confidence 0.944 at location [1415.08, 4005.32, 1591.68, 4125.99]\n"
     ]
    },
    {
     "name": "stderr",
     "output_type": "stream",
     "text": [
      "Updating tags:  69%|██████▉   | 3113/4491 [06:28<1:17:18,  3.37s/it]"
     ]
    },
    {
     "name": "stdout",
     "output_type": "stream",
     "text": [
      "Detected person with confidence 0.999 at location [1499.05, 2404.33, 2053.75, 3382.97]\n",
      "Detected bench with confidence 0.957 at location [3150.38, 2934.16, 5225.88, 3468.93]\n",
      "Detected bench with confidence 0.974 at location [-5.21, 2919.52, 2063.85, 3466.96]\n",
      "Detected person with confidence 0.968 at location [2484.72, 1511.81, 2777.23, 2414.65]\n"
     ]
    },
    {
     "name": "stderr",
     "output_type": "stream",
     "text": [
      "Updating tags:  69%|██████▉   | 3114/4491 [06:32<1:20:09,  3.49s/it]"
     ]
    },
    {
     "name": "stdout",
     "output_type": "stream",
     "text": [
      "Detected person with confidence 0.999 at location [2218.51, 2107.6, 2427.93, 2470.05]\n",
      "Detected surfboard with confidence 0.992 at location [2112.68, 2330.55, 2453.98, 2510.84]\n",
      "Detected person with confidence 0.999 at location [3486.12, 3532.63, 3758.93, 4157.0]\n"
     ]
    },
    {
     "name": "stderr",
     "output_type": "stream",
     "text": [
      "Updating tags:  69%|██████▉   | 3115/4491 [06:36<1:22:35,  3.60s/it]"
     ]
    },
    {
     "name": "stdout",
     "output_type": "stream",
     "text": [
      "Detected person with confidence 0.999 at location [1426.1, 3058.25, 1855.48, 4444.44]\n"
     ]
    },
    {
     "name": "stderr",
     "output_type": "stream",
     "text": [
      "Updating tags:  69%|██████▉   | 3116/4491 [06:39<1:19:54,  3.49s/it]"
     ]
    },
    {
     "name": "stdout",
     "output_type": "stream",
     "text": [
      "Detected person with confidence 0.999 at location [1113.6, 2561.59, 1692.26, 3702.3]\n"
     ]
    },
    {
     "name": "stderr",
     "output_type": "stream",
     "text": [
      "Updating tags:  69%|██████▉   | 3117/4491 [06:43<1:21:54,  3.58s/it]"
     ]
    },
    {
     "name": "stdout",
     "output_type": "stream",
     "text": [
      "Detected bird with confidence 0.999 at location [1013.4, 594.43, 1158.78, 729.44]\n"
     ]
    },
    {
     "name": "stderr",
     "output_type": "stream",
     "text": [
      "Updating tags:  69%|██████▉   | 3119/4491 [06:50<1:21:10,  3.55s/it]"
     ]
    },
    {
     "name": "stdout",
     "output_type": "stream",
     "text": [
      "Detected person with confidence 0.996 at location [1325.28, 2245.96, 1455.65, 2638.88]\n",
      "Detected person with confidence 0.982 at location [719.12, 1140.36, 855.64, 1250.4]\n",
      "Detected person with confidence 0.998 at location [2066.87, 2889.92, 2226.84, 3317.35]\n",
      "Detected boat with confidence 0.97 at location [2462.24, 918.47, 2675.33, 1077.35]\n",
      "Detected person with confidence 0.997 at location [735.18, 4489.2, 1122.53, 4889.22]\n",
      "Detected person with confidence 0.998 at location [1148.29, 3663.7, 1312.36, 4192.23]\n",
      "Detected person with confidence 0.911 at location [805.51, 600.9, 881.6, 672.23]\n",
      "Detected person with confidence 0.995 at location [1660.33, 2806.77, 1863.01, 3264.96]\n",
      "Detected person with confidence 0.942 at location [2297.45, 43.29, 2370.64, 114.08]\n",
      "Detected surfboard with confidence 0.996 at location [3378.52, 3516.93, 3998.96, 4035.12]\n",
      "Detected surfboard with confidence 0.954 at location [1028.91, 2368.8, 1283.39, 2645.65]\n",
      "Detected surfboard with confidence 0.99 at location [3731.15, 3440.11, 4000.18, 3691.8]\n",
      "Detected person with confidence 0.989 at location [1553.12, 3184.92, 1717.75, 3612.73]\n",
      "Detected person with confidence 0.993 at location [1132.12, 2205.07, 1251.22, 2584.66]\n"
     ]
    },
    {
     "name": "stderr",
     "output_type": "stream",
     "text": [
      "Updating tags:  69%|██████▉   | 3121/4491 [06:57<1:22:40,  3.62s/it]"
     ]
    },
    {
     "name": "stdout",
     "output_type": "stream",
     "text": [
      "Detected person with confidence 0.999 at location [893.06, 1225.01, 1189.92, 2110.31]\n"
     ]
    },
    {
     "name": "stderr",
     "output_type": "stream",
     "text": [
      "Updating tags:  70%|██████▉   | 3123/4491 [07:04<1:20:25,  3.53s/it]"
     ]
    },
    {
     "name": "stdout",
     "output_type": "stream",
     "text": [
      "Detected cell phone with confidence 0.938 at location [3965.19, 2561.24, 4724.57, 3477.16]\n",
      "Detected cup with confidence 0.999 at location [3441.33, 2776.21, 3821.25, 3251.71]\n"
     ]
    },
    {
     "name": "stderr",
     "output_type": "stream",
     "text": [
      "Updating tags:  70%|██████▉   | 3124/4491 [07:08<1:24:00,  3.69s/it]"
     ]
    },
    {
     "name": "stdout",
     "output_type": "stream",
     "text": [
      "Detected bird with confidence 0.994 at location [1047.84, 494.03, 1587.66, 666.74]\n",
      "Detected person with confidence 1.0 at location [859.61, 703.74, 1341.98, 1571.96]\n"
     ]
    },
    {
     "name": "stderr",
     "output_type": "stream",
     "text": [
      "Updating tags:  70%|██████▉   | 3126/4491 [07:15<1:18:42,  3.46s/it]"
     ]
    },
    {
     "name": "stdout",
     "output_type": "stream",
     "text": [
      "Detected potted plant with confidence 0.933 at location [424.01, 920.0, 1538.61, 2692.77]\n"
     ]
    },
    {
     "name": "stderr",
     "output_type": "stream",
     "text": [
      "Updating tags:  70%|██████▉   | 3130/4491 [07:30<1:26:35,  3.82s/it]"
     ]
    },
    {
     "name": "stdout",
     "output_type": "stream",
     "text": [
      "Detected vase with confidence 0.916 at location [615.28, 3185.56, 863.6, 3422.59]\n",
      "Detected potted plant with confidence 0.99 at location [33.42, 2159.08, 1062.3, 3429.02]\n"
     ]
    },
    {
     "name": "stderr",
     "output_type": "stream",
     "text": [
      "Updating tags:  70%|██████▉   | 3135/4491 [07:49<1:21:20,  3.60s/it]"
     ]
    },
    {
     "name": "stdout",
     "output_type": "stream",
     "text": [
      "Detected bird with confidence 0.909 at location [0.05, 1016.89, 158.13, 1255.36]\n",
      "Detected bird with confidence 0.998 at location [330.17, 1103.15, 751.26, 2463.36]\n",
      "Detected bird with confidence 0.998 at location [637.86, 1101.19, 1190.09, 2561.1]\n"
     ]
    },
    {
     "name": "stderr",
     "output_type": "stream",
     "text": [
      "Updating tags:  70%|███████   | 3144/4491 [08:31<2:08:02,  5.70s/it]"
     ]
    },
    {
     "name": "stdout",
     "output_type": "stream",
     "text": [
      "Detected person with confidence 0.999 at location [1916.11, 2953.46, 2181.43, 3547.79]\n"
     ]
    },
    {
     "name": "stderr",
     "output_type": "stream",
     "text": [
      "Updating tags:  70%|███████   | 3145/4491 [08:35<1:55:08,  5.13s/it]"
     ]
    },
    {
     "name": "stdout",
     "output_type": "stream",
     "text": [
      "Detected person with confidence 0.994 at location [3982.02, 2292.53, 4136.53, 2677.54]\n",
      "Detected backpack with confidence 0.998 at location [2575.06, 2399.34, 2905.02, 2852.28]\n",
      "Detected person with confidence 0.993 at location [3901.54, 2305.75, 4017.93, 2646.83]\n",
      "Detected person with confidence 0.902 at location [3957.26, 2176.5, 4012.11, 2282.6]\n",
      "Detected person with confidence 0.928 at location [3611.47, 2134.75, 3649.07, 2212.19]\n",
      "Detected person with confidence 1.0 at location [2630.33, 2126.01, 3127.5, 3636.47]\n",
      "Detected person with confidence 0.957 at location [3534.82, 2132.84, 3569.68, 2206.66]\n"
     ]
    },
    {
     "name": "stderr",
     "output_type": "stream",
     "text": [
      "Updating tags:  70%|███████   | 3147/4491 [08:42<1:34:55,  4.24s/it]"
     ]
    },
    {
     "name": "stdout",
     "output_type": "stream",
     "text": [
      "Detected person with confidence 0.999 at location [784.19, 1160.83, 829.95, 1280.65]\n"
     ]
    },
    {
     "name": "stderr",
     "output_type": "stream",
     "text": [
      "Updating tags:  70%|███████   | 3148/4491 [08:45<1:31:46,  4.10s/it]"
     ]
    },
    {
     "name": "stdout",
     "output_type": "stream",
     "text": [
      "Detected person with confidence 0.999 at location [2769.62, 7536.69, 3180.99, 8825.58]\n"
     ]
    },
    {
     "name": "stderr",
     "output_type": "stream",
     "text": [
      "Updating tags:  70%|███████   | 3150/4491 [08:52<1:24:01,  3.76s/it]"
     ]
    },
    {
     "name": "stdout",
     "output_type": "stream",
     "text": [
      "Detected apple with confidence 0.983 at location [2048.7, 1165.76, 3230.13, 2277.53]\n"
     ]
    },
    {
     "name": "stderr",
     "output_type": "stream",
     "text": [
      "Updating tags:  70%|███████   | 3154/4491 [09:05<1:13:18,  3.29s/it]"
     ]
    },
    {
     "name": "stdout",
     "output_type": "stream",
     "text": [
      "Detected bed with confidence 0.982 at location [7.03, 3.74, 1710.9, 1995.45]\n",
      "Detected bed with confidence 0.98 at location [2244.26, 3.47, 3119.17, 2052.9]\n"
     ]
    },
    {
     "name": "stderr",
     "output_type": "stream",
     "text": [
      "Updating tags:  70%|███████   | 3155/4491 [09:09<1:15:53,  3.41s/it]"
     ]
    },
    {
     "name": "stdout",
     "output_type": "stream",
     "text": [
      "Detected dog with confidence 1.0 at location [1265.38, 3009.11, 3869.95, 5492.53]\n",
      "Detected person with confidence 1.0 at location [907.28, 706.8, 2535.32, 5318.4]\n"
     ]
    },
    {
     "name": "stderr",
     "output_type": "stream",
     "text": [
      "Updating tags:  70%|███████   | 3156/4491 [10:08<7:25:26, 20.02s/it]"
     ]
    },
    {
     "name": "stdout",
     "output_type": "stream",
     "text": [
      "Detected potted plant with confidence 0.967 at location [1399.67, 510.01, 3773.23, 3008.31]\n"
     ]
    },
    {
     "name": "stderr",
     "output_type": "stream",
     "text": [
      "Updating tags:  70%|███████   | 3159/4491 [10:18<3:24:34,  9.22s/it]"
     ]
    },
    {
     "name": "stdout",
     "output_type": "stream",
     "text": [
      "Detected potted plant with confidence 0.971 at location [378.64, 111.69, 3299.19, 3574.28]\n",
      "Detected potted plant with confidence 0.987 at location [2987.83, 936.8, 4010.6, 2295.26]\n",
      "Detected potted plant with confidence 0.968 at location [4725.84, 986.37, 5470.21, 2330.52]\n",
      "Detected potted plant with confidence 0.972 at location [3995.9, 378.34, 4859.65, 2310.23]\n"
     ]
    },
    {
     "name": "stderr",
     "output_type": "stream",
     "text": [
      "Updating tags:  70%|███████   | 3160/4491 [10:22<2:46:25,  7.50s/it]"
     ]
    },
    {
     "name": "stdout",
     "output_type": "stream",
     "text": [
      "Detected bird with confidence 0.98 at location [659.25, 1063.48, 3153.7, 1993.9]\n"
     ]
    },
    {
     "name": "stderr",
     "output_type": "stream",
     "text": [
      "Updating tags:  70%|███████   | 3163/4491 [10:32<1:44:36,  4.73s/it]"
     ]
    },
    {
     "name": "stdout",
     "output_type": "stream",
     "text": [
      "Detected cat with confidence 0.996 at location [852.38, 585.23, 2498.78, 2495.05]\n"
     ]
    },
    {
     "name": "stderr",
     "output_type": "stream",
     "text": [
      "Updating tags:  71%|███████   | 3168/4491 [10:50<1:25:15,  3.87s/it]"
     ]
    },
    {
     "name": "stdout",
     "output_type": "stream",
     "text": [
      "Detected surfboard with confidence 0.98 at location [653.16, 2279.43, 808.95, 2442.81]\n"
     ]
    },
    {
     "name": "stderr",
     "output_type": "stream",
     "text": [
      "Updating tags:  71%|███████   | 3169/4491 [17:49<47:05:32, 128.24s/it]"
     ]
    },
    {
     "name": "stdout",
     "output_type": "stream",
     "text": [
      "Detected surfboard with confidence 0.954 at location [2211.81, 1751.71, 2408.7, 1921.82]\n",
      "Detected person with confidence 0.999 at location [2234.65, 1371.13, 4207.56, 3022.6]\n"
     ]
    },
    {
     "name": "stderr",
     "output_type": "stream",
     "text": [
      "Updating tags:  71%|███████   | 3171/4491 [18:01<24:10:10, 65.92s/it] "
     ]
    },
    {
     "name": "stdout",
     "output_type": "stream",
     "text": [
      "Detected person with confidence 0.992 at location [1500.43, 1130.44, 1589.62, 1384.18]\n",
      "Detected person with confidence 0.996 at location [1687.9, 1082.64, 1797.42, 1377.35]\n"
     ]
    },
    {
     "name": "stderr",
     "output_type": "stream",
     "text": [
      "Updating tags:  71%|███████   | 3172/4491 [18:06<17:23:54, 47.49s/it]"
     ]
    },
    {
     "name": "stdout",
     "output_type": "stream",
     "text": [
      "Detected person with confidence 0.999 at location [1196.36, 667.7, 1414.3, 1062.68]\n",
      "Detected person with confidence 0.995 at location [1070.06, 634.38, 1095.33, 703.21]\n"
     ]
    },
    {
     "name": "stderr",
     "output_type": "stream",
     "text": [
      "Updating tags:  71%|███████   | 3173/4491 [18:09<12:32:04, 34.24s/it]"
     ]
    },
    {
     "name": "stdout",
     "output_type": "stream",
     "text": [
      "Detected cake with confidence 0.98 at location [-2.09, 9.69, 5997.26, 3951.25]\n"
     ]
    },
    {
     "name": "stderr",
     "output_type": "stream",
     "text": [
      "Updating tags:  71%|███████   | 3175/4491 [18:16<6:48:38, 18.63s/it] "
     ]
    },
    {
     "name": "stdout",
     "output_type": "stream",
     "text": [
      "Detected cup with confidence 0.951 at location [764.53, 1969.59, 1070.58, 2228.22]\n"
     ]
    },
    {
     "name": "stderr",
     "output_type": "stream",
     "text": [
      "Updating tags:  71%|███████   | 3176/4491 [18:20<5:08:46, 14.09s/it]"
     ]
    },
    {
     "name": "stdout",
     "output_type": "stream",
     "text": [
      "Detected dog with confidence 0.999 at location [743.66, 1515.26, 2924.98, 5400.65]\n"
     ]
    },
    {
     "name": "stderr",
     "output_type": "stream",
     "text": [
      "Updating tags:  71%|███████   | 3178/4491 [18:27<3:13:47,  8.86s/it]"
     ]
    },
    {
     "name": "stdout",
     "output_type": "stream",
     "text": [
      "Detected person with confidence 0.979 at location [3304.74, 2886.05, 3356.52, 3025.52]\n",
      "Detected person with confidence 0.988 at location [3003.81, 2884.73, 3049.25, 3008.4]\n",
      "Detected person with confidence 0.946 at location [1986.89, 2892.96, 2042.1, 2970.27]\n",
      "Detected person with confidence 0.982 at location [2540.22, 2992.96, 2601.4, 3126.5]\n",
      "Detected person with confidence 0.979 at location [2849.98, 2860.88, 2892.87, 2959.68]\n",
      "Detected person with confidence 0.983 at location [783.0, 2867.64, 868.48, 2978.92]\n"
     ]
    },
    {
     "name": "stderr",
     "output_type": "stream",
     "text": [
      "Updating tags:  71%|███████   | 3180/4491 [18:36<2:21:16,  6.47s/it]"
     ]
    },
    {
     "name": "stdout",
     "output_type": "stream",
     "text": [
      "Detected bird with confidence 0.989 at location [1211.35, 328.64, 3657.29, 3573.45]\n"
     ]
    },
    {
     "name": "stderr",
     "output_type": "stream",
     "text": [
      "Updating tags:  71%|███████   | 3182/4491 [18:44<1:52:43,  5.17s/it]"
     ]
    },
    {
     "name": "stdout",
     "output_type": "stream",
     "text": [
      "Detected person with confidence 0.982 at location [1.0, 6.31, 2975.46, 3777.39]\n"
     ]
    },
    {
     "name": "stderr",
     "output_type": "stream",
     "text": [
      "Updating tags:  71%|███████   | 3183/4491 [18:47<1:44:08,  4.78s/it]"
     ]
    },
    {
     "name": "stdout",
     "output_type": "stream",
     "text": [
      "Detected person with confidence 0.999 at location [1188.21, 2154.2, 1402.63, 2772.43]\n"
     ]
    },
    {
     "name": "stderr",
     "output_type": "stream",
     "text": [
      "Updating tags:  71%|███████   | 3184/4491 [18:51<1:38:08,  4.51s/it]"
     ]
    },
    {
     "name": "stdout",
     "output_type": "stream",
     "text": [
      "Detected backpack with confidence 0.975 at location [1130.88, 3975.56, 2495.17, 5575.51]\n",
      "Detected person with confidence 0.999 at location [661.13, 3095.98, 3241.86, 5951.63]\n"
     ]
    },
    {
     "name": "stderr",
     "output_type": "stream",
     "text": [
      "Updating tags:  71%|███████   | 3189/4491 [19:08<1:13:54,  3.41s/it]"
     ]
    },
    {
     "name": "stdout",
     "output_type": "stream",
     "text": [
      "Detected bird with confidence 0.973 at location [1325.52, 791.24, 2885.73, 1981.43]\n"
     ]
    },
    {
     "name": "stderr",
     "output_type": "stream",
     "text": [
      "Updating tags:  71%|███████   | 3194/4491 [19:26<1:14:40,  3.45s/it]"
     ]
    },
    {
     "name": "stdout",
     "output_type": "stream",
     "text": [
      "Detected person with confidence 0.994 at location [1793.97, 3073.24, 1840.37, 3198.31]\n"
     ]
    },
    {
     "name": "stderr",
     "output_type": "stream",
     "text": [
      "Updating tags:  71%|███████   | 3198/4491 [19:40<1:13:54,  3.43s/it]"
     ]
    },
    {
     "name": "stdout",
     "output_type": "stream",
     "text": [
      "Detected potted plant with confidence 0.991 at location [141.38, 2463.87, 2934.81, 5378.27]\n"
     ]
    },
    {
     "name": "stderr",
     "output_type": "stream",
     "text": [
      "Updating tags:  71%|███████   | 3199/4491 [19:44<1:15:36,  3.51s/it]"
     ]
    },
    {
     "name": "stdout",
     "output_type": "stream",
     "text": [
      "Detected person with confidence 0.999 at location [903.81, 1584.18, 1362.12, 3002.86]\n"
     ]
    },
    {
     "name": "stderr",
     "output_type": "stream",
     "text": [
      "Updating tags:  71%|███████▏  | 3200/4491 [19:47<1:15:38,  3.52s/it]"
     ]
    },
    {
     "name": "stdout",
     "output_type": "stream",
     "text": [
      "Detected skateboard with confidence 0.994 at location [1251.07, 1309.74, 1435.18, 1352.55]\n",
      "Detected person with confidence 0.999 at location [1264.06, 935.0, 1425.29, 1323.32]\n"
     ]
    },
    {
     "name": "stderr",
     "output_type": "stream",
     "text": [
      "Updating tags:  71%|███████▏  | 3201/4491 [19:50<1:12:58,  3.39s/it]"
     ]
    },
    {
     "name": "stdout",
     "output_type": "stream",
     "text": [
      "Detected truck with confidence 0.925 at location [2963.26, 3698.38, 3061.88, 3825.05]\n",
      "Detected car with confidence 0.908 at location [2551.23, 2812.87, 2637.17, 2886.5]\n"
     ]
    },
    {
     "name": "stderr",
     "output_type": "stream",
     "text": [
      "Updating tags:  71%|███████▏  | 3202/4491 [19:54<1:14:59,  3.49s/it]"
     ]
    },
    {
     "name": "stdout",
     "output_type": "stream",
     "text": [
      "Detected dog with confidence 0.997 at location [1981.86, 11.72, 4443.54, 4104.92]\n"
     ]
    },
    {
     "name": "stderr",
     "output_type": "stream",
     "text": [
      "Updating tags:  71%|███████▏  | 3203/4491 [19:58<1:16:37,  3.57s/it]"
     ]
    },
    {
     "name": "stdout",
     "output_type": "stream",
     "text": [
      "Detected person with confidence 0.998 at location [2267.19, 4139.77, 2410.79, 4466.67]\n"
     ]
    },
    {
     "name": "stderr",
     "output_type": "stream",
     "text": [
      "Updating tags:  71%|███████▏  | 3205/4491 [20:04<1:14:29,  3.48s/it]"
     ]
    },
    {
     "name": "stdout",
     "output_type": "stream",
     "text": [
      "Detected cake with confidence 0.969 at location [852.09, 345.69, 5838.11, 3355.9]\n"
     ]
    },
    {
     "name": "stderr",
     "output_type": "stream",
     "text": [
      "Updating tags:  72%|███████▏  | 3214/4491 [20:37<1:18:55,  3.71s/it]"
     ]
    },
    {
     "name": "stdout",
     "output_type": "stream",
     "text": [
      "Detected person with confidence 0.941 at location [2031.26, 1420.46, 2056.82, 1460.5]\n",
      "Detected person with confidence 0.991 at location [2308.28, 1434.3, 2335.06, 1497.36]\n",
      "Detected person with confidence 0.952 at location [1343.34, 1373.23, 1371.49, 1422.5]\n",
      "Detected person with confidence 0.956 at location [1313.33, 1372.22, 1344.56, 1421.33]\n",
      "Detected person with confidence 0.989 at location [988.63, 1481.21, 1022.62, 1558.83]\n",
      "Detected person with confidence 0.964 at location [2043.67, 1420.81, 2070.66, 1461.35]\n",
      "Detected person with confidence 0.985 at location [2242.11, 1407.23, 2266.48, 1467.58]\n"
     ]
    },
    {
     "name": "stderr",
     "output_type": "stream",
     "text": [
      "Updating tags:  72%|███████▏  | 3215/4491 [20:41<1:21:39,  3.84s/it]"
     ]
    },
    {
     "name": "stdout",
     "output_type": "stream",
     "text": [
      "Detected bird with confidence 0.999 at location [3855.25, 1795.77, 4877.24, 2488.97]\n",
      "Detected bird with confidence 0.98 at location [2859.47, 1235.26, 3532.64, 3097.64]\n",
      "Detected bird with confidence 0.995 at location [1185.38, 2049.84, 1740.06, 2551.51]\n",
      "Detected bird with confidence 0.997 at location [1571.52, 949.33, 3067.33, 3277.04]\n",
      "Detected bird with confidence 0.994 at location [4949.49, 1243.69, 5413.72, 2825.31]\n",
      "Detected bird with confidence 0.985 at location [0.28, 1757.23, 390.59, 3216.4]\n"
     ]
    },
    {
     "name": "stderr",
     "output_type": "stream",
     "text": [
      "Updating tags:  72%|███████▏  | 3216/4491 [20:46<1:23:46,  3.94s/it]"
     ]
    },
    {
     "name": "stdout",
     "output_type": "stream",
     "text": [
      "Detected airplane with confidence 0.998 at location [1439.29, 416.83, 1636.61, 734.32]\n",
      "Detected airplane with confidence 0.998 at location [589.43, 614.72, 825.36, 771.86]\n",
      "Detected airplane with confidence 0.995 at location [1127.36, 507.06, 1302.18, 573.74]\n"
     ]
    },
    {
     "name": "stderr",
     "output_type": "stream",
     "text": [
      "Updating tags:  72%|███████▏  | 3218/4491 [20:55<1:32:33,  4.36s/it]"
     ]
    },
    {
     "name": "stdout",
     "output_type": "stream",
     "text": [
      "Detected bird with confidence 0.999 at location [1025.9, 1410.91, 1643.68, 1826.42]\n",
      "Detected bird with confidence 0.998 at location [1459.82, 1204.96, 1764.89, 1585.82]\n"
     ]
    },
    {
     "name": "stderr",
     "output_type": "stream",
     "text": [
      "Updating tags:  72%|███████▏  | 3219/4491 [20:59<1:27:56,  4.15s/it]"
     ]
    },
    {
     "name": "stdout",
     "output_type": "stream",
     "text": [
      "Detected person with confidence 0.998 at location [2138.82, 961.19, 3255.59, 3342.79]\n",
      "Detected fire hydrant with confidence 0.979 at location [202.0, 2570.55, 440.82, 2841.36]\n"
     ]
    },
    {
     "name": "stderr",
     "output_type": "stream",
     "text": [
      "Updating tags:  72%|███████▏  | 3221/4491 [21:06<1:21:11,  3.84s/it]"
     ]
    },
    {
     "name": "stdout",
     "output_type": "stream",
     "text": [
      "Detected boat with confidence 0.996 at location [2768.05, 961.46, 2958.27, 1192.39]\n"
     ]
    },
    {
     "name": "stderr",
     "output_type": "stream",
     "text": [
      "Updating tags:  72%|███████▏  | 3223/4491 [21:13<1:18:37,  3.72s/it]"
     ]
    },
    {
     "name": "stdout",
     "output_type": "stream",
     "text": [
      "Detected person with confidence 0.963 at location [1859.14, 1356.32, 1991.08, 1612.2]\n",
      "Detected person with confidence 0.962 at location [1823.49, 1368.12, 1941.43, 1599.98]\n",
      "Detected person with confidence 0.996 at location [1904.06, 1354.45, 2016.71, 1607.12]\n"
     ]
    },
    {
     "name": "stderr",
     "output_type": "stream",
     "text": [
      "Updating tags:  72%|███████▏  | 3224/4491 [21:17<1:20:35,  3.82s/it]"
     ]
    },
    {
     "name": "stdout",
     "output_type": "stream",
     "text": [
      "Detected dog with confidence 1.0 at location [1516.83, 818.78, 2775.47, 2023.51]\n"
     ]
    },
    {
     "name": "stderr",
     "output_type": "stream",
     "text": [
      "Updating tags:  72%|███████▏  | 3228/4491 [21:33<1:21:11,  3.86s/it]"
     ]
    },
    {
     "name": "stdout",
     "output_type": "stream",
     "text": [
      "Detected person with confidence 0.999 at location [2122.2, 1309.83, 2221.38, 1591.99]\n"
     ]
    },
    {
     "name": "stderr",
     "output_type": "stream",
     "text": [
      "Updating tags:  72%|███████▏  | 3229/4491 [21:37<1:23:36,  3.98s/it]"
     ]
    },
    {
     "name": "stdout",
     "output_type": "stream",
     "text": [
      "Detected bird with confidence 0.993 at location [887.67, 1111.39, 2963.38, 4593.91]\n"
     ]
    },
    {
     "name": "stderr",
     "output_type": "stream",
     "text": [
      "Updating tags:  72%|███████▏  | 3234/4491 [21:59<1:26:31,  4.13s/it]"
     ]
    },
    {
     "name": "stdout",
     "output_type": "stream",
     "text": [
      "Detected person with confidence 0.998 at location [3297.84, 1360.8, 3658.72, 1753.86]\n"
     ]
    },
    {
     "name": "stderr",
     "output_type": "stream",
     "text": [
      "Updating tags:  72%|███████▏  | 3236/4491 [22:07<1:27:16,  4.17s/it]"
     ]
    },
    {
     "name": "stdout",
     "output_type": "stream",
     "text": [
      "Detected boat with confidence 0.919 at location [952.6, 1222.99, 1131.89, 1282.85]\n",
      "Detected boat with confidence 0.993 at location [1786.17, 1243.09, 2028.36, 1365.53]\n"
     ]
    },
    {
     "name": "stderr",
     "output_type": "stream",
     "text": [
      "Updating tags:  72%|███████▏  | 3237/4491 [22:11<1:24:47,  4.06s/it]"
     ]
    },
    {
     "name": "stdout",
     "output_type": "stream",
     "text": [
      "Detected bear with confidence 0.998 at location [2942.48, 486.63, 4245.98, 3779.73]\n"
     ]
    },
    {
     "name": "stderr",
     "output_type": "stream",
     "text": [
      "Updating tags:  72%|███████▏  | 3239/4491 [22:18<1:21:19,  3.90s/it]"
     ]
    },
    {
     "name": "stdout",
     "output_type": "stream",
     "text": [
      "Detected person with confidence 0.961 at location [2934.74, 2174.12, 3080.23, 2386.57]\n"
     ]
    },
    {
     "name": "stderr",
     "output_type": "stream",
     "text": [
      "Updating tags:  72%|███████▏  | 3244/4491 [23:12<3:20:21,  9.64s/it]"
     ]
    },
    {
     "name": "stdout",
     "output_type": "stream",
     "text": [
      "Detected cup with confidence 1.0 at location [929.88, 3296.19, 2138.89, 4247.1]\n"
     ]
    },
    {
     "name": "stderr",
     "output_type": "stream",
     "text": [
      "Updating tags:  72%|███████▏  | 3246/4491 [23:19<2:11:43,  6.35s/it]"
     ]
    },
    {
     "name": "stdout",
     "output_type": "stream",
     "text": [
      "Detected person with confidence 0.999 at location [1582.87, 2132.77, 2335.51, 3023.83]\n"
     ]
    },
    {
     "name": "stderr",
     "output_type": "stream",
     "text": [
      "Updating tags:  72%|███████▏  | 3249/4491 [23:37<2:17:25,  6.64s/it]"
     ]
    },
    {
     "name": "stdout",
     "output_type": "stream",
     "text": [
      "Detected sheep with confidence 0.999 at location [1348.47, 1722.55, 1970.19, 2253.67]\n"
     ]
    },
    {
     "name": "stderr",
     "output_type": "stream",
     "text": [
      "Updating tags:  72%|███████▏  | 3251/4491 [23:44<1:46:44,  5.16s/it]"
     ]
    },
    {
     "name": "stdout",
     "output_type": "stream",
     "text": [
      "Detected dog with confidence 0.999 at location [300.62, 1302.66, 2584.3, 3865.65]\n"
     ]
    },
    {
     "name": "stderr",
     "output_type": "stream",
     "text": [
      "Updating tags:  72%|███████▏  | 3252/4491 [23:48<1:38:19,  4.76s/it]"
     ]
    },
    {
     "name": "stdout",
     "output_type": "stream",
     "text": [
      "Detected potted plant with confidence 0.981 at location [5.83, 7.05, 6038.45, 3965.93]\n"
     ]
    },
    {
     "name": "stderr",
     "output_type": "stream",
     "text": [
      "Updating tags:  72%|███████▏  | 3255/4491 [23:59<1:23:28,  4.05s/it]"
     ]
    },
    {
     "name": "stdout",
     "output_type": "stream",
     "text": [
      "Detected cat with confidence 0.999 at location [870.75, 1862.32, 4239.63, 6569.11]\n"
     ]
    },
    {
     "name": "stderr",
     "output_type": "stream",
     "text": [
      "Updating tags:  73%|███████▎  | 3258/4491 [24:11<1:20:11,  3.90s/it]"
     ]
    },
    {
     "name": "stdout",
     "output_type": "stream",
     "text": [
      "Detected elephant with confidence 0.977 at location [10.52, 1172.19, 2920.92, 2281.97]\n"
     ]
    },
    {
     "name": "stderr",
     "output_type": "stream",
     "text": [
      "Updating tags:  73%|███████▎  | 3259/4491 [24:15<1:20:10,  3.90s/it]"
     ]
    },
    {
     "name": "stdout",
     "output_type": "stream",
     "text": [
      "Detected person with confidence 0.991 at location [2999.69, 4443.23, 3589.41, 4787.01]\n",
      "Detected person with confidence 0.97 at location [2297.16, 4264.29, 2703.52, 4784.8]\n",
      "Detected person with confidence 0.977 at location [1156.85, 4471.59, 1628.1, 4787.74]\n",
      "Detected person with confidence 0.928 at location [920.78, 4520.16, 1142.3, 4788.32]\n",
      "Detected person with confidence 0.955 at location [2646.83, 4406.87, 2854.11, 4788.56]\n",
      "Detected person with confidence 0.912 at location [1013.03, 4371.3, 1299.53, 4696.32]\n",
      "Detected person with confidence 0.95 at location [2177.71, 4430.28, 2417.93, 4786.05]\n"
     ]
    },
    {
     "name": "stderr",
     "output_type": "stream",
     "text": [
      "Updating tags:  73%|███████▎  | 3264/4491 [24:35<1:18:47,  3.85s/it]"
     ]
    },
    {
     "name": "stdout",
     "output_type": "stream",
     "text": [
      "Detected horse with confidence 0.963 at location [447.11, 1083.89, 5000.99, 2953.07]\n"
     ]
    },
    {
     "name": "stderr",
     "output_type": "stream",
     "text": [
      "Updating tags:  73%|███████▎  | 3266/4491 [24:42<1:16:59,  3.77s/it]"
     ]
    },
    {
     "name": "stdout",
     "output_type": "stream",
     "text": [
      "Detected bird with confidence 0.998 at location [2357.52, 1190.22, 4062.38, 2739.64]\n"
     ]
    },
    {
     "name": "stderr",
     "output_type": "stream",
     "text": [
      "Updating tags:  73%|███████▎  | 3267/4491 [24:47<1:20:56,  3.97s/it]"
     ]
    },
    {
     "name": "stdout",
     "output_type": "stream",
     "text": [
      "Detected vase with confidence 0.996 at location [553.8, 2565.8, 2936.09, 4827.85]\n",
      "Detected potted plant with confidence 0.973 at location [608.61, 463.8, 3481.22, 4801.11]\n"
     ]
    },
    {
     "name": "stderr",
     "output_type": "stream",
     "text": [
      "Updating tags:  73%|███████▎  | 3268/4491 [24:50<1:19:51,  3.92s/it]"
     ]
    },
    {
     "name": "stdout",
     "output_type": "stream",
     "text": [
      "Detected person with confidence 0.925 at location [3912.86, 3378.64, 4003.76, 3471.64]\n"
     ]
    },
    {
     "name": "stderr",
     "output_type": "stream",
     "text": [
      "Updating tags:  73%|███████▎  | 3270/4491 [24:58<1:20:09,  3.94s/it]"
     ]
    },
    {
     "name": "stdout",
     "output_type": "stream",
     "text": [
      "Detected cup with confidence 0.995 at location [1645.49, 524.31, 3220.37, 2335.44]\n",
      "Detected orange with confidence 0.994 at location [555.99, 3296.46, 1505.71, 4310.8]\n"
     ]
    },
    {
     "name": "stderr",
     "output_type": "stream",
     "text": [
      "Updating tags:  73%|███████▎  | 3272/4491 [25:06<1:19:42,  3.92s/it]"
     ]
    },
    {
     "name": "stdout",
     "output_type": "stream",
     "text": [
      "Detected bird with confidence 0.97 at location [1180.02, 1738.64, 1239.82, 1904.65]\n"
     ]
    },
    {
     "name": "stderr",
     "output_type": "stream",
     "text": [
      "Updating tags:  73%|███████▎  | 3277/4491 [25:30<1:26:13,  4.26s/it]"
     ]
    },
    {
     "name": "stdout",
     "output_type": "stream",
     "text": [
      "Detected person with confidence 0.983 at location [1859.39, 1524.82, 1962.52, 1604.73]\n",
      "Detected person with confidence 0.995 at location [2402.61, 2229.68, 2539.37, 2332.23]\n",
      "Detected surfboard with confidence 0.988 at location [1133.11, 2081.05, 1315.04, 2251.39]\n",
      "Detected boat with confidence 0.988 at location [56.32, 938.21, 317.86, 1192.36]\n"
     ]
    },
    {
     "name": "stderr",
     "output_type": "stream",
     "text": [
      "Updating tags:  73%|███████▎  | 3278/4491 [25:34<1:22:33,  4.08s/it]"
     ]
    },
    {
     "name": "stdout",
     "output_type": "stream",
     "text": [
      "Detected person with confidence 0.999 at location [2203.59, 3958.31, 2696.93, 5353.92]\n",
      "Detected person with confidence 0.999 at location [1287.02, 3935.29, 1844.36, 5291.35]\n"
     ]
    },
    {
     "name": "stderr",
     "output_type": "stream",
     "text": [
      "Updating tags:  73%|███████▎  | 3279/4491 [25:38<1:21:51,  4.05s/it]"
     ]
    },
    {
     "name": "stdout",
     "output_type": "stream",
     "text": [
      "Detected person with confidence 0.996 at location [1541.67, 98.14, 3994.69, 4942.33]\n",
      "Detected horse with confidence 0.999 at location [0.82, 1737.05, 2220.48, 4964.75]\n"
     ]
    },
    {
     "name": "stderr",
     "output_type": "stream",
     "text": [
      "Updating tags:  73%|███████▎  | 3283/4491 [25:51<1:10:47,  3.52s/it]"
     ]
    },
    {
     "name": "stdout",
     "output_type": "stream",
     "text": [
      "Detected broccoli with confidence 0.989 at location [0.88, 4.9, 2557.31, 1417.16]\n"
     ]
    },
    {
     "name": "stderr",
     "output_type": "stream",
     "text": [
      "Updating tags:  73%|███████▎  | 3287/4491 [26:07<1:21:03,  4.04s/it]"
     ]
    },
    {
     "name": "stdout",
     "output_type": "stream",
     "text": [
      "Detected person with confidence 0.996 at location [1642.42, 1848.78, 1765.42, 2200.15]\n",
      "Detected person with confidence 0.999 at location [1730.45, 1659.06, 1883.43, 2205.48]\n",
      "Detected person with confidence 0.998 at location [1481.46, 1840.0, 1619.78, 2205.46]\n",
      "Detected person with confidence 0.991 at location [1342.73, 1901.19, 1486.09, 2189.94]\n",
      "Detected person with confidence 0.998 at location [1972.9, 1677.64, 2091.95, 2202.42]\n"
     ]
    },
    {
     "name": "stderr",
     "output_type": "stream",
     "text": [
      "Updating tags:  73%|███████▎  | 3290/4491 [26:19<1:17:40,  3.88s/it]"
     ]
    },
    {
     "name": "stdout",
     "output_type": "stream",
     "text": [
      "Detected car with confidence 0.994 at location [2677.76, 3790.39, 2939.25, 3930.09]\n",
      "Detected car with confidence 0.993 at location [3429.05, 3778.24, 3636.92, 3965.86]\n",
      "Detected car with confidence 0.988 at location [2881.55, 3775.53, 3159.48, 3952.62]\n",
      "Detected person with confidence 0.919 at location [2549.46, 3776.85, 2613.99, 3944.29]\n",
      "Detected car with confidence 0.993 at location [3097.0, 3765.87, 3466.2, 3957.52]\n",
      "Detected car with confidence 0.966 at location [2898.72, 3782.72, 3187.69, 3935.8]\n"
     ]
    },
    {
     "name": "stderr",
     "output_type": "stream",
     "text": [
      "Updating tags:  73%|███████▎  | 3291/4491 [26:23<1:16:20,  3.82s/it]"
     ]
    },
    {
     "name": "stdout",
     "output_type": "stream",
     "text": [
      "Detected potted plant with confidence 0.932 at location [3.41, 86.1, 3018.87, 3976.02]\n"
     ]
    },
    {
     "name": "stderr",
     "output_type": "stream",
     "text": [
      "Updating tags:  73%|███████▎  | 3297/4491 [26:47<1:20:26,  4.04s/it]"
     ]
    },
    {
     "name": "stdout",
     "output_type": "stream",
     "text": [
      "Detected bird with confidence 0.9 at location [5037.75, 3125.39, 5466.18, 3489.39]\n",
      "Detected bird with confidence 0.99 at location [8.55, 991.78, 1730.51, 2000.6]\n",
      "Detected bird with confidence 0.947 at location [1101.45, 3363.31, 1535.79, 3645.59]\n",
      "Detected bird with confidence 0.965 at location [4776.09, 2920.44, 4999.99, 3136.81]\n",
      "Detected bird with confidence 0.961 at location [4274.65, 2489.1, 4729.77, 2844.49]\n",
      "Detected bird with confidence 0.903 at location [4102.49, 2819.61, 4320.38, 3013.81]\n",
      "Detected bird with confidence 0.969 at location [4300.6, 3097.02, 4697.42, 3414.96]\n",
      "Detected bird with confidence 0.954 at location [3926.61, 613.46, 5166.6, 1114.68]\n",
      "Detected person with confidence 0.991 at location [1408.45, 359.29, 4521.41, 3590.85]\n",
      "Detected bird with confidence 0.92 at location [3936.21, 696.5, 5453.88, 2149.6]\n",
      "Detected bird with confidence 0.954 at location [5026.13, 2847.58, 5376.38, 3174.22]\n",
      "Detected person with confidence 0.929 at location [1.07, 7.8, 1792.41, 3605.62]\n",
      "Detected bird with confidence 0.933 at location [823.27, 2857.25, 1244.85, 3243.61]\n",
      "Detected bird with confidence 0.954 at location [1664.44, 1906.98, 3301.88, 2570.22]\n",
      "Detected person with confidence 0.927 at location [1.19, 1398.6, 1826.91, 3600.41]\n"
     ]
    },
    {
     "name": "stderr",
     "output_type": "stream",
     "text": [
      "Updating tags:  73%|███████▎  | 3298/4491 [26:51<1:20:15,  4.04s/it]"
     ]
    },
    {
     "name": "stdout",
     "output_type": "stream",
     "text": [
      "Detected boat with confidence 0.977 at location [1974.47, 2634.48, 2586.3, 2924.78]\n",
      "Detected boat with confidence 0.952 at location [1182.92, 2701.15, 1479.45, 2750.33]\n",
      "Detected person with confidence 1.0 at location [1443.18, 2721.85, 1739.77, 3519.41]\n"
     ]
    },
    {
     "name": "stderr",
     "output_type": "stream",
     "text": [
      "Updating tags:  73%|███████▎  | 3300/4491 [26:59<1:22:03,  4.13s/it]"
     ]
    },
    {
     "name": "stdout",
     "output_type": "stream",
     "text": [
      "Detected bird with confidence 0.997 at location [406.88, 252.49, 3115.79, 2924.74]\n"
     ]
    },
    {
     "name": "stderr",
     "output_type": "stream",
     "text": [
      "Updating tags:  74%|███████▎  | 3303/4491 [27:13<1:25:30,  4.32s/it]"
     ]
    },
    {
     "name": "stdout",
     "output_type": "stream",
     "text": [
      "Detected person with confidence 0.999 at location [1671.04, 1558.98, 1752.67, 1750.69]\n"
     ]
    },
    {
     "name": "stderr",
     "output_type": "stream",
     "text": [
      "Updating tags:  74%|███████▎  | 3305/4491 [27:21<1:21:25,  4.12s/it]"
     ]
    },
    {
     "name": "stdout",
     "output_type": "stream",
     "text": [
      "Detected train with confidence 0.999 at location [972.76, 2936.32, 2273.03, 3364.86]\n"
     ]
    },
    {
     "name": "stderr",
     "output_type": "stream",
     "text": [
      "Updating tags:  74%|███████▎  | 3306/4491 [27:31<1:55:51,  5.87s/it]"
     ]
    },
    {
     "name": "stdout",
     "output_type": "stream",
     "text": [
      "Detected traffic light with confidence 0.956 at location [1179.01, 1894.06, 1323.49, 2347.19]\n"
     ]
    },
    {
     "name": "stderr",
     "output_type": "stream",
     "text": [
      "Updating tags:  74%|███████▎  | 3309/4491 [27:43<1:31:44,  4.66s/it]"
     ]
    },
    {
     "name": "stdout",
     "output_type": "stream",
     "text": [
      "Detected car with confidence 0.997 at location [3471.56, 2857.05, 3750.69, 3056.43]\n"
     ]
    },
    {
     "name": "stderr",
     "output_type": "stream",
     "text": [
      "Updating tags:  74%|███████▎  | 3310/4491 [27:47<1:26:16,  4.38s/it]"
     ]
    },
    {
     "name": "stdout",
     "output_type": "stream",
     "text": [
      "Detected potted plant with confidence 0.912 at location [856.07, 329.69, 3638.73, 6645.28]\n"
     ]
    },
    {
     "name": "stderr",
     "output_type": "stream",
     "text": [
      "Updating tags:  74%|███████▍  | 3314/4491 [28:07<1:36:15,  4.91s/it]"
     ]
    },
    {
     "name": "stdout",
     "output_type": "stream",
     "text": [
      "Detected person with confidence 0.939 at location [2364.03, 2127.68, 2783.14, 2964.71]\n",
      "Detected person with confidence 0.999 at location [772.27, 1805.02, 2506.35, 3969.93]\n",
      "Detected person with confidence 0.983 at location [2742.95, 2187.92, 2999.62, 2992.33]\n",
      "Detected toilet with confidence 0.99 at location [549.0, 727.04, 1097.55, 1002.69]\n"
     ]
    },
    {
     "name": "stderr",
     "output_type": "stream",
     "text": [
      "Updating tags:  74%|███████▍  | 3315/4491 [28:14<1:46:19,  5.43s/it]"
     ]
    },
    {
     "name": "stdout",
     "output_type": "stream",
     "text": [
      "Detected dog with confidence 1.0 at location [636.54, 1399.77, 1882.89, 2747.75]\n"
     ]
    },
    {
     "name": "stderr",
     "output_type": "stream",
     "text": [
      "Updating tags:  74%|███████▍  | 3320/4491 [28:33<1:19:32,  4.08s/it]"
     ]
    },
    {
     "name": "stdout",
     "output_type": "stream",
     "text": [
      "Detected zebra with confidence 0.987 at location [230.98, 2015.51, 1417.31, 3110.39]\n"
     ]
    },
    {
     "name": "stderr",
     "output_type": "stream",
     "text": [
      "Updating tags:  74%|███████▍  | 3321/4491 [28:37<1:16:43,  3.93s/it]"
     ]
    },
    {
     "name": "stdout",
     "output_type": "stream",
     "text": [
      "Detected person with confidence 0.998 at location [835.97, 1209.89, 3433.63, 2030.47]\n",
      "Detected cat with confidence 0.996 at location [2033.16, 483.18, 3931.31, 1607.84]\n"
     ]
    },
    {
     "name": "stderr",
     "output_type": "stream",
     "text": [
      "Updating tags:  74%|███████▍  | 3323/4491 [28:45<1:18:54,  4.05s/it]"
     ]
    },
    {
     "name": "stdout",
     "output_type": "stream",
     "text": [
      "Detected broccoli with confidence 0.975 at location [-0.06, 12.73, 2794.03, 3924.69]\n"
     ]
    },
    {
     "name": "stderr",
     "output_type": "stream",
     "text": [
      "Updating tags:  74%|███████▍  | 3325/4491 [28:52<1:12:56,  3.75s/it]"
     ]
    },
    {
     "name": "stdout",
     "output_type": "stream",
     "text": [
      "Error:  Unsupported number of image dimensions: 2\n",
      "Detected person with confidence 0.996 at location [1288.43, 1504.8, 3654.37, 2639.91]\n"
     ]
    },
    {
     "name": "stderr",
     "output_type": "stream",
     "text": [
      "Updating tags:  74%|███████▍  | 3326/4491 [29:00<1:34:49,  4.88s/it]"
     ]
    },
    {
     "name": "stdout",
     "output_type": "stream",
     "text": [
      "Detected dog with confidence 0.997 at location [163.06, 1349.62, 3632.69, 5937.37]\n"
     ]
    },
    {
     "name": "stderr",
     "output_type": "stream",
     "text": [
      "Updating tags:  74%|███████▍  | 3327/4491 [29:08<1:54:50,  5.92s/it]"
     ]
    },
    {
     "name": "stdout",
     "output_type": "stream",
     "text": [
      "Detected cup with confidence 0.991 at location [1868.24, 3897.13, 3144.74, 5425.53]\n",
      "Detected person with confidence 0.996 at location [-0.15, 9.75, 3996.93, 5522.07]\n"
     ]
    },
    {
     "name": "stderr",
     "output_type": "stream",
     "text": [
      "Updating tags:  74%|███████▍  | 3329/4491 [29:15<1:30:17,  4.66s/it]"
     ]
    },
    {
     "name": "stdout",
     "output_type": "stream",
     "text": [
      "Detected person with confidence 0.999 at location [1841.93, 3085.95, 1956.3, 3321.56]\n"
     ]
    },
    {
     "name": "stderr",
     "output_type": "stream",
     "text": [
      "Updating tags:  74%|███████▍  | 3330/4491 [29:18<1:20:38,  4.17s/it]"
     ]
    },
    {
     "name": "stdout",
     "output_type": "stream",
     "text": [
      "Detected boat with confidence 0.9 at location [4787.24, 2034.45, 5049.31, 2089.13]\n",
      "Detected boat with confidence 0.942 at location [4493.7, 2039.35, 4880.12, 2100.37]\n",
      "Detected boat with confidence 0.98 at location [5246.83, 1666.59, 5398.9, 2095.52]\n"
     ]
    },
    {
     "name": "stderr",
     "output_type": "stream",
     "text": [
      "Updating tags:  74%|███████▍  | 3334/4491 [29:33<1:14:36,  3.87s/it]"
     ]
    },
    {
     "name": "stdout",
     "output_type": "stream",
     "text": [
      "Detected person with confidence 0.997 at location [1285.83, 1718.3, 2359.45, 2306.58]\n",
      "Detected cup with confidence 0.99 at location [936.51, 1743.39, 1326.26, 2130.55]\n"
     ]
    },
    {
     "name": "stderr",
     "output_type": "stream",
     "text": [
      "Updating tags:  74%|███████▍  | 3339/4491 [29:51<1:07:20,  3.51s/it]"
     ]
    },
    {
     "name": "stdout",
     "output_type": "stream",
     "text": [
      "Detected person with confidence 0.987 at location [1.26, 1411.88, 3515.45, 5924.19]\n",
      "Detected dog with confidence 0.984 at location [23.16, 139.54, 3404.3, 4211.55]\n"
     ]
    },
    {
     "name": "stderr",
     "output_type": "stream",
     "text": [
      "Updating tags:  74%|███████▍  | 3340/4491 [29:55<1:12:07,  3.76s/it]"
     ]
    },
    {
     "name": "stdout",
     "output_type": "stream",
     "text": [
      "Detected person with confidence 0.998 at location [1177.63, 2433.63, 1222.62, 2657.32]\n"
     ]
    },
    {
     "name": "stderr",
     "output_type": "stream",
     "text": [
      "Updating tags:  74%|███████▍  | 3342/4491 [30:02<1:06:52,  3.49s/it]"
     ]
    },
    {
     "name": "stdout",
     "output_type": "stream",
     "text": [
      "Detected bench with confidence 0.99 at location [533.92, 350.08, 874.81, 556.02]\n",
      "Detected cup with confidence 0.983 at location [34.1, 304.95, 66.21, 358.11]\n",
      "Detected bear with confidence 0.999 at location [284.91, 1335.62, 3673.03, 4781.12]\n"
     ]
    },
    {
     "name": "stderr",
     "output_type": "stream",
     "text": [
      "Updating tags:  75%|███████▍  | 3348/4491 [30:24<1:09:56,  3.67s/it]"
     ]
    },
    {
     "name": "stdout",
     "output_type": "stream",
     "text": [
      "Detected person with confidence 1.0 at location [914.61, 2041.83, 1209.29, 2827.72]\n"
     ]
    },
    {
     "name": "stderr",
     "output_type": "stream",
     "text": [
      "Updating tags:  75%|███████▍  | 3349/4491 [30:28<1:12:22,  3.80s/it]"
     ]
    },
    {
     "name": "stdout",
     "output_type": "stream",
     "text": [
      "Detected person with confidence 0.997 at location [448.85, 733.64, 1147.47, 1754.88]\n"
     ]
    },
    {
     "name": "stderr",
     "output_type": "stream",
     "text": [
      "Updating tags:  75%|███████▍  | 3350/4491 [30:32<1:11:12,  3.74s/it]"
     ]
    },
    {
     "name": "stdout",
     "output_type": "stream",
     "text": [
      "Detected sports ball with confidence 0.998 at location [1362.17, 3390.25, 2938.86, 5034.19]\n"
     ]
    },
    {
     "name": "stderr",
     "output_type": "stream",
     "text": [
      "Updating tags:  75%|███████▍  | 3351/4491 [30:36<1:13:46,  3.88s/it]"
     ]
    },
    {
     "name": "stdout",
     "output_type": "stream",
     "text": [
      "Detected cat with confidence 0.999 at location [1777.76, 440.78, 4847.96, 2876.97]\n"
     ]
    },
    {
     "name": "stderr",
     "output_type": "stream",
     "text": [
      "Updating tags:  75%|███████▍  | 3353/4491 [30:44<1:17:33,  4.09s/it]"
     ]
    },
    {
     "name": "stdout",
     "output_type": "stream",
     "text": [
      "Detected person with confidence 0.957 at location [1.49, 6.27, 3070.92, 2499.05]\n"
     ]
    },
    {
     "name": "stderr",
     "output_type": "stream",
     "text": [
      "Updating tags:  75%|███████▍  | 3361/4491 [31:27<1:20:03,  4.25s/it]"
     ]
    },
    {
     "name": "stdout",
     "output_type": "stream",
     "text": [
      "Detected potted plant with confidence 0.981 at location [1246.03, 578.54, 2948.02, 2262.04]\n",
      "Detected vase with confidence 0.992 at location [1706.35, 1528.22, 2580.64, 2259.83]\n",
      "Detected dining table with confidence 0.908 at location [0.49, 700.87, 3997.3, 2639.06]\n"
     ]
    },
    {
     "name": "stderr",
     "output_type": "stream",
     "text": [
      "Updating tags:  75%|███████▍  | 3365/4491 [31:41<1:09:55,  3.73s/it]"
     ]
    },
    {
     "name": "stdout",
     "output_type": "stream",
     "text": [
      "Detected person with confidence 1.0 at location [580.95, 1049.14, 1691.97, 2225.49]\n"
     ]
    },
    {
     "name": "stderr",
     "output_type": "stream",
     "text": [
      "Updating tags:  75%|███████▍  | 3366/4491 [31:45<1:12:12,  3.85s/it]"
     ]
    },
    {
     "name": "stdout",
     "output_type": "stream",
     "text": [
      "Detected person with confidence 0.972 at location [1542.58, 2380.53, 2223.48, 3120.36]\n",
      "Detected tie with confidence 0.937 at location [1802.5, 2870.13, 1989.64, 3111.04]\n"
     ]
    },
    {
     "name": "stderr",
     "output_type": "stream",
     "text": [
      "Updating tags:  75%|███████▌  | 3371/4491 [32:04<1:06:49,  3.58s/it]"
     ]
    },
    {
     "name": "stdout",
     "output_type": "stream",
     "text": [
      "Detected bench with confidence 0.972 at location [2583.16, 984.67, 3926.24, 5564.17]\n"
     ]
    },
    {
     "name": "stderr",
     "output_type": "stream",
     "text": [
      "Updating tags:  75%|███████▌  | 3377/4491 [32:30<1:18:04,  4.20s/it]"
     ]
    },
    {
     "name": "stdout",
     "output_type": "stream",
     "text": [
      "Detected broccoli with confidence 0.984 at location [2400.19, 172.3, 4443.04, 2508.17]\n",
      "Detected person with confidence 0.999 at location [241.48, 5.61, 3674.67, 2792.63]\n"
     ]
    },
    {
     "name": "stderr",
     "output_type": "stream",
     "text": [
      "Updating tags:  75%|███████▌  | 3380/4491 [32:40<1:08:06,  3.68s/it]"
     ]
    },
    {
     "name": "stdout",
     "output_type": "stream",
     "text": [
      "Detected cow with confidence 0.995 at location [2195.31, 1228.15, 2527.85, 1623.59]\n",
      "Detected cow with confidence 0.998 at location [1702.7, 1251.21, 2224.82, 1636.67]\n",
      "Detected cow with confidence 0.999 at location [1257.24, 1208.24, 1863.71, 1612.75]\n",
      "Detected cow with confidence 0.997 at location [3358.43, 1213.21, 3552.36, 1553.45]\n",
      "Detected cow with confidence 0.999 at location [779.97, 1238.22, 1319.39, 1599.9]\n",
      "Detected cow with confidence 0.999 at location [115.1, 1278.49, 329.86, 1563.62]\n",
      "Detected cow with confidence 0.998 at location [2476.59, 1194.32, 2940.31, 1581.37]\n"
     ]
    },
    {
     "name": "stderr",
     "output_type": "stream",
     "text": [
      "Updating tags:  75%|███████▌  | 3381/4491 [32:44<1:07:25,  3.64s/it]"
     ]
    },
    {
     "name": "stdout",
     "output_type": "stream",
     "text": [
      "Detected person with confidence 0.997 at location [1893.66, 2155.24, 2024.46, 2333.31]\n"
     ]
    },
    {
     "name": "stderr",
     "output_type": "stream",
     "text": [
      "Updating tags:  75%|███████▌  | 3384/4491 [32:54<1:03:12,  3.43s/it]"
     ]
    },
    {
     "name": "stdout",
     "output_type": "stream",
     "text": [
      "Detected car with confidence 0.999 at location [2358.96, 1661.83, 2734.31, 1969.56]\n",
      "Detected car with confidence 0.97 at location [677.03, 1746.78, 916.03, 1928.76]\n",
      "Detected car with confidence 0.976 at location [1717.2, 1706.45, 1922.7, 1849.02]\n"
     ]
    },
    {
     "name": "stderr",
     "output_type": "stream",
     "text": [
      "Updating tags:  75%|███████▌  | 3385/4491 [32:57<1:01:14,  3.32s/it]"
     ]
    },
    {
     "name": "stdout",
     "output_type": "stream",
     "text": [
      "Detected bird with confidence 0.999 at location [2540.17, 560.65, 4338.87, 2513.48]\n",
      "Detected bird with confidence 0.951 at location [4354.43, 1164.44, 4887.23, 1713.4]\n",
      "Detected bird with confidence 0.971 at location [273.32, -0.45, 633.81, 667.62]\n",
      "Detected bird with confidence 0.921 at location [940.36, 111.39, 1402.81, 650.95]\n",
      "Detected bird with confidence 0.973 at location [590.63, 128.38, 1015.76, 830.86]\n",
      "Detected bird with confidence 0.936 at location [2216.3, 1631.3, 2892.18, 2618.27]\n",
      "Detected bird with confidence 0.986 at location [3996.8, 776.79, 4670.2, 1595.43]\n",
      "Detected bird with confidence 0.989 at location [181.28, 1470.79, 2051.82, 3420.47]\n",
      "Detected bird with confidence 0.957 at location [830.74, 655.8, 1540.29, 1673.77]\n",
      "Detected bird with confidence 0.969 at location [270.81, 769.38, 1148.9, 1820.32]\n",
      "Detected bird with confidence 0.94 at location [1959.91, 82.01, 2317.38, 588.41]\n",
      "Detected bird with confidence 0.978 at location [1267.15, 178.49, 1912.88, 1258.31]\n",
      "Detected bird with confidence 0.961 at location [2427.65, 0.17, 2856.39, 632.18]\n",
      "Detected bird with confidence 0.968 at location [3855.23, 29.78, 4385.45, 869.62]\n"
     ]
    },
    {
     "name": "stderr",
     "output_type": "stream",
     "text": [
      "Updating tags:  76%|███████▌  | 3391/4491 [33:20<1:09:06,  3.77s/it]"
     ]
    },
    {
     "name": "stdout",
     "output_type": "stream",
     "text": [
      "Detected person with confidence 0.99 at location [1290.18, 1751.56, 2376.13, 3382.92]\n",
      "Detected person with confidence 0.963 at location [510.95, 1967.64, 1293.3, 3399.8]\n"
     ]
    },
    {
     "name": "stderr",
     "output_type": "stream",
     "text": [
      "Updating tags:  76%|███████▌  | 3394/4491 [33:32<1:11:45,  3.93s/it]"
     ]
    },
    {
     "name": "stdout",
     "output_type": "stream",
     "text": [
      "Detected person with confidence 0.987 at location [541.28, 1809.55, 577.04, 1925.3]\n",
      "Detected person with confidence 0.983 at location [487.48, 1813.68, 522.98, 1921.12]\n"
     ]
    },
    {
     "name": "stderr",
     "output_type": "stream",
     "text": [
      "Updating tags:  76%|███████▌  | 3398/4491 [33:48<1:12:48,  4.00s/it]"
     ]
    },
    {
     "name": "stdout",
     "output_type": "stream",
     "text": [
      "Detected dog with confidence 1.0 at location [775.32, 1835.26, 2371.49, 4104.48]\n"
     ]
    },
    {
     "name": "stderr",
     "output_type": "stream",
     "text": [
      "Updating tags:  76%|███████▌  | 3400/4491 [34:01<1:30:18,  4.97s/it]"
     ]
    },
    {
     "name": "stdout",
     "output_type": "stream",
     "text": [
      "Detected person with confidence 0.995 at location [3793.79, 1963.55, 3983.87, 2586.17]\n",
      "Detected dog with confidence 0.943 at location [3325.97, 2268.77, 3537.72, 2567.78]\n",
      "Detected person with confidence 0.999 at location [3559.16, 1955.85, 3793.83, 2580.02]\n",
      "Detected person with confidence 0.992 at location [3966.14, 1961.03, 4139.7, 2590.27]\n"
     ]
    },
    {
     "name": "stderr",
     "output_type": "stream",
     "text": [
      "Updating tags:  76%|███████▌  | 3401/4491 [34:05<1:26:46,  4.78s/it]"
     ]
    },
    {
     "name": "stdout",
     "output_type": "stream",
     "text": [
      "Detected chair with confidence 0.999 at location [1631.39, 2138.04, 2018.61, 2548.52]\n",
      "Detected person with confidence 0.96 at location [139.57, 1873.77, 179.64, 1908.72]\n"
     ]
    },
    {
     "name": "stderr",
     "output_type": "stream",
     "text": [
      "Updating tags:  76%|███████▌  | 3402/4491 [34:08<1:18:39,  4.33s/it]"
     ]
    },
    {
     "name": "stdout",
     "output_type": "stream",
     "text": [
      "Detected potted plant with confidence 0.969 at location [3226.31, 928.06, 3945.7, 1626.73]\n",
      "Detected potted plant with confidence 0.9 at location [4192.89, 2244.38, 5003.75, 2916.19]\n",
      "Detected potted plant with confidence 0.942 at location [638.19, 438.2, 1355.2, 1103.78]\n",
      "Detected potted plant with confidence 0.913 at location [269.3, 165.25, 735.17, 587.78]\n",
      "Detected potted plant with confidence 0.973 at location [3599.12, 1569.84, 4449.69, 2361.77]\n",
      "Detected potted plant with confidence 0.922 at location [4379.25, 418.97, 5934.48, 1624.93]\n",
      "Detected potted plant with confidence 0.924 at location [5368.08, 285.37, 5936.2, 773.78]\n",
      "Detected potted plant with confidence 0.938 at location [4258.02, 2.26, 4641.82, 361.72]\n",
      "Detected potted plant with confidence 0.912 at location [3045.33, 709.71, 3600.32, 1132.62]\n",
      "Detected potted plant with confidence 0.963 at location [2263.2, 684.2, 2860.11, 1195.16]\n",
      "Detected potted plant with confidence 0.966 at location [3916.99, 986.97, 4392.36, 1466.41]\n",
      "Detected potted plant with confidence 0.924 at location [2721.05, 1.18, 3166.48, 367.03]\n",
      "Detected potted plant with confidence 0.981 at location [1465.07, 738.71, 2068.87, 1215.26]\n"
     ]
    },
    {
     "name": "stderr",
     "output_type": "stream",
     "text": [
      "Updating tags:  76%|███████▌  | 3405/4491 [34:20<1:12:42,  4.02s/it]"
     ]
    },
    {
     "name": "stdout",
     "output_type": "stream",
     "text": [
      "Detected person with confidence 0.995 at location [843.9, 1707.16, 915.09, 1884.95]\n"
     ]
    },
    {
     "name": "stderr",
     "output_type": "stream",
     "text": [
      "Updating tags:  76%|███████▌  | 3410/4491 [34:38<1:03:53,  3.55s/it]"
     ]
    },
    {
     "name": "stdout",
     "output_type": "stream",
     "text": [
      "Detected dog with confidence 0.997 at location [2239.84, 1342.36, 3027.85, 2420.83]\n"
     ]
    },
    {
     "name": "stderr",
     "output_type": "stream",
     "text": [
      "Updating tags:  76%|███████▌  | 3414/4491 [34:55<1:12:56,  4.06s/it]"
     ]
    },
    {
     "name": "stdout",
     "output_type": "stream",
     "text": [
      "Detected bed with confidence 0.942 at location [0.2, 2785.91, 3998.49, 5912.58]\n"
     ]
    },
    {
     "name": "stderr",
     "output_type": "stream",
     "text": [
      "Updating tags:  76%|███████▌  | 3416/4491 [35:04<1:17:37,  4.33s/it]"
     ]
    },
    {
     "name": "stdout",
     "output_type": "stream",
     "text": [
      "Detected donut with confidence 0.999 at location [483.26, 1315.11, 3384.32, 2987.98]\n"
     ]
    },
    {
     "name": "stderr",
     "output_type": "stream",
     "text": [
      "Updating tags:  76%|███████▌  | 3420/4491 [35:21<1:17:31,  4.34s/it]"
     ]
    },
    {
     "name": "stdout",
     "output_type": "stream",
     "text": [
      "Detected person with confidence 0.999 at location [1803.11, 815.7, 2208.55, 2109.55]\n",
      "Detected backpack with confidence 0.998 at location [1348.51, 1012.61, 1698.79, 1473.28]\n",
      "Detected person with confidence 0.999 at location [1396.69, 863.0, 1867.06, 2179.67]\n",
      "Detected backpack with confidence 0.998 at location [1955.83, 1097.51, 2275.93, 1448.53]\n"
     ]
    },
    {
     "name": "stderr",
     "output_type": "stream",
     "text": [
      "Updating tags:  76%|███████▌  | 3422/4491 [35:27<1:07:36,  3.79s/it]"
     ]
    },
    {
     "name": "stdout",
     "output_type": "stream",
     "text": [
      "Detected sheep with confidence 0.968 at location [2517.19, 1250.39, 4536.35, 2600.92]\n",
      "Detected sheep with confidence 0.99 at location [1373.96, 665.92, 2977.85, 1499.08]\n",
      "Detected sheep with confidence 0.903 at location [382.46, 595.55, 1707.45, 1140.55]\n",
      "Detected sheep with confidence 0.901 at location [2669.39, 1139.06, 4018.8, 1726.18]\n",
      "Detected sheep with confidence 0.99 at location [1.16, 2561.75, 1673.19, 3706.87]\n",
      "Detected sheep with confidence 0.995 at location [1538.07, 1739.69, 3678.66, 2713.16]\n",
      "Detected sheep with confidence 0.935 at location [1.73, 1053.83, 868.6, 1761.67]\n",
      "Detected sheep with confidence 0.941 at location [2694.93, 721.63, 3952.72, 1295.66]\n",
      "Detected sheep with confidence 0.954 at location [3908.91, 1304.5, 5035.79, 2743.34]\n",
      "Detected sheep with confidence 0.909 at location [3.68, 1300.78, 1507.57, 2555.28]\n"
     ]
    },
    {
     "name": "stderr",
     "output_type": "stream",
     "text": [
      "Updating tags:  76%|███████▌  | 3423/4491 [35:31<1:06:06,  3.71s/it]"
     ]
    },
    {
     "name": "stdout",
     "output_type": "stream",
     "text": [
      "Detected dog with confidence 1.0 at location [8.54, 1458.26, 2487.25, 5933.26]\n"
     ]
    },
    {
     "name": "stderr",
     "output_type": "stream",
     "text": [
      "Updating tags:  76%|███████▋  | 3426/4491 [35:42<1:04:51,  3.65s/it]"
     ]
    },
    {
     "name": "stdout",
     "output_type": "stream",
     "text": [
      "Detected bear with confidence 0.998 at location [1392.38, 326.74, 2996.32, 1741.92]\n",
      "Detected bear with confidence 0.998 at location [3.77, 297.32, 1488.28, 1776.99]\n"
     ]
    },
    {
     "name": "stderr",
     "output_type": "stream",
     "text": [
      "Updating tags:  76%|███████▋  | 3428/4491 [35:50<1:08:14,  3.85s/it]"
     ]
    },
    {
     "name": "stdout",
     "output_type": "stream",
     "text": [
      "Detected frisbee with confidence 0.924 at location [902.01, 674.78, 1745.19, 1690.92]\n"
     ]
    },
    {
     "name": "stderr",
     "output_type": "stream",
     "text": [
      "Updating tags:  76%|███████▋  | 3430/4491 [35:57<1:01:55,  3.50s/it]"
     ]
    },
    {
     "name": "stdout",
     "output_type": "stream",
     "text": [
      "Detected person with confidence 0.999 at location [1296.04, 393.77, 1436.67, 628.51]\n",
      "Detected car with confidence 0.981 at location [1074.72, 436.93, 1261.74, 593.15]\n",
      "Detected car with confidence 0.998 at location [322.14, 429.54, 550.49, 571.33]\n",
      "Detected person with confidence 0.984 at location [621.14, 414.86, 700.15, 615.97]\n",
      "Detected person with confidence 0.994 at location [198.34, 424.85, 244.99, 519.47]\n",
      "Detected person with confidence 0.979 at location [1639.09, 380.24, 1726.94, 606.03]\n",
      "Detected person with confidence 0.991 at location [1425.4, 415.31, 1510.33, 613.7]\n",
      "Detected car with confidence 0.993 at location [798.72, 441.02, 987.0, 595.13]\n",
      "Detected person with confidence 0.999 at location [923.47, 370.88, 1080.35, 638.82]\n",
      "Detected person with confidence 0.98 at location [1972.74, 385.14, 2047.86, 598.23]\n",
      "Detected person with confidence 0.998 at location [522.15, 386.27, 620.76, 612.32]\n",
      "Detected person with confidence 0.997 at location [76.39, 406.39, 223.23, 625.96]\n",
      "Detected person with confidence 0.978 at location [1514.09, 385.63, 1614.35, 627.59]\n",
      "Detected handbag with confidence 0.958 at location [1671.71, 453.82, 1728.89, 508.81]\n"
     ]
    },
    {
     "name": "stderr",
     "output_type": "stream",
     "text": [
      "Updating tags:  76%|███████▋  | 3432/4491 [36:03<58:50,  3.33s/it]  "
     ]
    },
    {
     "name": "stdout",
     "output_type": "stream",
     "text": [
      "Detected airplane with confidence 0.997 at location [1742.14, 2555.59, 3657.53, 4398.9]\n"
     ]
    },
    {
     "name": "stderr",
     "output_type": "stream",
     "text": [
      "Updating tags:  77%|███████▋  | 3436/4491 [36:17<1:01:13,  3.48s/it]"
     ]
    },
    {
     "name": "stdout",
     "output_type": "stream",
     "text": [
      "Detected traffic light with confidence 0.975 at location [1702.09, 2674.15, 1843.72, 2791.85]\n",
      "Detected traffic light with confidence 0.919 at location [1685.32, 2673.6, 1780.78, 2775.93]\n"
     ]
    },
    {
     "name": "stderr",
     "output_type": "stream",
     "text": [
      "Updating tags:  77%|███████▋  | 3438/4491 [36:25<1:05:45,  3.75s/it]"
     ]
    },
    {
     "name": "stdout",
     "output_type": "stream",
     "text": [
      "Detected orange with confidence 0.997 at location [1276.47, 575.5, 2118.47, 1442.85]\n"
     ]
    },
    {
     "name": "stderr",
     "output_type": "stream",
     "text": [
      "Updating tags:  77%|███████▋  | 3439/4491 [36:31<1:14:32,  4.25s/it]"
     ]
    },
    {
     "name": "stdout",
     "output_type": "stream",
     "text": [
      "Detected clock with confidence 0.986 at location [-0.57, 425.08, 2998.86, 3941.13]\n"
     ]
    },
    {
     "name": "stderr",
     "output_type": "stream",
     "text": [
      "Updating tags:  77%|███████▋  | 3441/4491 [36:38<1:09:27,  3.97s/it]"
     ]
    },
    {
     "name": "stdout",
     "output_type": "stream",
     "text": [
      "Detected surfboard with confidence 0.945 at location [563.21, 660.32, 627.0, 698.7]\n",
      "Detected person with confidence 0.998 at location [501.35, 557.41, 618.07, 683.81]\n"
     ]
    },
    {
     "name": "stderr",
     "output_type": "stream",
     "text": [
      "Updating tags:  77%|███████▋  | 3442/4491 [36:41<1:06:45,  3.82s/it]"
     ]
    },
    {
     "name": "stdout",
     "output_type": "stream",
     "text": [
      "Detected vase with confidence 0.989 at location [368.85, 492.33, 1885.19, 2385.06]\n"
     ]
    },
    {
     "name": "stderr",
     "output_type": "stream",
     "text": [
      "Updating tags:  77%|███████▋  | 3444/4491 [36:49<1:06:11,  3.79s/it]"
     ]
    },
    {
     "name": "stdout",
     "output_type": "stream",
     "text": [
      "Detected bird with confidence 0.999 at location [1601.73, 3144.19, 2307.99, 3872.2]\n"
     ]
    },
    {
     "name": "stderr",
     "output_type": "stream",
     "text": [
      "Updating tags:  77%|███████▋  | 3445/4491 [36:53<1:07:30,  3.87s/it]"
     ]
    },
    {
     "name": "stdout",
     "output_type": "stream",
     "text": [
      "Detected backpack with confidence 0.952 at location [4099.56, 2141.75, 4185.4, 2302.74]\n",
      "Detected person with confidence 0.999 at location [4077.53, 2017.15, 4353.67, 2613.49]\n"
     ]
    },
    {
     "name": "stderr",
     "output_type": "stream",
     "text": [
      "Updating tags:  77%|███████▋  | 3447/4491 [37:03<1:14:23,  4.28s/it]"
     ]
    },
    {
     "name": "stdout",
     "output_type": "stream",
     "text": [
      "Detected bird with confidence 0.995 at location [3708.98, 259.84, 3792.2, 340.92]\n"
     ]
    },
    {
     "name": "stderr",
     "output_type": "stream",
     "text": [
      "Updating tags:  77%|███████▋  | 3450/4491 [37:22<1:43:38,  5.97s/it]"
     ]
    },
    {
     "name": "stdout",
     "output_type": "stream",
     "text": [
      "Detected person with confidence 0.998 at location [21.52, 3830.13, 2467.16, 5971.17]\n"
     ]
    },
    {
     "name": "stderr",
     "output_type": "stream",
     "text": [
      "Updating tags:  77%|███████▋  | 3451/4491 [37:37<2:29:26,  8.62s/it]"
     ]
    },
    {
     "name": "stdout",
     "output_type": "stream",
     "text": [
      "Detected person with confidence 0.999 at location [456.58, 135.51, 1608.56, 1514.84]\n"
     ]
    },
    {
     "name": "stderr",
     "output_type": "stream",
     "text": [
      "Updating tags:  77%|███████▋  | 3455/4491 [38:08<2:17:30,  7.96s/it]"
     ]
    },
    {
     "name": "stdout",
     "output_type": "stream",
     "text": [
      "Detected boat with confidence 0.998 at location [1131.74, 912.0, 1338.61, 958.34]\n"
     ]
    },
    {
     "name": "stderr",
     "output_type": "stream",
     "text": [
      "Updating tags:  77%|███████▋  | 3456/4491 [38:18<2:27:25,  8.55s/it]"
     ]
    },
    {
     "name": "stdout",
     "output_type": "stream",
     "text": [
      "Detected dog with confidence 1.0 at location [198.73, 913.26, 1833.72, 3508.11]\n"
     ]
    },
    {
     "name": "stderr",
     "output_type": "stream",
     "text": [
      "Updating tags:  77%|███████▋  | 3457/4491 [38:32<2:55:54, 10.21s/it]"
     ]
    },
    {
     "name": "stdout",
     "output_type": "stream",
     "text": [
      "Detected bed with confidence 0.971 at location [-0.67, 5.54, 2056.13, 2721.28]\n"
     ]
    },
    {
     "name": "stderr",
     "output_type": "stream",
     "text": [
      "Updating tags:  77%|███████▋  | 3462/4491 [38:52<1:24:59,  4.96s/it]"
     ]
    },
    {
     "name": "stdout",
     "output_type": "stream",
     "text": [
      "Detected person with confidence 0.968 at location [2872.09, 1811.67, 2938.97, 1970.18]\n"
     ]
    },
    {
     "name": "stderr",
     "output_type": "stream",
     "text": [
      "Updating tags:  77%|███████▋  | 3464/4491 [39:00<1:13:39,  4.30s/it]"
     ]
    },
    {
     "name": "stdout",
     "output_type": "stream",
     "text": [
      "Detected umbrella with confidence 0.994 at location [-1.88, 2.7, 7132.67, 4599.24]\n",
      "Detected person with confidence 0.998 at location [2544.5, 3074.53, 4875.87, 4700.68]\n"
     ]
    },
    {
     "name": "stderr",
     "output_type": "stream",
     "text": [
      "Updating tags:  77%|███████▋  | 3469/4491 [39:19<1:05:05,  3.82s/it]"
     ]
    },
    {
     "name": "stdout",
     "output_type": "stream",
     "text": [
      "Detected person with confidence 0.999 at location [3675.55, 1482.45, 4023.48, 2736.11]\n",
      "Detected backpack with confidence 0.997 at location [3763.99, 1620.74, 4060.88, 2071.08]\n"
     ]
    },
    {
     "name": "stderr",
     "output_type": "stream",
     "text": [
      "Updating tags:  77%|███████▋  | 3472/4491 [39:32<1:10:22,  4.14s/it]"
     ]
    },
    {
     "name": "stdout",
     "output_type": "stream",
     "text": [
      "Detected truck with confidence 0.904 at location [1802.41, 1991.41, 1955.97, 2143.18]\n"
     ]
    },
    {
     "name": "stderr",
     "output_type": "stream",
     "text": [
      "Updating tags:  77%|███████▋  | 3474/4491 [39:41<1:12:33,  4.28s/it]"
     ]
    },
    {
     "name": "stdout",
     "output_type": "stream",
     "text": [
      "Detected toilet with confidence 0.957 at location [725.61, 1377.82, 1692.61, 1969.23]\n"
     ]
    },
    {
     "name": "stderr",
     "output_type": "stream",
     "text": [
      "Updating tags:  77%|███████▋  | 3476/4491 [39:48<1:06:10,  3.91s/it]"
     ]
    },
    {
     "name": "stdout",
     "output_type": "stream",
     "text": [
      "Detected bird with confidence 0.998 at location [2332.9, 491.41, 2851.94, 2369.2]\n",
      "Detected bird with confidence 0.999 at location [1318.96, 1021.35, 2175.62, 2176.94]\n",
      "Detected bird with confidence 0.994 at location [1812.62, 499.3, 2403.95, 1626.27]\n"
     ]
    },
    {
     "name": "stderr",
     "output_type": "stream",
     "text": [
      "Updating tags:  77%|███████▋  | 3477/4491 [39:52<1:06:43,  3.95s/it]"
     ]
    },
    {
     "name": "stdout",
     "output_type": "stream",
     "text": [
      "Detected elephant with confidence 1.0 at location [1018.41, 267.05, 6325.73, 4506.13]\n"
     ]
    },
    {
     "name": "stderr",
     "output_type": "stream",
     "text": [
      "Updating tags:  77%|███████▋  | 3479/4491 [40:00<1:06:33,  3.95s/it]"
     ]
    },
    {
     "name": "stdout",
     "output_type": "stream",
     "text": [
      "Detected potted plant with confidence 0.991 at location [669.54, 1310.92, 1161.21, 1898.71]\n",
      "Detected potted plant with confidence 0.996 at location [2856.88, 1835.38, 3495.34, 2356.44]\n",
      "Detected potted plant with confidence 0.992 at location [1184.43, 1174.13, 1719.76, 1799.82]\n",
      "Detected potted plant with confidence 0.992 at location [1.52, 836.68, 624.79, 1454.2]\n",
      "Detected potted plant with confidence 0.992 at location [2279.5, 1535.35, 2713.59, 1985.87]\n",
      "Detected potted plant with confidence 0.995 at location [1038.42, 1874.82, 1404.6, 2323.69]\n",
      "Detected potted plant with confidence 0.982 at location [2292.21, 1079.09, 2577.48, 1415.81]\n",
      "Detected potted plant with confidence 0.995 at location [1798.74, 1490.51, 2089.71, 1980.58]\n",
      "Detected potted plant with confidence 0.994 at location [3204.17, 743.78, 3654.34, 1332.59]\n",
      "Detected potted plant with confidence 0.983 at location [2052.35, 2001.0, 2343.92, 2383.19]\n",
      "Detected potted plant with confidence 0.992 at location [3678.01, 1835.9, 4028.7, 2220.59]\n",
      "Detected potted plant with confidence 0.995 at location [146.43, 1713.24, 712.51, 2314.11]\n",
      "Detected potted plant with confidence 0.996 at location [2735.76, 1405.69, 3078.02, 1830.53]\n"
     ]
    },
    {
     "name": "stderr",
     "output_type": "stream",
     "text": [
      "Updating tags:  78%|███████▊  | 3481/4491 [40:08<1:03:57,  3.80s/it]"
     ]
    },
    {
     "name": "stdout",
     "output_type": "stream",
     "text": [
      "Detected bird with confidence 0.935 at location [1199.79, 2354.64, 1309.79, 2523.01]\n",
      "Detected bird with confidence 0.916 at location [1354.2, 3175.66, 1471.83, 3303.16]\n",
      "Detected bird with confidence 0.93 at location [1935.42, 2800.96, 2065.48, 2926.09]\n",
      "Detected bird with confidence 0.905 at location [1895.73, 2511.18, 1984.14, 2621.51]\n",
      "Detected bird with confidence 0.91 at location [1347.77, 2477.0, 1437.6, 2608.09]\n",
      "Detected bird with confidence 0.929 at location [2171.79, 2731.5, 2269.91, 2829.88]\n",
      "Detected bird with confidence 0.902 at location [2199.24, 1966.07, 2340.88, 2091.89]\n",
      "Detected bird with confidence 0.946 at location [1473.67, 2483.12, 1591.77, 2634.18]\n",
      "Detected bird with confidence 0.912 at location [1836.55, 3069.24, 1930.22, 3161.27]\n",
      "Detected bird with confidence 0.929 at location [2544.86, 2098.52, 2650.37, 2203.53]\n",
      "Detected bird with confidence 0.906 at location [1775.73, 2535.92, 1859.64, 2640.89]\n"
     ]
    },
    {
     "name": "stderr",
     "output_type": "stream",
     "text": [
      "Updating tags:  78%|███████▊  | 3483/4491 [40:14<57:07,  3.40s/it]  "
     ]
    },
    {
     "name": "stdout",
     "output_type": "stream",
     "text": [
      "Detected sheep with confidence 0.999 at location [1323.62, 808.45, 1752.65, 1137.36]\n"
     ]
    },
    {
     "name": "stderr",
     "output_type": "stream",
     "text": [
      "Updating tags:  78%|███████▊  | 3488/4491 [40:37<1:19:03,  4.73s/it]"
     ]
    },
    {
     "name": "stdout",
     "output_type": "stream",
     "text": [
      "Detected person with confidence 0.998 at location [3399.35, 2061.58, 3711.66, 2898.75]\n",
      "Detected dog with confidence 0.998 at location [2817.69, 2703.78, 3081.96, 2900.53]\n",
      "Detected person with confidence 0.999 at location [2042.25, 1944.72, 2548.87, 3382.64]\n"
     ]
    },
    {
     "name": "stderr",
     "output_type": "stream",
     "text": [
      "Updating tags:  78%|███████▊  | 3489/4491 [40:41<1:15:41,  4.53s/it]"
     ]
    },
    {
     "name": "stdout",
     "output_type": "stream",
     "text": [
      "Detected person with confidence 0.905 at location [4103.17, 2605.85, 4139.66, 2694.11]\n"
     ]
    },
    {
     "name": "stderr",
     "output_type": "stream",
     "text": [
      "Updating tags:  78%|███████▊  | 3492/4491 [40:54<1:12:02,  4.33s/it]"
     ]
    },
    {
     "name": "stdout",
     "output_type": "stream",
     "text": [
      "Detected person with confidence 0.933 at location [2.26, 605.83, 1289.07, 2020.64]\n"
     ]
    },
    {
     "name": "stderr",
     "output_type": "stream",
     "text": [
      "Updating tags:  78%|███████▊  | 3493/4491 [41:01<1:24:49,  5.10s/it]"
     ]
    },
    {
     "name": "stdout",
     "output_type": "stream",
     "text": [
      "Detected dog with confidence 0.999 at location [1709.33, 429.52, 2417.96, 1533.27]\n"
     ]
    },
    {
     "name": "stderr",
     "output_type": "stream",
     "text": [
      "Updating tags:  78%|███████▊  | 3498/4491 [41:26<1:10:52,  4.28s/it]"
     ]
    },
    {
     "name": "stdout",
     "output_type": "stream",
     "text": [
      "Detected potted plant with confidence 0.944 at location [48.24, 1417.24, 2327.71, 3126.1]\n"
     ]
    },
    {
     "name": "stderr",
     "output_type": "stream",
     "text": [
      "Updating tags:  78%|███████▊  | 3499/4491 [41:30<1:10:55,  4.29s/it]"
     ]
    },
    {
     "name": "stdout",
     "output_type": "stream",
     "text": [
      "Detected dog with confidence 1.0 at location [179.65, 743.52, 2797.56, 4430.79]\n"
     ]
    },
    {
     "name": "stderr",
     "output_type": "stream",
     "text": [
      "Updating tags:  78%|███████▊  | 3501/4491 [41:38<1:08:19,  4.14s/it]"
     ]
    },
    {
     "name": "stdout",
     "output_type": "stream",
     "text": [
      "Detected bench with confidence 0.983 at location [3566.49, 4688.17, 4022.45, 5138.8]\n",
      "Detected bench with confidence 0.964 at location [2000.99, 4594.37, 3243.34, 5039.63]\n"
     ]
    },
    {
     "name": "stderr",
     "output_type": "stream",
     "text": [
      "Updating tags:  78%|███████▊  | 3502/4491 [41:42<1:06:25,  4.03s/it]"
     ]
    },
    {
     "name": "stdout",
     "output_type": "stream",
     "text": [
      "Detected dog with confidence 0.996 at location [2100.6, 207.99, 6164.6, 4935.12]\n"
     ]
    },
    {
     "name": "stderr",
     "output_type": "stream",
     "text": [
      "Updating tags:  78%|███████▊  | 3508/4491 [42:05<59:17,  3.62s/it]  "
     ]
    },
    {
     "name": "stdout",
     "output_type": "stream",
     "text": [
      "Detected dog with confidence 0.999 at location [691.92, 1642.43, 1739.93, 2813.51]\n"
     ]
    },
    {
     "name": "stderr",
     "output_type": "stream",
     "text": [
      "Updating tags:  78%|███████▊  | 3512/4491 [42:24<1:21:36,  5.00s/it]"
     ]
    },
    {
     "name": "stdout",
     "output_type": "stream",
     "text": [
      "Detected giraffe with confidence 0.999 at location [1640.8, 1536.06, 2219.3, 2871.02]\n",
      "Detected giraffe with confidence 1.0 at location [1657.14, 205.38, 3880.47, 2917.97]\n"
     ]
    },
    {
     "name": "stderr",
     "output_type": "stream",
     "text": [
      "Updating tags:  78%|███████▊  | 3520/4491 [43:48<3:31:59, 13.10s/it]"
     ]
    },
    {
     "name": "stdout",
     "output_type": "stream",
     "text": [
      "Detected traffic light with confidence 0.947 at location [2472.83, 1966.72, 3048.77, 2354.7]\n",
      "Detected traffic light with confidence 0.956 at location [1442.94, 1963.83, 2004.99, 2339.49]\n"
     ]
    },
    {
     "name": "stderr",
     "output_type": "stream",
     "text": [
      "Updating tags:  78%|███████▊  | 3522/4491 [44:05<2:48:45, 10.45s/it]"
     ]
    },
    {
     "name": "stdout",
     "output_type": "stream",
     "text": [
      "Detected bird with confidence 0.965 at location [2865.26, 1073.47, 2910.04, 1108.23]\n",
      "Detected bird with confidence 0.911 at location [3463.23, 1069.31, 3503.13, 1106.78]\n",
      "Detected bird with confidence 0.968 at location [3165.41, 1071.24, 3226.81, 1112.39]\n",
      "Detected bird with confidence 0.921 at location [3264.74, 1017.6, 3318.57, 1070.24]\n",
      "Detected bird with confidence 0.975 at location [3212.01, 932.98, 3272.74, 975.31]\n",
      "Detected bird with confidence 0.97 at location [2919.73, 966.19, 2971.37, 1016.66]\n",
      "Detected bird with confidence 0.972 at location [2986.79, 1097.37, 3036.76, 1149.75]\n",
      "Detected bird with confidence 0.974 at location [3072.46, 960.72, 3126.07, 1007.89]\n",
      "Detected bird with confidence 0.973 at location [3442.79, 884.34, 3478.17, 920.25]\n",
      "Detected bird with confidence 0.984 at location [2817.22, 965.68, 2869.7, 1005.45]\n",
      "Detected bird with confidence 0.976 at location [3547.83, 925.82, 3611.71, 975.25]\n",
      "Detected bird with confidence 0.956 at location [3425.66, 982.51, 3503.26, 1038.6]\n"
     ]
    },
    {
     "name": "stderr",
     "output_type": "stream",
     "text": [
      "Updating tags:  78%|███████▊  | 3525/4491 [44:21<1:54:54,  7.14s/it]"
     ]
    },
    {
     "name": "stdout",
     "output_type": "stream",
     "text": [
      "Detected vase with confidence 0.998 at location [332.36, 3213.07, 1846.89, 4557.84]\n"
     ]
    },
    {
     "name": "stderr",
     "output_type": "stream",
     "text": [
      "Updating tags:  79%|███████▊  | 3529/4491 [44:46<1:46:21,  6.63s/it]"
     ]
    },
    {
     "name": "stdout",
     "output_type": "stream",
     "text": [
      "Detected person with confidence 1.0 at location [1074.86, 1373.85, 1462.0, 1989.52]\n",
      "Detected person with confidence 0.99 at location [2068.07, 1446.33, 2221.66, 1608.58]\n",
      "Detected traffic light with confidence 0.999 at location [1409.16, 541.64, 1605.91, 1034.78]\n",
      "Detected person with confidence 0.996 at location [458.78, 1423.57, 653.48, 1771.53]\n",
      "Detected person with confidence 0.901 at location [2327.9, 1461.59, 2400.1, 1604.06]\n"
     ]
    },
    {
     "name": "stderr",
     "output_type": "stream",
     "text": [
      "Updating tags:  79%|███████▊  | 3536/4491 [45:38<2:08:49,  8.09s/it]"
     ]
    },
    {
     "name": "stdout",
     "output_type": "stream",
     "text": [
      "Detected frisbee with confidence 0.943 at location [1607.13, 1696.15, 1718.41, 1822.79]\n"
     ]
    },
    {
     "name": "stderr",
     "output_type": "stream",
     "text": [
      "Updating tags:  79%|███████▉  | 3538/4491 [45:46<1:35:08,  5.99s/it]"
     ]
    },
    {
     "name": "stdout",
     "output_type": "stream",
     "text": [
      "Detected dog with confidence 0.998 at location [565.91, 579.64, 2490.17, 3680.89]\n"
     ]
    },
    {
     "name": "stderr",
     "output_type": "stream",
     "text": [
      "Updating tags:  79%|███████▉  | 3542/4491 [46:09<1:29:08,  5.64s/it]"
     ]
    },
    {
     "name": "stdout",
     "output_type": "stream",
     "text": [
      "Detected boat with confidence 0.912 at location [5092.84, 2120.62, 5567.93, 2252.88]\n",
      "Detected person with confidence 0.984 at location [240.63, 4.67, 1653.99, 2275.27]\n",
      "Detected horse with confidence 0.918 at location [11.57, 572.9, 3322.54, 2275.35]\n",
      "Detected person with confidence 0.997 at location [3.28, 70.55, 680.39, 1302.34]\n"
     ]
    },
    {
     "name": "stderr",
     "output_type": "stream",
     "text": [
      "Updating tags:  79%|███████▉  | 3543/4491 [46:12<1:20:27,  5.09s/it]"
     ]
    },
    {
     "name": "stdout",
     "output_type": "stream",
     "text": [
      "Detected horse with confidence 0.947 at location [152.04, 2096.25, 4204.22, 3702.33]\n"
     ]
    },
    {
     "name": "stderr",
     "output_type": "stream",
     "text": [
      "Updating tags:  79%|███████▉  | 3546/4491 [46:24<1:05:55,  4.19s/it]"
     ]
    },
    {
     "name": "stdout",
     "output_type": "stream",
     "text": [
      "Detected horse with confidence 0.989 at location [660.51, 451.75, 2410.41, 3910.27]\n"
     ]
    },
    {
     "name": "stderr",
     "output_type": "stream",
     "text": [
      "Updating tags:  79%|███████▉  | 3549/4491 [46:35<1:01:42,  3.93s/it]"
     ]
    },
    {
     "name": "stdout",
     "output_type": "stream",
     "text": [
      "Detected person with confidence 0.998 at location [571.9, 2150.96, 718.3, 2374.82]\n",
      "Detected surfboard with confidence 0.998 at location [695.19, 2508.46, 814.92, 2832.35]\n"
     ]
    },
    {
     "name": "stderr",
     "output_type": "stream",
     "text": [
      "Updating tags:  79%|███████▉  | 3550/4491 [46:39<1:01:39,  3.93s/it]"
     ]
    },
    {
     "name": "stdout",
     "output_type": "stream",
     "text": [
      "Detected car with confidence 0.93 at location [5302.28, 2635.61, 5820.78, 3589.37]\n",
      "Detected car with confidence 0.993 at location [5792.8, 2389.15, 7332.64, 4050.0]\n",
      "Detected car with confidence 0.937 at location [5314.58, 2906.72, 5692.66, 3558.85]\n"
     ]
    },
    {
     "name": "stderr",
     "output_type": "stream",
     "text": [
      "Updating tags:  79%|███████▉  | 3551/4491 [46:43<1:01:13,  3.91s/it]"
     ]
    },
    {
     "name": "stdout",
     "output_type": "stream",
     "text": [
      "Detected vase with confidence 0.995 at location [443.76, 2561.07, 2439.31, 4573.96]\n",
      "Detected potted plant with confidence 0.981 at location [424.4, 813.29, 2548.95, 4575.46]\n"
     ]
    },
    {
     "name": "stderr",
     "output_type": "stream",
     "text": [
      "Updating tags:  79%|███████▉  | 3552/4491 [46:47<1:00:23,  3.86s/it]"
     ]
    },
    {
     "name": "stdout",
     "output_type": "stream",
     "text": [
      "Detected dog with confidence 0.928 at location [-0.65, 6.16, 2956.05, 1942.9]\n"
     ]
    },
    {
     "name": "stderr",
     "output_type": "stream",
     "text": [
      "Updating tags:  79%|███████▉  | 3554/4491 [46:57<1:12:45,  4.66s/it]"
     ]
    },
    {
     "name": "stdout",
     "output_type": "stream",
     "text": [
      "Detected backpack with confidence 0.91 at location [2170.93, 2049.0, 3532.66, 3969.27]\n",
      "Detected person with confidence 1.0 at location [799.73, 1582.22, 5346.38, 3963.19]\n",
      "Detected backpack with confidence 0.91 at location [2198.09, 2050.94, 3446.62, 3196.14]\n"
     ]
    },
    {
     "name": "stderr",
     "output_type": "stream",
     "text": [
      "Updating tags:  79%|███████▉  | 3556/4491 [47:07<1:11:42,  4.60s/it]"
     ]
    },
    {
     "name": "stdout",
     "output_type": "stream",
     "text": [
      "Detected person with confidence 0.999 at location [1656.92, 4192.88, 1979.07, 5607.36]\n",
      "Detected backpack with confidence 0.992 at location [1801.7, 4381.53, 2103.15, 4870.15]\n"
     ]
    },
    {
     "name": "stderr",
     "output_type": "stream",
     "text": [
      "Updating tags:  79%|███████▉  | 3557/4491 [47:10<1:07:58,  4.37s/it]"
     ]
    },
    {
     "name": "stdout",
     "output_type": "stream",
     "text": [
      "Detected person with confidence 0.901 at location [1731.13, 4812.71, 1778.9, 4949.91]\n"
     ]
    },
    {
     "name": "stderr",
     "output_type": "stream",
     "text": [
      "Updating tags:  79%|███████▉  | 3559/4491 [47:19<1:09:30,  4.47s/it]"
     ]
    },
    {
     "name": "stdout",
     "output_type": "stream",
     "text": [
      "Detected bird with confidence 0.995 at location [2326.18, 659.41, 2830.87, 2247.08]\n",
      "Detected person with confidence 0.945 at location [3407.62, 1014.45, 3455.44, 1112.05]\n",
      "Detected person with confidence 0.982 at location [1518.69, 2051.97, 1597.84, 2198.03]\n",
      "Detected bird with confidence 0.992 at location [1640.83, 877.48, 2336.66, 2279.63]\n",
      "Detected person with confidence 0.993 at location [3457.24, 917.09, 3529.55, 1068.62]\n",
      "Detected bird with confidence 0.996 at location [2543.68, 647.13, 3200.09, 2204.39]\n",
      "Detected person with confidence 0.98 at location [3549.33, 924.8, 3588.84, 1026.23]\n"
     ]
    },
    {
     "name": "stderr",
     "output_type": "stream",
     "text": [
      "Updating tags:  79%|███████▉  | 3562/4491 [47:32<1:05:16,  4.22s/it]"
     ]
    },
    {
     "name": "stdout",
     "output_type": "stream",
     "text": [
      "Detected tie with confidence 0.98 at location [1428.48, 2205.2, 1692.82, 2702.36]\n"
     ]
    },
    {
     "name": "stderr",
     "output_type": "stream",
     "text": [
      "Updating tags:  79%|███████▉  | 3564/4491 [47:39<1:00:33,  3.92s/it]"
     ]
    },
    {
     "name": "stdout",
     "output_type": "stream",
     "text": [
      "Detected car with confidence 0.987 at location [846.19, 1270.51, 897.67, 1304.73]\n",
      "Detected car with confidence 0.909 at location [974.41, 1141.66, 1000.59, 1176.6]\n",
      "Detected car with confidence 0.95 at location [237.19, 1238.39, 282.46, 1270.39]\n"
     ]
    },
    {
     "name": "stderr",
     "output_type": "stream",
     "text": [
      "Updating tags:  79%|███████▉  | 3565/4491 [47:43<58:48,  3.81s/it]  "
     ]
    },
    {
     "name": "stdout",
     "output_type": "stream",
     "text": [
      "Detected giraffe with confidence 0.999 at location [1317.09, 523.03, 2459.88, 2662.83]\n"
     ]
    },
    {
     "name": "stderr",
     "output_type": "stream",
     "text": [
      "Updating tags:  80%|███████▉  | 3571/4491 [48:09<1:05:30,  4.27s/it]"
     ]
    },
    {
     "name": "stdout",
     "output_type": "stream",
     "text": [
      "Detected cat with confidence 0.997 at location [377.23, 110.73, 3301.33, 2791.69]\n"
     ]
    },
    {
     "name": "stderr",
     "output_type": "stream",
     "text": [
      "Updating tags:  80%|███████▉  | 3573/4491 [48:18<1:06:58,  4.38s/it]"
     ]
    },
    {
     "name": "stdout",
     "output_type": "stream",
     "text": [
      "Detected vase with confidence 0.998 at location [893.93, 3029.61, 1555.3, 3598.49]\n"
     ]
    },
    {
     "name": "stderr",
     "output_type": "stream",
     "text": [
      "Updating tags:  80%|███████▉  | 3574/4491 [48:21<1:04:15,  4.20s/it]"
     ]
    },
    {
     "name": "stdout",
     "output_type": "stream",
     "text": [
      "Detected baseball glove with confidence 0.976 at location [1106.55, 689.9, 1775.14, 1508.12]\n"
     ]
    },
    {
     "name": "stderr",
     "output_type": "stream",
     "text": [
      "Updating tags:  80%|███████▉  | 3575/4491 [48:25<1:01:57,  4.06s/it]"
     ]
    },
    {
     "name": "stdout",
     "output_type": "stream",
     "text": [
      "Detected skateboard with confidence 0.931 at location [1648.87, 4460.4, 1990.49, 4793.2]\n",
      "Detected person with confidence 1.0 at location [1345.44, 3092.89, 2137.66, 4857.41]\n"
     ]
    },
    {
     "name": "stderr",
     "output_type": "stream",
     "text": [
      "Updating tags:  80%|███████▉  | 3579/4491 [48:43<1:00:44,  4.00s/it]"
     ]
    },
    {
     "name": "stdout",
     "output_type": "stream",
     "text": [
      "Detected horse with confidence 0.996 at location [-0.5, 1892.29, 2156.61, 5946.27]\n"
     ]
    },
    {
     "name": "stderr",
     "output_type": "stream",
     "text": [
      "Updating tags:  80%|███████▉  | 3580/4491 [48:47<1:00:33,  3.99s/it]"
     ]
    },
    {
     "name": "stdout",
     "output_type": "stream",
     "text": [
      "Detected bird with confidence 1.0 at location [1493.09, 570.93, 3573.78, 1773.11]\n"
     ]
    },
    {
     "name": "stderr",
     "output_type": "stream",
     "text": [
      "Updating tags:  80%|███████▉  | 3585/4491 [49:07<59:41,  3.95s/it]  "
     ]
    },
    {
     "name": "stdout",
     "output_type": "stream",
     "text": [
      "Detected dog with confidence 0.999 at location [4.39, 973.22, 2379.51, 4387.84]\n"
     ]
    },
    {
     "name": "stderr",
     "output_type": "stream",
     "text": [
      "Updating tags:  80%|███████▉  | 3586/4491 [49:11<1:01:27,  4.07s/it]"
     ]
    },
    {
     "name": "stdout",
     "output_type": "stream",
     "text": [
      "Detected traffic light with confidence 0.924 at location [3149.13, 1066.72, 3287.11, 1228.47]\n",
      "Detected person with confidence 0.963 at location [509.58, 131.47, 3060.23, 3219.8]\n",
      "Detected car with confidence 0.987 at location [9.71, 1454.08, 286.51, 2181.92]\n"
     ]
    },
    {
     "name": "stderr",
     "output_type": "stream",
     "text": [
      "Updating tags:  80%|███████▉  | 3587/4491 [49:15<58:55,  3.91s/it]  "
     ]
    },
    {
     "name": "stdout",
     "output_type": "stream",
     "text": [
      "Detected person with confidence 1.0 at location [2150.24, -1.31, 2874.15, 1785.8]\n"
     ]
    },
    {
     "name": "stderr",
     "output_type": "stream",
     "text": [
      "Updating tags:  80%|███████▉  | 3589/4491 [49:23<1:00:16,  4.01s/it]"
     ]
    },
    {
     "name": "stdout",
     "output_type": "stream",
     "text": [
      "Detected person with confidence 0.92 at location [1432.16, 1296.2, 1450.72, 1328.24]\n",
      "Detected person with confidence 0.941 at location [1549.47, 1457.65, 1567.35, 1495.44]\n",
      "Detected person with confidence 0.909 at location [1155.78, 1313.44, 1174.63, 1344.04]\n",
      "Detected person with confidence 0.968 at location [1646.78, 1573.05, 1668.56, 1610.68]\n",
      "Detected person with confidence 0.932 at location [1764.79, 1585.94, 1785.12, 1626.06]\n"
     ]
    },
    {
     "name": "stderr",
     "output_type": "stream",
     "text": [
      "Updating tags:  80%|███████▉  | 3592/4491 [49:36<1:02:53,  4.20s/it]"
     ]
    },
    {
     "name": "stdout",
     "output_type": "stream",
     "text": [
      "Detected bird with confidence 0.998 at location [654.77, 368.68, 2237.14, 2594.16]\n"
     ]
    },
    {
     "name": "stderr",
     "output_type": "stream",
     "text": [
      "Updating tags:  80%|████████  | 3593/4491 [49:40<1:01:16,  4.09s/it]"
     ]
    },
    {
     "name": "stdout",
     "output_type": "stream",
     "text": [
      "Detected person with confidence 0.999 at location [901.89, 554.08, 1491.38, 1316.81]\n"
     ]
    },
    {
     "name": "stderr",
     "output_type": "stream",
     "text": [
      "Updating tags:  80%|████████  | 3598/4491 [50:01<1:00:18,  4.05s/it]"
     ]
    },
    {
     "name": "stdout",
     "output_type": "stream",
     "text": [
      "Detected boat with confidence 0.999 at location [1898.24, 1729.32, 2049.6, 1984.54]\n"
     ]
    },
    {
     "name": "stderr",
     "output_type": "stream",
     "text": [
      "Updating tags:  80%|████████  | 3599/4491 [50:07<1:06:01,  4.44s/it]"
     ]
    },
    {
     "name": "stdout",
     "output_type": "stream",
     "text": [
      "Detected person with confidence 0.998 at location [1671.16, 3007.85, 2464.52, 4381.55]\n"
     ]
    },
    {
     "name": "stderr",
     "output_type": "stream",
     "text": [
      "Updating tags:  80%|████████  | 3603/4491 [50:23<1:02:11,  4.20s/it]"
     ]
    },
    {
     "name": "stdout",
     "output_type": "stream",
     "text": [
      "Detected bird with confidence 0.998 at location [-0.38, 8.05, 2046.93, 3027.87]\n"
     ]
    },
    {
     "name": "stderr",
     "output_type": "stream",
     "text": [
      "Updating tags:  80%|████████  | 3609/4491 [50:52<1:11:04,  4.84s/it]"
     ]
    },
    {
     "name": "stdout",
     "output_type": "stream",
     "text": [
      "Detected person with confidence 0.999 at location [3629.61, 1565.65, 4038.6, 2063.03]\n",
      "Detected person with confidence 0.998 at location [1895.2, 1739.12, 2142.03, 1828.5]\n",
      "Detected surfboard with confidence 0.996 at location [3457.22, 1735.11, 4024.94, 1834.78]\n",
      "Detected surfboard with confidence 0.903 at location [1856.05, 1796.9, 2084.5, 1821.48]\n",
      "Detected boat with confidence 0.962 at location [1615.77, 1509.16, 1794.82, 1566.33]\n"
     ]
    },
    {
     "name": "stderr",
     "output_type": "stream",
     "text": [
      "Updating tags:  80%|████████  | 3612/4491 [51:06<1:07:52,  4.63s/it]"
     ]
    },
    {
     "name": "stdout",
     "output_type": "stream",
     "text": [
      "Detected person with confidence 1.0 at location [1285.61, 2009.95, 2301.93, 4079.21]\n",
      "Detected cell phone with confidence 0.969 at location [1777.47, 2988.31, 1920.63, 3059.13]\n"
     ]
    },
    {
     "name": "stderr",
     "output_type": "stream",
     "text": [
      "Updating tags:  80%|████████  | 3614/4491 [51:15<1:07:29,  4.62s/it]"
     ]
    },
    {
     "name": "stdout",
     "output_type": "stream",
     "text": [
      "Detected person with confidence 0.998 at location [2152.74, 3107.14, 2535.34, 3517.81]\n"
     ]
    },
    {
     "name": "stderr",
     "output_type": "stream",
     "text": [
      "Updating tags:  80%|████████  | 3615/4491 [51:19<1:06:41,  4.57s/it]"
     ]
    },
    {
     "name": "stdout",
     "output_type": "stream",
     "text": [
      "Detected person with confidence 0.997 at location [2770.54, 1770.85, 2856.64, 1943.77]\n",
      "Detected person with confidence 0.999 at location [2000.82, 1841.61, 2115.22, 2130.17]\n",
      "Detected person with confidence 0.988 at location [2107.05, 1862.81, 2175.66, 1981.41]\n",
      "Detected person with confidence 0.997 at location [3428.58, 1920.33, 3553.53, 2109.9]\n",
      "Detected person with confidence 0.998 at location [2387.82, 1866.44, 2497.93, 2155.79]\n",
      "Detected person with confidence 0.932 at location [2585.09, 1756.79, 2672.91, 1932.69]\n",
      "Detected person with confidence 0.998 at location [3891.59, 1764.53, 4050.88, 2259.58]\n",
      "Detected person with confidence 0.948 at location [109.19, 1974.81, 210.43, 2070.13]\n",
      "Detected person with confidence 0.998 at location [748.91, 1853.83, 913.99, 2253.75]\n",
      "Detected person with confidence 0.997 at location [3600.46, 1879.96, 3718.21, 2097.94]\n"
     ]
    },
    {
     "name": "stderr",
     "output_type": "stream",
     "text": [
      "Updating tags:  81%|████████  | 3619/4491 [51:39<1:09:57,  4.81s/it]"
     ]
    },
    {
     "name": "stdout",
     "output_type": "stream",
     "text": [
      "Detected person with confidence 0.995 at location [1902.89, 2836.95, 1955.45, 2980.18]\n"
     ]
    },
    {
     "name": "stderr",
     "output_type": "stream",
     "text": [
      "Updating tags:  81%|████████  | 3626/4491 [52:10<1:00:48,  4.22s/it]"
     ]
    },
    {
     "name": "stdout",
     "output_type": "stream",
     "text": [
      "Detected person with confidence 0.999 at location [1844.58, 756.17, 3529.71, 2836.7]\n"
     ]
    },
    {
     "name": "stderr",
     "output_type": "stream",
     "text": [
      "Updating tags:  81%|████████  | 3629/4491 [52:21<55:45,  3.88s/it]  "
     ]
    },
    {
     "name": "stdout",
     "output_type": "stream",
     "text": [
      "Detected umbrella with confidence 0.952 at location [111.76, 340.3, 2776.67, 3265.99]\n",
      "Detected person with confidence 0.997 at location [691.39, 3292.15, 1724.77, 4335.39]\n"
     ]
    },
    {
     "name": "stderr",
     "output_type": "stream",
     "text": [
      "Updating tags:  81%|████████  | 3630/4491 [52:24<54:13,  3.78s/it]"
     ]
    },
    {
     "name": "stdout",
     "output_type": "stream",
     "text": [
      "Detected person with confidence 0.998 at location [546.39, 1038.2, 613.36, 1251.29]\n"
     ]
    },
    {
     "name": "stderr",
     "output_type": "stream",
     "text": [
      "Updating tags:  81%|████████  | 3632/4491 [52:31<51:03,  3.57s/it]"
     ]
    },
    {
     "name": "stdout",
     "output_type": "stream",
     "text": [
      "Detected boat with confidence 0.963 at location [1357.31, 1149.5, 2376.79, 1277.48]\n",
      "Detected boat with confidence 0.969 at location [1904.83, 1325.9, 2932.56, 1512.07]\n",
      "Detected boat with confidence 0.981 at location [13.83, 1205.73, 1648.0, 1371.45]\n",
      "Detected boat with confidence 0.989 at location [934.07, 1478.53, 1944.53, 1685.27]\n",
      "Detected boat with confidence 0.91 at location [12.76, 1312.74, 161.59, 1448.92]\n",
      "Detected boat with confidence 0.985 at location [2850.78, 1144.13, 3429.43, 1227.2]\n",
      "Detected boat with confidence 0.993 at location [48.48, 1283.4, 735.92, 1418.02]\n",
      "Detected boat with confidence 0.914 at location [1393.72, 1338.76, 2488.07, 1564.3]\n",
      "Detected boat with confidence 0.936 at location [1754.02, 663.38, 1810.29, 735.32]\n",
      "Detected boat with confidence 0.954 at location [1700.34, 1133.79, 2714.91, 1240.01]\n",
      "Detected boat with confidence 0.993 at location [2459.84, 1258.83, 3442.51, 1406.24]\n",
      "Detected boat with confidence 0.962 at location [1386.45, 1417.22, 2480.49, 1592.5]\n",
      "Detected boat with confidence 0.924 at location [1421.85, 1198.38, 1858.2, 1303.03]\n",
      "Detected cake with confidence 0.998 at location [-1.09, 10.15, 4270.09, 2808.61]\n"
     ]
    },
    {
     "name": "stderr",
     "output_type": "stream",
     "text": [
      "Updating tags:  81%|████████  | 3633/4491 [52:34<51:26,  3.60s/it]"
     ]
    },
    {
     "name": "stdout",
     "output_type": "stream",
     "text": [
      "Detected person with confidence 0.998 at location [267.36, 814.22, 380.77, 1023.08]\n",
      "Detected person with confidence 0.997 at location [100.11, 858.19, 199.16, 1086.02]\n",
      "Detected person with confidence 0.964 at location [220.26, 821.36, 283.12, 985.88]\n",
      "Detected person with confidence 1.0 at location [1331.09, 1480.79, 1611.54, 1942.58]\n"
     ]
    },
    {
     "name": "stderr",
     "output_type": "stream",
     "text": [
      "Updating tags:  81%|████████  | 3635/4491 [52:42<52:56,  3.71s/it]"
     ]
    },
    {
     "name": "stdout",
     "output_type": "stream",
     "text": [
      "Detected person with confidence 0.999 at location [1326.31, 2832.04, 1447.81, 3263.65]\n"
     ]
    },
    {
     "name": "stderr",
     "output_type": "stream",
     "text": [
      "Updating tags:  81%|████████  | 3638/4491 [52:57<1:07:03,  4.72s/it]"
     ]
    },
    {
     "name": "stdout",
     "output_type": "stream",
     "text": [
      "Detected umbrella with confidence 0.99 at location [540.55, 958.33, 5173.03, 3399.08]\n"
     ]
    },
    {
     "name": "stderr",
     "output_type": "stream",
     "text": [
      "Updating tags:  81%|████████  | 3639/4491 [53:01<1:06:39,  4.69s/it]"
     ]
    },
    {
     "name": "stdout",
     "output_type": "stream",
     "text": [
      "Detected vase with confidence 0.988 at location [304.11, 1850.76, 1671.72, 4573.18]\n",
      "Detected vase with confidence 0.999 at location [1724.45, 2273.88, 3267.5, 5393.99]\n"
     ]
    },
    {
     "name": "stderr",
     "output_type": "stream",
     "text": [
      "Updating tags:  81%|████████  | 3643/4491 [53:18<1:00:05,  4.25s/it]"
     ]
    },
    {
     "name": "stdout",
     "output_type": "stream",
     "text": [
      "Detected boat with confidence 0.973 at location [1281.4, 1942.85, 2020.35, 2496.89]\n",
      "Detected boat with confidence 0.96 at location [915.59, 1943.97, 1406.38, 2413.99]\n"
     ]
    },
    {
     "name": "stderr",
     "output_type": "stream",
     "text": [
      "Updating tags:  81%|████████  | 3645/4491 [53:28<1:05:20,  4.63s/it]"
     ]
    },
    {
     "name": "stdout",
     "output_type": "stream",
     "text": [
      "Detected bear with confidence 0.999 at location [2311.59, 1178.74, 5040.94, 2420.79]\n"
     ]
    },
    {
     "name": "stderr",
     "output_type": "stream",
     "text": [
      "Updating tags:  81%|████████▏ | 3649/4491 [53:48<1:09:13,  4.93s/it]"
     ]
    },
    {
     "name": "stdout",
     "output_type": "stream",
     "text": [
      "Detected cat with confidence 0.92 at location [2196.91, 5.66, 3232.13, 3115.1]\n"
     ]
    },
    {
     "name": "stderr",
     "output_type": "stream",
     "text": [
      "Updating tags:  81%|████████▏ | 3651/4491 [53:57<1:06:23,  4.74s/it]"
     ]
    },
    {
     "name": "stdout",
     "output_type": "stream",
     "text": [
      "Detected boat with confidence 0.997 at location [1032.89, 2378.53, 1457.8, 2464.45]\n"
     ]
    },
    {
     "name": "stderr",
     "output_type": "stream",
     "text": [
      "Updating tags:  81%|████████▏ | 3657/4491 [54:29<1:11:22,  5.13s/it]"
     ]
    },
    {
     "name": "stdout",
     "output_type": "stream",
     "text": [
      "Detected person with confidence 0.955 at location [3918.62, 2334.12, 4001.47, 2513.23]\n"
     ]
    },
    {
     "name": "stderr",
     "output_type": "stream",
     "text": [
      "Updating tags:  81%|████████▏ | 3660/4491 [54:41<59:50,  4.32s/it]  "
     ]
    },
    {
     "name": "stdout",
     "output_type": "stream",
     "text": [
      "Detected car with confidence 0.986 at location [2477.63, 3170.39, 2705.71, 3299.37]\n"
     ]
    },
    {
     "name": "stderr",
     "output_type": "stream",
     "text": [
      "Updating tags:  82%|████████▏ | 3661/4491 [54:46<1:03:31,  4.59s/it]"
     ]
    },
    {
     "name": "stdout",
     "output_type": "stream",
     "text": [
      "Detected bench with confidence 0.969 at location [3495.48, 2496.0, 4191.39, 2952.69]\n",
      "Detected bench with confidence 0.987 at location [3255.36, 2674.27, 3715.94, 2981.17]\n",
      "Detected bench with confidence 0.995 at location [4106.5, 2456.97, 4695.14, 2948.42]\n"
     ]
    },
    {
     "name": "stderr",
     "output_type": "stream",
     "text": [
      "Updating tags:  82%|████████▏ | 3664/4491 [54:59<1:02:19,  4.52s/it]"
     ]
    },
    {
     "name": "stdout",
     "output_type": "stream",
     "text": [
      "Detected banana with confidence 0.953 at location [1606.03, 3135.27, 2803.58, 3666.59]\n",
      "Detected banana with confidence 0.977 at location [2604.78, 2442.55, 3645.99, 2927.11]\n",
      "Detected banana with confidence 0.94 at location [764.7, 2706.59, 1581.2, 3111.62]\n",
      "Detected banana with confidence 0.976 at location [1.18, 2869.74, 483.68, 3179.36]\n",
      "Detected banana with confidence 0.925 at location [1901.52, 2789.17, 2846.41, 3286.14]\n"
     ]
    },
    {
     "name": "stderr",
     "output_type": "stream",
     "text": [
      "Updating tags:  82%|████████▏ | 3665/4491 [55:05<1:06:18,  4.82s/it]"
     ]
    },
    {
     "name": "stdout",
     "output_type": "stream",
     "text": [
      "Detected person with confidence 0.969 at location [1538.61, 15.0, 3016.41, 4679.16]\n",
      "Detected person with confidence 0.994 at location [108.76, 9.4, 1711.31, 4910.83]\n"
     ]
    },
    {
     "name": "stderr",
     "output_type": "stream",
     "text": [
      "Updating tags:  82%|████████▏ | 3666/4491 [55:10<1:06:33,  4.84s/it]"
     ]
    },
    {
     "name": "stdout",
     "output_type": "stream",
     "text": [
      "Detected person with confidence 0.999 at location [129.2, 1692.68, 215.35, 1917.51]\n"
     ]
    },
    {
     "name": "stderr",
     "output_type": "stream",
     "text": [
      "Updating tags:  82%|████████▏ | 3667/4491 [55:14<1:04:05,  4.67s/it]"
     ]
    },
    {
     "name": "stdout",
     "output_type": "stream",
     "text": [
      "Detected person with confidence 0.999 at location [632.45, 1910.22, 2605.8, 5274.77]\n"
     ]
    },
    {
     "name": "stderr",
     "output_type": "stream",
     "text": [
      "Updating tags:  82%|████████▏ | 3668/4491 [55:19<1:05:12,  4.75s/it]"
     ]
    },
    {
     "name": "stdout",
     "output_type": "stream",
     "text": [
      "Detected person with confidence 0.963 at location [1210.92, 650.41, 4132.54, 3186.0]\n"
     ]
    },
    {
     "name": "stderr",
     "output_type": "stream",
     "text": [
      "Updating tags:  82%|████████▏ | 3673/4491 [55:49<1:20:44,  5.92s/it]"
     ]
    },
    {
     "name": "stdout",
     "output_type": "stream",
     "text": [
      "Detected person with confidence 0.989 at location [424.33, 1850.08, 3430.25, 5395.39]\n"
     ]
    },
    {
     "name": "stderr",
     "output_type": "stream",
     "text": [
      "Updating tags:  82%|████████▏ | 3674/4491 [55:57<1:27:30,  6.43s/it]"
     ]
    },
    {
     "name": "stdout",
     "output_type": "stream",
     "text": [
      "Detected bear with confidence 0.903 at location [467.66, 206.97, 2993.27, 2131.61]\n"
     ]
    },
    {
     "name": "stderr",
     "output_type": "stream",
     "text": [
      "Updating tags:  82%|████████▏ | 3677/4491 [56:08<1:03:49,  4.70s/it]"
     ]
    },
    {
     "name": "stdout",
     "output_type": "stream",
     "text": [
      "Detected zebra with confidence 0.999 at location [1130.7, 1324.96, 3455.77, 5946.87]\n",
      "Detected zebra with confidence 0.994 at location [2.49, 2365.18, 1209.31, 5934.09]\n",
      "Detected zebra with confidence 0.918 at location [2047.04, 1158.89, 3636.17, 3008.15]\n"
     ]
    },
    {
     "name": "stderr",
     "output_type": "stream",
     "text": [
      "Updating tags:  82%|████████▏ | 3678/4491 [56:15<1:10:27,  5.20s/it]"
     ]
    },
    {
     "name": "stdout",
     "output_type": "stream",
     "text": [
      "Detected person with confidence 0.999 at location [3002.32, 1611.33, 3527.65, 2127.16]\n",
      "Detected surfboard with confidence 0.995 at location [3300.81, 2150.02, 3914.37, 2506.0]\n"
     ]
    },
    {
     "name": "stderr",
     "output_type": "stream",
     "text": [
      "Updating tags:  82%|████████▏ | 3681/4491 [56:32<1:15:17,  5.58s/it]"
     ]
    },
    {
     "name": "stdout",
     "output_type": "stream",
     "text": [
      "Detected person with confidence 0.995 at location [595.85, 8.0, 2048.53, 2523.23]\n",
      "Detected person with confidence 0.999 at location [2708.13, 1000.82, 5469.75, 3792.16]\n"
     ]
    },
    {
     "name": "stderr",
     "output_type": "stream",
     "text": [
      "Updating tags:  82%|████████▏ | 3686/4491 [57:03<1:19:56,  5.96s/it]"
     ]
    },
    {
     "name": "stdout",
     "output_type": "stream",
     "text": [
      "Detected bird with confidence 0.999 at location [509.35, 30.34, 1509.32, 1005.06]\n"
     ]
    },
    {
     "name": "stderr",
     "output_type": "stream",
     "text": [
      "Updating tags:  82%|████████▏ | 3689/4491 [57:21<1:17:41,  5.81s/it]"
     ]
    },
    {
     "name": "stdout",
     "output_type": "stream",
     "text": [
      "Detected dog with confidence 0.999 at location [1.24, 994.18, 5996.01, 3944.33]\n",
      "Detected cow with confidence 0.971 at location [4566.13, 2203.12, 5995.23, 3088.21]\n"
     ]
    },
    {
     "name": "stderr",
     "output_type": "stream",
     "text": [
      "Updating tags:  82%|████████▏ | 3692/4491 [57:34<1:02:50,  4.72s/it]"
     ]
    },
    {
     "name": "stdout",
     "output_type": "stream",
     "text": [
      "Detected sheep with confidence 0.953 at location [3.65, 11.61, 4029.97, 2031.69]\n",
      "Detected sheep with confidence 0.949 at location [3.64, 3196.95, 2298.97, 3966.69]\n",
      "Detected sheep with confidence 0.999 at location [2043.24, 1825.84, 5998.47, 3939.55]\n",
      "Detected sheep with confidence 0.971 at location [-0.11, 1930.09, 1268.1, 3402.53]\n",
      "Detected sheep with confidence 0.941 at location [3620.6, 9.6, 5998.88, 2003.91]\n"
     ]
    },
    {
     "name": "stderr",
     "output_type": "stream",
     "text": [
      "Updating tags:  82%|████████▏ | 3695/4491 [57:52<1:07:29,  5.09s/it]"
     ]
    },
    {
     "name": "stdout",
     "output_type": "stream",
     "text": [
      "Detected person with confidence 0.999 at location [1223.82, 3321.8, 2595.17, 5682.74]\n"
     ]
    },
    {
     "name": "stderr",
     "output_type": "stream",
     "text": [
      "Updating tags:  83%|████████▎ | 3711/4491 [59:11<55:50,  4.30s/it]  "
     ]
    },
    {
     "name": "stdout",
     "output_type": "stream",
     "text": [
      "Detected bird with confidence 0.99 at location [2107.39, 1428.56, 2188.94, 1479.81]\n",
      "Detected bird with confidence 0.952 at location [1549.64, 1496.42, 1616.14, 1529.19]\n",
      "Detected bird with confidence 0.956 at location [2525.59, 1565.62, 2627.58, 1633.02]\n",
      "Detected bird with confidence 0.968 at location [1606.26, 1545.26, 1677.05, 1601.63]\n",
      "Detected bird with confidence 0.98 at location [2515.24, 1432.42, 2593.57, 1493.07]\n",
      "Detected bird with confidence 0.925 at location [1332.7, 1455.42, 1390.41, 1484.67]\n",
      "Detected bird with confidence 0.921 at location [2338.44, 1453.24, 2392.93, 1500.78]\n",
      "Detected bird with confidence 0.92 at location [2622.43, 1690.58, 2693.27, 1745.2]\n",
      "Detected bird with confidence 0.956 at location [2001.54, 1616.46, 2055.96, 1675.95]\n",
      "Detected bird with confidence 0.939 at location [1779.12, 690.81, 1801.4, 718.49]\n",
      "Detected bird with confidence 0.923 at location [2312.08, 1347.65, 2344.78, 1387.09]\n",
      "Detected bird with confidence 0.92 at location [2893.77, 1623.54, 2953.68, 1682.26]\n",
      "Detected bird with confidence 0.924 at location [2537.08, 1614.04, 2636.28, 1672.32]\n",
      "Detected bird with confidence 0.979 at location [3126.92, 1712.44, 3210.46, 1814.96]\n",
      "Detected bird with confidence 0.987 at location [1396.83, 1348.18, 1471.09, 1386.23]\n",
      "Detected bird with confidence 0.977 at location [1786.9, 1315.37, 1850.18, 1368.74]\n",
      "Detected bird with confidence 0.962 at location [2347.83, 1562.8, 2440.74, 1604.59]\n",
      "Detected bird with confidence 0.927 at location [2312.26, 1455.34, 2351.53, 1493.98]\n",
      "Detected bird with confidence 0.944 at location [2723.66, 1623.67, 2795.82, 1689.21]\n"
     ]
    },
    {
     "name": "stderr",
     "output_type": "stream",
     "text": [
      "Updating tags:  83%|████████▎ | 3712/4491 [59:14<50:32,  3.89s/it]"
     ]
    },
    {
     "name": "stdout",
     "output_type": "stream",
     "text": [
      "Detected bird with confidence 0.991 at location [2030.4, 1039.94, 4166.88, 2016.62]\n"
     ]
    },
    {
     "name": "stderr",
     "output_type": "stream",
     "text": [
      "Updating tags:  83%|████████▎ | 3713/4491 [59:20<56:05,  4.33s/it]"
     ]
    },
    {
     "name": "stdout",
     "output_type": "stream",
     "text": [
      "Detected elephant with confidence 0.996 at location [-0.87, 4.85, 3128.25, 2040.66]\n"
     ]
    },
    {
     "name": "stderr",
     "output_type": "stream",
     "text": [
      "Updating tags:  83%|████████▎ | 3714/4491 [59:23<52:52,  4.08s/it]"
     ]
    },
    {
     "name": "stdout",
     "output_type": "stream",
     "text": [
      "Detected person with confidence 0.999 at location [-0.16, 611.98, 2270.91, 1498.95]\n"
     ]
    },
    {
     "name": "stderr",
     "output_type": "stream",
     "text": [
      "Updating tags:  83%|████████▎ | 3717/4491 [59:37<52:09,  4.04s/it]  "
     ]
    },
    {
     "name": "stdout",
     "output_type": "stream",
     "text": [
      "Detected cup with confidence 0.936 at location [803.27, 1939.83, 2933.53, 3469.47]\n",
      "Detected cup with confidence 0.955 at location [2551.94, 1838.52, 3668.08, 3134.2]\n",
      "Detected dining table with confidence 0.97 at location [-0.3, 2702.97, 6012.18, 3960.14]\n"
     ]
    },
    {
     "name": "stderr",
     "output_type": "stream",
     "text": [
      "Updating tags:  83%|████████▎ | 3718/4491 [59:40<51:36,  4.01s/it]"
     ]
    },
    {
     "name": "stdout",
     "output_type": "stream",
     "text": [
      "Detected sheep with confidence 0.983 at location [375.18, 1309.75, 1463.95, 2836.27]\n"
     ]
    },
    {
     "name": "stderr",
     "output_type": "stream",
     "text": [
      "Updating tags:  83%|████████▎ | 3723/4491 [1:00:03<56:51,  4.44s/it]"
     ]
    },
    {
     "name": "stdout",
     "output_type": "stream",
     "text": [
      "Detected potted plant with confidence 0.993 at location [3360.41, 1574.76, 3797.07, 2504.5]\n"
     ]
    },
    {
     "name": "stderr",
     "output_type": "stream",
     "text": [
      "Updating tags:  83%|████████▎ | 3727/4491 [1:00:21<58:33,  4.60s/it]  "
     ]
    },
    {
     "name": "stdout",
     "output_type": "stream",
     "text": [
      "Detected bird with confidence 0.969 at location [1517.6, 669.39, 1918.41, 830.24]\n",
      "Detected bird with confidence 0.982 at location [1.56, 748.46, 628.29, 902.14]\n",
      "Detected bird with confidence 0.996 at location [550.11, 228.4, 1127.3, 371.71]\n",
      "Detected bird with confidence 0.937 at location [855.54, 549.05, 1508.82, 721.79]\n",
      "Detected bird with confidence 0.986 at location [234.94, 1141.88, 763.55, 1263.06]\n",
      "Detected bird with confidence 0.949 at location [0.44, 1077.72, 357.64, 1209.42]\n",
      "Detected bird with confidence 0.967 at location [1373.19, 672.87, 1776.61, 862.65]\n",
      "Detected bird with confidence 0.995 at location [355.14, 850.86, 755.69, 970.42]\n",
      "Detected bird with confidence 0.994 at location [1343.37, 1048.13, 1776.12, 1172.64]\n",
      "Detected bird with confidence 0.943 at location [959.94, 0.06, 1283.62, 106.61]\n",
      "Detected bird with confidence 0.956 at location [0.29, 730.56, 326.24, 899.65]\n",
      "Detected bird with confidence 0.997 at location [255.92, 466.18, 832.19, 646.38]\n",
      "Detected bird with confidence 0.994 at location [1690.91, 529.8, 1920.6, 653.18]\n",
      "Detected bird with confidence 0.917 at location [636.52, 0.04, 930.93, 97.3]\n",
      "Detected bird with confidence 0.964 at location [636.53, 560.33, 970.44, 656.55]\n"
     ]
    },
    {
     "name": "stderr",
     "output_type": "stream",
     "text": [
      "Updating tags:  83%|████████▎ | 3729/4491 [1:00:31<59:38,  4.70s/it]"
     ]
    },
    {
     "name": "stdout",
     "output_type": "stream",
     "text": [
      "Detected surfboard with confidence 0.975 at location [3141.41, 2547.86, 3402.38, 2644.69]\n"
     ]
    },
    {
     "name": "stderr",
     "output_type": "stream",
     "text": [
      "Updating tags:  83%|████████▎ | 3732/4491 [1:00:45<56:42,  4.48s/it]  "
     ]
    },
    {
     "name": "stdout",
     "output_type": "stream",
     "text": [
      "Detected person with confidence 0.992 at location [989.76, 2040.65, 1142.96, 2622.73]\n",
      "Detected person with confidence 0.99 at location [2503.59, 2133.31, 2584.01, 2271.25]\n",
      "Detected person with confidence 0.998 at location [1487.38, 1619.87, 1623.48, 1968.21]\n"
     ]
    },
    {
     "name": "stderr",
     "output_type": "stream",
     "text": [
      "Updating tags:  83%|████████▎ | 3733/4491 [1:00:48<53:12,  4.21s/it]"
     ]
    },
    {
     "name": "stdout",
     "output_type": "stream",
     "text": [
      "Detected airplane with confidence 0.914 at location [11.89, 1143.11, 2692.98, 1850.41]\n"
     ]
    },
    {
     "name": "stderr",
     "output_type": "stream",
     "text": [
      "Updating tags:  83%|████████▎ | 3737/4491 [1:01:07<59:07,  4.70s/it]"
     ]
    },
    {
     "name": "stdout",
     "output_type": "stream",
     "text": [
      "Detected person with confidence 0.983 at location [13.59, 1766.58, 4022.47, 3630.98]\n"
     ]
    },
    {
     "name": "stderr",
     "output_type": "stream",
     "text": [
      "Updating tags:  83%|████████▎ | 3743/4491 [1:01:35<1:01:12,  4.91s/it]"
     ]
    },
    {
     "name": "stdout",
     "output_type": "stream",
     "text": [
      "Detected potted plant with confidence 0.99 at location [0.09, 227.32, 2530.63, 3732.97]\n"
     ]
    },
    {
     "name": "stderr",
     "output_type": "stream",
     "text": [
      "Updating tags:  83%|████████▎ | 3747/4491 [1:01:53<55:42,  4.49s/it]  "
     ]
    },
    {
     "name": "stdout",
     "output_type": "stream",
     "text": [
      "Detected person with confidence 0.999 at location [853.58, 865.03, 1010.37, 1197.72]\n"
     ]
    },
    {
     "name": "stderr",
     "output_type": "stream",
     "text": [
      "Updating tags:  84%|████████▎ | 3751/4491 [1:02:14<56:09,  4.55s/it]  "
     ]
    },
    {
     "name": "stdout",
     "output_type": "stream",
     "text": [
      "Detected bench with confidence 0.964 at location [2801.07, 2520.23, 3996.51, 3956.98]\n"
     ]
    },
    {
     "name": "stderr",
     "output_type": "stream",
     "text": [
      "Updating tags:  84%|████████▎ | 3753/4491 [1:02:21<51:05,  4.15s/it]"
     ]
    },
    {
     "name": "stdout",
     "output_type": "stream",
     "text": [
      "Detected vase with confidence 0.998 at location [897.44, 3261.7, 1828.57, 5146.02]\n",
      "Detected potted plant with confidence 0.944 at location [46.86, 243.39, 3319.74, 5114.34]\n"
     ]
    },
    {
     "name": "stderr",
     "output_type": "stream",
     "text": [
      "Updating tags:  84%|████████▎ | 3756/4491 [1:02:39<1:05:04,  5.31s/it]"
     ]
    },
    {
     "name": "stdout",
     "output_type": "stream",
     "text": [
      "Detected bird with confidence 0.999 at location [823.48, 1429.83, 1581.11, 1912.87]\n",
      "Detected umbrella with confidence 0.968 at location [-0.24, 5.24, 3830.12, 2514.28]\n"
     ]
    },
    {
     "name": "stderr",
     "output_type": "stream",
     "text": [
      "Updating tags:  84%|████████▎ | 3757/4491 [1:02:43<59:58,  4.90s/it]  "
     ]
    },
    {
     "name": "stdout",
     "output_type": "stream",
     "text": [
      "Detected bowl with confidence 0.939 at location [751.22, 1705.52, 2645.09, 3917.71]\n",
      "Detected person with confidence 0.99 at location [1.13, 1542.56, 954.36, 3235.64]\n"
     ]
    },
    {
     "name": "stderr",
     "output_type": "stream",
     "text": [
      "Updating tags:  84%|████████▎ | 3758/4491 [1:02:47<56:29,  4.62s/it]"
     ]
    },
    {
     "name": "stdout",
     "output_type": "stream",
     "text": [
      "Detected cow with confidence 0.938 at location [1643.95, 71.83, 5271.15, 3465.21]\n"
     ]
    },
    {
     "name": "stderr",
     "output_type": "stream",
     "text": [
      "Updating tags:  84%|████████▎ | 3760/4491 [1:02:58<59:36,  4.89s/it]  "
     ]
    },
    {
     "name": "stdout",
     "output_type": "stream",
     "text": [
      "Detected dog with confidence 0.999 at location [390.76, 1315.37, 3653.75, 5215.72]\n"
     ]
    },
    {
     "name": "stderr",
     "output_type": "stream",
     "text": [
      "Updating tags:  84%|████████▍ | 3763/4491 [1:03:12<57:49,  4.77s/it]  "
     ]
    },
    {
     "name": "stdout",
     "output_type": "stream",
     "text": [
      "Detected car with confidence 0.966 at location [1810.71, 2855.74, 1922.25, 2940.14]\n",
      "Detected truck with confidence 0.91 at location [1810.51, 2856.62, 1922.11, 2943.54]\n",
      "Detected person with confidence 0.996 at location [-1.15, 1329.56, 1701.5, 3078.18]\n",
      "Detected surfboard with confidence 0.905 at location [895.66, 3163.8, 2826.54, 4656.12]\n"
     ]
    },
    {
     "name": "stderr",
     "output_type": "stream",
     "text": [
      "Updating tags:  84%|████████▍ | 3765/4491 [1:03:23<1:00:30,  5.00s/it]"
     ]
    },
    {
     "name": "stdout",
     "output_type": "stream",
     "text": [
      "Detected dog with confidence 0.997 at location [270.63, 1145.84, 3421.71, 4802.12]\n"
     ]
    },
    {
     "name": "stderr",
     "output_type": "stream",
     "text": [
      "Updating tags:  84%|████████▍ | 3766/4491 [1:03:29<1:04:52,  5.37s/it]"
     ]
    },
    {
     "name": "stdout",
     "output_type": "stream",
     "text": [
      "Detected dog with confidence 1.0 at location [1718.71, 732.12, 3274.46, 3089.86]\n"
     ]
    },
    {
     "name": "stderr",
     "output_type": "stream",
     "text": [
      "Updating tags:  84%|████████▍ | 3767/4491 [1:03:36<1:10:31,  5.84s/it]"
     ]
    },
    {
     "name": "stdout",
     "output_type": "stream",
     "text": [
      "Detected boat with confidence 0.917 at location [4326.27, 2183.71, 4455.76, 2212.11]\n"
     ]
    },
    {
     "name": "stderr",
     "output_type": "stream",
     "text": [
      "Updating tags:  84%|████████▍ | 3768/4491 [1:03:42<1:10:43,  5.87s/it]"
     ]
    },
    {
     "name": "stdout",
     "output_type": "stream",
     "text": [
      "Detected horse with confidence 0.904 at location [1992.27, 1161.2, 2554.56, 1640.98]\n"
     ]
    },
    {
     "name": "stderr",
     "output_type": "stream",
     "text": [
      "Updating tags:  84%|████████▍ | 3769/4491 [1:03:46<1:02:58,  5.23s/it]"
     ]
    },
    {
     "name": "stdout",
     "output_type": "stream",
     "text": [
      "Detected bird with confidence 0.998 at location [3213.73, 4944.23, 3911.0, 6159.1]\n",
      "Detected bird with confidence 0.953 at location [1503.98, 3320.19, 2429.71, 5998.53]\n",
      "Detected bird with confidence 0.999 at location [1895.21, 3037.35, 3367.58, 6166.16]\n",
      "Detected bird with confidence 0.999 at location [4169.84, 4554.68, 5303.0, 6464.56]\n",
      "Detected bird with confidence 0.98 at location [1217.89, 3941.95, 1778.67, 5922.37]\n",
      "Detected bird with confidence 0.999 at location [234.98, 4737.2, 1362.39, 6388.88]\n"
     ]
    },
    {
     "name": "stderr",
     "output_type": "stream",
     "text": [
      "Updating tags:  84%|████████▍ | 3770/4491 [1:03:51<1:04:01,  5.33s/it]"
     ]
    },
    {
     "name": "stdout",
     "output_type": "stream",
     "text": [
      "Detected potted plant with confidence 0.962 at location [511.52, 536.91, 2307.39, 2819.4]\n"
     ]
    },
    {
     "name": "stderr",
     "output_type": "stream",
     "text": [
      "Updating tags:  84%|████████▍ | 3774/4491 [1:04:07<50:03,  4.19s/it]  "
     ]
    },
    {
     "name": "stdout",
     "output_type": "stream",
     "text": [
      "Detected boat with confidence 0.908 at location [1.09, 3160.64, 554.49, 3931.18]\n"
     ]
    },
    {
     "name": "stderr",
     "output_type": "stream",
     "text": [
      "Updating tags:  84%|████████▍ | 3775/4491 [1:04:10<48:47,  4.09s/it]"
     ]
    },
    {
     "name": "stdout",
     "output_type": "stream",
     "text": [
      "Detected person with confidence 0.999 at location [1875.05, 2101.6, 2385.31, 3304.13]\n",
      "Detected person with confidence 1.0 at location [1054.1, 1809.12, 1615.36, 3382.6]\n",
      "Detected dog with confidence 0.997 at location [1058.59, 2926.83, 1255.4, 3309.35]\n",
      "Detected person with confidence 0.999 at location [1535.28, 2106.69, 1942.21, 3252.08]\n",
      "Detected dog with confidence 0.986 at location [1779.68, 2818.6, 1946.55, 3251.35]\n",
      "Detected handbag with confidence 0.992 at location [1882.29, 2287.43, 2174.66, 2775.13]\n",
      "Detected person with confidence 0.979 at location [1108.76, 2546.21, 1217.3, 2895.35]\n"
     ]
    },
    {
     "name": "stderr",
     "output_type": "stream",
     "text": [
      "Updating tags:  84%|████████▍ | 3777/4491 [1:04:20<51:20,  4.31s/it]"
     ]
    },
    {
     "name": "stdout",
     "output_type": "stream",
     "text": [
      "Detected horse with confidence 1.0 at location [885.26, 1560.75, 2572.11, 4134.56]\n"
     ]
    },
    {
     "name": "stderr",
     "output_type": "stream",
     "text": [
      "Updating tags:  84%|████████▍ | 3779/4491 [1:04:28<48:50,  4.12s/it]"
     ]
    },
    {
     "name": "stdout",
     "output_type": "stream",
     "text": [
      "Detected orange with confidence 0.927 at location [3080.24, 1924.26, 3696.51, 2822.14]\n",
      "Detected orange with confidence 0.975 at location [1856.66, 1963.68, 2819.75, 2701.48]\n"
     ]
    },
    {
     "name": "stderr",
     "output_type": "stream",
     "text": [
      "Updating tags:  84%|████████▍ | 3783/4491 [1:04:48<54:57,  4.66s/it]"
     ]
    },
    {
     "name": "stdout",
     "output_type": "stream",
     "text": [
      "Detected boat with confidence 0.993 at location [2641.11, 1406.46, 2811.87, 1462.38]\n",
      "Detected boat with confidence 0.981 at location [1300.88, 1691.45, 1440.7, 1733.75]\n"
     ]
    },
    {
     "name": "stderr",
     "output_type": "stream",
     "text": [
      "Updating tags:  84%|████████▍ | 3788/4491 [1:05:09<49:40,  4.24s/it]"
     ]
    },
    {
     "name": "stdout",
     "output_type": "stream",
     "text": [
      "Detected cake with confidence 0.993 at location [635.18, 720.54, 2006.58, 2146.57]\n"
     ]
    },
    {
     "name": "stderr",
     "output_type": "stream",
     "text": [
      "Updating tags:  84%|████████▍ | 3794/4491 [1:05:37<53:25,  4.60s/it]"
     ]
    },
    {
     "name": "stdout",
     "output_type": "stream",
     "text": [
      "Detected person with confidence 0.915 at location [1483.61, 3591.31, 1523.42, 3706.88]\n"
     ]
    },
    {
     "name": "stderr",
     "output_type": "stream",
     "text": [
      "Updating tags:  85%|████████▍ | 3796/4491 [1:05:48<57:12,  4.94s/it]  "
     ]
    },
    {
     "name": "stdout",
     "output_type": "stream",
     "text": [
      "Detected bird with confidence 0.998 at location [422.66, 1202.0, 2259.25, 4525.94]\n"
     ]
    },
    {
     "name": "stderr",
     "output_type": "stream",
     "text": [
      "Updating tags:  85%|████████▍ | 3797/4491 [1:05:52<52:52,  4.57s/it]"
     ]
    },
    {
     "name": "stdout",
     "output_type": "stream",
     "text": [
      "Detected bird with confidence 0.998 at location [3724.02, 1256.82, 5509.38, 4098.34]\n"
     ]
    },
    {
     "name": "stderr",
     "output_type": "stream",
     "text": [
      "Updating tags:  85%|████████▍ | 3798/4491 [1:05:57<55:10,  4.78s/it]"
     ]
    },
    {
     "name": "stdout",
     "output_type": "stream",
     "text": [
      "Detected bird with confidence 0.985 at location [2038.17, 1304.13, 2847.4, 1847.26]\n"
     ]
    },
    {
     "name": "stderr",
     "output_type": "stream",
     "text": [
      "Updating tags:  85%|████████▍ | 3800/4491 [1:06:06<52:50,  4.59s/it]"
     ]
    },
    {
     "name": "stdout",
     "output_type": "stream",
     "text": [
      "Detected bird with confidence 0.997 at location [1885.94, 2090.71, 2027.81, 2144.93]\n",
      "Detected bird with confidence 0.924 at location [1668.24, 1326.81, 1728.89, 1371.93]\n"
     ]
    },
    {
     "name": "stderr",
     "output_type": "stream",
     "text": [
      "Updating tags:  85%|████████▍ | 3802/4491 [1:06:14<48:02,  4.18s/it]"
     ]
    },
    {
     "name": "stdout",
     "output_type": "stream",
     "text": [
      "Detected umbrella with confidence 0.991 at location [1284.07, 1040.79, 2230.66, 2049.12]\n",
      "Detected umbrella with confidence 0.981 at location [373.06, 890.46, 1063.0, 1198.77]\n",
      "Detected umbrella with confidence 0.936 at location [2708.81, 952.35, 3414.92, 1444.37]\n",
      "Detected umbrella with confidence 0.926 at location [2985.01, 788.37, 3605.42, 1139.46]\n",
      "Detected umbrella with confidence 0.982 at location [-0.55, 1065.18, 704.39, 1473.2]\n",
      "Detected umbrella with confidence 0.981 at location [1870.25, 895.68, 2557.51, 1243.81]\n",
      "Detected umbrella with confidence 0.973 at location [2128.11, 1077.73, 3317.8, 2336.94]\n",
      "Detected umbrella with confidence 0.904 at location [3462.72, 824.41, 4495.22, 2107.64]\n",
      "Detected umbrella with confidence 0.92 at location [4388.65, 867.86, 4800.64, 1610.94]\n",
      "Detected umbrella with confidence 0.933 at location [3778.81, 774.13, 4288.62, 1044.16]\n",
      "Detected umbrella with confidence 0.977 at location [2307.4, 812.44, 2892.09, 1110.12]\n",
      "Detected umbrella with confidence 0.954 at location [4237.15, 796.89, 4730.25, 1066.06]\n",
      "Detected umbrella with confidence 0.95 at location [225.02, 945.48, 1582.16, 2632.92]\n",
      "Detected umbrella with confidence 0.964 at location [1393.1, 846.16, 2026.08, 1126.74]\n"
     ]
    },
    {
     "name": "stderr",
     "output_type": "stream",
     "text": [
      "Updating tags:  85%|████████▍ | 3803/4491 [1:06:19<51:55,  4.53s/it]"
     ]
    },
    {
     "name": "stdout",
     "output_type": "stream",
     "text": [
      "Detected boat with confidence 0.998 at location [778.04, 3162.32, 1449.1, 3468.51]\n"
     ]
    },
    {
     "name": "stderr",
     "output_type": "stream",
     "text": [
      "Updating tags:  85%|████████▍ | 3810/4491 [1:06:48<47:40,  4.20s/it]"
     ]
    },
    {
     "name": "stdout",
     "output_type": "stream",
     "text": [
      "Detected bird with confidence 0.957 at location [2156.34, 1635.02, 2601.99, 1710.74]\n"
     ]
    },
    {
     "name": "stderr",
     "output_type": "stream",
     "text": [
      "Updating tags:  85%|████████▍ | 3813/4491 [1:07:00<46:38,  4.13s/it]"
     ]
    },
    {
     "name": "stdout",
     "output_type": "stream",
     "text": [
      "Detected potted plant with confidence 0.984 at location [1.61, 977.67, 1086.38, 1982.32]\n",
      "Detected vase with confidence 0.966 at location [127.67, 1628.92, 673.89, 1990.12]\n",
      "Detected potted plant with confidence 0.948 at location [1143.22, 954.93, 2997.99, 1978.91]\n",
      "Detected vase with confidence 0.976 at location [1341.9, 1594.68, 1867.89, 1988.74]\n"
     ]
    },
    {
     "name": "stderr",
     "output_type": "stream",
     "text": [
      "Updating tags:  85%|████████▍ | 3816/4491 [1:07:13<49:23,  4.39s/it]"
     ]
    },
    {
     "name": "stdout",
     "output_type": "stream",
     "text": [
      "Detected carrot with confidence 0.987 at location [1846.14, 0.26, 2041.92, 2032.66]\n"
     ]
    },
    {
     "name": "stderr",
     "output_type": "stream",
     "text": [
      "Updating tags:  85%|████████▍ | 3817/4491 [1:07:18<51:12,  4.56s/it]"
     ]
    },
    {
     "name": "stdout",
     "output_type": "stream",
     "text": [
      "Detected pizza with confidence 0.903 at location [826.44, 2360.98, 6012.74, 3944.69]\n",
      "Detected cat with confidence 0.989 at location [8.39, 710.12, 5410.36, 3881.67]\n"
     ]
    },
    {
     "name": "stderr",
     "output_type": "stream",
     "text": [
      "Updating tags:  85%|████████▌ | 3818/4491 [1:07:23<52:09,  4.65s/it]"
     ]
    },
    {
     "name": "stdout",
     "output_type": "stream",
     "text": [
      "Detected dog with confidence 0.998 at location [583.47, 359.25, 2071.8, 3634.99]\n"
     ]
    },
    {
     "name": "stderr",
     "output_type": "stream",
     "text": [
      "Updating tags:  85%|████████▌ | 3819/4491 [1:07:27<49:18,  4.40s/it]"
     ]
    },
    {
     "name": "stdout",
     "output_type": "stream",
     "text": [
      "Detected potted plant with confidence 0.991 at location [3094.29, 1597.37, 4184.94, 2647.67]\n",
      "Detected vase with confidence 0.998 at location [441.43, 1230.1, 731.72, 1513.08]\n",
      "Detected potted plant with confidence 0.974 at location [377.42, 867.29, 869.51, 1507.77]\n"
     ]
    },
    {
     "name": "stderr",
     "output_type": "stream",
     "text": [
      "Updating tags:  85%|████████▌ | 3820/4491 [1:07:33<54:33,  4.88s/it]"
     ]
    },
    {
     "name": "stdout",
     "output_type": "stream",
     "text": [
      "Detected kite with confidence 0.996 at location [1353.85, 2267.48, 1908.08, 2387.16]\n"
     ]
    },
    {
     "name": "stderr",
     "output_type": "stream",
     "text": [
      "Updating tags:  85%|████████▌ | 3821/4491 [1:07:37<50:46,  4.55s/it]"
     ]
    },
    {
     "name": "stdout",
     "output_type": "stream",
     "text": [
      "Detected chair with confidence 0.994 at location [4182.34, 2755.8, 4570.55, 3033.85]\n",
      "Detected chair with confidence 0.951 at location [3609.51, 2762.27, 4055.25, 3013.56]\n",
      "Detected umbrella with confidence 0.919 at location [342.44, 2168.32, 1313.02, 2503.08]\n",
      "Detected chair with confidence 0.991 at location [1971.43, 2767.83, 2287.52, 3010.6]\n",
      "Detected chair with confidence 0.994 at location [849.52, 2769.5, 1223.91, 3032.61]\n",
      "Detected chair with confidence 0.985 at location [2461.3, 2774.32, 2804.55, 3025.9]\n",
      "Detected umbrella with confidence 0.979 at location [1972.15, 2124.73, 2918.59, 2971.34]\n",
      "Detected umbrella with confidence 0.946 at location [3542.04, 2151.29, 4529.29, 2950.05]\n",
      "Detected chair with confidence 0.991 at location [321.38, 2730.88, 821.35, 3031.95]\n",
      "Detected umbrella with confidence 0.978 at location [333.42, 2169.44, 1302.69, 2960.24]\n",
      "Detected umbrella with confidence 0.973 at location [3536.46, 2153.43, 4520.69, 2458.8]\n"
     ]
    },
    {
     "name": "stderr",
     "output_type": "stream",
     "text": [
      "Updating tags:  85%|████████▌ | 3823/4491 [1:07:44<45:07,  4.05s/it]"
     ]
    },
    {
     "name": "stdout",
     "output_type": "stream",
     "text": [
      "Detected boat with confidence 0.998 at location [1891.57, 1103.13, 2763.82, 3484.08]\n"
     ]
    },
    {
     "name": "stderr",
     "output_type": "stream",
     "text": [
      "Updating tags:  85%|████████▌ | 3825/4491 [1:07:51<41:39,  3.75s/it]"
     ]
    },
    {
     "name": "stdout",
     "output_type": "stream",
     "text": [
      "Detected person with confidence 0.995 at location [3022.82, 2946.8, 3205.16, 3360.99]\n"
     ]
    },
    {
     "name": "stderr",
     "output_type": "stream",
     "text": [
      "Updating tags:  85%|████████▌ | 3829/4491 [1:08:08<46:10,  4.19s/it]"
     ]
    },
    {
     "name": "stdout",
     "output_type": "stream",
     "text": [
      "Detected person with confidence 0.917 at location [2111.92, 1301.0, 2165.39, 1351.88]\n",
      "Detected surfboard with confidence 0.99 at location [1457.18, 2132.96, 1800.02, 2377.53]\n",
      "Detected person with confidence 0.916 at location [2545.56, 719.55, 2615.42, 817.81]\n"
     ]
    },
    {
     "name": "stderr",
     "output_type": "stream",
     "text": [
      "Updating tags:  85%|████████▌ | 3832/4491 [1:08:23<54:59,  5.01s/it]"
     ]
    },
    {
     "name": "stdout",
     "output_type": "stream",
     "text": [
      "Detected cat with confidence 0.998 at location [962.32, 269.75, 4384.7, 2955.74]\n"
     ]
    },
    {
     "name": "stderr",
     "output_type": "stream",
     "text": [
      "Updating tags:  85%|████████▌ | 3833/4491 [1:08:28<52:45,  4.81s/it]"
     ]
    },
    {
     "name": "stdout",
     "output_type": "stream",
     "text": [
      "Detected potted plant with confidence 0.949 at location [271.43, 330.91, 3630.83, 2422.87]\n"
     ]
    },
    {
     "name": "stderr",
     "output_type": "stream",
     "text": [
      "Updating tags:  85%|████████▌ | 3836/4491 [1:08:40<48:44,  4.46s/it]"
     ]
    },
    {
     "name": "stdout",
     "output_type": "stream",
     "text": [
      "Detected person with confidence 0.997 at location [6.02, 2592.72, 1750.07, 4563.46]\n"
     ]
    },
    {
     "name": "stderr",
     "output_type": "stream",
     "text": [
      "Updating tags:  85%|████████▌ | 3837/4491 [1:08:44<47:35,  4.37s/it]"
     ]
    },
    {
     "name": "stdout",
     "output_type": "stream",
     "text": [
      "Detected dog with confidence 0.999 at location [607.74, 1431.53, 4486.56, 3133.52]\n"
     ]
    },
    {
     "name": "stderr",
     "output_type": "stream",
     "text": [
      "Updating tags:  85%|████████▌ | 3838/4491 [1:08:49<47:28,  4.36s/it]"
     ]
    },
    {
     "name": "stdout",
     "output_type": "stream",
     "text": [
      "Detected bird with confidence 0.999 at location [21.16, 1174.77, 2068.13, 3599.21]\n"
     ]
    },
    {
     "name": "stderr",
     "output_type": "stream",
     "text": [
      "Updating tags:  85%|████████▌ | 3839/4491 [1:08:52<45:36,  4.20s/it]"
     ]
    },
    {
     "name": "stdout",
     "output_type": "stream",
     "text": [
      "Detected dog with confidence 0.998 at location [518.05, 846.23, 2097.65, 3301.44]\n"
     ]
    },
    {
     "name": "stderr",
     "output_type": "stream",
     "text": [
      "Updating tags:  86%|████████▌ | 3841/4491 [1:09:00<44:42,  4.13s/it]"
     ]
    },
    {
     "name": "stdout",
     "output_type": "stream",
     "text": [
      "Detected car with confidence 0.908 at location [2259.21, 1106.95, 2329.08, 1153.52]\n",
      "Detected traffic light with confidence 0.926 at location [2709.52, 1705.85, 2782.11, 1774.62]\n",
      "Detected car with confidence 0.926 at location [2477.19, 1247.0, 2553.01, 1296.16]\n",
      "Detected car with confidence 0.902 at location [2501.27, 1249.17, 2577.89, 1298.8]\n",
      "Detected truck with confidence 0.969 at location [3148.66, 776.38, 3780.31, 1296.85]\n",
      "Detected airplane with confidence 0.954 at location [3097.66, 1624.82, 3994.85, 2037.65]\n",
      "Detected car with confidence 0.943 at location [3245.99, 1908.32, 3324.4, 1959.34]\n",
      "Detected car with confidence 0.944 at location [2198.62, 1235.23, 2275.3, 1288.78]\n"
     ]
    },
    {
     "name": "stderr",
     "output_type": "stream",
     "text": [
      "Updating tags:  86%|████████▌ | 3846/4491 [1:09:22<46:26,  4.32s/it]"
     ]
    },
    {
     "name": "stdout",
     "output_type": "stream",
     "text": [
      "Detected horse with confidence 0.997 at location [262.86, 1524.47, 1475.79, 2156.51]\n",
      "Detected person with confidence 0.998 at location [710.26, 1199.93, 1087.37, 2107.18]\n"
     ]
    },
    {
     "name": "stderr",
     "output_type": "stream",
     "text": [
      "Updating tags:  86%|████████▌ | 3847/4491 [1:09:26<42:46,  3.99s/it]"
     ]
    },
    {
     "name": "stdout",
     "output_type": "stream",
     "text": [
      "Detected person with confidence 0.999 at location [1410.92, 2382.86, 2354.76, 3056.11]\n",
      "Detected person with confidence 0.987 at location [3252.16, 1484.11, 3497.53, 1930.21]\n"
     ]
    },
    {
     "name": "stderr",
     "output_type": "stream",
     "text": [
      "Updating tags:  86%|████████▌ | 3848/4491 [1:09:29<42:30,  3.97s/it]"
     ]
    },
    {
     "name": "stdout",
     "output_type": "stream",
     "text": [
      "Detected person with confidence 0.997 at location [1519.46, 3001.44, 1723.24, 3137.15]\n",
      "Detected person with confidence 0.997 at location [2877.27, 3227.15, 3187.91, 3346.33]\n",
      "Detected surfboard with confidence 0.955 at location [1604.86, 3116.58, 1715.77, 3150.58]\n"
     ]
    },
    {
     "name": "stderr",
     "output_type": "stream",
     "text": [
      "Updating tags:  86%|████████▌ | 3853/4491 [1:09:51<42:24,  3.99s/it]"
     ]
    },
    {
     "name": "stdout",
     "output_type": "stream",
     "text": [
      "Detected person with confidence 1.0 at location [2580.92, 2461.16, 3387.57, 3552.17]\n"
     ]
    },
    {
     "name": "stderr",
     "output_type": "stream",
     "text": [
      "Updating tags:  86%|████████▌ | 3855/4491 [1:10:01<46:10,  4.36s/it]"
     ]
    },
    {
     "name": "stdout",
     "output_type": "stream",
     "text": [
      "Detected sheep with confidence 0.999 at location [3322.98, 4943.04, 4058.19, 5557.17]\n",
      "Detected sheep with confidence 0.999 at location [1146.8, 4733.72, 2229.18, 5631.71]\n"
     ]
    },
    {
     "name": "stderr",
     "output_type": "stream",
     "text": [
      "Updating tags:  86%|████████▌ | 3858/4491 [1:10:12<42:38,  4.04s/it]"
     ]
    },
    {
     "name": "stdout",
     "output_type": "stream",
     "text": [
      "Detected cat with confidence 0.999 at location [1910.28, 768.51, 4371.46, 3414.13]\n"
     ]
    },
    {
     "name": "stderr",
     "output_type": "stream",
     "text": [
      "Updating tags:  86%|████████▌ | 3859/4491 [1:10:17<43:53,  4.17s/it]"
     ]
    },
    {
     "name": "stdout",
     "output_type": "stream",
     "text": [
      "Detected orange with confidence 0.98 at location [-0.51, 1630.35, 995.06, 2721.81]\n",
      "Detected apple with confidence 0.912 at location [2422.24, 2560.78, 3451.59, 4151.67]\n",
      "Detected orange with confidence 0.901 at location [63.86, 183.37, 1027.26, 1220.34]\n",
      "Detected orange with confidence 0.945 at location [0.43, 3636.35, 390.73, 4553.49]\n",
      "Detected orange with confidence 0.991 at location [287.93, 3458.74, 1374.44, 4585.35]\n",
      "Detected orange with confidence 0.969 at location [523.87, 990.73, 1418.11, 1948.04]\n",
      "Detected orange with confidence 0.963 at location [373.3, 2505.8, 1412.85, 3517.54]\n",
      "Detected orange with confidence 0.916 at location [0.42, 2719.59, 461.28, 3660.35]\n",
      "Detected orange with confidence 0.982 at location [972.14, 1778.15, 1796.36, 2739.32]\n"
     ]
    },
    {
     "name": "stderr",
     "output_type": "stream",
     "text": [
      "Updating tags:  86%|████████▌ | 3860/4491 [1:10:22<46:09,  4.39s/it]"
     ]
    },
    {
     "name": "stdout",
     "output_type": "stream",
     "text": [
      "Detected handbag with confidence 0.99 at location [1156.37, 1138.54, 1331.57, 1449.34]\n",
      "Detected sheep with confidence 0.957 at location [2216.03, 1432.83, 2310.9, 1510.7]\n",
      "Detected person with confidence 1.0 at location [956.02, 988.84, 1346.99, 1899.91]\n",
      "Detected sheep with confidence 0.991 at location [72.71, 1339.84, 360.82, 1491.01]\n"
     ]
    },
    {
     "name": "stderr",
     "output_type": "stream",
     "text": [
      "Updating tags:  86%|████████▌ | 3861/4491 [1:10:25<43:58,  4.19s/it]"
     ]
    },
    {
     "name": "stdout",
     "output_type": "stream",
     "text": [
      "Detected car with confidence 0.967 at location [1121.4, 1856.14, 2604.44, 2510.92]\n"
     ]
    },
    {
     "name": "stderr",
     "output_type": "stream",
     "text": [
      "Updating tags:  86%|████████▌ | 3865/4491 [1:10:47<47:29,  4.55s/it]"
     ]
    },
    {
     "name": "stdout",
     "output_type": "stream",
     "text": [
      "Detected cake with confidence 0.996 at location [-0.69, 8.05, 2998.46, 3946.82]\n"
     ]
    },
    {
     "name": "stderr",
     "output_type": "stream",
     "text": [
      "Updating tags:  86%|████████▌ | 3868/4491 [1:10:59<43:28,  4.19s/it]"
     ]
    },
    {
     "name": "stdout",
     "output_type": "stream",
     "text": [
      "Detected person with confidence 0.959 at location [2459.03, 4837.34, 2499.93, 4925.66]\n",
      "Detected bench with confidence 0.927 at location [2315.59, 4464.42, 2571.87, 4661.65]\n"
     ]
    },
    {
     "name": "stderr",
     "output_type": "stream",
     "text": [
      "Updating tags:  86%|████████▌ | 3872/4491 [1:11:13<38:48,  3.76s/it]"
     ]
    },
    {
     "name": "stdout",
     "output_type": "stream",
     "text": [
      "Detected donut with confidence 0.996 at location [781.2, 1391.81, 2116.45, 2602.7]\n",
      "Detected person with confidence 0.986 at location [1436.76, 667.96, 3788.16, 3055.39]\n"
     ]
    },
    {
     "name": "stderr",
     "output_type": "stream",
     "text": [
      "Updating tags:  86%|████████▌ | 3873/4491 [1:11:17<39:02,  3.79s/it]"
     ]
    },
    {
     "name": "stdout",
     "output_type": "stream",
     "text": [
      "Detected person with confidence 0.999 at location [1198.85, 1205.84, 1645.57, 1688.19]\n"
     ]
    },
    {
     "name": "stderr",
     "output_type": "stream",
     "text": [
      "Updating tags:  86%|████████▋ | 3875/4491 [1:11:28<45:05,  4.39s/it]"
     ]
    },
    {
     "name": "stdout",
     "output_type": "stream",
     "text": [
      "Detected clock with confidence 0.975 at location [2038.27, 4852.09, 2478.31, 5230.99]\n"
     ]
    },
    {
     "name": "stderr",
     "output_type": "stream",
     "text": [
      "Updating tags:  86%|████████▋ | 3877/4491 [1:11:36<45:30,  4.45s/it]"
     ]
    },
    {
     "name": "stdout",
     "output_type": "stream",
     "text": [
      "Detected car with confidence 0.999 at location [1942.76, 166.33, 4760.38, 1838.32]\n",
      "Detected dog with confidence 1.0 at location [733.75, 720.85, 2589.11, 2447.51]\n",
      "Detected car with confidence 0.965 at location [3.15, 24.66, 1746.64, 986.04]\n",
      "Detected car with confidence 0.991 at location [2210.96, 135.86, 4053.54, 726.45]\n",
      "Detected truck with confidence 0.915 at location [2223.66, 132.95, 4055.36, 731.62]\n",
      "Detected car with confidence 0.971 at location [1699.01, 518.77, 2057.9, 740.7]\n"
     ]
    },
    {
     "name": "stderr",
     "output_type": "stream",
     "text": [
      "Updating tags:  86%|████████▋ | 3882/4491 [1:12:00<46:28,  4.58s/it]"
     ]
    },
    {
     "name": "stdout",
     "output_type": "stream",
     "text": [
      "Detected person with confidence 0.999 at location [1851.24, 1363.34, 3883.78, 3792.36]\n"
     ]
    },
    {
     "name": "stderr",
     "output_type": "stream",
     "text": [
      "Updating tags:  87%|████████▋ | 3887/4491 [1:12:23<45:32,  4.52s/it]"
     ]
    },
    {
     "name": "stdout",
     "output_type": "stream",
     "text": [
      "Detected teddy bear with confidence 0.987 at location [2328.23, 851.19, 3119.66, 1580.16]\n",
      "Detected teddy bear with confidence 0.978 at location [1719.87, 217.24, 2104.77, 606.86]\n",
      "Detected teddy bear with confidence 0.991 at location [1576.62, 837.0, 2013.28, 1338.21]\n",
      "Detected teddy bear with confidence 0.925 at location [1810.28, 1185.2, 2485.75, 1732.79]\n"
     ]
    },
    {
     "name": "stderr",
     "output_type": "stream",
     "text": [
      "Updating tags:  87%|████████▋ | 3888/4491 [1:12:27<43:30,  4.33s/it]"
     ]
    },
    {
     "name": "stdout",
     "output_type": "stream",
     "text": [
      "Detected horse with confidence 0.989 at location [1652.8, -0.91, 5168.38, 2737.32]\n",
      "Detected person with confidence 0.988 at location [-3.7, 970.07, 2057.39, 1795.77]\n"
     ]
    },
    {
     "name": "stderr",
     "output_type": "stream",
     "text": [
      "Updating tags:  87%|████████▋ | 3890/4491 [1:12:40<55:46,  5.57s/it]"
     ]
    },
    {
     "name": "stdout",
     "output_type": "stream",
     "text": [
      "Detected bowl with confidence 0.987 at location [512.46, 2236.57, 1113.49, 2745.81]\n",
      "Detected bowl with confidence 0.958 at location [164.05, 2357.56, 750.42, 2854.59]\n",
      "Detected dog with confidence 0.998 at location [-0.66, 1070.84, 3635.79, 3598.79]\n"
     ]
    },
    {
     "name": "stderr",
     "output_type": "stream",
     "text": [
      "Updating tags:  87%|████████▋ | 3893/4491 [1:12:51<42:53,  4.30s/it]"
     ]
    },
    {
     "name": "stdout",
     "output_type": "stream",
     "text": [
      "Detected car with confidence 0.967 at location [1862.25, 2704.23, 2065.56, 2787.95]\n",
      "Detected car with confidence 0.994 at location [1065.14, 2581.79, 1183.72, 2665.12]\n",
      "Detected car with confidence 0.994 at location [1416.25, 2644.48, 1596.59, 2732.29]\n",
      "Detected car with confidence 0.964 at location [1187.73, 2523.48, 1295.53, 2596.51]\n"
     ]
    },
    {
     "name": "stderr",
     "output_type": "stream",
     "text": [
      "Updating tags:  87%|████████▋ | 3895/4491 [1:13:04<54:26,  5.48s/it]"
     ]
    },
    {
     "name": "stdout",
     "output_type": "stream",
     "text": [
      "Detected potted plant with confidence 0.927 at location [675.84, 39.08, 2568.11, 4646.14]\n"
     ]
    },
    {
     "name": "stderr",
     "output_type": "stream",
     "text": [
      "Updating tags:  87%|████████▋ | 3900/4491 [1:13:22<39:09,  3.97s/it]"
     ]
    },
    {
     "name": "stdout",
     "output_type": "stream",
     "text": [
      "Detected vase with confidence 0.956 at location [0.94, 1813.47, 3591.27, 5912.22]\n"
     ]
    },
    {
     "name": "stderr",
     "output_type": "stream",
     "text": [
      "Updating tags:  87%|████████▋ | 3903/4491 [1:13:38<44:19,  4.52s/it]"
     ]
    },
    {
     "name": "stdout",
     "output_type": "stream",
     "text": [
      "Detected cat with confidence 0.998 at location [567.19, 690.06, 3032.49, 4538.2]\n"
     ]
    },
    {
     "name": "stderr",
     "output_type": "stream",
     "text": [
      "Updating tags:  87%|████████▋ | 3904/4491 [1:13:42<42:01,  4.30s/it]"
     ]
    },
    {
     "name": "stdout",
     "output_type": "stream",
     "text": [
      "Detected person with confidence 0.999 at location [2904.45, 1724.98, 3419.38, 2536.85]\n",
      "Detected person with confidence 0.999 at location [1694.5, 1705.8, 2079.83, 2574.98]\n",
      "Detected person with confidence 0.995 at location [2745.2, 1852.62, 2997.34, 2502.77]\n",
      "Detected person with confidence 0.999 at location [2109.53, 1881.07, 2362.69, 2515.25]\n",
      "Detected person with confidence 0.998 at location [1388.72, 1755.96, 1577.47, 2633.09]\n"
     ]
    },
    {
     "name": "stderr",
     "output_type": "stream",
     "text": [
      "Updating tags:  87%|████████▋ | 3906/4491 [1:13:50<39:28,  4.05s/it]"
     ]
    },
    {
     "name": "stdout",
     "output_type": "stream",
     "text": [
      "Detected dog with confidence 1.0 at location [857.87, 1720.67, 2879.42, 5205.69]\n"
     ]
    },
    {
     "name": "stderr",
     "output_type": "stream",
     "text": [
      "Updating tags:  87%|████████▋ | 3908/4491 [1:14:00<43:32,  4.48s/it]"
     ]
    },
    {
     "name": "stdout",
     "output_type": "stream",
     "text": [
      "Detected bowl with confidence 0.993 at location [2134.75, 4153.87, 3352.84, 5187.98]\n",
      "Detected dog with confidence 1.0 at location [782.48, 1716.91, 2446.22, 4608.65]\n"
     ]
    },
    {
     "name": "stderr",
     "output_type": "stream",
     "text": [
      "Updating tags:  87%|████████▋ | 3909/4491 [1:14:04<40:56,  4.22s/it]"
     ]
    },
    {
     "name": "stdout",
     "output_type": "stream",
     "text": [
      "Detected dog with confidence 1.0 at location [2478.13, 1097.28, 3655.74, 2811.18]\n"
     ]
    },
    {
     "name": "stderr",
     "output_type": "stream",
     "text": [
      "Updating tags:  87%|████████▋ | 3913/4491 [1:14:23<48:25,  5.03s/it]/Users/yannisteissier/Documents/bigdata/projet/venv/lib/python3.9/site-packages/PIL/Image.py:3167: DecompressionBombWarning: Image size (96000000 pixels) exceeds limit of 89478485 pixels, could be decompression bomb DOS attack.\n",
      "  warnings.warn(\n",
      "Updating tags:  87%|████████▋ | 3917/4491 [1:14:39<39:43,  4.15s/it]"
     ]
    },
    {
     "name": "stdout",
     "output_type": "stream",
     "text": [
      "Detected person with confidence 0.966 at location [1266.76, 2683.1, 1441.39, 2900.31]\n"
     ]
    },
    {
     "name": "stderr",
     "output_type": "stream",
     "text": [
      "Updating tags:  87%|████████▋ | 3918/4491 [1:14:47<50:47,  5.32s/it]"
     ]
    },
    {
     "name": "stdout",
     "output_type": "stream",
     "text": [
      "Detected bird with confidence 0.977 at location [2413.32, 1137.21, 3822.66, 1866.38]\n",
      "Detected bird with confidence 0.99 at location [3643.23, 1208.97, 4403.18, 1575.6]\n"
     ]
    },
    {
     "name": "stderr",
     "output_type": "stream",
     "text": [
      "Updating tags:  87%|████████▋ | 3919/4491 [1:14:51<46:33,  4.88s/it]"
     ]
    },
    {
     "name": "stdout",
     "output_type": "stream",
     "text": [
      "Detected person with confidence 0.992 at location [1358.54, 8.74, 5988.52, 3938.03]\n"
     ]
    },
    {
     "name": "stderr",
     "output_type": "stream",
     "text": [
      "Updating tags:  87%|████████▋ | 3924/4491 [1:30:17<43:30:28, 276.24s/it]"
     ]
    },
    {
     "name": "stdout",
     "output_type": "stream",
     "text": [
      "Detected sheep with confidence 0.941 at location [713.3, 393.4, 3011.58, 2278.92]\n"
     ]
    },
    {
     "name": "stderr",
     "output_type": "stream",
     "text": [
      "Updating tags:  87%|████████▋ | 3928/4491 [1:30:37<10:56:01, 69.91s/it] "
     ]
    },
    {
     "name": "stdout",
     "output_type": "stream",
     "text": [
      "Detected person with confidence 0.987 at location [1.35, 1953.54, 2705.06, 4553.66]\n",
      "Detected cell phone with confidence 0.999 at location [1400.59, 1757.51, 1837.82, 2567.43]\n"
     ]
    },
    {
     "name": "stderr",
     "output_type": "stream",
     "text": [
      "Updating tags:  87%|████████▋ | 3929/4491 [1:30:41<7:49:13, 50.09s/it] "
     ]
    },
    {
     "name": "stdout",
     "output_type": "stream",
     "text": [
      "Detected tie with confidence 0.959 at location [689.04, 2079.26, 2009.84, 3976.23]\n"
     ]
    },
    {
     "name": "stderr",
     "output_type": "stream",
     "text": [
      "Updating tags:  88%|████████▊ | 3930/4491 [1:30:50<5:53:02, 37.76s/it]"
     ]
    },
    {
     "name": "stdout",
     "output_type": "stream",
     "text": [
      "Detected broccoli with confidence 0.952 at location [1909.41, 851.48, 2302.6, 1152.15]\n"
     ]
    },
    {
     "name": "stderr",
     "output_type": "stream",
     "text": [
      "Updating tags:  88%|████████▊ | 3931/4491 [1:30:54<4:16:50, 27.52s/it]"
     ]
    },
    {
     "name": "stdout",
     "output_type": "stream",
     "text": [
      "Detected person with confidence 0.995 at location [242.49, 17.26, 5441.03, 7062.07]\n"
     ]
    },
    {
     "name": "stderr",
     "output_type": "stream",
     "text": [
      "Updating tags:  88%|████████▊ | 3933/4491 [1:34:40<9:29:14, 61.21s/it] "
     ]
    },
    {
     "name": "stdout",
     "output_type": "stream",
     "text": [
      "Detected bird with confidence 0.983 at location [2095.89, 975.92, 2175.55, 1005.52]\n",
      "Detected bird with confidence 0.926 at location [573.48, 1115.72, 636.03, 1147.33]\n",
      "Detected bird with confidence 0.952 at location [911.76, 1134.61, 973.36, 1169.43]\n",
      "Detected bird with confidence 0.967 at location [1331.23, 1067.77, 1408.54, 1093.9]\n",
      "Detected bird with confidence 0.993 at location [2407.07, 933.56, 2494.26, 974.38]\n",
      "Detected bird with confidence 0.991 at location [3099.45, 874.79, 3192.18, 913.91]\n",
      "Detected bird with confidence 0.992 at location [3516.63, 927.72, 3608.04, 984.85]\n",
      "Detected bird with confidence 0.944 at location [759.25, 1146.48, 833.91, 1185.32]\n",
      "Detected bird with confidence 0.981 at location [1786.49, 989.61, 1871.15, 1018.25]\n",
      "Detected bird with confidence 0.955 at location [1088.06, 1087.33, 1156.14, 1119.99]\n",
      "Detected bird with confidence 0.989 at location [2719.47, 920.86, 2806.54, 967.71]\n"
     ]
    },
    {
     "name": "stderr",
     "output_type": "stream",
     "text": [
      "Updating tags:  88%|████████▊ | 3942/4491 [1:35:35<1:12:39,  7.94s/it]"
     ]
    },
    {
     "name": "stdout",
     "output_type": "stream",
     "text": [
      "Detected truck with confidence 0.991 at location [502.12, 447.71, 636.13, 527.16]\n"
     ]
    },
    {
     "name": "stderr",
     "output_type": "stream",
     "text": [
      "Updating tags:  88%|████████▊ | 3945/4491 [1:36:15<1:56:31, 12.80s/it]"
     ]
    },
    {
     "name": "stdout",
     "output_type": "stream",
     "text": [
      "Detected cat with confidence 0.995 at location [420.65, 377.61, 4004.83, 3407.14]\n"
     ]
    },
    {
     "name": "stderr",
     "output_type": "stream",
     "text": [
      "Updating tags:  88%|████████▊ | 3946/4491 [1:36:39<2:26:35, 16.14s/it]"
     ]
    },
    {
     "name": "stdout",
     "output_type": "stream",
     "text": [
      "Detected sports ball with confidence 0.933 at location [879.62, 3280.42, 1400.48, 3376.1]\n",
      "Detected dog with confidence 1.0 at location [2197.64, 138.11, 6000.01, 3330.16]\n"
     ]
    },
    {
     "name": "stderr",
     "output_type": "stream",
     "text": [
      "Updating tags:  88%|████████▊ | 3947/4491 [1:37:04<2:48:12, 18.55s/it]"
     ]
    },
    {
     "name": "stdout",
     "output_type": "stream",
     "text": [
      "Detected cat with confidence 0.928 at location [726.54, 1162.94, 3324.66, 3377.97]\n",
      "Detected cat with confidence 0.91 at location [525.77, 1096.81, 3319.58, 3372.78]\n"
     ]
    },
    {
     "name": "stderr",
     "output_type": "stream",
     "text": [
      "Updating tags:  88%|████████▊ | 3948/4491 [1:37:27<3:02:09, 20.13s/it]"
     ]
    },
    {
     "name": "stdout",
     "output_type": "stream",
     "text": [
      "Detected person with confidence 0.998 at location [3206.48, 2357.77, 3512.25, 2947.86]\n",
      "Detected person with confidence 0.981 at location [1518.22, 1082.98, 1887.79, 2079.87]\n"
     ]
    },
    {
     "name": "stderr",
     "output_type": "stream",
     "text": [
      "Updating tags:  88%|████████▊ | 3949/4491 [1:37:52<3:15:07, 21.60s/it]"
     ]
    },
    {
     "name": "stdout",
     "output_type": "stream",
     "text": [
      "Detected orange with confidence 0.98 at location [1022.23, 1000.93, 3327.2, 3101.65]\n",
      "Detected bowl with confidence 0.978 at location [891.12, 836.47, 3358.15, 3245.48]\n",
      "Detected orange with confidence 0.903 at location [1095.51, 1368.34, 1874.31, 2005.32]\n"
     ]
    },
    {
     "name": "stderr",
     "output_type": "stream",
     "text": [
      "Updating tags:  88%|████████▊ | 3950/4491 [1:38:17<3:22:01, 22.40s/it]"
     ]
    },
    {
     "name": "stdout",
     "output_type": "stream",
     "text": [
      "Detected person with confidence 0.999 at location [1805.72, 4818.95, 2008.42, 5355.93]\n"
     ]
    },
    {
     "name": "stderr",
     "output_type": "stream",
     "text": [
      "Updating tags:  88%|████████▊ | 3954/4491 [1:39:32<2:36:21, 17.47s/it]"
     ]
    },
    {
     "name": "stdout",
     "output_type": "stream",
     "text": [
      "Detected dog with confidence 0.997 at location [5.03, 2414.88, 4162.55, 8141.77]\n",
      "Detected person with confidence 0.986 at location [4.76, 15.35, 4132.37, 8158.57]\n"
     ]
    },
    {
     "name": "stderr",
     "output_type": "stream",
     "text": [
      "Updating tags:  88%|████████▊ | 3967/4491 [1:40:23<33:45,  3.87s/it]  "
     ]
    },
    {
     "name": "stdout",
     "output_type": "stream",
     "text": [
      "Detected person with confidence 0.999 at location [1028.8, 1797.62, 1327.61, 2483.87]\n"
     ]
    },
    {
     "name": "stderr",
     "output_type": "stream",
     "text": [
      "Updating tags:  88%|████████▊ | 3968/4491 [1:40:26<32:30,  3.73s/it]"
     ]
    },
    {
     "name": "stdout",
     "output_type": "stream",
     "text": [
      "Detected person with confidence 0.999 at location [967.09, 4285.84, 2986.59, 6657.66]\n"
     ]
    },
    {
     "name": "stderr",
     "output_type": "stream",
     "text": [
      "Updating tags:  88%|████████▊ | 3972/4491 [1:40:48<48:36,  5.62s/it]"
     ]
    },
    {
     "name": "stdout",
     "output_type": "stream",
     "text": [
      "Detected bird with confidence 0.999 at location [1676.9, 593.79, 3224.78, 2238.91]\n"
     ]
    },
    {
     "name": "stderr",
     "output_type": "stream",
     "text": [
      "Updating tags:  88%|████████▊ | 3973/4491 [1:40:55<52:41,  6.10s/it]"
     ]
    },
    {
     "name": "stdout",
     "output_type": "stream",
     "text": [
      "Detected elephant with confidence 0.993 at location [-0.32, 614.19, 2477.11, 3046.87]\n"
     ]
    },
    {
     "name": "stderr",
     "output_type": "stream",
     "text": [
      "Updating tags:  88%|████████▊ | 3974/4491 [1:40:59<47:29,  5.51s/it]"
     ]
    },
    {
     "name": "stdout",
     "output_type": "stream",
     "text": [
      "Detected boat with confidence 0.978 at location [1570.01, 1884.44, 1702.58, 2258.19]\n"
     ]
    },
    {
     "name": "stderr",
     "output_type": "stream",
     "text": [
      "Updating tags:  89%|████████▊ | 3976/4491 [1:41:06<38:25,  4.48s/it]"
     ]
    },
    {
     "name": "stdout",
     "output_type": "stream",
     "text": [
      "Detected elephant with confidence 0.984 at location [-1.09, 736.66, 3470.01, 3406.42]\n"
     ]
    },
    {
     "name": "stderr",
     "output_type": "stream",
     "text": [
      "Updating tags:  89%|████████▊ | 3977/4491 [1:41:10<37:22,  4.36s/it]"
     ]
    },
    {
     "name": "stdout",
     "output_type": "stream",
     "text": [
      "Detected person with confidence 0.924 at location [3797.77, 5158.9, 3863.22, 5330.82]\n",
      "Detected person with confidence 0.982 at location [2471.62, 5313.84, 2537.09, 5509.97]\n",
      "Detected person with confidence 0.948 at location [583.2, 5389.09, 665.74, 5608.92]\n",
      "Detected person with confidence 0.987 at location [3216.02, 5214.7, 3309.81, 5432.56]\n",
      "Detected person with confidence 0.941 at location [3342.46, 5189.47, 3422.16, 5377.45]\n",
      "Detected person with confidence 0.98 at location [2778.57, 5277.46, 2844.01, 5454.11]\n",
      "Detected person with confidence 0.957 at location [3621.34, 5183.41, 3681.71, 5357.72]\n",
      "Detected person with confidence 0.986 at location [338.42, 5422.29, 441.12, 5670.17]\n",
      "Detected person with confidence 0.924 at location [3022.19, 5247.38, 3101.72, 5465.88]\n",
      "Detected person with confidence 0.975 at location [771.97, 5383.51, 859.41, 5599.69]\n",
      "Detected person with confidence 0.935 at location [690.24, 5383.94, 767.01, 5582.46]\n",
      "Detected person with confidence 0.951 at location [575.95, 5389.77, 659.8, 5611.37]\n",
      "Detected person with confidence 0.957 at location [67.3, 5411.31, 175.09, 5644.91]\n",
      "Detected person with confidence 0.982 at location [2337.16, 5309.49, 2402.47, 5516.7]\n"
     ]
    },
    {
     "name": "stderr",
     "output_type": "stream",
     "text": [
      "Updating tags:  89%|████████▊ | 3978/4491 [1:41:15<36:57,  4.32s/it]"
     ]
    },
    {
     "name": "stdout",
     "output_type": "stream",
     "text": [
      "Detected cell phone with confidence 0.99 at location [2568.6, 1214.04, 2705.24, 1377.83]\n",
      "Detected person with confidence 0.997 at location [1546.81, 722.04, 4116.65, 3881.09]\n"
     ]
    },
    {
     "name": "stderr",
     "output_type": "stream",
     "text": [
      "Updating tags:  89%|████████▊ | 3980/4491 [1:41:22<33:27,  3.93s/it]"
     ]
    },
    {
     "name": "stdout",
     "output_type": "stream",
     "text": [
      "Detected bowl with confidence 0.959 at location [2005.29, 2849.82, 3117.49, 3789.32]\n"
     ]
    },
    {
     "name": "stderr",
     "output_type": "stream",
     "text": [
      "Updating tags:  89%|████████▊ | 3982/4491 [1:41:30<32:44,  3.86s/it]"
     ]
    },
    {
     "name": "stdout",
     "output_type": "stream",
     "text": [
      "Detected dog with confidence 0.988 at location [802.95, 216.55, 2718.09, 3334.08]\n"
     ]
    },
    {
     "name": "stderr",
     "output_type": "stream",
     "text": [
      "Updating tags:  89%|████████▊ | 3984/4491 [1:41:37<32:49,  3.88s/it]"
     ]
    },
    {
     "name": "stdout",
     "output_type": "stream",
     "text": [
      "Detected banana with confidence 0.985 at location [254.66, 1542.87, 2560.1, 3086.96]\n",
      "Detected banana with confidence 0.904 at location [10.98, 6.44, 2680.87, 1169.76]\n",
      "Detected banana with confidence 0.961 at location [7.49, 3262.17, 1621.97, 4962.51]\n",
      "Detected banana with confidence 0.991 at location [1564.75, 2917.55, 3636.5, 4809.65]\n"
     ]
    },
    {
     "name": "stderr",
     "output_type": "stream",
     "text": [
      "Updating tags:  89%|████████▊ | 3985/4491 [1:41:42<33:56,  4.02s/it]"
     ]
    },
    {
     "name": "stdout",
     "output_type": "stream",
     "text": [
      "Detected dog with confidence 1.0 at location [3.08, 930.36, 2681.35, 3814.98]\n"
     ]
    },
    {
     "name": "stderr",
     "output_type": "stream",
     "text": [
      "Updating tags:  89%|████████▉ | 3993/4491 [1:42:14<34:34,  4.17s/it]"
     ]
    },
    {
     "name": "stdout",
     "output_type": "stream",
     "text": [
      "Detected dog with confidence 1.0 at location [895.9, 661.16, 2348.81, 3192.56]\n"
     ]
    },
    {
     "name": "stderr",
     "output_type": "stream",
     "text": [
      "Updating tags:  89%|████████▉ | 3997/4491 [1:42:31<36:15,  4.40s/it]"
     ]
    },
    {
     "name": "stdout",
     "output_type": "stream",
     "text": [
      "Detected sheep with confidence 0.977 at location [961.75, 1138.7, 1241.06, 1508.69]\n"
     ]
    },
    {
     "name": "stderr",
     "output_type": "stream",
     "text": [
      "Updating tags:  89%|████████▉ | 4000/4491 [1:42:43<32:36,  3.98s/it]"
     ]
    },
    {
     "name": "stdout",
     "output_type": "stream",
     "text": [
      "Detected potted plant with confidence 0.959 at location [-0.46, 136.96, 4605.65, 3409.46]\n"
     ]
    },
    {
     "name": "stderr",
     "output_type": "stream",
     "text": [
      "Updating tags:  89%|████████▉ | 4002/4491 [1:42:50<31:27,  3.86s/it]"
     ]
    },
    {
     "name": "stdout",
     "output_type": "stream",
     "text": [
      "Detected potted plant with confidence 0.914 at location [862.35, 518.72, 4175.02, 3192.89]\n"
     ]
    },
    {
     "name": "stderr",
     "output_type": "stream",
     "text": [
      "Updating tags:  89%|████████▉ | 4006/4491 [1:43:05<30:51,  3.82s/it]"
     ]
    },
    {
     "name": "stdout",
     "output_type": "stream",
     "text": [
      "Detected skateboard with confidence 0.951 at location [1298.06, 2679.61, 1883.33, 3136.0]\n"
     ]
    },
    {
     "name": "stderr",
     "output_type": "stream",
     "text": [
      "Updating tags:  89%|████████▉ | 4008/4491 [1:43:13<30:38,  3.81s/it]"
     ]
    },
    {
     "name": "stdout",
     "output_type": "stream",
     "text": [
      "Detected frisbee with confidence 0.987 at location [2562.9, 1693.83, 3450.96, 2572.81]\n"
     ]
    },
    {
     "name": "stderr",
     "output_type": "stream",
     "text": [
      "Updating tags:  89%|████████▉ | 4011/4491 [1:43:23<27:33,  3.44s/it]"
     ]
    },
    {
     "name": "stdout",
     "output_type": "stream",
     "text": [
      "Detected person with confidence 0.991 at location [1893.23, 0.3, 2009.75, 164.62]\n",
      "Detected person with confidence 0.995 at location [1697.82, 0.05, 1810.47, 163.0]\n",
      "Detected person with confidence 0.995 at location [1424.06, -0.2, 1527.59, 130.8]\n",
      "Detected person with confidence 1.0 at location [1309.95, 778.29, 1556.13, 1260.18]\n",
      "Detected person with confidence 0.994 at location [1224.54, -0.32, 1352.34, 149.53]\n"
     ]
    },
    {
     "name": "stderr",
     "output_type": "stream",
     "text": [
      "Updating tags:  89%|████████▉ | 4016/4491 [1:43:43<30:43,  3.88s/it]"
     ]
    },
    {
     "name": "stdout",
     "output_type": "stream",
     "text": [
      "Detected cat with confidence 0.995 at location [870.52, 345.55, 3635.62, 2716.99]\n"
     ]
    },
    {
     "name": "stderr",
     "output_type": "stream",
     "text": [
      "Updating tags:  89%|████████▉ | 4017/4491 [1:43:47<30:52,  3.91s/it]"
     ]
    },
    {
     "name": "stdout",
     "output_type": "stream",
     "text": [
      "Detected potted plant with confidence 0.927 at location [0.92, 7.04, 3996.19, 5504.72]\n"
     ]
    },
    {
     "name": "stderr",
     "output_type": "stream",
     "text": [
      "Updating tags:  90%|████████▉ | 4020/4491 [1:43:58<30:24,  3.87s/it]"
     ]
    },
    {
     "name": "stdout",
     "output_type": "stream",
     "text": [
      "Detected potted plant with confidence 0.98 at location [1883.13, 1634.61, 7150.65, 5298.47]\n"
     ]
    },
    {
     "name": "stderr",
     "output_type": "stream",
     "text": [
      "Updating tags:  90%|████████▉ | 4023/4491 [1:44:11<30:59,  3.97s/it]"
     ]
    },
    {
     "name": "stdout",
     "output_type": "stream",
     "text": [
      "Detected person with confidence 0.998 at location [3923.82, 1776.64, 4623.54, 2788.95]\n"
     ]
    },
    {
     "name": "stderr",
     "output_type": "stream",
     "text": [
      "Updating tags:  90%|████████▉ | 4026/4491 [1:44:23<32:35,  4.20s/it]"
     ]
    },
    {
     "name": "stdout",
     "output_type": "stream",
     "text": [
      "Detected person with confidence 0.903 at location [963.06, 5034.3, 999.53, 5118.14]\n"
     ]
    },
    {
     "name": "stderr",
     "output_type": "stream",
     "text": [
      "Updating tags:  90%|████████▉ | 4029/4491 [1:44:35<30:58,  4.02s/it]"
     ]
    },
    {
     "name": "stdout",
     "output_type": "stream",
     "text": [
      "Detected surfboard with confidence 0.993 at location [2768.3, 498.75, 3397.89, 1926.82]\n",
      "Detected person with confidence 0.999 at location [2894.55, 783.22, 3883.08, 1697.19]\n"
     ]
    },
    {
     "name": "stderr",
     "output_type": "stream",
     "text": [
      "Updating tags:  90%|████████▉ | 4034/4491 [1:44:55<29:35,  3.88s/it]"
     ]
    },
    {
     "name": "stdout",
     "output_type": "stream",
     "text": [
      "Detected apple with confidence 0.97 at location [2591.84, 2537.17, 2727.55, 2660.54]\n",
      "Detected broccoli with confidence 0.918 at location [3.3, 3029.85, 1009.78, 3397.74]\n",
      "Detected apple with confidence 0.997 at location [1432.42, 2314.05, 1695.84, 2556.41]\n",
      "Detected apple with confidence 0.942 at location [440.17, 556.37, 531.66, 656.89]\n",
      "Detected broccoli with confidence 0.903 at location [1138.97, 1341.59, 1388.03, 1678.9]\n"
     ]
    },
    {
     "name": "stderr",
     "output_type": "stream",
     "text": [
      "Updating tags:  90%|████████▉ | 4036/4491 [1:45:02<27:38,  3.64s/it]"
     ]
    },
    {
     "name": "stdout",
     "output_type": "stream",
     "text": [
      "Detected frisbee with confidence 0.971 at location [2031.62, 1415.65, 2579.36, 1893.96]\n"
     ]
    },
    {
     "name": "stderr",
     "output_type": "stream",
     "text": [
      "Updating tags:  90%|████████▉ | 4037/4491 [1:45:05<25:50,  3.41s/it]"
     ]
    },
    {
     "name": "stdout",
     "output_type": "stream",
     "text": [
      "Detected vase with confidence 0.929 at location [1056.49, 2546.72, 1784.69, 3616.68]\n",
      "Detected dog with confidence 1.0 at location [2075.44, 1338.29, 3941.85, 3593.11]\n"
     ]
    },
    {
     "name": "stderr",
     "output_type": "stream",
     "text": [
      "Updating tags:  90%|████████▉ | 4038/4491 [1:45:09<26:54,  3.56s/it]"
     ]
    },
    {
     "name": "stdout",
     "output_type": "stream",
     "text": [
      "Detected cat with confidence 0.999 at location [422.59, 2005.93, 1185.49, 2722.64]\n",
      "Detected person with confidence 0.983 at location [2002.11, 649.57, 3258.3, 2019.43]\n"
     ]
    },
    {
     "name": "stderr",
     "output_type": "stream",
     "text": [
      "Updating tags:  90%|████████▉ | 4039/4491 [1:45:13<27:38,  3.67s/it]"
     ]
    },
    {
     "name": "stdout",
     "output_type": "stream",
     "text": [
      "Detected airplane with confidence 0.971 at location [667.36, 3863.92, 1008.76, 4007.61]\n"
     ]
    },
    {
     "name": "stderr",
     "output_type": "stream",
     "text": [
      "Updating tags:  90%|████████▉ | 4040/4491 [1:45:16<27:55,  3.71s/it]"
     ]
    },
    {
     "name": "stdout",
     "output_type": "stream",
     "text": [
      "Detected car with confidence 0.997 at location [2267.61, 1660.01, 2429.21, 1773.99]\n"
     ]
    },
    {
     "name": "stderr",
     "output_type": "stream",
     "text": [
      "Updating tags:  90%|█████████ | 4043/4491 [1:45:27<26:18,  3.52s/it]"
     ]
    },
    {
     "name": "stdout",
     "output_type": "stream",
     "text": [
      "Detected boat with confidence 0.997 at location [1958.87, 1641.36, 2743.69, 1878.65]\n"
     ]
    },
    {
     "name": "stderr",
     "output_type": "stream",
     "text": [
      "Updating tags:  90%|█████████ | 4044/4491 [1:45:31<27:25,  3.68s/it]"
     ]
    },
    {
     "name": "stdout",
     "output_type": "stream",
     "text": [
      "Detected person with confidence 0.997 at location [1654.44, 3034.94, 1768.5, 3316.56]\n",
      "Detected person with confidence 0.998 at location [1418.07, 3031.76, 1551.07, 3341.2]\n"
     ]
    },
    {
     "name": "stderr",
     "output_type": "stream",
     "text": [
      "Updating tags:  90%|█████████ | 4047/4491 [1:45:44<30:04,  4.06s/it]"
     ]
    },
    {
     "name": "stdout",
     "output_type": "stream",
     "text": [
      "Detected person with confidence 0.998 at location [835.51, 2384.75, 962.38, 2732.48]\n",
      "Detected person with confidence 0.998 at location [973.62, 2340.3, 1120.15, 2737.67]\n"
     ]
    },
    {
     "name": "stderr",
     "output_type": "stream",
     "text": [
      "Updating tags:  90%|█████████ | 4050/4491 [1:45:54<25:46,  3.51s/it]"
     ]
    },
    {
     "name": "stdout",
     "output_type": "stream",
     "text": [
      "Detected vase with confidence 0.999 at location [1242.93, 2779.8, 1933.34, 3680.17]\n",
      "Detected potted plant with confidence 0.963 at location [133.24, 505.29, 2931.16, 3651.14]\n",
      "Detected backpack with confidence 0.998 at location [2250.65, 2721.04, 2754.58, 3553.42]\n",
      "Detected person with confidence 1.0 at location [1997.36, 2308.48, 3058.94, 5141.34]\n"
     ]
    },
    {
     "name": "stderr",
     "output_type": "stream",
     "text": [
      "Updating tags:  90%|█████████ | 4051/4491 [1:45:58<27:30,  3.75s/it]"
     ]
    },
    {
     "name": "stdout",
     "output_type": "stream",
     "text": [
      "Detected bird with confidence 0.999 at location [882.7, 859.09, 3284.06, 3591.79]\n"
     ]
    },
    {
     "name": "stderr",
     "output_type": "stream",
     "text": [
      "Updating tags:  90%|█████████ | 4056/4491 [1:46:19<29:02,  4.00s/it]"
     ]
    },
    {
     "name": "stdout",
     "output_type": "stream",
     "text": [
      "Detected cat with confidence 0.997 at location [804.53, 2649.88, 1809.04, 4022.15]\n"
     ]
    },
    {
     "name": "stderr",
     "output_type": "stream",
     "text": [
      "Updating tags:  90%|█████████ | 4058/4491 [1:46:27<29:14,  4.05s/it]"
     ]
    },
    {
     "name": "stdout",
     "output_type": "stream",
     "text": [
      "Detected bird with confidence 1.0 at location [1233.47, 453.05, 2311.41, 1778.59]\n"
     ]
    },
    {
     "name": "stderr",
     "output_type": "stream",
     "text": [
      "Updating tags:  90%|█████████ | 4059/4491 [1:46:31<28:53,  4.01s/it]"
     ]
    },
    {
     "name": "stdout",
     "output_type": "stream",
     "text": [
      "Detected bird with confidence 1.0 at location [556.16, 1039.05, 1180.89, 1631.56]\n"
     ]
    },
    {
     "name": "stderr",
     "output_type": "stream",
     "text": [
      "Updating tags:  90%|█████████ | 4062/4491 [1:46:43<28:05,  3.93s/it]"
     ]
    },
    {
     "name": "stdout",
     "output_type": "stream",
     "text": [
      "Detected bed with confidence 0.982 at location [-1.1, 6.01, 3990.12, 2953.55]\n",
      "Detected dog with confidence 1.0 at location [1000.16, 976.54, 1904.66, 2710.07]\n"
     ]
    },
    {
     "name": "stderr",
     "output_type": "stream",
     "text": [
      "Updating tags:  90%|█████████ | 4064/4491 [1:46:56<35:49,  5.03s/it]"
     ]
    },
    {
     "name": "stdout",
     "output_type": "stream",
     "text": [
      "Detected person with confidence 0.99 at location [1950.36, 2792.57, 2204.51, 3083.27]\n",
      "Detected person with confidence 0.985 at location [2158.68, 2811.76, 2394.7, 3076.9]\n",
      "Detected truck with confidence 0.923 at location [1845.52, 2917.85, 2490.16, 3448.28]\n"
     ]
    },
    {
     "name": "stderr",
     "output_type": "stream",
     "text": [
      "Updating tags:  91%|█████████ | 4066/4491 [1:47:06<35:48,  5.05s/it]"
     ]
    },
    {
     "name": "stdout",
     "output_type": "stream",
     "text": [
      "Detected person with confidence 0.984 at location [3640.65, 1953.77, 3678.5, 2014.85]\n",
      "Detected person with confidence 0.987 at location [2848.88, 1960.6, 2891.03, 2022.36]\n",
      "Detected person with confidence 0.993 at location [3254.39, 1957.76, 3300.13, 2053.7]\n",
      "Detected person with confidence 0.984 at location [3436.07, 2127.21, 3501.8, 2225.87]\n",
      "Detected person with confidence 0.921 at location [2849.3, 1962.91, 2888.39, 2022.17]\n",
      "Detected person with confidence 0.971 at location [3084.58, 1951.3, 3125.47, 2004.57]\n",
      "Detected person with confidence 0.984 at location [3346.49, 1910.61, 3387.87, 2006.43]\n",
      "Detected person with confidence 0.977 at location [3573.71, 2065.68, 3639.44, 2159.98]\n",
      "Detected person with confidence 0.933 at location [3345.29, 1913.88, 3384.43, 2009.24]\n",
      "Detected person with confidence 0.985 at location [3179.46, 1941.84, 3227.95, 2001.0]\n",
      "Detected person with confidence 0.994 at location [3478.19, 1896.27, 3522.03, 2003.47]\n",
      "Detected person with confidence 0.96 at location [3405.06, 1948.16, 3452.22, 2002.04]\n"
     ]
    },
    {
     "name": "stderr",
     "output_type": "stream",
     "text": [
      "Updating tags:  91%|█████████ | 4069/4491 [1:47:18<31:13,  4.44s/it]"
     ]
    },
    {
     "name": "stdout",
     "output_type": "stream",
     "text": [
      "Detected bench with confidence 0.995 at location [504.07, 3017.4, 1102.41, 3463.76]\n",
      "Detected bench with confidence 0.922 at location [2321.45, 3494.27, 3998.17, 4791.22]\n",
      "Detected bench with confidence 0.959 at location [1.51, 2527.87, 465.81, 2974.54]\n",
      "Detected bench with confidence 0.973 at location [911.59, 3354.46, 1929.27, 4024.71]\n",
      "Detected bench with confidence 0.996 at location [1996.29, 4355.4, 3995.34, 5939.33]\n",
      "Detected bench with confidence 0.991 at location [212.02, 2772.79, 638.04, 3155.26]\n",
      "Detected handbag with confidence 0.999 at location [1041.99, 2735.33, 1662.54, 3377.19]\n",
      "Detected person with confidence 1.0 at location [964.46, 806.83, 2221.75, 5213.97]\n"
     ]
    },
    {
     "name": "stderr",
     "output_type": "stream",
     "text": [
      "Updating tags:  91%|█████████ | 4070/4491 [1:47:23<31:13,  4.45s/it]"
     ]
    },
    {
     "name": "stdout",
     "output_type": "stream",
     "text": [
      "Detected backpack with confidence 0.903 at location [1875.11, 4282.16, 2045.05, 4431.46]\n",
      "Detected person with confidence 0.999 at location [1759.93, 4114.7, 2171.85, 4818.04]\n"
     ]
    },
    {
     "name": "stderr",
     "output_type": "stream",
     "text": [
      "Updating tags:  91%|█████████ | 4071/4491 [1:47:26<29:14,  4.18s/it]"
     ]
    },
    {
     "name": "stdout",
     "output_type": "stream",
     "text": [
      "Detected person with confidence 0.99 at location [2747.33, 2000.44, 2797.81, 2066.68]\n",
      "Detected surfboard with confidence 0.994 at location [1361.16, 2573.67, 1541.95, 2623.64]\n",
      "Detected person with confidence 0.999 at location [1386.96, 2403.87, 1493.72, 2594.44]\n",
      "Detected person with confidence 0.962 at location [2906.09, 1995.75, 2940.63, 2059.75]\n"
     ]
    },
    {
     "name": "stderr",
     "output_type": "stream",
     "text": [
      "Updating tags:  91%|█████████ | 4074/4491 [1:47:37<25:57,  3.73s/it]"
     ]
    },
    {
     "name": "stdout",
     "output_type": "stream",
     "text": [
      "Detected dog with confidence 1.0 at location [81.15, 2030.88, 4635.96, 7749.96]\n"
     ]
    },
    {
     "name": "stderr",
     "output_type": "stream",
     "text": [
      "Updating tags:  91%|█████████ | 4075/4491 [1:47:41<25:56,  3.74s/it]"
     ]
    },
    {
     "name": "stdout",
     "output_type": "stream",
     "text": [
      "Detected umbrella with confidence 0.995 at location [2856.52, 838.62, 5200.31, 3088.2]\n",
      "Detected umbrella with confidence 0.985 at location [6144.84, 17.6, 7944.85, 1809.97]\n"
     ]
    },
    {
     "name": "stderr",
     "output_type": "stream",
     "text": [
      "Updating tags:  91%|█████████ | 4080/4491 [1:48:01<25:56,  3.79s/it]"
     ]
    },
    {
     "name": "stdout",
     "output_type": "stream",
     "text": [
      "Detected person with confidence 0.998 at location [1747.87, 3430.53, 1799.98, 3574.61]\n"
     ]
    },
    {
     "name": "stderr",
     "output_type": "stream",
     "text": [
      "Updating tags:  91%|█████████ | 4081/4491 [1:48:04<25:33,  3.74s/it]"
     ]
    },
    {
     "name": "stdout",
     "output_type": "stream",
     "text": [
      "Detected person with confidence 0.997 at location [1744.26, 1548.09, 1811.13, 1742.76]\n"
     ]
    },
    {
     "name": "stderr",
     "output_type": "stream",
     "text": [
      "Updating tags:  91%|█████████ | 4082/4491 [1:48:08<25:36,  3.76s/it]"
     ]
    },
    {
     "name": "stdout",
     "output_type": "stream",
     "text": [
      "Detected handbag with confidence 0.983 at location [3132.79, 2964.24, 3292.51, 3179.3]\n",
      "Detected person with confidence 1.0 at location [2933.34, 2854.58, 3298.82, 3407.95]\n"
     ]
    },
    {
     "name": "stderr",
     "output_type": "stream",
     "text": [
      "Updating tags:  91%|█████████ | 4083/4491 [1:48:13<27:20,  4.02s/it]"
     ]
    },
    {
     "name": "stdout",
     "output_type": "stream",
     "text": [
      "Detected person with confidence 0.995 at location [151.05, 1922.31, 3644.05, 5391.16]\n"
     ]
    },
    {
     "name": "stderr",
     "output_type": "stream",
     "text": [
      "Updating tags:  91%|█████████ | 4087/4491 [1:48:28<25:20,  3.76s/it]"
     ]
    },
    {
     "name": "stdout",
     "output_type": "stream",
     "text": [
      "Detected vase with confidence 0.958 at location [4411.05, 576.41, 6438.32, 4401.98]\n",
      "Detected potted plant with confidence 0.933 at location [4.44, 10.8, 6709.8, 4417.78]\n"
     ]
    },
    {
     "name": "stderr",
     "output_type": "stream",
     "text": [
      "Updating tags:  91%|█████████ | 4088/4491 [1:48:32<25:47,  3.84s/it]"
     ]
    },
    {
     "name": "stdout",
     "output_type": "stream",
     "text": [
      "Detected person with confidence 0.955 at location [1707.18, 3961.58, 2616.41, 4957.69]\n",
      "Detected person with confidence 0.994 at location [125.33, 3822.46, 982.38, 4961.51]\n",
      "Detected person with confidence 0.996 at location [946.23, 3873.5, 1668.09, 4954.29]\n",
      "Detected umbrella with confidence 0.939 at location [1.69, 2253.16, 2804.93, 4658.26]\n"
     ]
    },
    {
     "name": "stderr",
     "output_type": "stream",
     "text": [
      "Updating tags:  91%|█████████ | 4091/4491 [1:48:43<25:32,  3.83s/it]"
     ]
    },
    {
     "name": "stdout",
     "output_type": "stream",
     "text": [
      "Detected person with confidence 1.0 at location [2289.07, 1677.77, 4223.09, 6657.06]\n"
     ]
    },
    {
     "name": "stderr",
     "output_type": "stream",
     "text": [
      "Updating tags:  91%|█████████ | 4095/4491 [1:48:59<26:18,  3.99s/it]"
     ]
    },
    {
     "name": "stdout",
     "output_type": "stream",
     "text": [
      "Detected umbrella with confidence 0.967 at location [-0.9, 5.63, 2848.23, 3522.35]\n"
     ]
    },
    {
     "name": "stderr",
     "output_type": "stream",
     "text": [
      "Updating tags:  91%|█████████ | 4096/4491 [1:49:02<24:56,  3.79s/it]"
     ]
    },
    {
     "name": "stdout",
     "output_type": "stream",
     "text": [
      "Detected person with confidence 0.94 at location [518.95, 1.04, 2040.19, 765.41]\n",
      "Detected skateboard with confidence 0.97 at location [552.86, 592.85, 1047.69, 1079.21]\n"
     ]
    },
    {
     "name": "stderr",
     "output_type": "stream",
     "text": [
      "Updating tags:  91%|█████████ | 4097/4491 [1:49:06<24:39,  3.76s/it]"
     ]
    },
    {
     "name": "stdout",
     "output_type": "stream",
     "text": [
      "Detected horse with confidence 0.941 at location [1752.22, 351.05, 2986.21, 1965.1]\n",
      "Detected horse with confidence 0.999 at location [3.52, 80.27, 1746.12, 1971.98]\n",
      "Detected horse with confidence 0.962 at location [1340.88, 298.74, 2317.5, 1911.88]\n"
     ]
    },
    {
     "name": "stderr",
     "output_type": "stream",
     "text": [
      "Updating tags:  91%|█████████ | 4098/4491 [1:49:09<23:03,  3.52s/it]"
     ]
    },
    {
     "name": "stdout",
     "output_type": "stream",
     "text": [
      "Detected person with confidence 1.0 at location [1147.6, 955.25, 3258.99, 4832.08]\n"
     ]
    },
    {
     "name": "stderr",
     "output_type": "stream",
     "text": [
      "Updating tags:  91%|█████████▏| 4099/4491 [1:49:13<22:59,  3.52s/it]"
     ]
    },
    {
     "name": "stdout",
     "output_type": "stream",
     "text": [
      "Detected person with confidence 0.933 at location [2687.63, 1969.08, 2748.39, 2043.0]\n",
      "Detected kite with confidence 0.938 at location [3334.3, 1989.45, 3384.58, 2024.69]\n",
      "Detected kite with confidence 0.969 at location [3361.38, 2313.64, 3438.1, 2361.54]\n",
      "Detected person with confidence 0.925 at location [2586.68, 1928.88, 2709.89, 2039.2]\n",
      "Detected person with confidence 0.945 at location [2332.34, 1381.34, 2361.34, 1431.9]\n",
      "Detected kite with confidence 0.927 at location [3381.69, 1303.7, 3428.22, 1356.88]\n",
      "Detected kite with confidence 0.956 at location [3737.94, 1951.37, 3794.03, 2009.25]\n"
     ]
    },
    {
     "name": "stderr",
     "output_type": "stream",
     "text": [
      "Updating tags:  91%|█████████▏| 4104/4491 [1:49:31<23:29,  3.64s/it]"
     ]
    },
    {
     "name": "stdout",
     "output_type": "stream",
     "text": [
      "Detected sheep with confidence 0.984 at location [1471.02, 1706.86, 1762.26, 2274.62]\n",
      "Detected sheep with confidence 0.994 at location [3006.1, 1518.53, 3839.79, 2343.52]\n",
      "Detected sheep with confidence 0.935 at location [2457.08, 1562.71, 3292.68, 2316.22]\n",
      "Detected sheep with confidence 0.988 at location [915.33, 1436.23, 1620.74, 2269.16]\n",
      "Detected sheep with confidence 0.992 at location [1663.47, 1460.83, 2198.48, 2292.97]\n",
      "Detected sheep with confidence 0.957 at location [2456.94, 1626.79, 3146.74, 2329.73]\n",
      "Detected sheep with confidence 0.991 at location [3769.49, 1594.2, 4587.37, 2347.62]\n",
      "Detected sheep with confidence 0.901 at location [4712.34, 1918.89, 5183.41, 2345.03]\n",
      "Detected sheep with confidence 0.99 at location [-0.44, 1537.94, 622.03, 2277.91]\n",
      "Detected sheep with confidence 0.984 at location [2078.46, 1598.8, 2542.35, 2296.83]\n"
     ]
    },
    {
     "name": "stderr",
     "output_type": "stream",
     "text": [
      "Updating tags:  91%|█████████▏| 4108/4491 [1:49:46<24:03,  3.77s/it]"
     ]
    },
    {
     "name": "stdout",
     "output_type": "stream",
     "text": [
      "Detected dog with confidence 0.98 at location [1202.56, 452.34, 1884.21, 1474.24]\n",
      "Detected book with confidence 0.994 at location [2361.98, 751.55, 2608.87, 889.51]\n",
      "Detected book with confidence 0.917 at location [2552.45, 901.14, 2668.01, 966.95]\n",
      "Detected bed with confidence 0.987 at location [-0.2, 283.88, 2782.52, 1828.94]\n"
     ]
    },
    {
     "name": "stderr",
     "output_type": "stream",
     "text": [
      "Updating tags:  91%|█████████▏| 4109/4491 [1:49:50<23:39,  3.72s/it]"
     ]
    },
    {
     "name": "stdout",
     "output_type": "stream",
     "text": [
      "Detected dog with confidence 0.999 at location [1227.22, 36.27, 3833.44, 2525.7]\n"
     ]
    },
    {
     "name": "stderr",
     "output_type": "stream",
     "text": [
      "Updating tags:  92%|█████████▏| 4110/4491 [1:49:53<23:42,  3.73s/it]"
     ]
    },
    {
     "name": "stdout",
     "output_type": "stream",
     "text": [
      "Detected clock with confidence 0.992 at location [1690.4, 1879.34, 2393.55, 2485.59]\n",
      "Detected person with confidence 0.998 at location [62.67, 676.14, 3236.82, 5550.71]\n"
     ]
    },
    {
     "name": "stderr",
     "output_type": "stream",
     "text": [
      "Updating tags:  92%|█████████▏| 4115/4491 [1:50:14<25:26,  4.06s/it]"
     ]
    },
    {
     "name": "stdout",
     "output_type": "stream",
     "text": [
      "Detected donut with confidence 0.981 at location [1606.7, 2025.48, 1918.37, 2292.77]\n"
     ]
    },
    {
     "name": "stderr",
     "output_type": "stream",
     "text": [
      "Updating tags:  92%|█████████▏| 4118/4491 [1:50:26<23:36,  3.80s/it]"
     ]
    },
    {
     "name": "stdout",
     "output_type": "stream",
     "text": [
      "Detected person with confidence 0.98 at location [3097.97, 2944.09, 3205.58, 3193.68]\n",
      "Detected person with confidence 0.931 at location [115.78, 2945.84, 189.26, 3118.36]\n",
      "Detected person with confidence 0.964 at location [3335.08, 2910.58, 3455.46, 3220.05]\n",
      "Detected person with confidence 0.979 at location [3252.87, 2910.11, 3383.32, 3245.16]\n",
      "Detected car with confidence 0.992 at location [2325.85, 3035.41, 2733.35, 3456.14]\n",
      "Detected car with confidence 0.982 at location [2793.78, 2970.3, 3046.7, 3187.12]\n",
      "Detected person with confidence 0.999 at location [887.29, 2028.35, 2874.47, 4954.81]\n",
      "Detected car with confidence 0.998 at location [187.16, 3012.68, 1090.79, 3451.56]\n",
      "Detected person with confidence 0.906 at location [3173.41, 2913.15, 3273.36, 3197.38]\n"
     ]
    },
    {
     "name": "stderr",
     "output_type": "stream",
     "text": [
      "Updating tags:  92%|█████████▏| 4119/4491 [1:50:29<21:56,  3.54s/it]"
     ]
    },
    {
     "name": "stdout",
     "output_type": "stream",
     "text": [
      "Detected person with confidence 0.998 at location [1005.62, 2055.29, 1096.94, 2301.99]\n"
     ]
    },
    {
     "name": "stderr",
     "output_type": "stream",
     "text": [
      "Updating tags:  92%|█████████▏| 4121/4491 [1:50:37<23:22,  3.79s/it]"
     ]
    },
    {
     "name": "stdout",
     "output_type": "stream",
     "text": [
      "Detected horse with confidence 0.997 at location [2996.75, 714.82, 4543.97, 2742.99]\n",
      "Detected horse with confidence 0.976 at location [4096.8, 1892.28, 4469.6, 2589.24]\n",
      "Detected horse with confidence 0.996 at location [1856.46, 711.58, 2954.07, 2680.5]\n",
      "Detected horse with confidence 0.993 at location [-1.04, 1277.51, 1005.89, 2601.67]\n"
     ]
    },
    {
     "name": "stderr",
     "output_type": "stream",
     "text": [
      "Updating tags:  92%|█████████▏| 4125/4491 [1:50:53<22:45,  3.73s/it]"
     ]
    },
    {
     "name": "stdout",
     "output_type": "stream",
     "text": [
      "Detected person with confidence 0.998 at location [1350.4, 3527.76, 3992.03, 5925.16]\n"
     ]
    },
    {
     "name": "stderr",
     "output_type": "stream",
     "text": [
      "Updating tags:  92%|█████████▏| 4126/4491 [1:50:57<23:06,  3.80s/it]"
     ]
    },
    {
     "name": "stdout",
     "output_type": "stream",
     "text": [
      "Detected dog with confidence 0.999 at location [1208.84, 550.71, 3718.79, 3796.77]\n"
     ]
    },
    {
     "name": "stderr",
     "output_type": "stream",
     "text": [
      "Updating tags:  92%|█████████▏| 4128/4491 [1:51:04<23:10,  3.83s/it]"
     ]
    },
    {
     "name": "stdout",
     "output_type": "stream",
     "text": [
      "Detected person with confidence 0.97 at location [690.28, 2944.37, 1798.82, 3982.27]\n"
     ]
    },
    {
     "name": "stderr",
     "output_type": "stream",
     "text": [
      "Updating tags:  92%|█████████▏| 4130/4491 [1:51:13<24:51,  4.13s/it]"
     ]
    },
    {
     "name": "stdout",
     "output_type": "stream",
     "text": [
      "Detected apple with confidence 0.992 at location [684.77, 2821.11, 1143.53, 3291.7]\n",
      "Detected apple with confidence 0.99 at location [751.83, 2159.88, 1198.09, 2626.14]\n",
      "Detected orange with confidence 0.996 at location [1139.48, 3869.7, 1648.25, 4378.1]\n",
      "Detected apple with confidence 0.926 at location [1956.9, 3067.54, 2467.4, 3607.59]\n",
      "Detected apple with confidence 0.984 at location [2381.32, 2377.12, 2875.19, 2864.44]\n",
      "Detected orange with confidence 0.992 at location [669.61, 3760.06, 1130.27, 4230.7]\n",
      "Detected apple with confidence 0.994 at location [1489.12, 3292.94, 1977.92, 3766.26]\n",
      "Detected apple with confidence 0.923 at location [1997.6, 1168.77, 2382.27, 1478.43]\n",
      "Detected apple with confidence 0.968 at location [1953.82, 1225.52, 2344.94, 1609.37]\n",
      "Detected orange with confidence 0.954 at location [1267.23, 1429.6, 1767.83, 1912.53]\n",
      "Detected apple with confidence 0.987 at location [1883.04, 3604.47, 2408.63, 4073.37]\n",
      "Detected apple with confidence 0.991 at location [1901.21, 2156.86, 2411.87, 2711.77]\n",
      "Detected orange with confidence 0.988 at location [2296.66, 1888.82, 2793.74, 2401.86]\n"
     ]
    },
    {
     "name": "stderr",
     "output_type": "stream",
     "text": [
      "Updating tags:  92%|█████████▏| 4131/4491 [1:51:17<23:54,  3.98s/it]"
     ]
    },
    {
     "name": "stdout",
     "output_type": "stream",
     "text": [
      "Detected banana with confidence 0.998 at location [1316.2, 1325.28, 1707.81, 1996.96]\n"
     ]
    },
    {
     "name": "stderr",
     "output_type": "stream",
     "text": [
      "Updating tags:  92%|█████████▏| 4133/4491 [1:51:26<24:28,  4.10s/it]"
     ]
    },
    {
     "name": "stdout",
     "output_type": "stream",
     "text": [
      "Detected spoon with confidence 0.992 at location [1761.03, 4.96, 2996.88, 1261.09]\n",
      "Detected dining table with confidence 0.921 at location [0.18, 5.51, 2997.97, 1970.62]\n",
      "Detected bowl with confidence 0.997 at location [2071.11, 1475.7, 2988.62, 1982.99]\n"
     ]
    },
    {
     "name": "stderr",
     "output_type": "stream",
     "text": [
      "Updating tags:  92%|█████████▏| 4135/4491 [1:51:33<23:36,  3.98s/it]"
     ]
    },
    {
     "name": "stdout",
     "output_type": "stream",
     "text": [
      "Detected spoon with confidence 0.972 at location [2099.71, 237.19, 2353.75, 417.7]\n",
      "Detected cake with confidence 0.995 at location [-0.54, 7.46, 3262.34, 2414.33]\n"
     ]
    },
    {
     "name": "stderr",
     "output_type": "stream",
     "text": [
      "Updating tags:  92%|█████████▏| 4138/4491 [1:51:45<22:30,  3.83s/it]"
     ]
    },
    {
     "name": "stdout",
     "output_type": "stream",
     "text": [
      "Error:  Unsupported number of image dimensions: 2\n"
     ]
    },
    {
     "name": "stderr",
     "output_type": "stream",
     "text": [
      "Updating tags:  92%|█████████▏| 4141/4491 [1:51:57<22:40,  3.89s/it]"
     ]
    },
    {
     "name": "stdout",
     "output_type": "stream",
     "text": [
      "Detected dog with confidence 0.998 at location [286.51, 1250.34, 1986.58, 2344.8]\n"
     ]
    },
    {
     "name": "stderr",
     "output_type": "stream",
     "text": [
      "Updating tags:  92%|█████████▏| 4145/4491 [1:52:13<24:11,  4.20s/it]"
     ]
    },
    {
     "name": "stdout",
     "output_type": "stream",
     "text": [
      "Detected person with confidence 0.927 at location [1104.34, 1456.09, 4929.48, 5059.69]\n"
     ]
    },
    {
     "name": "stderr",
     "output_type": "stream",
     "text": [
      "Updating tags:  92%|█████████▏| 4146/4491 [1:52:17<24:11,  4.21s/it]"
     ]
    },
    {
     "name": "stdout",
     "output_type": "stream",
     "text": [
      "Detected boat with confidence 0.946 at location [2244.65, 1096.89, 2449.84, 1171.31]\n",
      "Detected boat with confidence 0.947 at location [2443.92, 1052.43, 2933.33, 1154.68]\n",
      "Detected boat with confidence 0.921 at location [2292.49, 1108.96, 2433.84, 1170.69]\n",
      "Detected boat with confidence 0.958 at location [1461.22, 1028.33, 2955.45, 1177.09]\n",
      "Detected boat with confidence 0.981 at location [10.27, 1060.38, 297.64, 1119.99]\n",
      "Detected boat with confidence 0.932 at location [363.71, 1001.73, 956.49, 1201.14]\n"
     ]
    },
    {
     "name": "stderr",
     "output_type": "stream",
     "text": [
      "Updating tags:  92%|█████████▏| 4149/4491 [1:52:30<23:42,  4.16s/it]"
     ]
    },
    {
     "name": "stdout",
     "output_type": "stream",
     "text": [
      "Detected cell phone with confidence 0.993 at location [1748.69, 2447.16, 2586.4, 3615.73]\n"
     ]
    },
    {
     "name": "stderr",
     "output_type": "stream",
     "text": [
      "Updating tags:  92%|█████████▏| 4150/4491 [1:52:34<23:34,  4.15s/it]"
     ]
    },
    {
     "name": "stdout",
     "output_type": "stream",
     "text": [
      "Detected person with confidence 0.999 at location [1999.31, 1502.9, 2556.63, 2427.84]\n"
     ]
    },
    {
     "name": "stderr",
     "output_type": "stream",
     "text": [
      "Updating tags:  92%|█████████▏| 4152/4491 [1:52:42<22:21,  3.96s/it]"
     ]
    },
    {
     "name": "stdout",
     "output_type": "stream",
     "text": [
      "Detected boat with confidence 0.908 at location [4.2, 3170.26, 1501.7, 6164.24]\n",
      "Detected person with confidence 0.999 at location [707.97, 1451.97, 4153.64, 6139.26]\n",
      "Detected boat with confidence 0.974 at location [0.47, 3104.71, 4157.39, 6163.37]\n"
     ]
    },
    {
     "name": "stderr",
     "output_type": "stream",
     "text": [
      "Updating tags:  93%|█████████▎| 4163/4491 [1:53:26<22:23,  4.10s/it]"
     ]
    },
    {
     "name": "stdout",
     "output_type": "stream",
     "text": [
      "Detected horse with confidence 1.0 at location [3068.62, 1335.62, 3555.6, 2450.65]\n",
      "Detected horse with confidence 0.999 at location [4175.23, 1238.72, 4587.13, 1763.54]\n",
      "Detected horse with confidence 0.999 at location [73.08, 392.53, 3042.57, 3177.13]\n",
      "Detected horse with confidence 0.999 at location [3505.51, 1291.44, 3951.67, 1722.67]\n"
     ]
    },
    {
     "name": "stderr",
     "output_type": "stream",
     "text": [
      "Updating tags:  93%|█████████▎| 4164/4491 [1:53:30<22:32,  4.14s/it]"
     ]
    },
    {
     "name": "stdout",
     "output_type": "stream",
     "text": [
      "Detected bird with confidence 0.987 at location [508.57, 76.95, 2183.32, 2612.02]\n",
      "Detected bird with confidence 0.99 at location [774.16, 2406.71, 2366.67, 3514.01]\n"
     ]
    },
    {
     "name": "stderr",
     "output_type": "stream",
     "text": [
      "Updating tags:  93%|█████████▎| 4167/4491 [1:53:43<21:58,  4.07s/it]"
     ]
    },
    {
     "name": "stdout",
     "output_type": "stream",
     "text": [
      "Detected kite with confidence 0.977 at location [2379.68, 603.0, 2607.5, 709.06]\n"
     ]
    },
    {
     "name": "stderr",
     "output_type": "stream",
     "text": [
      "Updating tags:  93%|█████████▎| 4172/4491 [1:54:03<21:30,  4.04s/it]"
     ]
    },
    {
     "name": "stdout",
     "output_type": "stream",
     "text": [
      "Detected person with confidence 0.999 at location [424.17, 1210.99, 1895.94, 3605.46]\n"
     ]
    },
    {
     "name": "stderr",
     "output_type": "stream",
     "text": [
      "Updating tags:  93%|█████████▎| 4173/4491 [1:54:07<20:57,  3.96s/it]"
     ]
    },
    {
     "name": "stdout",
     "output_type": "stream",
     "text": [
      "Detected backpack with confidence 0.948 at location [3429.52, 1826.89, 3568.47, 1991.55]\n",
      "Detected person with confidence 0.998 at location [3341.41, 1763.38, 3688.33, 2347.9]\n"
     ]
    },
    {
     "name": "stderr",
     "output_type": "stream",
     "text": [
      "Updating tags:  93%|█████████▎| 4175/4491 [1:54:14<20:12,  3.84s/it]"
     ]
    },
    {
     "name": "stdout",
     "output_type": "stream",
     "text": [
      "Detected cat with confidence 0.996 at location [2677.25, 450.34, 4992.05, 3322.24]\n"
     ]
    },
    {
     "name": "stderr",
     "output_type": "stream",
     "text": [
      "Updating tags:  93%|█████████▎| 4176/4491 [1:54:18<20:45,  3.95s/it]"
     ]
    },
    {
     "name": "stdout",
     "output_type": "stream",
     "text": [
      "Detected bird with confidence 0.999 at location [2171.38, 1615.97, 4123.73, 3593.51]\n"
     ]
    },
    {
     "name": "stderr",
     "output_type": "stream",
     "text": [
      "Updating tags:  93%|█████████▎| 4178/4491 [1:54:26<19:33,  3.75s/it]"
     ]
    },
    {
     "name": "stdout",
     "output_type": "stream",
     "text": [
      "Detected cat with confidence 0.942 at location [1522.26, 699.71, 4361.13, 2320.41]\n",
      "Detected person with confidence 0.982 at location [1226.13, 1152.58, 1700.08, 1368.65]\n",
      "Detected person with confidence 0.984 at location [897.6, 1268.04, 1335.18, 1487.51]\n",
      "Detected person with confidence 0.984 at location [1821.44, 978.46, 2008.2, 1132.05]\n"
     ]
    },
    {
     "name": "stderr",
     "output_type": "stream",
     "text": [
      "Updating tags:  93%|█████████▎| 4183/4491 [1:54:44<18:36,  3.62s/it]"
     ]
    },
    {
     "name": "stdout",
     "output_type": "stream",
     "text": [
      "Detected bird with confidence 0.991 at location [1501.81, 3.29, 2889.22, 2507.53]\n",
      "Detected person with confidence 0.998 at location [3858.19, 341.91, 5845.78, 3817.66]\n",
      "Detected clock with confidence 0.997 at location [4234.93, 900.36, 5034.13, 1687.15]\n"
     ]
    },
    {
     "name": "stderr",
     "output_type": "stream",
     "text": [
      "Updating tags:  93%|█████████▎| 4190/4491 [1:55:15<20:56,  4.17s/it]"
     ]
    },
    {
     "name": "stdout",
     "output_type": "stream",
     "text": [
      "Detected cat with confidence 0.968 at location [-0.78, 939.42, 3998.35, 5884.71]\n"
     ]
    },
    {
     "name": "stderr",
     "output_type": "stream",
     "text": [
      "Updating tags:  93%|█████████▎| 4193/4491 [1:55:26<18:42,  3.77s/it]"
     ]
    },
    {
     "name": "stdout",
     "output_type": "stream",
     "text": [
      "Detected potted plant with confidence 0.985 at location [52.11, 249.61, 1696.8, 1162.3]\n"
     ]
    },
    {
     "name": "stderr",
     "output_type": "stream",
     "text": [
      "Updating tags:  93%|█████████▎| 4194/4491 [1:55:29<18:24,  3.72s/it]"
     ]
    },
    {
     "name": "stdout",
     "output_type": "stream",
     "text": [
      "Detected bottle with confidence 0.927 at location [1118.46, 1895.86, 2028.91, 3117.84]\n",
      "Detected bowl with confidence 0.991 at location [544.56, 3146.29, 969.77, 3457.77]\n",
      "Detected person with confidence 0.999 at location [30.87, 73.24, 2663.48, 3936.53]\n"
     ]
    },
    {
     "name": "stderr",
     "output_type": "stream",
     "text": [
      "Updating tags:  93%|█████████▎| 4196/4491 [1:55:37<19:08,  3.89s/it]"
     ]
    },
    {
     "name": "stdout",
     "output_type": "stream",
     "text": [
      "Detected backpack with confidence 0.972 at location [726.45, 2110.73, 897.75, 2286.66]\n",
      "Detected person with confidence 0.995 at location [590.83, 2070.21, 739.5, 2589.56]\n",
      "Detected person with confidence 0.935 at location [909.01, 2002.9, 987.13, 2227.59]\n",
      "Detected person with confidence 0.999 at location [697.32, 2028.53, 914.06, 2614.88]\n",
      "Detected person with confidence 0.992 at location [1054.83, 2047.54, 1281.13, 2447.89]\n",
      "Detected traffic light with confidence 0.993 at location [1805.98, 1529.9, 1884.53, 1723.48]\n",
      "Detected traffic light with confidence 0.96 at location [1019.47, 1938.22, 1059.31, 1983.32]\n",
      "Detected person with confidence 0.961 at location [950.66, 2013.93, 1030.56, 2238.1]\n",
      "Detected backpack with confidence 0.924 at location [477.9, 2142.77, 641.04, 2364.65]\n",
      "Detected person with confidence 0.999 at location [1082.15, 2002.89, 1598.02, 3293.21]\n",
      "Detected backpack with confidence 0.995 at location [991.11, 2131.13, 1326.38, 2699.36]\n",
      "Detected person with confidence 0.998 at location [83.85, 2060.42, 373.01, 2733.28]\n",
      "Detected person with confidence 0.994 at location [0.25, 2002.02, 150.18, 2676.7]\n",
      "Detected person with confidence 0.98 at location [1024.82, 2041.28, 1094.36, 2242.9]\n",
      "Detected person with confidence 0.999 at location [374.15, 2027.62, 625.06, 2632.42]\n",
      "Detected person with confidence 0.937 at location [876.26, 1998.23, 956.84, 2217.66]\n"
     ]
    },
    {
     "name": "stderr",
     "output_type": "stream",
     "text": [
      "Updating tags:  93%|█████████▎| 4198/4491 [1:55:45<19:27,  3.98s/it]"
     ]
    },
    {
     "name": "stdout",
     "output_type": "stream",
     "text": [
      "Detected car with confidence 0.962 at location [1839.52, 1829.56, 2240.78, 2223.53]\n",
      "Detected dog with confidence 1.0 at location [1988.67, 914.77, 3666.01, 3586.63]\n",
      "Detected car with confidence 0.956 at location [1017.28, 1586.52, 1931.21, 2271.36]\n",
      "Detected car with confidence 0.984 at location [568.53, 1672.38, 1485.64, 2339.98]\n"
     ]
    },
    {
     "name": "stderr",
     "output_type": "stream",
     "text": [
      "Updating tags:  94%|█████████▎| 4200/4491 [1:55:54<19:34,  4.03s/it]"
     ]
    },
    {
     "name": "stdout",
     "output_type": "stream",
     "text": [
      "Detected car with confidence 0.962 at location [-0.51, 2995.08, 4158.57, 6176.18]\n"
     ]
    },
    {
     "name": "stderr",
     "output_type": "stream",
     "text": [
      "Updating tags:  94%|█████████▎| 4204/4491 [1:56:08<18:19,  3.83s/it]"
     ]
    },
    {
     "name": "stdout",
     "output_type": "stream",
     "text": [
      "Detected bird with confidence 0.985 at location [971.72, 478.13, 2299.83, 2805.31]\n"
     ]
    },
    {
     "name": "stderr",
     "output_type": "stream",
     "text": [
      "Updating tags:  94%|█████████▎| 4208/4491 [1:56:24<18:24,  3.90s/it]"
     ]
    },
    {
     "name": "stdout",
     "output_type": "stream",
     "text": [
      "Detected person with confidence 0.961 at location [4283.66, 2551.06, 4482.52, 2762.64]\n",
      "Detected person with confidence 0.982 at location [4980.18, 2529.26, 5146.92, 2697.02]\n",
      "Detected airplane with confidence 0.986 at location [4043.54, 2638.06, 5502.43, 2910.63]\n"
     ]
    },
    {
     "name": "stderr",
     "output_type": "stream",
     "text": [
      "Updating tags:  94%|█████████▍| 4211/4491 [1:56:36<17:57,  3.85s/it]"
     ]
    },
    {
     "name": "stdout",
     "output_type": "stream",
     "text": [
      "Detected dog with confidence 1.0 at location [4.65, 1530.5, 3993.75, 5935.13]\n"
     ]
    },
    {
     "name": "stderr",
     "output_type": "stream",
     "text": [
      "Updating tags:  94%|█████████▍| 4213/4491 [1:56:43<17:07,  3.70s/it]"
     ]
    },
    {
     "name": "stdout",
     "output_type": "stream",
     "text": [
      "Detected bird with confidence 0.992 at location [1928.81, 653.34, 2223.22, 1032.51]\n",
      "Detected bird with confidence 0.989 at location [917.97, 751.92, 2646.46, 1791.43]\n"
     ]
    },
    {
     "name": "stderr",
     "output_type": "stream",
     "text": [
      "Updating tags:  94%|█████████▍| 4217/4491 [1:56:58<17:11,  3.76s/it]"
     ]
    },
    {
     "name": "stdout",
     "output_type": "stream",
     "text": [
      "Detected bird with confidence 0.996 at location [263.1, 374.55, 3104.29, 2809.98]\n"
     ]
    },
    {
     "name": "stderr",
     "output_type": "stream",
     "text": [
      "Updating tags:  94%|█████████▍| 4220/4491 [1:57:09<16:56,  3.75s/it]"
     ]
    },
    {
     "name": "stdout",
     "output_type": "stream",
     "text": [
      "Detected boat with confidence 0.909 at location [2289.1, 2433.92, 2326.42, 2495.97]\n",
      "Detected person with confidence 0.994 at location [5117.17, 2744.12, 5217.55, 2861.35]\n",
      "Detected boat with confidence 0.978 at location [1451.19, 2331.2, 1541.05, 2488.75]\n",
      "Detected donut with confidence 0.991 at location [501.91, 4707.18, 3183.87, 6182.09]\n"
     ]
    },
    {
     "name": "stderr",
     "output_type": "stream",
     "text": [
      "Updating tags:  94%|█████████▍| 4221/4491 [1:57:13<17:07,  3.81s/it]"
     ]
    },
    {
     "name": "stdout",
     "output_type": "stream",
     "text": [
      "Detected bench with confidence 0.986 at location [21.23, 1675.17, 499.62, 1853.98]\n",
      "Detected dog with confidence 0.998 at location [1332.91, 551.32, 3664.32, 2831.57]\n"
     ]
    },
    {
     "name": "stderr",
     "output_type": "stream",
     "text": [
      "Updating tags:  94%|█████████▍| 4222/4491 [1:57:17<17:12,  3.84s/it]"
     ]
    },
    {
     "name": "stdout",
     "output_type": "stream",
     "text": [
      "Detected person with confidence 0.997 at location [1833.62, 1341.81, 1878.25, 1452.76]\n"
     ]
    },
    {
     "name": "stderr",
     "output_type": "stream",
     "text": [
      "Updating tags:  94%|█████████▍| 4223/4491 [1:57:22<18:59,  4.25s/it]"
     ]
    },
    {
     "name": "stdout",
     "output_type": "stream",
     "text": [
      "Detected bird with confidence 0.943 at location [3375.34, 1660.44, 4172.91, 2666.09]\n"
     ]
    },
    {
     "name": "stderr",
     "output_type": "stream",
     "text": [
      "Updating tags:  94%|█████████▍| 4226/4491 [1:57:36<19:30,  4.42s/it]"
     ]
    },
    {
     "name": "stdout",
     "output_type": "stream",
     "text": [
      "Detected bird with confidence 0.997 at location [1293.75, 1803.51, 4200.39, 7197.97]\n"
     ]
    },
    {
     "name": "stderr",
     "output_type": "stream",
     "text": [
      "Updating tags:  94%|█████████▍| 4228/4491 [1:57:44<18:13,  4.16s/it]"
     ]
    },
    {
     "name": "stdout",
     "output_type": "stream",
     "text": [
      "Detected dog with confidence 0.999 at location [1429.6, 731.21, 2964.94, 2467.87]\n"
     ]
    },
    {
     "name": "stderr",
     "output_type": "stream",
     "text": [
      "Updating tags:  94%|█████████▍| 4229/4491 [1:57:48<18:16,  4.19s/it]"
     ]
    },
    {
     "name": "stdout",
     "output_type": "stream",
     "text": [
      "Detected person with confidence 0.985 at location [1448.14, 1213.44, 1468.77, 1262.42]\n"
     ]
    },
    {
     "name": "stderr",
     "output_type": "stream",
     "text": [
      "Updating tags:  94%|█████████▍| 4231/4491 [1:57:56<16:57,  3.91s/it]"
     ]
    },
    {
     "name": "stdout",
     "output_type": "stream",
     "text": [
      "Detected person with confidence 0.999 at location [1654.04, 3030.44, 3134.38, 5052.11]\n"
     ]
    },
    {
     "name": "stderr",
     "output_type": "stream",
     "text": [
      "Updating tags:  94%|█████████▍| 4232/4491 [1:58:00<17:28,  4.05s/it]"
     ]
    },
    {
     "name": "stdout",
     "output_type": "stream",
     "text": [
      "Detected kite with confidence 0.989 at location [1796.18, 1940.62, 2208.28, 2356.3]\n"
     ]
    },
    {
     "name": "stderr",
     "output_type": "stream",
     "text": [
      "Updating tags:  94%|█████████▍| 4233/4491 [1:58:04<17:28,  4.07s/it]"
     ]
    },
    {
     "name": "stdout",
     "output_type": "stream",
     "text": [
      "Detected dog with confidence 0.999 at location [1738.2, 976.5, 2685.76, 2993.83]\n"
     ]
    },
    {
     "name": "stderr",
     "output_type": "stream",
     "text": [
      "Updating tags:  94%|█████████▍| 4234/4491 [1:58:08<17:20,  4.05s/it]"
     ]
    },
    {
     "name": "stdout",
     "output_type": "stream",
     "text": [
      "Detected person with confidence 0.98 at location [2283.85, 3013.21, 2341.73, 3082.59]\n",
      "Detected boat with confidence 0.924 at location [2517.91, 2997.32, 2588.57, 3038.61]\n"
     ]
    },
    {
     "name": "stderr",
     "output_type": "stream",
     "text": [
      "Updating tags:  94%|█████████▍| 4236/4491 [1:58:16<17:22,  4.09s/it]"
     ]
    },
    {
     "name": "stdout",
     "output_type": "stream",
     "text": [
      "Detected elephant with confidence 1.0 at location [399.01, 1034.96, 3064.28, 2782.23]\n"
     ]
    },
    {
     "name": "stderr",
     "output_type": "stream",
     "text": [
      "Updating tags:  94%|█████████▍| 4237/4491 [1:58:21<18:28,  4.36s/it]"
     ]
    },
    {
     "name": "stdout",
     "output_type": "stream",
     "text": [
      "Detected person with confidence 0.999 at location [2567.71, 1623.17, 2838.2, 2038.79]\n"
     ]
    },
    {
     "name": "stderr",
     "output_type": "stream",
     "text": [
      "Updating tags:  94%|█████████▍| 4238/4491 [1:58:25<17:59,  4.27s/it]"
     ]
    },
    {
     "name": "stdout",
     "output_type": "stream",
     "text": [
      "Detected bear with confidence 0.989 at location [1549.18, 14.22, 5983.45, 3931.8]\n"
     ]
    },
    {
     "name": "stderr",
     "output_type": "stream",
     "text": [
      "Updating tags:  94%|█████████▍| 4239/4491 [1:58:30<18:04,  4.30s/it]"
     ]
    },
    {
     "name": "stdout",
     "output_type": "stream",
     "text": [
      "Detected cat with confidence 0.957 at location [2233.24, 351.38, 4724.43, 3592.38]\n",
      "Detected bowl with confidence 0.969 at location [1314.2, 339.92, 4736.53, 3652.51]\n"
     ]
    },
    {
     "name": "stderr",
     "output_type": "stream",
     "text": [
      "Updating tags:  94%|█████████▍| 4242/4491 [1:58:41<16:26,  3.96s/it]"
     ]
    },
    {
     "name": "stdout",
     "output_type": "stream",
     "text": [
      "Detected dog with confidence 0.946 at location [2747.55, 716.88, 4982.83, 2501.25]\n",
      "Detected dog with confidence 0.996 at location [741.17, 694.57, 2693.93, 2113.93]\n"
     ]
    },
    {
     "name": "stderr",
     "output_type": "stream",
     "text": [
      "Updating tags:  95%|█████████▍| 4247/4491 [1:59:00<15:56,  3.92s/it]"
     ]
    },
    {
     "name": "stdout",
     "output_type": "stream",
     "text": [
      "Detected truck with confidence 0.982 at location [600.83, 2112.94, 757.16, 2182.96]\n",
      "Detected person with confidence 0.97 at location [734.42, 1944.57, 753.1, 1978.52]\n"
     ]
    },
    {
     "name": "stderr",
     "output_type": "stream",
     "text": [
      "Updating tags:  95%|█████████▍| 4250/4491 [1:59:11<15:07,  3.76s/it]"
     ]
    },
    {
     "name": "stdout",
     "output_type": "stream",
     "text": [
      "Detected person with confidence 0.926 at location [3881.16, 5460.78, 3944.85, 5665.42]\n",
      "Detected person with confidence 0.989 at location [2899.94, 5200.91, 2965.51, 5354.56]\n",
      "Detected person with confidence 0.991 at location [3248.91, 5438.1, 3328.41, 5644.47]\n",
      "Detected person with confidence 0.995 at location [3142.39, 5528.84, 3242.58, 5770.5]\n",
      "Detected person with confidence 0.926 at location [3206.1, 4712.59, 3253.52, 4813.53]\n",
      "Detected person with confidence 0.907 at location [3019.12, 4808.26, 3074.86, 4932.64]\n",
      "Detected person with confidence 0.988 at location [3661.47, 5654.31, 3747.56, 5867.87]\n",
      "Detected person with confidence 0.94 at location [3340.12, 4679.96, 3383.89, 4788.68]\n",
      "Detected person with confidence 0.986 at location [2999.33, 5425.71, 3087.67, 5634.1]\n",
      "Detected person with confidence 0.957 at location [3542.63, 4653.93, 3584.91, 4756.65]\n",
      "Detected person with confidence 0.982 at location [481.3, 5484.07, 565.22, 5661.85]\n",
      "Detected person with confidence 0.99 at location [3166.15, 4838.63, 3245.87, 5081.07]\n",
      "Detected person with confidence 0.939 at location [3432.34, 4705.2, 3481.98, 4784.41]\n"
     ]
    },
    {
     "name": "stderr",
     "output_type": "stream",
     "text": [
      "Updating tags:  95%|█████████▍| 4255/4491 [1:59:31<15:30,  3.94s/it]"
     ]
    },
    {
     "name": "stdout",
     "output_type": "stream",
     "text": [
      "Detected person with confidence 0.999 at location [3670.79, 1320.73, 4264.12, 2852.53]\n",
      "Detected backpack with confidence 0.997 at location [3981.89, 1361.82, 4351.78, 1916.58]\n"
     ]
    },
    {
     "name": "stderr",
     "output_type": "stream",
     "text": [
      "Updating tags:  95%|█████████▍| 4257/4491 [1:59:40<16:52,  4.33s/it]"
     ]
    },
    {
     "name": "stdout",
     "output_type": "stream",
     "text": [
      "Detected person with confidence 1.0 at location [658.91, 977.93, 1266.04, 2656.68]\n"
     ]
    },
    {
     "name": "stderr",
     "output_type": "stream",
     "text": [
      "Updating tags:  95%|█████████▍| 4258/4491 [1:59:43<15:02,  3.87s/it]"
     ]
    },
    {
     "name": "stdout",
     "output_type": "stream",
     "text": [
      "Detected dog with confidence 0.997 at location [1269.4, 778.76, 5601.46, 3597.75]\n"
     ]
    },
    {
     "name": "stderr",
     "output_type": "stream",
     "text": [
      "Updating tags:  95%|█████████▍| 4259/4491 [1:59:46<14:40,  3.79s/it]"
     ]
    },
    {
     "name": "stdout",
     "output_type": "stream",
     "text": [
      "Detected bird with confidence 0.998 at location [712.62, 231.99, 1842.53, 1979.69]\n"
     ]
    },
    {
     "name": "stderr",
     "output_type": "stream",
     "text": [
      "Updating tags:  95%|█████████▍| 4260/4491 [1:59:50<14:35,  3.79s/it]"
     ]
    },
    {
     "name": "stdout",
     "output_type": "stream",
     "text": [
      "Detected orange with confidence 0.941 at location [3134.75, 2068.92, 3477.09, 2552.76]\n",
      "Detected orange with confidence 0.973 at location [1461.67, 1171.1, 1914.95, 1570.55]\n",
      "Detected orange with confidence 0.995 at location [1146.1, 294.51, 2087.07, 1185.3]\n",
      "Detected orange with confidence 0.973 at location [3392.22, 1677.88, 4126.82, 2412.14]\n",
      "Detected orange with confidence 0.906 at location [1987.01, 2667.46, 2715.02, 3351.3]\n",
      "Detected orange with confidence 0.958 at location [4008.49, 1652.26, 4544.62, 2295.47]\n",
      "Detected orange with confidence 0.987 at location [1368.56, 2274.68, 2260.74, 3116.94]\n",
      "Detected bowl with confidence 0.959 at location [3463.15, 3497.49, 5722.65, 3985.1]\n",
      "Detected orange with confidence 0.903 at location [3803.77, 962.57, 4283.07, 1456.76]\n",
      "Detected orange with confidence 0.985 at location [2386.6, 1835.87, 3242.32, 2711.35]\n",
      "Detected orange with confidence 0.933 at location [3083.29, 515.91, 3425.64, 896.22]\n",
      "Detected orange with confidence 0.91 at location [5739.58, 1283.66, 5999.69, 1678.98]\n",
      "Detected orange with confidence 0.979 at location [3081.14, 830.6, 3598.8, 1435.12]\n"
     ]
    },
    {
     "name": "stderr",
     "output_type": "stream",
     "text": [
      "Updating tags:  95%|█████████▍| 4263/4491 [2:00:02<14:29,  3.81s/it]"
     ]
    },
    {
     "name": "stdout",
     "output_type": "stream",
     "text": [
      "Detected dog with confidence 0.991 at location [826.4, 700.37, 4098.03, 3218.1]\n"
     ]
    },
    {
     "name": "stderr",
     "output_type": "stream",
     "text": [
      "Updating tags:  95%|█████████▍| 4265/4491 [2:00:09<14:01,  3.72s/it]"
     ]
    },
    {
     "name": "stdout",
     "output_type": "stream",
     "text": [
      "Detected bird with confidence 1.0 at location [72.19, 316.06, 4582.28, 3341.33]\n"
     ]
    },
    {
     "name": "stderr",
     "output_type": "stream",
     "text": [
      "Updating tags:  95%|█████████▌| 4271/4491 [2:00:35<15:04,  4.11s/it]"
     ]
    },
    {
     "name": "stdout",
     "output_type": "stream",
     "text": [
      "Detected bird with confidence 0.999 at location [843.3, 523.62, 2764.11, 1943.01]\n"
     ]
    },
    {
     "name": "stderr",
     "output_type": "stream",
     "text": [
      "Updating tags:  95%|█████████▌| 4279/4491 [2:01:06<14:19,  4.05s/it]"
     ]
    },
    {
     "name": "stdout",
     "output_type": "stream",
     "text": [
      "Detected truck with confidence 0.994 at location [1829.37, 3193.04, 2113.29, 3355.04]\n"
     ]
    },
    {
     "name": "stderr",
     "output_type": "stream",
     "text": [
      "Updating tags:  95%|█████████▌| 4282/4491 [2:01:18<13:53,  3.99s/it]"
     ]
    },
    {
     "name": "stdout",
     "output_type": "stream",
     "text": [
      "Detected person with confidence 1.0 at location [1454.81, 2121.19, 1721.02, 2601.81]\n"
     ]
    },
    {
     "name": "stderr",
     "output_type": "stream",
     "text": [
      "Updating tags:  95%|█████████▌| 4285/4491 [2:01:28<11:54,  3.47s/it]"
     ]
    },
    {
     "name": "stdout",
     "output_type": "stream",
     "text": [
      "Detected person with confidence 0.997 at location [527.25, 578.23, 621.49, 752.06]\n",
      "Detected person with confidence 0.937 at location [91.72, 546.15, 263.58, 754.44]\n",
      "Detected horse with confidence 0.995 at location [515.91, 668.34, 680.66, 813.93]\n",
      "Detected person with confidence 0.997 at location [324.67, 563.44, 424.12, 765.55]\n",
      "Detected horse with confidence 0.998 at location [305.46, 664.32, 513.12, 860.86]\n",
      "Detected horse with confidence 0.997 at location [77.45, 632.23, 270.65, 939.86]\n",
      "Detected person with confidence 0.998 at location [683.47, 681.74, 739.82, 778.43]\n"
     ]
    },
    {
     "name": "stderr",
     "output_type": "stream",
     "text": [
      "Updating tags:  95%|█████████▌| 4286/4491 [2:01:32<12:21,  3.62s/it]"
     ]
    },
    {
     "name": "stdout",
     "output_type": "stream",
     "text": [
      "Detected bird with confidence 0.962 at location [1365.55, 315.17, 3152.24, 1982.09]\n"
     ]
    },
    {
     "name": "stderr",
     "output_type": "stream",
     "text": [
      "Updating tags:  95%|█████████▌| 4288/4491 [2:01:40<12:47,  3.78s/it]"
     ]
    },
    {
     "name": "stdout",
     "output_type": "stream",
     "text": [
      "Detected vase with confidence 0.927 at location [959.91, 1407.22, 4919.51, 3958.25]\n"
     ]
    },
    {
     "name": "stderr",
     "output_type": "stream",
     "text": [
      "Updating tags:  96%|█████████▌| 4289/4491 [2:01:44<13:09,  3.91s/it]"
     ]
    },
    {
     "name": "stdout",
     "output_type": "stream",
     "text": [
      "Detected bird with confidence 0.987 at location [3103.62, 1706.79, 4266.9, 2821.01]\n",
      "Detected bird with confidence 0.998 at location [3517.77, 1973.01, 4393.24, 3431.14]\n",
      "Detected bird with confidence 0.972 at location [1339.16, 788.72, 2823.79, 3350.29]\n",
      "Detected bird with confidence 0.975 at location [4267.58, 1201.0, 5182.63, 2329.3]\n"
     ]
    },
    {
     "name": "stderr",
     "output_type": "stream",
     "text": [
      "Updating tags:  96%|█████████▌| 4290/4491 [2:01:48<13:00,  3.88s/it]"
     ]
    },
    {
     "name": "stdout",
     "output_type": "stream",
     "text": [
      "Detected person with confidence 0.984 at location [850.87, 2354.62, 968.12, 2562.41]\n",
      "Detected person with confidence 0.991 at location [2407.96, 2346.3, 2487.51, 2533.05]\n",
      "Detected person with confidence 0.984 at location [1278.65, 2336.83, 1426.94, 2567.88]\n",
      "Detected person with confidence 0.993 at location [735.45, 2333.43, 833.8, 2564.18]\n",
      "Detected person with confidence 0.982 at location [616.61, 2446.57, 678.14, 2577.84]\n",
      "Detected person with confidence 0.994 at location [1047.81, 2318.86, 1156.1, 2573.65]\n",
      "Detected person with confidence 0.984 at location [2230.35, 2401.47, 2347.4, 2543.69]\n",
      "Detected person with confidence 0.947 at location [4401.49, 2312.12, 4483.55, 2430.89]\n",
      "Detected person with confidence 0.991 at location [2833.46, 2186.27, 2914.72, 2380.08]\n",
      "Detected person with confidence 0.902 at location [1203.97, 2381.88, 1287.5, 2575.71]\n",
      "Detected person with confidence 0.969 at location [1530.47, 2387.25, 1630.85, 2567.39]\n",
      "Detected person with confidence 0.981 at location [1746.36, 2392.32, 1848.9, 2575.99]\n",
      "Detected person with confidence 0.982 at location [3442.27, 2172.29, 3531.87, 2374.76]\n",
      "Detected person with confidence 0.974 at location [3384.42, 2168.42, 3449.54, 2370.16]\n",
      "Detected person with confidence 0.977 at location [5393.26, 2511.18, 5456.19, 2678.05]\n",
      "Detected person with confidence 0.995 at location [2495.2, 2298.19, 2585.23, 2525.1]\n",
      "Detected person with confidence 0.997 at location [1874.81, 2326.87, 1970.34, 2569.14]\n",
      "Detected person with confidence 0.973 at location [4304.04, 2284.63, 4367.66, 2422.79]\n"
     ]
    },
    {
     "name": "stderr",
     "output_type": "stream",
     "text": [
      "Updating tags:  96%|█████████▌| 4293/4491 [2:02:02<15:00,  4.55s/it]"
     ]
    },
    {
     "name": "stdout",
     "output_type": "stream",
     "text": [
      "Detected person with confidence 0.999 at location [747.39, 1704.94, 3102.88, 4878.21]\n"
     ]
    },
    {
     "name": "stderr",
     "output_type": "stream",
     "text": [
      "Updating tags:  96%|█████████▌| 4295/4491 [2:02:10<13:55,  4.26s/it]"
     ]
    },
    {
     "name": "stdout",
     "output_type": "stream",
     "text": [
      "Detected backpack with confidence 0.996 at location [1227.7, 2471.0, 1324.81, 2616.52]\n",
      "Detected skateboard with confidence 0.968 at location [1300.28, 2824.52, 1397.04, 2862.72]\n",
      "Detected person with confidence 1.0 at location [1237.01, 2442.06, 1391.84, 2841.03]\n"
     ]
    },
    {
     "name": "stderr",
     "output_type": "stream",
     "text": [
      "Updating tags:  96%|█████████▌| 4296/4491 [2:02:14<13:08,  4.05s/it]"
     ]
    },
    {
     "name": "stdout",
     "output_type": "stream",
     "text": [
      "Detected boat with confidence 0.993 at location [466.16, 2982.81, 2037.83, 3606.36]\n"
     ]
    },
    {
     "name": "stderr",
     "output_type": "stream",
     "text": [
      "Updating tags:  96%|█████████▌| 4299/4491 [2:02:26<12:47,  4.00s/it]"
     ]
    },
    {
     "name": "stdout",
     "output_type": "stream",
     "text": [
      "Detected bear with confidence 0.999 at location [514.43, 1140.84, 3747.64, 3574.12]\n"
     ]
    },
    {
     "name": "stderr",
     "output_type": "stream",
     "text": [
      "Updating tags:  96%|█████████▌| 4300/4491 [2:02:31<13:56,  4.38s/it]"
     ]
    },
    {
     "name": "stdout",
     "output_type": "stream",
     "text": [
      "Detected potted plant with confidence 0.921 at location [-0.14, 589.56, 5084.05, 2925.71]\n"
     ]
    },
    {
     "name": "stderr",
     "output_type": "stream",
     "text": [
      "Updating tags:  96%|█████████▌| 4301/4491 [2:02:35<13:54,  4.39s/it]"
     ]
    },
    {
     "name": "stdout",
     "output_type": "stream",
     "text": [
      "Detected person with confidence 0.992 at location [234.29, 847.89, 912.56, 1878.27]\n",
      "Detected person with confidence 0.976 at location [683.36, 938.3, 1473.33, 2445.15]\n",
      "Detected person with confidence 0.996 at location [1409.36, 1007.1, 2068.58, 2571.48]\n",
      "Detected person with confidence 0.973 at location [1377.12, 1052.54, 1652.77, 1550.23]\n",
      "Detected person with confidence 0.996 at location [56.01, 992.18, 358.0, 1656.58]\n",
      "Detected person with confidence 0.953 at location [1138.1, 1222.14, 1396.34, 1671.6]\n",
      "Detected person with confidence 0.999 at location [1885.39, 1003.64, 3022.29, 3983.97]\n",
      "Detected person with confidence 0.982 at location [2706.86, 1025.13, 3021.29, 1665.66]\n"
     ]
    },
    {
     "name": "stderr",
     "output_type": "stream",
     "text": [
      "Updating tags:  96%|█████████▌| 4304/4491 [2:02:47<12:28,  4.00s/it]"
     ]
    },
    {
     "name": "stdout",
     "output_type": "stream",
     "text": [
      "Detected bird with confidence 0.979 at location [755.85, 1847.17, 2791.3, 4048.39]\n"
     ]
    },
    {
     "name": "stderr",
     "output_type": "stream",
     "text": [
      "Updating tags:  96%|█████████▌| 4305/4491 [2:02:51<12:16,  3.96s/it]"
     ]
    },
    {
     "name": "stdout",
     "output_type": "stream",
     "text": [
      "Detected bird with confidence 0.983 at location [2675.85, 8.22, 4508.59, 1647.37]\n",
      "Detected bird with confidence 0.93 at location [880.27, 921.95, 2672.63, 2550.67]\n"
     ]
    },
    {
     "name": "stderr",
     "output_type": "stream",
     "text": [
      "Updating tags:  96%|█████████▌| 4307/4491 [2:02:58<11:41,  3.81s/it]"
     ]
    },
    {
     "name": "stdout",
     "output_type": "stream",
     "text": [
      "Detected potted plant with confidence 0.951 at location [33.29, 144.21, 4639.49, 3074.79]\n"
     ]
    },
    {
     "name": "stderr",
     "output_type": "stream",
     "text": [
      "Updating tags:  96%|█████████▌| 4309/4491 [2:03:07<12:12,  4.03s/it]"
     ]
    },
    {
     "name": "stdout",
     "output_type": "stream",
     "text": [
      "Detected person with confidence 0.997 at location [1114.19, 755.6, 1228.25, 906.21]\n"
     ]
    },
    {
     "name": "stderr",
     "output_type": "stream",
     "text": [
      "Updating tags:  96%|█████████▌| 4313/4491 [2:03:22<11:17,  3.80s/it]"
     ]
    },
    {
     "name": "stdout",
     "output_type": "stream",
     "text": [
      "Detected sheep with confidence 0.917 at location [3036.0, 2287.33, 3117.06, 2333.67]\n",
      "Detected sheep with confidence 0.955 at location [2120.19, 2432.4, 2203.86, 2479.69]\n",
      "Detected sheep with confidence 0.956 at location [2256.7, 2414.41, 2396.58, 2466.66]\n"
     ]
    },
    {
     "name": "stderr",
     "output_type": "stream",
     "text": [
      "Updating tags:  96%|█████████▌| 4316/4491 [2:03:34<11:38,  3.99s/it]"
     ]
    },
    {
     "name": "stdout",
     "output_type": "stream",
     "text": [
      "Detected person with confidence 0.999 at location [1662.43, 2856.02, 1989.45, 3329.41]\n",
      "Detected person with confidence 0.935 at location [1957.57, 1352.64, 1978.58, 1390.7]\n",
      "Detected person with confidence 0.99 at location [1385.09, 1476.94, 1432.08, 1546.92]\n",
      "Detected person with confidence 0.95 at location [1943.13, 1349.43, 1964.23, 1387.01]\n",
      "Detected person with confidence 0.995 at location [1760.4, 1473.64, 1802.6, 1544.24]\n",
      "Detected person with confidence 0.987 at location [1999.95, 1415.45, 2022.59, 1465.93]\n",
      "Detected person with confidence 0.971 at location [1914.6, 1232.77, 1938.8, 1280.63]\n",
      "Detected person with confidence 0.982 at location [1841.66, 1230.95, 1864.9, 1281.87]\n"
     ]
    },
    {
     "name": "stderr",
     "output_type": "stream",
     "text": [
      "Updating tags:  96%|█████████▌| 4318/4491 [2:03:41<10:37,  3.69s/it]"
     ]
    },
    {
     "name": "stdout",
     "output_type": "stream",
     "text": [
      "Detected boat with confidence 0.995 at location [1837.86, 3308.98, 2302.72, 3425.07]\n",
      "Detected boat with confidence 0.925 at location [645.09, 3295.98, 1159.95, 3427.52]\n",
      "Detected boat with confidence 0.988 at location [2317.01, 3275.36, 2644.52, 3395.15]\n"
     ]
    },
    {
     "name": "stderr",
     "output_type": "stream",
     "text": [
      "Updating tags:  96%|█████████▌| 4321/4491 [2:03:55<13:19,  4.70s/it]"
     ]
    },
    {
     "name": "stdout",
     "output_type": "stream",
     "text": [
      "Detected vase with confidence 0.976 at location [1105.6, 255.78, 4324.69, 3512.93]\n"
     ]
    },
    {
     "name": "stderr",
     "output_type": "stream",
     "text": [
      "Updating tags:  96%|█████████▋| 4324/4491 [2:04:09<12:35,  4.53s/it]"
     ]
    },
    {
     "name": "stdout",
     "output_type": "stream",
     "text": [
      "Detected bird with confidence 0.985 at location [4.32, 37.79, 3483.69, 2628.29]\n"
     ]
    },
    {
     "name": "stderr",
     "output_type": "stream",
     "text": [
      "Updating tags:  96%|█████████▋| 4326/4491 [2:04:16<11:26,  4.16s/it]"
     ]
    },
    {
     "name": "stdout",
     "output_type": "stream",
     "text": [
      "Detected car with confidence 0.988 at location [5.95, 4.55, 2311.29, 1842.2]\n",
      "Detected car with confidence 0.981 at location [2135.74, 12.41, 2582.11, 453.08]\n"
     ]
    },
    {
     "name": "stderr",
     "output_type": "stream",
     "text": [
      "Updating tags:  96%|█████████▋| 4327/4491 [2:04:20<11:09,  4.08s/it]"
     ]
    },
    {
     "name": "stdout",
     "output_type": "stream",
     "text": [
      "Detected umbrella with confidence 0.95 at location [568.85, 529.43, 1238.09, 1586.6]\n",
      "Detected person with confidence 0.999 at location [427.31, 332.82, 1498.2, 3086.74]\n"
     ]
    },
    {
     "name": "stderr",
     "output_type": "stream",
     "text": [
      "Updating tags:  96%|█████████▋| 4330/4491 [2:04:31<10:13,  3.81s/it]"
     ]
    },
    {
     "name": "stdout",
     "output_type": "stream",
     "text": [
      "Detected train with confidence 0.928 at location [2707.31, 2377.38, 4337.84, 3645.67]\n"
     ]
    },
    {
     "name": "stderr",
     "output_type": "stream",
     "text": [
      "Updating tags:  97%|█████████▋| 4334/4491 [2:04:49<10:36,  4.06s/it]"
     ]
    },
    {
     "name": "stdout",
     "output_type": "stream",
     "text": [
      "Detected bird with confidence 0.979 at location [808.39, 3062.12, 3056.23, 5850.02]\n"
     ]
    },
    {
     "name": "stderr",
     "output_type": "stream",
     "text": [
      "Updating tags:  97%|█████████▋| 4336/4491 [2:04:57<10:09,  3.93s/it]"
     ]
    },
    {
     "name": "stdout",
     "output_type": "stream",
     "text": [
      "Detected person with confidence 0.995 at location [1582.39, 3317.55, 2077.63, 3997.52]\n",
      "Detected person with confidence 0.999 at location [375.44, 3130.48, 1280.44, 3980.02]\n",
      "Detected person with confidence 0.99 at location [1175.94, 3385.72, 1713.85, 3994.05]\n",
      "Detected bear with confidence 0.972 at location [974.53, 1577.43, 1839.63, 2479.35]\n",
      "Detected person with confidence 0.999 at location [1969.32, 3354.45, 2496.7, 3998.86]\n",
      "Detected person with confidence 0.99 at location [2489.98, 3363.81, 2670.35, 3978.37]\n"
     ]
    },
    {
     "name": "stderr",
     "output_type": "stream",
     "text": [
      "Updating tags:  97%|█████████▋| 4337/4491 [2:05:01<10:00,  3.90s/it]"
     ]
    },
    {
     "name": "stdout",
     "output_type": "stream",
     "text": [
      "Detected person with confidence 0.943 at location [1819.21, 3209.91, 2161.98, 3605.31]\n",
      "Detected person with confidence 0.999 at location [406.34, 1408.89, 2745.96, 3818.73]\n"
     ]
    },
    {
     "name": "stderr",
     "output_type": "stream",
     "text": [
      "Updating tags:  97%|█████████▋| 4338/4491 [2:05:05<09:43,  3.81s/it]"
     ]
    },
    {
     "name": "stdout",
     "output_type": "stream",
     "text": [
      "Detected cat with confidence 0.998 at location [5.01, 241.96, 1605.09, 3235.01]\n"
     ]
    },
    {
     "name": "stderr",
     "output_type": "stream",
     "text": [
      "Updating tags:  97%|█████████▋| 4339/4491 [2:05:08<09:26,  3.73s/it]"
     ]
    },
    {
     "name": "stdout",
     "output_type": "stream",
     "text": [
      "Detected truck with confidence 0.989 at location [2908.75, 2573.04, 3781.5, 3479.93]\n"
     ]
    },
    {
     "name": "stderr",
     "output_type": "stream",
     "text": [
      "Updating tags:  97%|█████████▋| 4340/4491 [2:05:12<09:20,  3.71s/it]"
     ]
    },
    {
     "name": "stdout",
     "output_type": "stream",
     "text": [
      "Detected person with confidence 1.0 at location [-0.46, 539.85, 4030.53, 2980.37]\n"
     ]
    },
    {
     "name": "stderr",
     "output_type": "stream",
     "text": [
      "Updating tags:  97%|█████████▋| 4343/4491 [2:05:23<09:07,  3.70s/it]"
     ]
    },
    {
     "name": "stdout",
     "output_type": "stream",
     "text": [
      "Detected cup with confidence 0.939 at location [3162.42, 466.58, 3445.18, 1005.25]\n",
      "Detected cake with confidence 0.973 at location [1.52, 6.79, 4746.64, 3129.08]\n"
     ]
    },
    {
     "name": "stderr",
     "output_type": "stream",
     "text": [
      "Updating tags:  97%|█████████▋| 4345/4491 [2:05:30<08:31,  3.51s/it]"
     ]
    },
    {
     "name": "stdout",
     "output_type": "stream",
     "text": [
      "Detected dog with confidence 0.953 at location [1379.03, 1255.89, 2761.84, 3068.4]\n",
      "Detected dog with confidence 0.913 at location [1363.42, 924.29, 2766.59, 3065.52]\n"
     ]
    },
    {
     "name": "stderr",
     "output_type": "stream",
     "text": [
      "Updating tags:  97%|█████████▋| 4349/4491 [2:05:43<08:14,  3.49s/it]"
     ]
    },
    {
     "name": "stdout",
     "output_type": "stream",
     "text": [
      "Detected apple with confidence 0.908 at location [2124.76, 1318.81, 3060.49, 2322.3]\n",
      "Detected person with confidence 0.999 at location [1183.87, 199.47, 4112.83, 3409.66]\n"
     ]
    },
    {
     "name": "stderr",
     "output_type": "stream",
     "text": [
      "Updating tags:  97%|█████████▋| 4355/4491 [2:06:06<08:23,  3.70s/it]"
     ]
    },
    {
     "name": "stdout",
     "output_type": "stream",
     "text": [
      "Detected person with confidence 0.989 at location [1873.56, 2456.39, 1914.73, 2544.66]\n",
      "Detected person with confidence 0.982 at location [1404.07, 2678.35, 1461.12, 2794.93]\n",
      "Detected person with confidence 0.991 at location [2272.23, 2564.8, 2310.39, 2670.47]\n",
      "Detected person with confidence 0.991 at location [901.48, 2502.87, 953.89, 2650.37]\n",
      "Detected person with confidence 0.94 at location [1962.59, 2441.75, 2005.4, 2520.4]\n",
      "Detected person with confidence 0.977 at location [1316.05, 2422.71, 1354.13, 2507.41]\n",
      "Detected person with confidence 0.982 at location [3293.61, 2632.2, 3332.43, 2747.18]\n",
      "Detected person with confidence 0.933 at location [367.51, 2452.16, 408.84, 2522.09]\n",
      "Detected person with confidence 0.956 at location [1088.02, 2325.8, 1120.4, 2395.17]\n"
     ]
    },
    {
     "name": "stderr",
     "output_type": "stream",
     "text": [
      "Updating tags:  97%|█████████▋| 4356/4491 [2:06:10<08:17,  3.69s/it]"
     ]
    },
    {
     "name": "stdout",
     "output_type": "stream",
     "text": [
      "Detected bird with confidence 0.938 at location [1010.98, 3364.49, 2659.91, 3851.62]\n"
     ]
    },
    {
     "name": "stderr",
     "output_type": "stream",
     "text": [
      "Updating tags:  97%|█████████▋| 4358/4491 [2:06:18<08:45,  3.95s/it]"
     ]
    },
    {
     "name": "stdout",
     "output_type": "stream",
     "text": [
      "Detected airplane with confidence 0.997 at location [1072.08, 93.3, 1415.36, 305.81]\n",
      "Detected dog with confidence 0.999 at location [1078.41, 858.08, 1473.11, 1319.37]\n"
     ]
    },
    {
     "name": "stderr",
     "output_type": "stream",
     "text": [
      "Updating tags:  97%|█████████▋| 4359/4491 [2:06:21<08:18,  3.77s/it]"
     ]
    },
    {
     "name": "stdout",
     "output_type": "stream",
     "text": [
      "Detected person with confidence 1.0 at location [1015.77, 1425.52, 1287.91, 1766.88]\n"
     ]
    },
    {
     "name": "stderr",
     "output_type": "stream",
     "text": [
      "Updating tags:  97%|█████████▋| 4364/4491 [2:06:43<08:33,  4.04s/it]"
     ]
    },
    {
     "name": "stdout",
     "output_type": "stream",
     "text": [
      "Detected person with confidence 0.957 at location [954.31, 1475.12, 987.58, 1566.18]\n",
      "Detected person with confidence 0.98 at location [1023.28, 1463.35, 1054.11, 1549.93]\n"
     ]
    },
    {
     "name": "stderr",
     "output_type": "stream",
     "text": [
      "Updating tags:  97%|█████████▋| 4365/4491 [2:06:46<08:08,  3.88s/it]"
     ]
    },
    {
     "name": "stdout",
     "output_type": "stream",
     "text": [
      "Detected keyboard with confidence 0.999 at location [3.38, 1509.83, 2190.34, 1750.28]\n"
     ]
    },
    {
     "name": "stderr",
     "output_type": "stream",
     "text": [
      "Updating tags:  97%|█████████▋| 4370/4491 [2:07:06<07:57,  3.95s/it]"
     ]
    },
    {
     "name": "stdout",
     "output_type": "stream",
     "text": [
      "Detected person with confidence 0.994 at location [1598.87, 3003.88, 3409.44, 3813.45]\n",
      "Detected person with confidence 0.962 at location [-2.87, 1163.23, 1842.99, 2970.83]\n"
     ]
    },
    {
     "name": "stderr",
     "output_type": "stream",
     "text": [
      "Updating tags:  97%|█████████▋| 4374/4491 [2:07:22<07:45,  3.98s/it]"
     ]
    },
    {
     "name": "stdout",
     "output_type": "stream",
     "text": [
      "Detected person with confidence 0.994 at location [5.06, 154.62, 1456.31, 2144.44]\n"
     ]
    },
    {
     "name": "stderr",
     "output_type": "stream",
     "text": [
      "Updating tags:  98%|█████████▊| 4379/4491 [2:07:42<07:31,  4.03s/it]"
     ]
    },
    {
     "name": "stdout",
     "output_type": "stream",
     "text": [
      "Detected book with confidence 0.978 at location [545.92, 547.66, 2672.22, 2386.73]\n"
     ]
    },
    {
     "name": "stderr",
     "output_type": "stream",
     "text": [
      "Updating tags:  98%|█████████▊| 4383/4491 [2:07:58<07:20,  4.07s/it]"
     ]
    },
    {
     "name": "stdout",
     "output_type": "stream",
     "text": [
      "Detected motorcycle with confidence 0.912 at location [814.9, 881.08, 4118.55, 3025.8]\n"
     ]
    },
    {
     "name": "stderr",
     "output_type": "stream",
     "text": [
      "Updating tags:  98%|█████████▊| 4385/4491 [2:08:05<06:47,  3.84s/it]"
     ]
    },
    {
     "name": "stdout",
     "output_type": "stream",
     "text": [
      "Detected vase with confidence 0.962 at location [925.71, 2407.9, 1653.25, 2646.65]\n"
     ]
    },
    {
     "name": "stderr",
     "output_type": "stream",
     "text": [
      "Updating tags:  98%|█████████▊| 4386/4491 [2:08:08<06:16,  3.58s/it]"
     ]
    },
    {
     "name": "stdout",
     "output_type": "stream",
     "text": [
      "Detected dog with confidence 1.0 at location [372.69, 1235.43, 2778.53, 4902.66]\n"
     ]
    },
    {
     "name": "stderr",
     "output_type": "stream",
     "text": [
      "Updating tags:  98%|█████████▊| 4388/4491 [2:08:17<06:47,  3.96s/it]"
     ]
    },
    {
     "name": "stdout",
     "output_type": "stream",
     "text": [
      "Detected car with confidence 0.901 at location [257.71, 2647.64, 2241.55, 3031.19]\n"
     ]
    },
    {
     "name": "stderr",
     "output_type": "stream",
     "text": [
      "Updating tags:  98%|█████████▊| 4389/4491 [2:08:21<06:34,  3.86s/it]"
     ]
    },
    {
     "name": "stdout",
     "output_type": "stream",
     "text": [
      "Detected dog with confidence 1.0 at location [545.66, 1481.46, 2488.95, 5743.03]\n"
     ]
    },
    {
     "name": "stderr",
     "output_type": "stream",
     "text": [
      "Updating tags:  98%|█████████▊| 4390/4491 [2:08:25<06:29,  3.85s/it]"
     ]
    },
    {
     "name": "stdout",
     "output_type": "stream",
     "text": [
      "Detected person with confidence 0.996 at location [390.04, 1851.98, 977.21, 2889.89]\n"
     ]
    },
    {
     "name": "stderr",
     "output_type": "stream",
     "text": [
      "Updating tags:  98%|█████████▊| 4391/4491 [2:08:31<07:40,  4.61s/it]"
     ]
    },
    {
     "name": "stdout",
     "output_type": "stream",
     "text": [
      "Detected person with confidence 0.996 at location [3924.29, 1330.57, 4026.22, 1488.31]\n"
     ]
    },
    {
     "name": "stderr",
     "output_type": "stream",
     "text": [
      "Updating tags:  98%|█████████▊| 4392/4491 [2:08:35<07:10,  4.35s/it]"
     ]
    },
    {
     "name": "stdout",
     "output_type": "stream",
     "text": [
      "Detected pizza with confidence 0.987 at location [-0.27, 17.57, 3054.38, 4516.43]\n"
     ]
    },
    {
     "name": "stderr",
     "output_type": "stream",
     "text": [
      "Updating tags:  98%|█████████▊| 4393/4491 [2:08:38<06:37,  4.06s/it]"
     ]
    },
    {
     "name": "stdout",
     "output_type": "stream",
     "text": [
      "Detected bird with confidence 0.999 at location [805.55, 2764.33, 1394.46, 3556.75]\n",
      "Detected bird with confidence 0.995 at location [2018.47, 3042.17, 2549.36, 3393.25]\n",
      "Detected bird with confidence 0.909 at location [2721.81, 2972.64, 3184.75, 3281.33]\n",
      "Detected bird with confidence 0.924 at location [477.4, 2913.89, 561.32, 2997.4]\n",
      "Detected bird with confidence 0.998 at location [1110.67, 2396.32, 3886.28, 5166.88]\n",
      "Detected bird with confidence 0.996 at location [3166.24, 2575.06, 3651.6, 3418.58]\n",
      "Detected bird with confidence 0.997 at location [0.08, 2801.36, 247.06, 3549.67]\n"
     ]
    },
    {
     "name": "stderr",
     "output_type": "stream",
     "text": [
      "Updating tags:  98%|█████████▊| 4396/4491 [2:08:50<06:12,  3.92s/it]"
     ]
    },
    {
     "name": "stdout",
     "output_type": "stream",
     "text": [
      "Detected potted plant with confidence 0.957 at location [0.99, 4.84, 5562.71, 3658.44]\n"
     ]
    },
    {
     "name": "stderr",
     "output_type": "stream",
     "text": [
      "Updating tags:  98%|█████████▊| 4397/4491 [2:08:54<06:26,  4.11s/it]"
     ]
    },
    {
     "name": "stdout",
     "output_type": "stream",
     "text": [
      "Detected cat with confidence 1.0 at location [2236.67, 1127.67, 3150.25, 2360.79]\n"
     ]
    },
    {
     "name": "stderr",
     "output_type": "stream",
     "text": [
      "Updating tags:  98%|█████████▊| 4399/4491 [2:09:03<06:16,  4.10s/it]"
     ]
    },
    {
     "name": "stdout",
     "output_type": "stream",
     "text": [
      "Detected orange with confidence 0.94 at location [2222.15, 2098.37, 2876.35, 2725.89]\n",
      "Detected knife with confidence 0.996 at location [1664.98, 1949.86, 2599.17, 4976.52]\n",
      "Detected apple with confidence 0.975 at location [1904.68, 985.76, 2544.53, 1720.77]\n"
     ]
    },
    {
     "name": "stderr",
     "output_type": "stream",
     "text": [
      "Updating tags:  98%|█████████▊| 4404/4491 [2:09:25<06:19,  4.36s/it]"
     ]
    },
    {
     "name": "stdout",
     "output_type": "stream",
     "text": [
      "Detected potted plant with confidence 0.959 at location [391.82, 342.04, 1742.41, 1990.77]\n"
     ]
    },
    {
     "name": "stderr",
     "output_type": "stream",
     "text": [
      "Updating tags:  99%|█████████▊| 4425/4491 [2:10:46<04:20,  3.95s/it]"
     ]
    },
    {
     "name": "stdout",
     "output_type": "stream",
     "text": [
      "Detected bear with confidence 0.994 at location [236.69, 1697.43, 3836.33, 3012.55]\n"
     ]
    },
    {
     "name": "stderr",
     "output_type": "stream",
     "text": [
      "Updating tags:  99%|█████████▊| 4426/4491 [2:10:50<04:19,  3.99s/it]"
     ]
    },
    {
     "name": "stdout",
     "output_type": "stream",
     "text": [
      "Detected bird with confidence 0.994 at location [382.94, 497.23, 1428.05, 1121.44]\n"
     ]
    },
    {
     "name": "stderr",
     "output_type": "stream",
     "text": [
      "Updating tags:  99%|█████████▊| 4428/4491 [2:10:58<04:12,  4.01s/it]"
     ]
    },
    {
     "name": "stdout",
     "output_type": "stream",
     "text": [
      "Detected person with confidence 0.999 at location [1857.52, 1574.96, 4313.59, 3338.43]\n",
      "Detected dog with confidence 0.975 at location [1802.93, 583.55, 3804.98, 3329.83]\n"
     ]
    },
    {
     "name": "stderr",
     "output_type": "stream",
     "text": [
      "Updating tags:  99%|█████████▊| 4429/4491 [2:11:02<04:08,  4.01s/it]"
     ]
    },
    {
     "name": "stdout",
     "output_type": "stream",
     "text": [
      "Detected cat with confidence 0.999 at location [194.1, 472.63, 1913.94, 1470.42]\n"
     ]
    },
    {
     "name": "stderr",
     "output_type": "stream",
     "text": [
      "Updating tags:  99%|█████████▊| 4430/4491 [2:11:06<03:48,  3.75s/it]"
     ]
    },
    {
     "name": "stdout",
     "output_type": "stream",
     "text": [
      "Detected bird with confidence 0.999 at location [1149.25, 249.1, 1479.87, 594.06]\n",
      "Detected bird with confidence 0.999 at location [189.46, 217.38, 668.5, 533.28]\n",
      "Detected bird with confidence 0.996 at location [186.29, 670.57, 658.55, 932.71]\n",
      "Detected bird with confidence 0.999 at location [793.29, 272.69, 1142.49, 648.04]\n",
      "Detected bird with confidence 0.999 at location [1532.37, 358.34, 1786.7, 599.49]\n"
     ]
    },
    {
     "name": "stderr",
     "output_type": "stream",
     "text": [
      "Updating tags:  99%|█████████▊| 4431/4491 [2:11:10<03:53,  3.89s/it]"
     ]
    },
    {
     "name": "stdout",
     "output_type": "stream",
     "text": [
      "Detected person with confidence 0.999 at location [2573.45, 2712.65, 2819.53, 3416.28]\n",
      "Detected person with confidence 0.999 at location [384.34, 2767.02, 649.56, 3405.88]\n"
     ]
    },
    {
     "name": "stderr",
     "output_type": "stream",
     "text": [
      "Updating tags:  99%|█████████▊| 4434/4491 [2:11:20<03:24,  3.59s/it]"
     ]
    },
    {
     "name": "stdout",
     "output_type": "stream",
     "text": [
      "Detected dog with confidence 0.999 at location [-0.06, 47.57, 1871.98, 1364.53]\n"
     ]
    },
    {
     "name": "stderr",
     "output_type": "stream",
     "text": [
      "Updating tags:  99%|█████████▉| 4439/4491 [2:11:41<03:14,  3.74s/it]"
     ]
    },
    {
     "name": "stdout",
     "output_type": "stream",
     "text": [
      "Detected umbrella with confidence 0.997 at location [877.98, 1820.51, 2287.91, 2594.34]\n"
     ]
    },
    {
     "name": "stderr",
     "output_type": "stream",
     "text": [
      "Updating tags:  99%|█████████▉| 4442/4491 [2:11:53<03:12,  3.93s/it]"
     ]
    },
    {
     "name": "stdout",
     "output_type": "stream",
     "text": [
      "Detected bird with confidence 0.998 at location [1619.0, 462.34, 4380.79, 2963.62]\n"
     ]
    },
    {
     "name": "stderr",
     "output_type": "stream",
     "text": [
      "Updating tags:  99%|█████████▉| 4445/4491 [2:12:05<02:54,  3.80s/it]"
     ]
    },
    {
     "name": "stdout",
     "output_type": "stream",
     "text": [
      "Detected bird with confidence 0.985 at location [989.04, 222.92, 3091.85, 945.64]\n",
      "Detected bird with confidence 0.924 at location [3.86, 1192.78, 3881.36, 2149.53]\n"
     ]
    },
    {
     "name": "stderr",
     "output_type": "stream",
     "text": [
      "Updating tags:  99%|█████████▉| 4446/4491 [2:12:08<02:47,  3.73s/it]"
     ]
    },
    {
     "name": "stdout",
     "output_type": "stream",
     "text": [
      "Detected horse with confidence 0.998 at location [1290.69, 3396.77, 2639.17, 5071.76]\n"
     ]
    },
    {
     "name": "stderr",
     "output_type": "stream",
     "text": [
      "Updating tags:  99%|█████████▉| 4449/4491 [2:12:21<02:47,  3.98s/it]"
     ]
    },
    {
     "name": "stdout",
     "output_type": "stream",
     "text": [
      "Detected dog with confidence 0.991 at location [4792.52, 2874.21, 5478.04, 3548.76]\n",
      "Detected person with confidence 0.999 at location [1607.09, 2191.2, 2221.89, 3557.23]\n",
      "Detected person with confidence 0.993 at location [4201.0, 2115.13, 4703.98, 3186.06]\n",
      "Detected dog with confidence 0.999 at location [1992.34, 3052.21, 2461.27, 3572.12]\n",
      "Detected dog with confidence 0.998 at location [3405.78, 3055.28, 4167.51, 3483.19]\n",
      "Detected dog with confidence 0.998 at location [4148.12, 3042.68, 4751.65, 3621.78]\n",
      "Detected person with confidence 0.999 at location [2776.86, 2045.06, 3243.08, 3582.22]\n",
      "Detected person with confidence 0.999 at location [5219.79, 2021.41, 5711.83, 3650.06]\n",
      "Detected dog with confidence 0.999 at location [681.74, 3024.84, 1336.55, 3605.2]\n",
      "Detected dog with confidence 0.994 at location [3128.36, 2908.77, 3405.15, 3501.42]\n"
     ]
    },
    {
     "name": "stderr",
     "output_type": "stream",
     "text": [
      "Updating tags:  99%|█████████▉| 4453/4491 [2:12:37<02:29,  3.93s/it]"
     ]
    },
    {
     "name": "stdout",
     "output_type": "stream",
     "text": [
      "Detected boat with confidence 0.974 at location [2794.79, 4494.81, 2959.22, 4540.51]\n",
      "Detected boat with confidence 0.992 at location [2406.31, 4534.95, 2568.54, 4633.08]\n",
      "Detected boat with confidence 0.982 at location [3728.28, 4501.58, 3948.69, 4638.73]\n"
     ]
    },
    {
     "name": "stderr",
     "output_type": "stream",
     "text": [
      "Updating tags:  99%|█████████▉| 4456/4491 [2:12:50<02:19,  3.98s/it]"
     ]
    },
    {
     "name": "stdout",
     "output_type": "stream",
     "text": [
      "Detected dog with confidence 0.999 at location [1657.79, 513.63, 3481.09, 3373.44]\n",
      "Detected chair with confidence 0.993 at location [3931.19, 13.12, 5143.91, 2502.54]\n"
     ]
    },
    {
     "name": "stderr",
     "output_type": "stream",
     "text": [
      "Updating tags:  99%|█████████▉| 4460/4491 [2:13:07<02:10,  4.22s/it]"
     ]
    },
    {
     "name": "stdout",
     "output_type": "stream",
     "text": [
      "Detected bird with confidence 0.998 at location [602.31, 1104.45, 3243.41, 4742.36]\n"
     ]
    },
    {
     "name": "stderr",
     "output_type": "stream",
     "text": [
      "Updating tags:  99%|█████████▉| 4464/4491 [2:13:22<01:48,  4.01s/it]"
     ]
    },
    {
     "name": "stdout",
     "output_type": "stream",
     "text": [
      "Detected cell phone with confidence 0.982 at location [2121.8, 3018.93, 2240.46, 3155.56]\n",
      "Detected person with confidence 1.0 at location [1727.02, 2844.59, 2563.33, 5782.94]\n"
     ]
    },
    {
     "name": "stderr",
     "output_type": "stream",
     "text": [
      "Updating tags:  99%|█████████▉| 4467/4491 [2:13:34<01:36,  4.03s/it]"
     ]
    },
    {
     "name": "stdout",
     "output_type": "stream",
     "text": [
      "Detected dog with confidence 0.998 at location [1743.91, 1276.97, 3111.98, 2715.8]\n"
     ]
    },
    {
     "name": "stderr",
     "output_type": "stream",
     "text": [
      "Updating tags:  99%|█████████▉| 4468/4491 [2:13:39<01:33,  4.06s/it]"
     ]
    },
    {
     "name": "stdout",
     "output_type": "stream",
     "text": [
      "Detected cake with confidence 0.992 at location [-1.03, 9.86, 5995.94, 3945.91]\n"
     ]
    },
    {
     "name": "stderr",
     "output_type": "stream",
     "text": [
      "Updating tags: 100%|█████████▉| 4469/4491 [2:13:43<01:30,  4.11s/it]"
     ]
    },
    {
     "name": "stdout",
     "output_type": "stream",
     "text": [
      "Detected person with confidence 0.964 at location [234.52, 149.76, 279.88, 266.82]\n"
     ]
    },
    {
     "name": "stderr",
     "output_type": "stream",
     "text": [
      "Updating tags: 100%|█████████▉| 4472/4491 [2:13:54<01:16,  4.00s/it]"
     ]
    },
    {
     "name": "stdout",
     "output_type": "stream",
     "text": [
      "Detected cat with confidence 0.999 at location [1413.61, 2050.3, 3894.56, 6075.77]\n"
     ]
    },
    {
     "name": "stderr",
     "output_type": "stream",
     "text": [
      "Updating tags: 100%|█████████▉| 4473/4491 [2:13:59<01:16,  4.25s/it]"
     ]
    },
    {
     "name": "stdout",
     "output_type": "stream",
     "text": [
      "Detected bird with confidence 0.989 at location [1030.6, 2012.53, 1624.62, 3005.31]\n",
      "Detected bird with confidence 0.999 at location [1127.18, 1868.46, 3814.25, 3611.17]\n",
      "Detected person with confidence 0.981 at location [4924.26, 11.54, 5999.3, 2101.14]\n",
      "Detected bird with confidence 0.989 at location [0.34, 2172.32, 491.65, 3076.17]\n"
     ]
    },
    {
     "name": "stderr",
     "output_type": "stream",
     "text": [
      "Updating tags: 100%|█████████▉| 4475/4491 [2:14:07<01:03,  3.99s/it]"
     ]
    },
    {
     "name": "stdout",
     "output_type": "stream",
     "text": [
      "Detected dog with confidence 0.987 at location [6.84, 2356.99, 5294.93, 8531.92]\n"
     ]
    },
    {
     "name": "stderr",
     "output_type": "stream",
     "text": [
      "Updating tags: 100%|█████████▉| 4476/4491 [2:14:11<01:01,  4.11s/it]"
     ]
    },
    {
     "name": "stdout",
     "output_type": "stream",
     "text": [
      "Detected person with confidence 0.917 at location [707.18, 851.6, 941.86, 1104.9]\n"
     ]
    },
    {
     "name": "stderr",
     "output_type": "stream",
     "text": [
      "Updating tags: 100%|█████████▉| 4477/4491 [2:14:15<00:56,  4.07s/it]"
     ]
    },
    {
     "name": "stdout",
     "output_type": "stream",
     "text": [
      "Detected bicycle with confidence 0.928 at location [475.27, 1998.69, 3997.67, 5521.49]\n"
     ]
    },
    {
     "name": "stderr",
     "output_type": "stream",
     "text": [
      "Updating tags: 100%|█████████▉| 4481/4491 [2:14:33<00:43,  4.32s/it]"
     ]
    },
    {
     "name": "stdout",
     "output_type": "stream",
     "text": [
      "Detected cat with confidence 0.999 at location [885.11, 573.2, 2778.66, 2949.49]\n"
     ]
    },
    {
     "name": "stderr",
     "output_type": "stream",
     "text": [
      "Updating tags: 100%|█████████▉| 4482/4491 [2:14:36<00:37,  4.18s/it]"
     ]
    },
    {
     "name": "stdout",
     "output_type": "stream",
     "text": [
      "Detected bird with confidence 0.999 at location [2637.41, 428.3, 3258.74, 1522.41]\n",
      "Detected bird with confidence 0.998 at location [1538.44, 1595.5, 1945.97, 2235.88]\n"
     ]
    },
    {
     "name": "stderr",
     "output_type": "stream",
     "text": [
      "Updating tags: 100%|█████████▉| 4484/4491 [2:14:44<00:27,  3.91s/it]"
     ]
    },
    {
     "name": "stdout",
     "output_type": "stream",
     "text": [
      "Detected person with confidence 0.999 at location [19.59, 806.03, 1539.85, 2962.07]\n"
     ]
    },
    {
     "name": "stderr",
     "output_type": "stream",
     "text": [
      "Updating tags: 100%|█████████▉| 4486/4491 [2:14:51<00:18,  3.75s/it]"
     ]
    },
    {
     "name": "stdout",
     "output_type": "stream",
     "text": [
      "Detected potted plant with confidence 0.978 at location [32.93, 113.54, 1907.49, 1899.22]\n"
     ]
    },
    {
     "name": "stderr",
     "output_type": "stream",
     "text": [
      "Updating tags: 100%|██████████| 4491/4491 [2:15:11<00:00,  1.81s/it]\n"
     ]
    }
   ],
   "source": [
    "# Get the list of images\n",
    "images = os.listdir(images_path)\n",
    "images = [os.path.join(images_path, image) for image in images]\n",
    "\n",
    "update_tags(images, metadata_path, save_format='sqlite')"
   ],
   "metadata": {
    "collapsed": false
   }
  },
  {
   "cell_type": "markdown",
   "metadata": {},
   "source": [
    "### Now, find dominant colors in the images\n",
    "The functions rgb_to_hex and find_dominant_colors are used to find the dominant colors in an image.\n",
    "\n",
    "The function rgb_to_hex takes in an RGB array with 3 values, and returns the hexadecimal representation of the color. This can be useful for formatting colors in a standardized way, as hexadecimal codes are widely used in web development and other applications.\n",
    "\n",
    "The function find_dominant_colors takes in an image and optional parameters k and image_processing_size. The k parameter specifies the number of dominant colors to return, with a default value of 4. The image_processing_size parameter allows you to resize the image to a smaller size, to speed up the processing, if desired.\n",
    "\n",
    "The image is first converted from BGR to RGB, and then reshaped into a list of pixels. The KMeans algorithm is used to cluster the pixels into k clusters, and the most popular clusters are identified. The color values for each of the k clusters are converted to hexadecimal representation and returned as a list, along with the percentage of the image covered by each color."
   ]
  },
  {
   "cell_type": "code",
   "execution_count": 50,
   "outputs": [],
   "source": [
    "import numpy as np\n",
    "from collections import Counter\n",
    "from sklearn.cluster import KMeans\n",
    "from joblib import Parallel, delayed\n",
    "import cv2\n",
    "\n",
    "def rgb_to_hex(rgb):\n",
    "    return '#%02x%02x%02x' % (int(rgb[0]), int(rgb[1]), int(rgb[2]))\n",
    "\n",
    "def find_dominant_colors(image, k=4, image_processing_size=None):\n",
    "    if image_processing_size is not None:\n",
    "        image = cv2.resize(image, image_processing_size, interpolation=cv2.INTER_LINEAR)\n",
    "    image = cv2.cvtColor(image, cv2.COLOR_BGR2RGB)\n",
    "    image = image.reshape(-1, 3)\n",
    "    clt = KMeans(n_clusters=k, n_init=10)\n",
    "    labels = clt.fit_predict(image)\n",
    "    label_counts = Counter(labels)\n",
    "    dominant_colors = (clt.cluster_centers_[i] for i in label_counts.keys())\n",
    "    dominant_colors = [rgb_to_hex(color) for color in dominant_colors]\n",
    "    percent = [int((label_counts[i] / len(labels)) * 100) for i in label_counts.keys()]\n",
    "    dominant_colors = list(zip(dominant_colors, percent))\n",
    "    return dominant_colors\n"
   ],
   "metadata": {
    "collapsed": false
   }
  },
  {
   "cell_type": "markdown",
   "source": [
    "The following code block is used to process images and find their dominant colors. The code first retrieves all the images present in the folder specified by the images_path variable. Then, it iterates over each image, reads the metadata associated with the image and finds its dominant color if it hasn't been calculated already.\n",
    "\n",
    "For each image, the code first reads the image using OpenCV's cv2.imread() function and stores the result in the img variable. The code then reads the metadata of the image. The type of metadata file (e.g. .json, .pkl, .sqlite) is specified by the metadata_extension variable. Based on the file extension, the code reads the metadata using either read_sqlite(), json.load(), or pickle.load() functions. If the metadata file is not found, the code continues to the next iteration of the loop, but if there is an error, it prints the error message and continues to the next iteration.\n",
    "\n",
    "If the metadata does not contain information about the dominant color of the image, the code calculates the dominant color by calling the find_dominant_colors() function. The result of the find_dominant_colors() function is then added to the metadata under the key \"dominant_color\". Finally, the updated metadata is saved using the save_metadata() function, which saves the metadata to the specified location using the specified file format (metadata_extension)."
   ],
   "metadata": {
    "collapsed": false
   }
  },
  {
   "cell_type": "code",
   "execution_count": 1,
   "outputs": [
    {
     "ename": "NameError",
     "evalue": "name 'get_all_images' is not defined",
     "output_type": "error",
     "traceback": [
      "\u001B[0;31m---------------------------------------------------------------------------\u001B[0m",
      "\u001B[0;31mNameError\u001B[0m                                 Traceback (most recent call last)",
      "Cell \u001B[0;32mIn[1], line 1\u001B[0m\n\u001B[0;32m----> 1\u001B[0m images \u001B[38;5;241m=\u001B[39m \u001B[43mget_all_images\u001B[49m(images_path)\n\u001B[1;32m      3\u001B[0m \u001B[38;5;66;03m# For each image in the folder \"../images_labelized\"\u001B[39;00m\n\u001B[1;32m      4\u001B[0m \u001B[38;5;28;01mfor\u001B[39;00m image \u001B[38;5;129;01min\u001B[39;00m tqdm(images, desc\u001B[38;5;241m=\u001B[39m\u001B[38;5;124m\"\u001B[39m\u001B[38;5;124mFinding dominant colors\u001B[39m\u001B[38;5;124m\"\u001B[39m):\n",
      "\u001B[0;31mNameError\u001B[0m: name 'get_all_images' is not defined"
     ]
    }
   ],
   "source": [
    "images = get_all_images(images_path)\n",
    "\n",
    "# For each image in the folder \"../images_labelized\"\n",
    "for image in tqdm(images, desc=\"Finding dominant colors\"):\n",
    "    img = cv2.imread(image)\n",
    "    # Save the dominant color\n",
    "    # First read metadata from the file\n",
    "    file_name = os.path.basename(image)\n",
    "    file_name, ext = file_name.split(\".\")\n",
    "    try:\n",
    "        if metadata_extension == 'sqlite':\n",
    "            metadata = read_sqlite(\"../output/metadata\", file_name + \".\" + ext)\n",
    "        else:\n",
    "            with open(os.path.join(\"../output/metadata\", file_name + \".\" + metadata_extension), \"rb\") as f:\n",
    "                if metadata_extension == \"json\":\n",
    "                    metadata = json.load(f)\n",
    "                else:\n",
    "                    metadata = pickle.load(f)\n",
    "\n",
    "        if \"dominant_color\" in metadata:\n",
    "            continue\n",
    "\n",
    "        dominant_color = find_dominant_colors(img)\n",
    "\n",
    "        # Add the dominant color to the metadata\n",
    "        metadata[\"dominant_color\"] = dominant_color\n",
    "        # Save the metadata\n",
    "        save_metadata(metadata, file_name + \".\" + ext, \"../output/metadata\", metadata_extension)\n",
    "    except FileNotFoundError:\n",
    "        print(\"File not found: \", file_name)\n",
    "        continue\n",
    "    except Exception as e:\n",
    "        print(\"Error: \", e)\n",
    "        continue\n"
   ],
   "metadata": {
    "collapsed": false
   }
  },
  {
   "cell_type": "code",
   "execution_count": 2,
   "outputs": [
    {
     "data": {
      "text/plain": "'/Users/yannisteissier/Documents/bigdata/projet/output.zip'"
     },
     "execution_count": 1,
     "metadata": {},
     "output_type": "execute_result"
    },
    {
     "data": {
      "text/plain": "'/Users/yannisteissier/Documents/bigdata/projet/output.zip'"
     },
     "execution_count": 2,
     "metadata": {},
     "output_type": "execute_result"
    }
   ],
   "source": [
    "# Zip all files in output/images\n",
    "# and output/metadata into output.zip\n",
    "import shutil\n",
    "shutil.make_archive(\"../output\", \"zip\", \"../output\")"
   ],
   "metadata": {
    "collapsed": false
   }
  },
  {
   "cell_type": "code",
   "execution_count": null,
   "outputs": [],
   "source": [],
   "metadata": {
    "collapsed": false
   }
  }
 ],
 "metadata": {
  "kernelspec": {
   "display_name": "Python 3 (ipykernel)",
   "language": "python",
   "name": "python3"
  },
  "language_info": {
   "codemirror_mode": {
    "name": "ipython",
    "version": 3
   },
   "file_extension": ".py",
   "mimetype": "text/x-python",
   "name": "python",
   "nbconvert_exporter": "python",
   "pygments_lexer": "ipython3",
   "version": "3.9.6"
  }
 },
 "nbformat": 4,
 "nbformat_minor": 1
}
