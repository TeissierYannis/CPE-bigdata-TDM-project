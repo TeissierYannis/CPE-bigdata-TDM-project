{
 "cells": [
  {
   "cell_type": "markdown",
   "source": [
    "# Recommender system\n",
    "# 1 Get user preferences from the user profile file\n",
    "# 2 Get all items that match the user preferences (SQL query to the database) (10 items) and adapt if there is no result\n",
    "\n",
    "\n",
    "===========\n",
    "- Retrive user preferences (load it from json file and extract prefered items)\n",
    "- Query all metadata from the database.\n",
    "- Rank images based on the user preferences (Clustering, similarity, collaborative filtering)\n",
    "- Recommend the top 10 images to the user\n",
    "\n",
    "Rank images :\n",
    "- Convert data to a matrix or a dataframe\n",
    "- Apply clustering algorithm (K-means, DBSCAN, Hierarchical clustering)"
   ],
   "metadata": {
    "collapsed": false
   }
  },
  {
   "cell_type": "code",
   "execution_count": null,
   "outputs": [],
   "source": [],
   "metadata": {
    "collapsed": false
   }
  }
 ],
 "metadata": {
  "kernelspec": {
   "display_name": "Python 3",
   "language": "python",
   "name": "python3"
  },
  "language_info": {
   "codemirror_mode": {
    "name": "ipython",
    "version": 2
   },
   "file_extension": ".py",
   "mimetype": "text/x-python",
   "name": "python",
   "nbconvert_exporter": "python",
   "pygments_lexer": "ipython2",
   "version": "2.7.6"
  }
 },
 "nbformat": 4,
 "nbformat_minor": 0
}
