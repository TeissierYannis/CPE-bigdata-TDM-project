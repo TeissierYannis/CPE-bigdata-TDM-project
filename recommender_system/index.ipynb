{
 "cells": [
  {
   "cell_type": "markdown",
   "source": [
    "# Recommender system\n",
    "# 1 Get user preferences from the user profile file\n",
    "# 2 Get all items that match the user preferences (SQL query to the database) (10 items) and adapt if there is no result\n",
    "\n",
    "\n",
    "===========\n",
    "- Retrive user preferences (load it from json file and extract prefered items)\n",
    "- Query all metadata from the database.\n",
    "- Rank images based on the user preferences (Clustering, similarity, collaborative filtering)\n",
    "- Recommend the top 10 images to the user\n",
    "\n",
    "Rank images :\n",
    "- Convert data to a matrix or a dataframe\n",
    "- Apply clustering algorithm (K-means, DBSCAN, Hierarchical clustering)"
   ],
   "metadata": {
    "collapsed": false
   }
  },
  {
   "cell_type": "code",
   "execution_count": null,
   "outputs": [],
   "source": [
    "import sqlite3\n",
    "import os\n",
    "import pandas as pd"
   ],
   "metadata": {
    "collapsed": false
   }
  },
  {
   "cell_type": "code",
   "execution_count": null,
   "outputs": [],
   "source": [
    "# Set the base folder path for the project\n",
    "output_path = \"../output\"\n",
    "images_path = os.path.join(output_path, \"images\")\n",
    "metadata_path = os.path.join(output_path, \"metadata\")\n",
    "\n",
    "database_path = os.path.join(metadata_path, \"metadata.db\")"
   ],
   "metadata": {
    "collapsed": false
   }
  },
  {
   "cell_type": "code",
   "execution_count": null,
   "outputs": [],
   "source": [
    "def get_users():\n",
    "    # Connect to the database and get all users from the database\n",
    "    conn = sqlite3.connect(database_path)\n",
    "    c = conn.cursor()\n",
    "    c.execute(\"SELECT * FROM users\")\n",
    "    # Dictionary of users with keys (pseudo, fav_color, fav_orientation, fav_height, fav_width)\n",
    "    users = c.fetchall()\n",
    "\n",
    "    users = {user[0]: user[1:] for user in users}\n",
    "\n",
    "    return users"
   ],
   "metadata": {
    "collapsed": false
   }
  },
  {
   "cell_type": "code",
   "execution_count": null,
   "outputs": [],
   "source": [
    "get_users()"
   ],
   "metadata": {
    "collapsed": false
   }
  },
  {
   "cell_type": "code",
   "execution_count": null,
   "outputs": [],
   "source": [
    "def get_user_preferences(user):\n",
    "    # Get the user preferences from the user profile file\n",
    "    # Return a dictionary with keys (fav_color, fav_orientation, fav_height, fav_width)\n",
    "    users = get_users()\n",
    "    return users[user]"
   ],
   "metadata": {
    "collapsed": false
   }
  },
  {
   "cell_type": "code",
   "execution_count": null,
   "outputs": [],
   "source": [
    "get_user_preferences('Yannis')"
   ],
   "metadata": {
    "collapsed": false
   }
  },
  {
   "cell_type": "code",
   "execution_count": null,
   "outputs": [],
   "source": [
    "def get_metadata_from_sqlite_db(db_name='metadata.db'):\n",
    "    \"\"\"\n",
    "    Get the metadata from the sqlite database\n",
    "\n",
    "    :param db_name: The name of the database\n",
    "    :return: A dictionary with the metadata\n",
    "    \"\"\"\n",
    "    # Open a connection to the database\n",
    "    conn = sqlite3.connect(os.path.join(metadata_path, db_name))\n",
    "    c = conn.cursor()\n",
    "\n",
    "    # Retrieve all key-value pairs concatenated by filename\n",
    "    c.execute(\"SELECT filename, GROUP_CONCAT(key || ':' || value, '; ') AS metadata FROM metadata GROUP BY filename\")\n",
    "    rows = c.fetchall()\n",
    "\n",
    "    # Store the concatenated key-value pairs in a dictionary\n",
    "    metadata_dict = {}\n",
    "    for row in rows:\n",
    "        filename, metadata_str = row\n",
    "        metadata_list = metadata_str.split('; ')\n",
    "        metadata_dict[filename] = {}\n",
    "        for metadata_item in metadata_list:\n",
    "            key, value = metadata_item.split(':', 1)\n",
    "            # if the key is tags, convert the string to a list\n",
    "            if key == 'tags':\n",
    "                metadata_dict[filename][key] = eval(value)\n",
    "            else:\n",
    "                metadata_dict[filename][key] = value\n",
    "\n",
    "    conn.close()\n",
    "\n",
    "    return metadata_dict"
   ],
   "metadata": {
    "collapsed": false
   }
  },
  {
   "cell_type": "code",
   "execution_count": null,
   "outputs": [],
   "source": [
    "metadata = get_metadata_from_sqlite_db()\n",
    "df_metadata = pd.DataFrame(metadata)\n",
    "# reverse the columns and rows\n",
    "df_metadata = df_metadata.transpose()\n",
    "# add name for the first column\n",
    "df_metadata = df_metadata.rename_axis('filename').reset_index()\n",
    "df_metadata.head()"
   ],
   "metadata": {
    "collapsed": false
   }
  },
  {
   "cell_type": "code",
   "execution_count": null,
   "outputs": [],
   "source": [
    "user = get_user_preferences('Yannis')\n",
    "df_user = pd.DataFrame(user)\n",
    "df_user = df_user.transpose()\n",
    "df_user = df_user.rename_axis('user').reset_index()\n",
    "# rename the columns : ,ID,fav_color,fav_orientation, fav_height, fav_width, fav_tags\n",
    "df_user = df_user.rename(columns={'user': 'pseudo', 0: 'fav_color', 1: 'fav_orientation', 2: 'fav_height', 3: 'fav_width', 4: 'fav_tags'})\n",
    "# format fav_tags to remove () and ''\n",
    "df_user['fav_tags'] = df_user['fav_tags'].str.replace('(', '')\n",
    "df_user['fav_tags'] = df_user['fav_tags'].str.replace(')', '')\n",
    "df_user['fav_tags'] = df_user['fav_tags'].str.replace(\"'\", '')\n",
    "df_user['fav_tags'] = df_user['fav_tags'].str.replace(\" \", '')\n",
    "# add the name of the column for the user name (pseudo)\n",
    "df_user.head()"
   ],
   "metadata": {
    "collapsed": false
   }
  },
  {
   "cell_type": "code",
   "execution_count": null,
   "outputs": [],
   "source": [
    "# get tags from the user profile (it is a list) and clean it to get a list of tags\n",
    "tags = df_user['fav_tags'][0]\n",
    "tags = tags.replace('[', '')\n",
    "tags = tags.replace('(', '')\n",
    "tags = tags.replace(')', '')\n",
    "tags = tags.replace(']', '')\n",
    "tags = tags.replace(\"'\", '')\n",
    "tags = tags.split(',')\n",
    "tags"
   ],
   "metadata": {
    "collapsed": false
   }
  },
  {
   "cell_type": "code",
   "execution_count": null,
   "outputs": [],
   "source": [
    "!pip install nltk gensim"
   ],
   "metadata": {
    "collapsed": false
   }
  },
  {
   "cell_type": "code",
   "execution_count": null,
   "outputs": [],
   "source": [],
   "metadata": {
    "collapsed": false
   }
  },
  {
   "cell_type": "code",
   "execution_count": null,
   "outputs": [],
   "source": [],
   "metadata": {
    "collapsed": false
   }
  },
  {
   "cell_type": "code",
   "execution_count": null,
   "outputs": [],
   "source": [
    "import nltk\n",
    "from nltk.corpus import wordnet as wn\n",
    "from nltk.corpus import genesis\n",
    "nltk.download('genesis')\n",
    "nltk.download('wordnet')\n",
    "nltk.download('punkt')\n",
    "nltk.download('averaged_perceptron_tagger')\n",
    "genesis_ic = wn.ic(genesis, False, 0.0)\n",
    "\n",
    "import numpy as np\n",
    "import pandas as pd\n",
    "from nltk.tokenize import word_tokenize\n",
    "from nltk.stem.porter import PorterStemmer\n",
    "from nltk.stem import SnowballStemmer\n",
    "from nltk.stem.lancaster import LancasterStemmer\n",
    "from nltk.corpus import stopwords\n",
    "from sklearn.metrics import roc_auc_score"
   ],
   "metadata": {
    "collapsed": false
   }
  },
  {
   "cell_type": "code",
   "execution_count": null,
   "outputs": [],
   "source": [
    "# get tags from the dataframe and clean it to get a list of tags\n",
    "tags = df_metadata['tags']"
   ],
   "metadata": {
    "collapsed": false
   }
  },
  {
   "cell_type": "code",
   "execution_count": null,
   "outputs": [],
   "source": [
    "# get the list of all tags\n",
    "all_tags = []\n",
    "for tag in tags:\n",
    "    try:\n",
    "        for t in tag:\n",
    "            if t not in all_tags:\n",
    "                all_tags.append(t)\n",
    "    except:\n",
    "        pass\n",
    "all_tags"
   ],
   "metadata": {
    "collapsed": false
   }
  },
  {
   "cell_type": "code",
   "execution_count": null,
   "outputs": [],
   "source": [
    "# convert the list of tags to a dataframe\n",
    "df_all_tags = pd.DataFrame(all_tags)\n",
    "# rename the column\n",
    "df_all_tags = df_all_tags.rename(columns={0: 'tags'})\n",
    "df_all_tags.head()"
   ],
   "metadata": {
    "collapsed": false
   }
  },
  {
   "cell_type": "code",
   "execution_count": null,
   "outputs": [],
   "source": [
    "!pip install spacy"
   ],
   "metadata": {
    "collapsed": false
   }
  },
  {
   "cell_type": "code",
   "execution_count": null,
   "outputs": [],
   "source": [
    "import spacy\n",
    "# download the model\n",
    "!python -m spacy download en_core_web_md\n",
    "nlp = spacy.load(\"en_core_web_md\")"
   ],
   "metadata": {
    "collapsed": false
   }
  },
  {
   "cell_type": "code",
   "execution_count": null,
   "outputs": [],
   "source": [
    "# Define a function to convert a word to its vector representation\n",
    "def word_to_vector(word):\n",
    "    return nlp(word).vector\n",
    "\n",
    "# Apply the function to all words in the dataframe\n",
    "df_all_tags['vector'] = df_all_tags['tags'].apply(word_to_vector)\n",
    "df_all_tags.head()"
   ],
   "metadata": {
    "collapsed": false
   }
  },
  {
   "cell_type": "code",
   "execution_count": null,
   "outputs": [],
   "source": [
    "from sklearn.metrics.pairwise import cosine_similarity\n",
    "\n",
    "# Define a function to compute the cosine similarity between two vectors\n",
    "def cosine_sim(a, b):\n",
    "    return cosine_similarity(a.reshape(1,-1), b.reshape(1,-1))[0][0]"
   ],
   "metadata": {
    "collapsed": false
   }
  },
  {
   "cell_type": "code",
   "execution_count": null,
   "outputs": [],
   "source": [
    "# Example usage\n",
    "vector1 = word_to_vector(\"apple\")\n",
    "vector2 = word_to_vector(\"orange\")\n",
    "similarity = cosine_sim(vector1, vector2)\n",
    "print(similarity)  # Output: 0.613587"
   ],
   "metadata": {
    "collapsed": false
   }
  },
  {
   "cell_type": "code",
   "execution_count": null,
   "outputs": [],
   "source": [
    "# Define a function to compute the similarity between a word and a list of words\n",
    "def word_to_list_similarity(word, word_list):\n",
    "    word_vector = word_to_vector(word)\n",
    "    word_list_vectors = word_list.apply(word_to_vector)\n",
    "    similarities = word_list_vectors.apply(lambda x: cosine_sim(word_vector, x))\n",
    "    return similarities"
   ],
   "metadata": {
    "collapsed": false
   }
  },
  {
   "cell_type": "code",
   "execution_count": null,
   "outputs": [],
   "source": [
    "# for each fav_tags in user_df get the similarity between the word and all words in the dataframe and update the dataframe\n",
    "user_tags = df_user['fav_tags'][0]\n",
    "user_tags = user_tags.split(',')\n",
    "user_tags"
   ],
   "metadata": {
    "collapsed": false
   }
  },
  {
   "cell_type": "code",
   "execution_count": null,
   "outputs": [],
   "source": [
    "for tag in user_tags:\n",
    "    similarities = word_to_list_similarity(tag, df_all_tags['tags'])\n",
    "    df_all_tags[tag] = similarities\n",
    "\n",
    "# sort each similarity column in descending order\n",
    "df_all_tags = df_all_tags.sort_values(by=user_tags, ascending=False)\n",
    "df_all_tags.head()"
   ],
   "metadata": {
    "collapsed": false
   }
  },
  {
   "cell_type": "code",
   "execution_count": null,
   "outputs": [],
   "source": [
    "\n",
    "# Get the similarity between the words in user_preferences and all words in the dataframe and update the dataframe\n",
    "similarities = word_to_list_similarity(\"water\", df_all_tags['tags'])\n",
    "df_all_tags['similarity'] = similarities\n",
    "df_all_tags.head()"
   ],
   "metadata": {
    "collapsed": false
   }
  },
  {
   "cell_type": "code",
   "execution_count": null,
   "outputs": [],
   "source": [
    "# sort the dataframe by similarity\n",
    "df_all_tags = df_all_tags.sort_values(by=['similarity'], ascending=False)\n",
    "df_all_tags.head()"
   ],
   "metadata": {
    "collapsed": false
   }
  },
  {
   "cell_type": "code",
   "execution_count": null,
   "outputs": [],
   "source": [],
   "metadata": {
    "collapsed": false
   }
  }
 ],
 "metadata": {
  "kernelspec": {
   "display_name": "Python 3",
   "language": "python",
   "name": "python3"
  },
  "language_info": {
   "codemirror_mode": {
    "name": "ipython",
    "version": 2
   },
   "file_extension": ".py",
   "mimetype": "text/x-python",
   "name": "python",
   "nbconvert_exporter": "python",
   "pygments_lexer": "ipython2",
   "version": "2.7.6"
  }
 },
 "nbformat": 4,
 "nbformat_minor": 0
}
