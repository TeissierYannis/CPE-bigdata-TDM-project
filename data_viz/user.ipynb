{
 "cells": [
  {
   "cell_type": "code",
   "execution_count": 1,
   "outputs": [],
   "source": [
    "import os\n",
    "import ast\n",
    "import sqlite3\n",
    "import itertools\n",
    "import ipywidgets as widgets"
   ],
   "metadata": {
    "collapsed": false
   }
  },
  {
   "cell_type": "code",
   "execution_count": 2,
   "outputs": [],
   "source": [
    "# Set the base folder path for the project\n",
    "output_path = \"../output\"\n",
    "images_path = os.path.join(output_path, \"images\")\n",
    "metadata_path = os.path.join(output_path, \"metadata\")\n",
    "config_path = os.path.join(output_path, \"config\")\n",
    "\n",
    "list_of_paths = [output_path, images_path, metadata_path, config_path]"
   ],
   "metadata": {
    "collapsed": false
   }
  },
  {
   "cell_type": "code",
   "execution_count": 3,
   "outputs": [
    {
     "ename": "KeyError",
     "evalue": "'tags'",
     "output_type": "error",
     "traceback": [
      "\u001B[1;31m---------------------------------------------------------------------------\u001B[0m",
      "\u001B[1;31mKeyError\u001B[0m                                  Traceback (most recent call last)",
      "\u001B[1;32m~\\AppData\\Local\\Temp\\ipykernel_4072\\3215275021.py\u001B[0m in \u001B[0;36m<module>\u001B[1;34m\u001B[0m\n\u001B[0;32m      2\u001B[0m \u001B[1;33m\u001B[0m\u001B[0m\n\u001B[0;32m      3\u001B[0m \u001B[1;33m\u001B[0m\u001B[0m\n\u001B[1;32m----> 4\u001B[1;33m \u001B[0mtags\u001B[0m \u001B[1;33m=\u001B[0m \u001B[0mset\u001B[0m\u001B[1;33m(\u001B[0m\u001B[0mlist\u001B[0m\u001B[1;33m(\u001B[0m\u001B[0mitertools\u001B[0m\u001B[1;33m.\u001B[0m\u001B[0mchain\u001B[0m\u001B[1;33m.\u001B[0m\u001B[0mfrom_iterable\u001B[0m\u001B[1;33m(\u001B[0m\u001B[1;33m[\u001B[0m\u001B[0mast\u001B[0m\u001B[1;33m.\u001B[0m\u001B[0mliteral_eval\u001B[0m\u001B[1;33m(\u001B[0m\u001B[0mt\u001B[0m\u001B[1;33m)\u001B[0m \u001B[1;32mfor\u001B[0m \u001B[0mt\u001B[0m \u001B[1;32min\u001B[0m \u001B[0mdict_metadata\u001B[0m\u001B[1;33m[\u001B[0m\u001B[1;34m'tags'\u001B[0m\u001B[1;33m]\u001B[0m\u001B[1;33m]\u001B[0m\u001B[1;33m)\u001B[0m\u001B[1;33m)\u001B[0m\u001B[1;33m)\u001B[0m\u001B[1;33m\u001B[0m\u001B[1;33m\u001B[0m\u001B[0m\n\u001B[0m\u001B[0;32m      5\u001B[0m \u001B[0muser_data\u001B[0m \u001B[1;33m=\u001B[0m \u001B[1;33m{\u001B[0m\u001B[1;33m}\u001B[0m\u001B[1;33m\u001B[0m\u001B[1;33m\u001B[0m\u001B[0m\n\u001B[0;32m      6\u001B[0m \u001B[1;33m\u001B[0m\u001B[0m\n",
      "\u001B[1;31mKeyError\u001B[0m: 'tags'"
     ]
    }
   ],
   "source": [
    "dict_metadata = {}\n",
    "\n",
    "\n",
    "tags = set(list(itertools.chain.from_iterable([ast.literal_eval(t) for t in dict_metadata['tags']])))\n",
    "user_data = {}\n",
    "\n",
    "# Create a label for the title\n",
    "title_label = widgets.Label(value='User Information Form')\n",
    "\n",
    "# Create text boxes for first and last name\n",
    "pseudo = widgets.Text(description='Pseudo :')\n",
    "\n",
    "# Create a color picker for favorite colors\n",
    "color_picker = widgets.ColorPicker(\n",
    "    concise=True,\n",
    "    description='Favorite Colors:',\n",
    "    value='#FF0000',\n",
    "    continuous_update=False,\n",
    "    disabled=False\n",
    ")\n",
    "\n",
    "# Create a dropdown list of tags\n",
    "tag_dropdown = widgets.SelectMultiple(\n",
    "    options=tags,\n",
    "    value=[],\n",
    "    description='Tags:',\n",
    "    disabled=False\n",
    ")\n",
    "\n",
    "# Create a dropdown for image orientation\n",
    "orientation_dropdown = widgets.Dropdown(\n",
    "    options=['Portrait', 'Landscape'],\n",
    "    value='Portrait',\n",
    "    description='Orientation:'\n",
    ")\n",
    "\n",
    "# Create sliders for image height and width\n",
    "height_slider = widgets.IntSlider(min=100, max=4000, step=100, description='Height:')\n",
    "width_slider = widgets.IntSlider(min=100, max=4000, step=100, description='Width:')\n",
    "\n",
    "#  Create a button to submit the form\n",
    "submit_button = widgets.Button(description='Submit')\n",
    "\n",
    "# Create a VBox container for the widgets\n",
    "form_container = widgets.VBox([\n",
    "    title_label,\n",
    "    pseudo,\n",
    "    color_picker,\n",
    "    orientation_dropdown,\n",
    "    height_slider,\n",
    "    width_slider,\n",
    "    tag_dropdown,\n",
    "    submit_button\n",
    "])\n",
    "\n",
    "form_container.layout = widgets.Layout(\n",
    "    width='600px',\n",
    "    height='500px',\n",
    "    justify_content='center',  # Centrer les widgets horizontalement\n",
    "    align_items='center'  # Centrer les widgets verticalement\n",
    ")\n",
    "\n",
    "# Define a function to handle form submission\n",
    "def on_submit_button_clicked(b):\n",
    "    user_data.update({\n",
    "        pseudo.value : {\n",
    "            'fav_color' : color_picker.value,\n",
    "            'fav_orientation' : orientation_dropdown.value,\n",
    "            'fav_height' : height_slider.value,\n",
    "            'fav_width' : width_slider.value,\n",
    "            'tags': tag_dropdown.value\n",
    "        }\n",
    "    }\n",
    "    )\n",
    "\n",
    "# Attach the on_submit_button_clicked function to the button click event\n",
    "clicked = submit_button.on_click(on_submit_button_clicked)\n",
    "\n",
    "# Display the form container\n",
    "display(form_container)"
   ],
   "metadata": {
    "collapsed": false
   }
  },
  {
   "cell_type": "code",
   "execution_count": null,
   "outputs": [],
   "source": [
    "print(user_data)"
   ],
   "metadata": {
    "collapsed": false
   }
  },
  {
   "cell_type": "code",
   "execution_count": null,
   "outputs": [],
   "source": [
    "list_columns = ['fav_color', 'fav_orientation', 'fav_height', 'fav_width']\n",
    "\n",
    "def save_metadata(user_data):\n",
    "    try:\n",
    "        # Open a connection to the database\n",
    "        conn = sqlite3.connect(os.path.join(metadata_path, 'metadata.db'))\n",
    "        # Create a cursor\n",
    "        c = conn.cursor()\n",
    "        # Create a table if it doesn't exist : filename, key, value\n",
    "        c.execute(\n",
    "            '''CREATE TABLE IF NOT EXISTS users (\n",
    "            pseudo text PRIMARY KEY,\n",
    "            fav_color text,\n",
    "            fav_orientation text,\n",
    "            fav_height integer,\n",
    "            fav_width integer\n",
    "        )''')\n",
    "\n",
    "        nb_users = len(user_data.keys())\n",
    "\n",
    "        check = True\n",
    "        # check if all data are usable\n",
    "        if nb_users > 1:\n",
    "            for pseudo in user_data.keys() :\n",
    "                for column in list_columns :\n",
    "                    if user_data[pseudo][column] is None :\n",
    "                        check = False\n",
    "                        return\n",
    "        else :\n",
    "            check = False\n",
    "\n",
    "        if check :\n",
    "            for pseudo in user_data.keys() :\n",
    "                c.execute(\"SELECT * FROM users WHERE pseudo=?\", (pseudo,))\n",
    "                if c.fetchone():\n",
    "                    c.execute(\"UPDATE users SET fav_color=?, fav_orientation=?, fav_height=?, fav_width=? WHERE pseudo=?\",\n",
    "                              (user_data[pseudo]['fav_color'], user_data[pseudo]['fav_orientation'], user_data[pseudo]['fav_height'], user_data[pseudo]['fav_width'], pseudo))\n",
    "                    conn.commit()\n",
    "                else :\n",
    "                    c.execute(\"INSERT INTO users VALUES (?, ?, ?, ?, ?)\", (pseudo, user_data[pseudo]['fav_color'], user_data[pseudo]['fav_orientation'], user_data[pseudo]['fav_height'], user_data[pseudo]['fav_width']))\n",
    "                    conn.commit()\n",
    "                print(f\"User {pseudo} saved to database successfully\")\n",
    "            conn.close()\n",
    "        else :\n",
    "            print(\"Invalid User data\")\n",
    "\n",
    "    except Exception as e:\n",
    "        print(\"Error saving user to database : \", e)\n",
    "\n",
    "save_metadata(user_data)\n",
    "print(user_data)"
   ],
   "metadata": {
    "collapsed": false
   }
  }
 ],
 "metadata": {
  "kernelspec": {
   "display_name": "Python 3",
   "language": "python",
   "name": "python3"
  },
  "language_info": {
   "codemirror_mode": {
    "name": "ipython",
    "version": 2
   },
   "file_extension": ".py",
   "mimetype": "text/x-python",
   "name": "python",
   "nbconvert_exporter": "python",
   "pygments_lexer": "ipython2",
   "version": "2.7.6"
  }
 },
 "nbformat": 4,
 "nbformat_minor": 0
}
