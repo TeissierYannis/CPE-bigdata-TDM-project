{
 "cells": [
  {
   "cell_type": "markdown",
   "metadata": {},
   "source": []
  },
  {
   "cell_type": "markdown",
   "metadata": {},
   "source": [
    "# Imports\n",
    "\n",
    "The code above imports various Python modules and libraries for data processing, visualization, and analysis. Below is a description of each module and library imported:\n",
    "\n",
    "- `os`: Provides a way to interact with the operating system, such as navigating directories and working with files.\n",
    "- `ast`: Provides a way to parse Python code into an abstract syntax tree, which can be used to analyze and manipulate the code.\n",
    "- `spacy`: A library for natural language processing, including tasks such as tokenization, part-of-speech tagging, and named entity recognition.\n",
    "- `folium`: A library for creating interactive maps using the Leaflet JavaScript library.\n",
    "- `sqlite3`: A module for working with SQLite databases.\n",
    "- `squarify`: A library for generating treemaps, which visualize hierarchical data using nested rectangles.\n",
    "- `itertools`: Provides a collection of functions for working with iterators, such as combining multiple iterators or creating permutations.\n",
    "- `webcolors`: A library for working with CSS-style color strings.\n",
    "- `tqdm`: A library for creating progress bars for loops.\n",
    "- `pandas`: A library for data manipulation and analysis, including reading and writing data to/from various file formats.\n",
    "- `ipywidgets`: Provides interactive widgets for Jupyter notebooks and other IPython environments.\n",
    "- `matplotlib.pyplot`: A library for creating visualizations, including line plots, scatter plots, bar charts, and histograms.\n",
    "- `collections.Counter`: A container that keeps track of the frequency of elements in a collection."
   ]
  },
  {
   "cell_type": "code",
   "execution_count": null,
   "metadata": {},
   "outputs": [],
   "source": [
    "import os\n",
    "import ast\n",
    "import spacy\n",
    "import folium\n",
    "import sqlite3\n",
    "import datetime\n",
    "import squarify\n",
    "import itertools\n",
    "import webcolors\n",
    "import pandas as pd\n",
    "from tqdm import tqdm\n",
    "import ipywidgets as widgets\n",
    "from collections import Counter\n",
    "import matplotlib.pyplot as plt\n",
    "from geopy.geocoders import Nominatim"
   ]
  },
  {
   "cell_type": "markdown",
   "metadata": {},
   "source": [
    "# Settings base variables and paths\n",
    "\n",
    "The code above sets the base folder path and creates four subdirectories within that base path: \"images\", \"metadata\", and \"config\". These subdirectories are created by joining the base path with their respective names using the os.path.join() function."
   ]
  },
  {
   "cell_type": "code",
   "execution_count": null,
   "metadata": {},
   "outputs": [],
   "source": [
    "# Set the base folder path for the project\n",
    "output_path = \"../output\"\n",
    "images_path = os.path.join(output_path, \"images\")\n",
    "metadata_path = os.path.join(output_path, \"metadata\")\n",
    "config_path = os.path.join(output_path, \"config\")\n",
    "\n",
    "list_of_paths = [output_path, images_path, metadata_path, config_path]"
   ]
  },
  {
   "cell_type": "markdown",
   "metadata": {},
   "source": [
    "# Get the metadata from db and sort it with list into a dictionary\n",
    "\n",
    "### Get the metadata from the database\n",
    "\n",
    "The function \"get_metadata_from_sqlite_DB\" is used to retrieve metadata from a SQLite database. It takes an optional argument \"db_name\" to specify the name of the database. It opens a connection to the database, creates a cursor, and retrieves metadata for the first file in the images' directory. The metadata is stored in a dictionary format, where the filename is the key and the metadata is a list of key-value pairs. The function then closes the connection and returns the dictionary of metadata."
   ]
  },
  {
   "cell_type": "code",
   "execution_count": null,
   "metadata": {},
   "outputs": [],
   "source": [
    "def get_metadata_from_sqlite_db(db_name='metadata.db'):\n",
    "    \"\"\"\n",
    "    Get the metadata from the sqlite database\n",
    "\n",
    "    :param db_name: The name of the database\n",
    "    :return: A dictionary with the metadata\n",
    "    \"\"\"\n",
    "    # Open a connection to the database\n",
    "    conn = sqlite3.connect(os.path.join(metadata_path, db_name))\n",
    "    c = conn.cursor()\n",
    "\n",
    "    # Retrieve all key-value pairs concatenated by filename\n",
    "    c.execute(\"SELECT filename, GROUP_CONCAT(key || ':' || value, '; ') AS metadata FROM metadata GROUP BY filename\")\n",
    "    rows = c.fetchall()\n",
    "\n",
    "    # Store the concatenated key-value pairs in a dictionary\n",
    "    metadata_dict = {}\n",
    "    for row in rows:\n",
    "        filename, metadata_str = row\n",
    "        metadata_list = metadata_str.split('; ')\n",
    "        metadata_dict[filename] = {}\n",
    "        for metadata_item in metadata_list:\n",
    "            key, value = metadata_item.split(':', 1)\n",
    "            metadata_dict[filename][key] = value\n",
    "\n",
    "    conn.close()\n",
    "\n",
    "    return metadata_dict"
   ]
  },
  {
   "cell_type": "markdown",
   "source": [
    "# Format the metadata into a dictionary\n",
    "\n",
    "The function \"format_metadata\" is used to format the metadata into a dictionary. Each property is a key and the values are stored in a list. The function takes a dictionary of metadata as an argument and returns a dictionary with the formatted metadata."
   ],
   "metadata": {
    "collapsed": false
   }
  },
  {
   "cell_type": "code",
   "execution_count": null,
   "outputs": [],
   "source": [
    "def format_metadata(metadata_to_format):\n",
    "    \"\"\"\n",
    "    Format the metadata into a dictionary\n",
    "    Each property is a key and the values are stored in a list\n",
    "\n",
    "    :param metadata_to_format: The metadata to format\n",
    "    :return: A dictionary with the formatted metadata\n",
    "    \"\"\"\n",
    "    # Create lists for each property\n",
    "    formatted = {}\n",
    "\n",
    "    # List all properties of the images\n",
    "    prop_list = []\n",
    "    for image in metadata_to_format:\n",
    "        for prop in metadata_to_format[image]:\n",
    "            if prop not in prop_list:\n",
    "                prop_list.append(prop)\n",
    "\n",
    "    # Add properties to the dictionary\n",
    "    formatted[\"file\"] = []\n",
    "    for prop in prop_list:\n",
    "        formatted[prop] = []\n",
    "\n",
    "    # Add property values to the lists\n",
    "    for image in tqdm(metadata_to_format, desc=\"Format metadata\"):\n",
    "        formatted[\"file\"].append(image)\n",
    "        for prop in prop_list:\n",
    "            if prop in metadata_to_format[image]:\n",
    "                formatted[prop].append(metadata_to_format[image][prop])\n",
    "            else:\n",
    "                formatted[prop].append(None)\n",
    "\n",
    "    print(\"Metadata formatted !\")\n",
    "    return formatted"
   ],
   "metadata": {
    "collapsed": false
   }
  },
  {
   "cell_type": "markdown",
   "source": [
    "### Clean the metadata\n",
    "\n",
    "The function \"clean_metadata\" is used to clean the metadata. It takes a dictionary of metadata as an argument and returns a dictionary with the cleaned metadata. The function removes special characters from the 'Make' property values and removes the 'T' and '-' characters from the 'DateTime' property values."
   ],
   "metadata": {
    "collapsed": false
   }
  },
  {
   "cell_type": "code",
   "execution_count": null,
   "outputs": [],
   "source": [
    "def clean_metadata(metadata_to_clean):\n",
    "    \"\"\"\n",
    "    Clean the metadata\n",
    "    Remove special characters from the 'Make' property values\n",
    "    Remove the 'T' and '-' characters from the 'DateTime' property values\n",
    "\n",
    "    :param metadata_to_clean: The metadata to clean\n",
    "    :return: A dictionary with the cleaned metadata\n",
    "    \"\"\"\n",
    "    cln_metadata = metadata_to_clean.copy()\n",
    "\n",
    "    # Clean 'Make' property values\n",
    "    if 'Make' in cln_metadata:\n",
    "        for index in range(len(cln_metadata['Make'])):\n",
    "            if cln_metadata['Make'][index] is not None:\n",
    "                cln_metadata['Make'][index] = ''.join(filter(str.isalpha, cln_metadata['Make'][index])).replace(\n",
    "                    'CORPORATION', '').replace('CORP', '').replace('COMPANY', '').replace('LTD', '').replace('IMAGING',\n",
    "                                                                                                             '')\n",
    "\n",
    "    # Clean 'DateTime' property values\n",
    "    cpt, cpt_error = 0, 0\n",
    "    date_error = []\n",
    "    if 'DateTime' in cln_metadata:\n",
    "        for j, date in enumerate(cln_metadata['DateTime']):\n",
    "            try:\n",
    "                if cln_metadata['DateTime'][j] is not None:\n",
    "                    tmp = cln_metadata['DateTime'][j].replace('T', ' ').replace('-', ':').split('+')[0]\n",
    "                    cln_metadata['DateTime'][j] = datetime.datetime.strptime(tmp[:19], '%Y:%m:%d %H:%M:%S')\n",
    "                    # if the year is after actual year, we assume that the date is wrong\n",
    "                    if cln_metadata['DateTime'][j].year > datetime.datetime.now().year:\n",
    "                        date_error.append(cln_metadata['DateTime'][j])\n",
    "                        cln_metadata['DateTime'][j] = None\n",
    "                        cpt_error += 1\n",
    "                    else:\n",
    "                        cpt += 1\n",
    "            except ValueError:\n",
    "                date_error.append(cln_metadata['DateTime'][j])\n",
    "                cln_metadata['DateTime'][j] = None\n",
    "                cpt_error += 1\n",
    "\n",
    "        print(f\"Metadata cleaned ! {cpt}/{len(cln_metadata['DateTime'])} dates OK, {cpt_error} dates KO\")\n",
    "        print(f\"Dates KO : {date_error}\")\n",
    "\n",
    "    # Clean 'tags' property values\n",
    "    tags = []\n",
    "    if 'tags' in cln_metadata:\n",
    "        for index in range(len(cln_metadata['tags'])):\n",
    "            if cln_metadata['tags'][index] is not None:\n",
    "                tags.append(eval(cln_metadata['tags'][index]))\n",
    "\n",
    "        cln_metadata['tags'] = tags\n",
    "\n",
    "    return cln_metadata"
   ],
   "metadata": {
    "collapsed": false
   }
  },
  {
   "cell_type": "code",
   "execution_count": null,
   "outputs": [],
   "source": [
    "# Get the metadata from the SQLite database\n",
    "brut_metadata = get_metadata_from_sqlite_db()\n",
    "# Format the metadata\n",
    "formatted_metadata = format_metadata(brut_metadata)\n",
    "# Clean the metadata\n",
    "dict_metadata = clean_metadata(formatted_metadata)"
   ],
   "metadata": {
    "collapsed": false
   }
  },
  {
   "cell_type": "markdown",
   "source": [
    "### Overview of the metadata\n",
    "\n",
    "The function \"count_data_per_property\" is used to count the number of non-null values for each property in the metadata dictionary. It takes a dictionary of metadata as an argument and prints the properties that have more than 70 non-null values.\n",
    "\n",
    "The function \"metadata_extract_example\" is used to print the first 3 elements of each list in the dict_metadata dictionary. It takes a dictionary of metadata as an argument and prints the first 3 elements of each list in the dict_metadata dictionary."
   ],
   "metadata": {
    "collapsed": false
   }
  },
  {
   "cell_type": "code",
   "execution_count": null,
   "metadata": {},
   "outputs": [],
   "source": [
    "def count_data_per_property(metadata_to_count, significant_limit=70):\n",
    "    \"\"\"\n",
    "    Count the number of non-null values for each property in the metadata dictionary\n",
    "    Display the properties that have significant non-null values\n",
    "\n",
    "    :param metadata_to_count: The metadata to count\n",
    "    :param significant_limit: The limit after which a property is considered significant\n",
    "    \"\"\"\n",
    "    # Count the number of non-null values for each property in the metadata dictionary\n",
    "    prop_len = {}\n",
    "    for prop in metadata_to_count:\n",
    "        prop_len[prop] = len([x for x in metadata_to_count[prop] if x is not None])\n",
    "\n",
    "        # Print the properties that have more than 70 non-null values\n",
    "        if prop_len[prop] > significant_limit:\n",
    "            print(f'{prop} : {prop_len[prop]}')\n",
    "\n",
    "\n",
    "def metadata_extract_example(metadata, significant_limit=70):\n",
    "    \"\"\"\n",
    "    Print the first 3 elements of each list in the dict_metadata dictionary\n",
    "    Do not print the \"MakerNote\" property (too long)\n",
    "\n",
    "    :param metadata: The metadata to print\n",
    "    :param significant_limit: The limit after which a property is considered significant\n",
    "    \"\"\"\n",
    "    # Print the first 3 elements of each list in the dict_metadata dictionary\n",
    "    for prop in metadata:\n",
    "        # Only print properties that have more than 70 non-null values and are not \"MakerNote\"\n",
    "        if len(metadata[prop]) > significant_limit and prop != \"MakerNote\":\n",
    "            print(f'{prop} : {metadata[prop][:3]}')"
   ]
  },
  {
   "cell_type": "code",
   "execution_count": null,
   "outputs": [],
   "source": [
    "print(f'Number of images : {len(dict_metadata[\"file\"])}')\n",
    "print(\"-------------- Properties with more significant non-null values --------------\")\n",
    "count_data_per_property(formatted_metadata)\n",
    "print(\"-------------- First 3 elements of each list in the dict_metadata dictionary --------------\")\n",
    "metadata_extract_example(dict_metadata)"
   ],
   "metadata": {
    "collapsed": false
   }
  },
  {
   "cell_type": "markdown",
   "source": [
    "# Define the functions to display the metadata\n",
    "\n",
    "- \"display_bar\" is used to display a bar chart.\n",
    "- \"display_pie\" is used to display a pie chart.\n",
    "- \"display_curve\" is used to display a curve chart."
   ],
   "metadata": {
    "collapsed": false
   }
  },
  {
   "cell_type": "code",
   "execution_count": null,
   "outputs": [],
   "source": [
    "def display_bar(title, x_label, y_label, x_values, y_values):\n",
    "    \"\"\"\n",
    "    Display a bar chart\n",
    "\n",
    "    :param title: The title of the chart\n",
    "    :param x_label: The x-axis label\n",
    "    :param y_label: The y-axis label\n",
    "    :param x_values: The values of the x-axis\n",
    "    :param y_values: The values of the y-axis\n",
    "    \"\"\"\n",
    "    plt.bar(x_values, y_values)\n",
    "    plt.title(title)\n",
    "    plt.xlabel(x_label)\n",
    "    plt.ylabel(y_label)\n",
    "    plt.xticks(rotation=90)\n",
    "    plt.show()"
   ],
   "metadata": {
    "collapsed": false
   }
  },
  {
   "cell_type": "code",
   "execution_count": null,
   "outputs": [],
   "source": [
    "def display_pie(title, values, labels):\n",
    "    \"\"\"\n",
    "    Display a pie chart\n",
    "\n",
    "    :param title: The title of the chart\n",
    "    :param values: The values of the chart\n",
    "    :param labels: The labels of the chart\n",
    "    \"\"\"\n",
    "    plt.pie(values, labels=labels, autopct='%1.1f%%')\n",
    "    plt.title(title)\n",
    "    plt.show()"
   ],
   "metadata": {
    "collapsed": false
   }
  },
  {
   "cell_type": "code",
   "execution_count": null,
   "outputs": [],
   "source": [
    "def display_curve(title, x_label, y_label, x_values, y_values):\n",
    "    \"\"\"\n",
    "    Display a curve\n",
    "\n",
    "    :param title: The title of the curve\n",
    "    :param x_label: The label of the x_axis\n",
    "    :param y_label: The label of the y_axis\n",
    "    :param x_values: The values of the x_axis\n",
    "    :param y_values: The values of the y_axis\n",
    "    \"\"\"\n",
    "\n",
    "    plt.plot(x_values, y_values)\n",
    "    plt.xlabel(x_label)\n",
    "    plt.ylabel(y_label)\n",
    "    plt.title(title)\n",
    "    plt.show()"
   ],
   "metadata": {
    "collapsed": false
   }
  },
  {
   "cell_type": "markdown",
   "source": [
    "# Graph images : size (static)\n",
    "\n",
    "The function \"graph_images_size_static\" is used to graph the number of images per size category. It takes a dictionary of metadata as an argument and returns a graph with the number of images per size category. The interval size is 200 by default.\n"
   ],
   "metadata": {
    "collapsed": false
   }
  },
  {
   "cell_type": "code",
   "execution_count": null,
   "outputs": [],
   "source": [
    "def graph_images_size_static(metadata, interval_size=200, nb_intervals=4):\n",
    "    \"\"\"\n",
    "    Graph the number of images per size category\n",
    "    The interval size is 200 by default\n",
    "\n",
    "    :param metadata: The metadata to graph\n",
    "    :param interval_size: The size of the intervals\n",
    "    :param nb_intervals: The number of intervals\n",
    "    \"\"\"\n",
    "    # Convert metadata to a DataFrame\n",
    "    df = pd.DataFrame(metadata)\n",
    "\n",
    "    # Calculate the minimum size of each image and store it in a new column\n",
    "    df['min_size'] = df[['Width', 'Height']].min(axis=1)\n",
    "\n",
    "    # Determine the maximum minimum size\n",
    "    max_min_size = df['min_size'].max()\n",
    "\n",
    "    # Create a list of intervals based on the interval size and number of intervals\n",
    "    inter = [i * interval_size for i in range(nb_intervals + 1)]\n",
    "\n",
    "    # Create a list of labels for each interval\n",
    "    labels = [f'{inter[i]}-{inter[i + 1]}' for i in range(nb_intervals)]\n",
    "\n",
    "    # Categorize each image based on its size and interval\n",
    "    df['size_category'] = pd.cut(df['min_size'], bins=inter, labels=labels)\n",
    "\n",
    "    # Count the number of images in each category\n",
    "    size_counts = df['size_category'].value_counts()\n",
    "\n",
    "    display_bar('Number of images per size category', 'Size category', 'Number of images', size_counts.index,\n",
    "                size_counts.values)"
   ],
   "metadata": {
    "collapsed": false
   }
  },
  {
   "cell_type": "code",
   "execution_count": null,
   "outputs": [],
   "source": [
    "graph_images_size_static(dict_metadata, 2000, 3)"
   ],
   "metadata": {
    "collapsed": false
   }
  },
  {
   "cell_type": "markdown",
   "source": [
    "# Graph images : size (dynamic)\n",
    "\n",
    "The function \"graph_images_size_dynamic\" is used to graph the number of images per size category. It takes a dictionary of metadata as an argument and returns a graph with the number of images per size category. The interval size is calculated dynamically. The number of columns in the graph is 7 by default.\n",
    "\n",
    "You can choose the type of graph to display (bar, pie or all for both)."
   ],
   "metadata": {
    "collapsed": false
   }
  },
  {
   "cell_type": "code",
   "execution_count": null,
   "outputs": [],
   "source": [
    "def graph_images_size_dynamic(metadata, nb_intervals=7, graph_type='all'):\n",
    "    \"\"\"\n",
    "    Graph the number of images per size category\n",
    "    The interval size is calculated dynamically\n",
    "\n",
    "    :param metadata: The metadata to graph\n",
    "    :param nb_intervals: The number of intervals in the graph\n",
    "    :param graph_type: The type of graph to display (bar, pie or all for both)\n",
    "    \"\"\"\n",
    "\n",
    "    # Convert metadata to a DataFrame\n",
    "    df = pd.DataFrame(metadata)\n",
    "\n",
    "    # Calculate the minimum size of each image and store it in a new column\n",
    "    df['min_size'] = df[['Height', 'Width']].min(axis=1)\n",
    "\n",
    "    # Determine the maximum minimum size and calculate the number of bins dynamically based on the number of columns\n",
    "    max_min_size = df['min_size'].max()\n",
    "    num_images = len(df)\n",
    "    num_bins = int(num_images / (num_images / nb_intervals))\n",
    "\n",
    "    # Create a list of bins based on the maximum minimum size and number of bins\n",
    "    bins = [i * (max_min_size / num_bins) for i in range(num_bins + 1)]\n",
    "\n",
    "    # Create a list of labels for each bin\n",
    "    labels = [f'{int(bins[i])}-{int(bins[i + 1])}' for i in range(num_bins)]\n",
    "\n",
    "    # Categorize each image based on its size and bin\n",
    "    df['size_category'] = pd.cut(df['min_size'], bins=bins, labels=labels)\n",
    "\n",
    "    # Count the number of images in each category\n",
    "    size_counts = df['size_category'].value_counts()\n",
    "\n",
    "    title = 'Number of images per size category'\n",
    "\n",
    "    # Create the appropriate chart based on the graph type parameter\n",
    "    if graph_type == 'bar':\n",
    "        display_bar(title, 'Image size', 'Number of images', size_counts.index, size_counts.values)\n",
    "    elif graph_type == 'pie':\n",
    "        display_pie(title, size_counts.values, size_counts.index)\n",
    "    elif graph_type == 'all':\n",
    "        display_bar(title, 'Image size', 'Number of images', size_counts.index, size_counts.values)\n",
    "        display_pie(title, size_counts.values, size_counts.index)\n",
    "\n",
    "    else:\n",
    "        raise ValueError('Invalid graph type')\n"
   ],
   "metadata": {
    "collapsed": false
   }
  },
  {
   "cell_type": "code",
   "execution_count": null,
   "outputs": [],
   "source": [
    "graph_images_size_dynamic(dict_metadata, 5, 'all')"
   ],
   "metadata": {
    "collapsed": false
   }
  },
  {
   "cell_type": "markdown",
   "source": [
    "# Graph images : DateTime\n",
    "\n",
    "The function \"graph_images_datetime\" is used to graph the number of images per year. It takes a dictionary of metadata as an argument and returns a graph with the number of images per year.\n",
    "\n",
    "You can choose the type of graph to display (bar, pie, curve or all for all).\n"
   ],
   "metadata": {
    "collapsed": false
   }
  },
  {
   "cell_type": "code",
   "execution_count": null,
   "outputs": [],
   "source": [
    "def graph_images_datetime(metadata, nb_intervals=10, graph_type='all'):\n",
    "    \"\"\"\n",
    "    Graph the number of images per year\n",
    "\n",
    "    :param metadata: The metadata to graph (expects a list of dictionaries)\n",
    "    :param graph_type: The type of graph to display (bar, pie, curve or all for all)\n",
    "    :param nb_intervals: The number of intervals to display\n",
    "    \"\"\"\n",
    "\n",
    "    # Convert metadata to a DataFrame\n",
    "    df = pd.DataFrame(metadata)\n",
    "\n",
    "    # Extract year from the 'DateTime' column and create a new 'Year' column\n",
    "    df['Year'] = pd.DatetimeIndex(df['DateTime']).year\n",
    "\n",
    "    # Group the data by year and count the number of images for each year\n",
    "    image_count = df.groupby('Year').size().reset_index(name='count').sort_values('count', ascending=False)[\n",
    "                  :nb_intervals]\n",
    "    image_count['Year'] = image_count['Year'].astype(int)\n",
    "\n",
    "    # Set the title of the graph\n",
    "    title = 'Number of images per year'\n",
    "\n",
    "    # Display different types of graphs based on the 'graph_type' parameter\n",
    "    if graph_type == 'bar':\n",
    "        # Display a bar chart\n",
    "        image_count.plot(kind='bar', x='Year', y='count')\n",
    "        display_bar(title, 'Year', 'Number of images', image_count['Year'], image_count['count'])\n",
    "\n",
    "    elif graph_type == 'pie':\n",
    "        # Display a pie chart using a custom function 'display_pie'\n",
    "        display_pie(title, image_count['count'], image_count['Year'])\n",
    "\n",
    "    elif graph_type == 'curve':\n",
    "        # Display a line chart using a custom function 'display_curve'\n",
    "        image_count = df.groupby('Year').size().reset_index(name='count').sort_values('Year', ascending=True)\n",
    "        display_curve(title, 'Year', 'Number of images', image_count['Year'], image_count['count'])\n",
    "\n",
    "    elif graph_type == 'all':\n",
    "        # Display all three types of graphs: bar, pie, and line charts\n",
    "\n",
    "        # Bar chart\n",
    "        image_count.plot(kind='bar', x='Year', y='count')\n",
    "        display_bar(title, 'Year', 'Number of images', image_count['Year'], image_count['count'])\n",
    "\n",
    "        # Pie chart\n",
    "        display_pie(title, image_count['count'], image_count['Year'])\n",
    "\n",
    "        # Line chart\n",
    "        image_count = df.groupby('Year').size().reset_index(name='count').sort_values('Year', ascending=True)\n",
    "        display_curve(title, 'Year', 'Number of images', image_count['Year'], image_count['count'])\n",
    "    else:\n",
    "        # Raise an error if an invalid 'graph_type' parameter is passed\n",
    "        raise ValueError('Invalid graph type')"
   ],
   "metadata": {
    "collapsed": false
   }
  },
  {
   "cell_type": "code",
   "execution_count": null,
   "outputs": [],
   "source": [
    "graph_images_datetime(dict_metadata, 10, 'all')"
   ],
   "metadata": {
    "collapsed": false
   }
  },
  {
   "cell_type": "markdown",
   "metadata": {},
   "source": [
    "# Graph images : Brand\n",
    "\n",
    "The function \"graph_images_brand\" is used to graph the number of images per brand. It takes a dictionary of metadata as an argument and returns a graph with the number of images per brand.\n",
    "\n",
    "You can choose the type of graph to display (bar, pie or all for both), and the number of columns to display."
   ]
  },
  {
   "cell_type": "code",
   "execution_count": null,
   "metadata": {},
   "outputs": [],
   "source": [
    "def graph_images_brand(metadata, graph_type='all', nb_columns=5):\n",
    "    \"\"\"\n",
    "    Graph the number of images per brand\n",
    "\n",
    "    :param metadata: The metadata to graph\n",
    "    :param graph_type: The type of graph to display (bar, pie or all for both)\n",
    "    :param nb_columns: The number of columns to display\n",
    "    \"\"\"\n",
    "\n",
    "    # Initialize an empty dictionary to store the counts of each brand\n",
    "    counts = {}\n",
    "\n",
    "    # Loop through each brand in the metadata and count the number of occurrences\n",
    "    for make in metadata['Make']:\n",
    "        if make is not None:\n",
    "            counts[make] = counts.get(make, 0) + 1\n",
    "\n",
    "    sorted_counts = dict(sorted(counts.items(), key=lambda x: x[1], reverse=True))\n",
    "\n",
    "    # Convert the dictionary into two lists of labels and values for graphing\n",
    "    labels = list(sorted_counts.keys())[:nb_columns]\n",
    "    values = list(sorted_counts.values())[:nb_columns]\n",
    "\n",
    "    # Set the title for the graph\n",
    "    title = 'Number of images per brand'\n",
    "\n",
    "    # Determine which type of graph to display based on the 'graph_type' parameter\n",
    "    if graph_type == 'bar':\n",
    "        # Display a bar graph\n",
    "        display_bar(title, 'Brand', 'Number of images', labels, values)\n",
    "    elif graph_type == 'pie':\n",
    "        # Display a pie chart\n",
    "        display_pie(title, values, labels)\n",
    "    elif graph_type == 'all':\n",
    "        # Display both a bar graph and a pie chart\n",
    "        display_bar(title, 'Brand', 'Number of images', labels, values)\n",
    "        display_pie(title, values, labels)\n",
    "    else:\n",
    "        # Raise an error if the 'graph_type' parameter is invalid\n",
    "        raise ValueError('Invalid graph type')"
   ]
  },
  {
   "cell_type": "code",
   "execution_count": null,
   "outputs": [],
   "source": [
    "graph_images_brand(dict_metadata, 'all', 10)"
   ],
   "metadata": {
    "collapsed": false
   }
  },
  {
   "cell_type": "markdown",
   "metadata": {},
   "source": [
    "# Graph images : Images with GPS\n",
    "\n",
    "#### Overview\n",
    "\n",
    "The function \"gps_info_overview\" is used to display the number of images with GPS data. It takes a dictionary of metadata as an argument and returns the number of images with GPS data."
   ]
  },
  {
   "cell_type": "code",
   "execution_count": null,
   "metadata": {},
   "outputs": [],
   "source": [
    "def gps_info_overview():\n",
    "    \"\"\"\n",
    "    Display the number of images with GPS data\n",
    "    \"\"\"\n",
    "    cpt = 0\n",
    "    # get images with GPS data and print it name and the GPS data\n",
    "    for idx, meta in enumerate(dict_metadata['GPSInfo']):\n",
    "        if meta is not None and len(meta) > 24:\n",
    "            # print(dict_metadata['file'][idx])\n",
    "            # print(meta)\n",
    "            cpt += 1\n",
    "    print(f\"Number of images with GPS data : {cpt}\")\n"
   ]
  },
  {
   "cell_type": "code",
   "execution_count": null,
   "outputs": [],
   "source": [
    "gps_info_overview()"
   ],
   "metadata": {
    "collapsed": false
   }
  },
  {
   "cell_type": "markdown",
   "source": [
    "### Extract GPS coordinates\n",
    "\n",
    "The function \"get_coordinates\" is used to extract the coordinates of the images with GPS data. It takes a dictionary of metadata as an argument and returns a dictionary with the coordinates of the images with GPS data.\n",
    "\n",
    "It uses the function \"dms_to_dd\" to convert the coordinates from DMS (degrees, minutes, seconds) to DD (decimal degrees)."
   ],
   "metadata": {
    "collapsed": false
   }
  },
  {
   "cell_type": "code",
   "execution_count": null,
   "metadata": {},
   "outputs": [],
   "source": [
    "def dms_to_dd(degrees, minutes, seconds, direction):\n",
    "    \"\"\"\n",
    "    Convert DMS (degrees, minutes, seconds) coordinates to DD (decimal degrees)\n",
    "\n",
    "    :param degrees: degrees\n",
    "    :param minutes: minutes\n",
    "    :param seconds: seconds\n",
    "    :param direction: direction (N, S, E, W)\n",
    "    :return: decimal degrees\n",
    "    \"\"\"\n",
    "\n",
    "    dd = float(degrees) + float(minutes) / 60 + float(seconds) / (60 * 60)\n",
    "    if direction == 'S' or direction == 'W':\n",
    "        dd *= -1\n",
    "    return dd"
   ]
  },
  {
   "cell_type": "code",
   "execution_count": null,
   "outputs": [],
   "source": [
    "def get_coordinates(metadata):\n",
    "    \"\"\"\n",
    "    Extract the coordinates of the images with GPS data\n",
    "\n",
    "    :param metadata: The metadata to extract the coordinates from\n",
    "    \"\"\"\n",
    "    coordinates = {}\n",
    "    for i, gps_info in enumerate(metadata['GPSInfo']):\n",
    "        if gps_info is not None:\n",
    "            try:\n",
    "                gps_info = eval(gps_info)\n",
    "                latitude, longitude = None, None\n",
    "                for key, val in gps_info.items():\n",
    "                    if val == 'N' or val == 'S':\n",
    "                        nxt = gps_info[key + 1]\n",
    "                        latitude = dms_to_dd(nxt[0], nxt[1], nxt[2], val)\n",
    "                    elif val == 'E' or val == 'W':\n",
    "                        nxt = gps_info[key + 1]\n",
    "                        longitude = dms_to_dd(nxt[0], nxt[1], nxt[2], val)\n",
    "\n",
    "                if latitude is not None and longitude is not None:\n",
    "                    coordinates.update({dict_metadata['file'][i]: [latitude, longitude]})\n",
    "            except:\n",
    "                print(f\"Error with {dict_metadata['file'][i]}\")\n",
    "                # print(gps_info)\n",
    "    print(f\"Number of images with valid GPS data : {len(coordinates)}\")\n",
    "\n",
    "    return coordinates"
   ],
   "metadata": {
    "collapsed": false
   }
  },
  {
   "cell_type": "code",
   "execution_count": null,
   "outputs": [],
   "source": [
    "coordinates = get_coordinates(dict_metadata)"
   ],
   "metadata": {
    "collapsed": false
   }
  },
  {
   "cell_type": "markdown",
   "metadata": {},
   "source": [
    "### Using a Map with markers\n",
    "\n",
    "The function \"display_coordinates_on_map\" is used to display the coordinates of the images with GPS data on a map. It takes a dictionary of coordinates as an argument and returns a map with the coordinates displayed as markers.\n",
    "\n",
    "Inside the method comments, you can find a way to display the images as markers instead of the default markers."
   ]
  },
  {
   "cell_type": "code",
   "execution_count": null,
   "metadata": {},
   "outputs": [],
   "source": [
    "def display_coordinates_on_map(coordinates_list):\n",
    "    \"\"\"\n",
    "    Display the coordinates on a map\n",
    "\n",
    "    :param coordinates_list: The coordinates to display\n",
    "    :return: The map with the coordinates displayed as markers\n",
    "    \"\"\"\n",
    "\n",
    "    # create a map centered at a specific location\n",
    "    m = folium.Map(location=[0, 0], zoom_start=1)\n",
    "\n",
    "    # add markers for each set of coordinates\n",
    "    for image, coords in coordinates_list.items():\n",
    "        lat, lon = coords\n",
    "\n",
    "        # Create a marker with the image as the icon\n",
    "        # !warning! : the image must be download and you need to add :\n",
    "        # from folium.features import CustomIcon\n",
    "\n",
    "        # image_path = '../output/images/' + key\n",
    "        # icon = CustomIcon(icon_image=image_path, icon_size=(100, 100))\n",
    "        # folium.Marker(location=coord, icon=icon).add_to(m)\n",
    "        folium.Marker(location=[lat, lon], tooltip=image, popup=f'file:{image}\\ncoord:{coords}').add_to(m)\n",
    "    return m"
   ]
  },
  {
   "cell_type": "code",
   "execution_count": null,
   "outputs": [],
   "source": [
    "display_coordinates_on_map(coordinates)"
   ],
   "metadata": {
    "collapsed": false
   }
  },
  {
   "cell_type": "markdown",
   "metadata": {},
   "source": [
    "### Using graphs by country\n",
    "\n",
    "#### get country\n",
    "\n",
    "The function \"get_country\" is used to get the country of each coordinate. It takes a dictionary of coordinates as an argument and returns a dictionary with the coordinates and the country."
   ]
  },
  {
   "cell_type": "code",
   "execution_count": null,
   "metadata": {},
   "outputs": [],
   "source": [
    "def get_country(coordinates_list):\n",
    "    \"\"\"\n",
    "    Get the country of each coordinate\n",
    "\n",
    "    :param coordinates_list: The coordinates to get the country from\n",
    "    :return: The coordinates with the country added\n",
    "    \"\"\"\n",
    "    # Create a geolocator\n",
    "    geolocator = Nominatim(user_agent=\"geoapiExercises\")\n",
    "\n",
    "    # Get the continent information for each coordinate\n",
    "    for key, coord in tqdm(coordinates_list.items(), desc='Getting country information'):\n",
    "        if len(coord) < 3:  # If the country hasn't been found yet\n",
    "            try:\n",
    "                location = geolocator.reverse(coord, exactly_one=True, language='en')\n",
    "                address = location.raw['address']\n",
    "                country = address.get('country')\n",
    "                coordinates[key].append(country)\n",
    "            except:\n",
    "                print(f\"Error with {key} : {coord}\")"
   ]
  },
  {
   "cell_type": "code",
   "execution_count": null,
   "outputs": [],
   "source": [
    "get_country(coordinates)"
   ],
   "metadata": {
    "collapsed": false
   }
  },
  {
   "cell_type": "markdown",
   "source": [
    "### Display graphs\n",
    "\n",
    "The function \"graph_images_countries\" is used to display graphs about the number of images by country. It takes a dictionary of coordinates as an argument and returns a graph.\n",
    "\n",
    "The parameter \"nb_inter\" is used to set the number of interval to display. The parameter \"graph\" is used to set the type of graph to display (bar, pie, all)."
   ],
   "metadata": {
    "collapsed": false
   }
  },
  {
   "cell_type": "code",
   "execution_count": null,
   "outputs": [],
   "source": [
    "def graph_images_countries(coord_list, nb_inter=5, graph='all'):\n",
    "    \"\"\"\n",
    "    Display graphs about the number of images by country\n",
    "\n",
    "    :param coord_list: list of coordinates\n",
    "    :param nb_inter: number of interval\n",
    "    :param graph: type of graph to display (bar, pie, all)\n",
    "    \"\"\"\n",
    "\n",
    "    # Create a pandas DataFrame from the coordinates dictionary\n",
    "    df = pd.DataFrame.from_dict(coord_list, orient='index', columns=['Latitude', 'Longitude', 'Country'])\n",
    "\n",
    "    # Group the DataFrame by continent and count the number of images\n",
    "    country_count = df.groupby('Country')['Country'].count()\n",
    "    country_count = country_count.sort_values(ascending=False)[:nb_inter]\n",
    "\n",
    "    title = 'Number of images by country'\n",
    "\n",
    "    if graph == 'bar':\n",
    "        display_bar(title, \"Country\", \"Image Count\", country_count.index, country_count.values)\n",
    "    elif graph == 'pie':\n",
    "        display_pie(title, country_count.values, country_count.index)\n",
    "    else:\n",
    "        display_bar(title, \"Country\", \"Image Count\", country_count.index, country_count.values)\n",
    "        display_pie(title, country_count.values, country_count.index)"
   ],
   "metadata": {
    "collapsed": false
   }
  },
  {
   "cell_type": "code",
   "execution_count": null,
   "outputs": [],
   "source": [
    "graph_images_countries(coordinates, 10, 'all')"
   ],
   "metadata": {
    "collapsed": false
   }
  },
  {
   "cell_type": "markdown",
   "metadata": {},
   "source": [
    "# Graph images : by Dominant Color"
   ]
  },
  {
   "cell_type": "code",
   "execution_count": null,
   "metadata": {},
   "outputs": [],
   "source": [
    "MAX_COLUMNS = 20\n",
    "\n",
    "\n",
    "def closest_colour(requested_colour):\n",
    "    min_colours = {}\n",
    "    for key, name in webcolors.CSS3_HEX_TO_NAMES.items():\n",
    "        r_c, g_c, b_c = webcolors.hex_to_rgb(key)\n",
    "        rd = (r_c - requested_colour[0]) ** 2\n",
    "        gd = (g_c - requested_colour[1]) ** 2\n",
    "        bd = (b_c - requested_colour[2]) ** 2\n",
    "        min_colours[(rd + gd + bd)] = name\n",
    "    return min_colours[min(min_colours.keys())]\n",
    "\n",
    "\n",
    "def get_colour_name(requested_colour):\n",
    "    try:\n",
    "        closest_name = actual_name = webcolors.rgb_to_name(requested_colour)\n",
    "    except ValueError:\n",
    "        closest_name = closest_colour(requested_colour)\n",
    "        actual_name = None\n",
    "    return actual_name, closest_name\n",
    "\n",
    "\n",
    "dict_dom_color = {}\n",
    "for idx, dom_color in enumerate(dict_metadata['dominant_color']):\n",
    "    if dom_color is not None:\n",
    "        list_dom_color = eval(dom_color)\n",
    "        dict_dom_color.update({dict_metadata['file'][idx]: list_dom_color})\n",
    "\n",
    "color_counts = Counter()\n",
    "for image_colors in dict_dom_color.values():\n",
    "    for color, percentage in image_colors:\n",
    "        color_counts[color] += percentage\n",
    "\n",
    "# Map hexadecimal codes to color names\n",
    "color_names = {}\n",
    "for code in color_counts.keys():\n",
    "    try:\n",
    "        rgb = webcolors.hex_to_rgb(code)\n",
    "        actual, closest = get_colour_name(rgb)\n",
    "        color_names[code] = closest\n",
    "    except ValueError:\n",
    "        pass\n",
    "\n",
    "dict_res = {}\n",
    "for key, val in color_names.items():\n",
    "    if val in dict_res:\n",
    "        dict_res[val] += round(color_counts[key] / 100, 5)\n",
    "    else:\n",
    "        dict_res[val] = round(color_counts[key] / 100, 5)\n",
    "\n",
    "if sum(dict_res.values()) > 100:\n",
    "    raise Exception('sum of dict_res.values() > 100')\n",
    "\n",
    "columns = dict_res.__len__()\n",
    "if columns > MAX_COLUMNS:\n",
    "    columns = MAX_COLUMNS\n",
    "\n",
    "sorted_colors = sorted(dict_res.items(), key=lambda x: x[1], reverse=True)\n",
    "top_colors = dict(sorted_colors[:columns])\n",
    "\n",
    "# Create a bar graph showing the dominant colors in the images\n",
    "plt.bar(top_colors.keys(), top_colors.values(), color=top_colors.keys())\n",
    "plt.xticks(rotation=90)\n",
    "plt.show()\n",
    "\n",
    "# Create a pie chart showing the dominant colors in the images\n",
    "fig, ax = plt.subplots(figsize=(8, 8))\n",
    "colors = list(top_colors.keys())\n",
    "ax.pie(top_colors.values(), labels=top_colors.keys(), autopct='%1.1f%%', colors=colors, textprops={'color': 'white'})\n",
    "ax.set_title('Top Colors')\n",
    "ax.legend(title='Colors', loc='center right', bbox_to_anchor=(1.2, 0.5))\n",
    "plt.show()\n",
    "\n",
    "# Create a treemap showing the dominant colors in the images\n",
    "color = [webcolors.name_to_hex(c) for c in top_colors]\n",
    "labels = list(top_colors.keys())\n",
    "sizes = list(top_colors.values())\n",
    "squarify.plot(sizes=sizes, label=labels, color=color, alpha=.7)\n",
    "plt.title(\"Top Colors\")\n",
    "plt.axis('off')\n",
    "plt.show()"
   ]
  },
  {
   "cell_type": "markdown",
   "metadata": {},
   "source": [
    "# Graph images : by Tags"
   ]
  },
  {
   "cell_type": "code",
   "execution_count": null,
   "metadata": {},
   "outputs": [],
   "source": [
    "# convert tag strings to a list of tags\n",
    "# convert tag strings to a list of tags\n",
    "#tags = list(itertools.chain.from_iterable([ast.literal_eval(t) for t in dict_metadata['tags']]))\n",
    "\n",
    "tags = dict_metadata['tags']\n",
    "# flatten the list of tags\n",
    "tags = [item for sublist in tags for item in sublist]\n",
    "\n",
    "# count the occurrences of each tag\n",
    "tag_counts = Counter(tags)\n",
    "\n",
    "# plot the most common tags\n",
    "n = 10\n",
    "top_tags = dict(tag_counts.most_common(n))\n",
    "plt.bar(top_tags.keys(), top_tags.values())\n",
    "plt.title(f\"Top {n} most common tags\")\n",
    "plt.xlabel(\"Tags\")\n",
    "plt.ylabel(\"Frequency\")\n",
    "plt.xticks(rotation=90)\n",
    "plt.show()\n"
   ]
  },
  {
   "cell_type": "code",
   "execution_count": null,
   "metadata": {},
   "outputs": [],
   "source": [
    "tags = dict_metadata['tags']\n",
    "# flatten the list of tags\n",
    "tags = [item for sublist in tags for item in sublist]\n",
    "\n",
    "try:\n",
    "    nlp = spacy.load(\"en_core_web_lg\")  # load pre-trained word embedding model\n",
    "except OSError:\n",
    "    !python -m spacy download en_core_web_lg\n",
    "\n",
    "categories = {\n",
    "    \"landscape\": {}, \"animal\": {}, \"people\": {}, \"food\": {}, \"building\": {}, \"vehicle\": {}, \"object\": {}, \"other\": {}\n",
    "}\n",
    "\n",
    "# categorize words based on similarity to category prototypes\n",
    "for word in tags:\n",
    "    # find the most similar category prototype for the word\n",
    "    max_similarity = -1\n",
    "    chosen_category = \"other\"\n",
    "    for category in categories:\n",
    "        similarity = nlp(word).similarity(nlp(category))\n",
    "        if similarity > max_similarity:\n",
    "            max_similarity = similarity\n",
    "            chosen_category = category\n",
    "\n",
    "    # add the word into the appropriate category dictionary\n",
    "    categories[chosen_category].update({word: max_similarity})\n",
    "\n",
    "print(categories)"
   ]
  },
  {
   "cell_type": "code",
   "execution_count": null,
   "metadata": {},
   "outputs": [],
   "source": [
    "import matplotlib.pyplot as plt\n",
    "from scipy.cluster.hierarchy import dendrogram, linkage\n",
    "import numpy as np\n",
    "\n",
    "\n",
    "# Convert the dictionary into a numpy array\n",
    "# Convert the dictionary into a numpy array\n",
    "def dict_to_array(categories):\n",
    "    n_categories = len(categories)\n",
    "    arr = np.zeros((n_categories, n_categories))\n",
    "    for i, (cat, subcat) in enumerate(categories.items()):\n",
    "        for j, (subcat, val) in enumerate(subcat.items()):\n",
    "            if j < n_categories:\n",
    "                arr[i, j] = val\n",
    "    return arr\n",
    "\n",
    "\n",
    "# Generate the linkage matrix\n",
    "Z = linkage(dict_to_array(categories), 'ward')\n",
    "\n",
    "# Plot the dendrogram\n",
    "fig = plt.figure(figsize=(10, 5))\n",
    "dn = dendrogram(Z, labels=list(categories.keys()))\n",
    "plt.show()"
   ]
  },
  {
   "cell_type": "code",
   "execution_count": null,
   "metadata": {},
   "outputs": [],
   "source": [
    "tags = dict_metadata['tags']\n",
    "# flatten the list of tags\n",
    "tags = [item for sublist in tags for item in sublist]\n",
    "user_data = {}\n",
    "\n",
    "# Create a label for the title\n",
    "title_label = widgets.Label(value='User Information Form')\n",
    "\n",
    "# Create text boxes for first and last name\n",
    "pseudo = widgets.Text(description='Pseudo :')\n",
    "\n",
    "# Create a color picker for favorite colors\n",
    "color_picker = widgets.ColorPicker(\n",
    "    concise=True,\n",
    "    description='Favorite Colors:',\n",
    "    value='#FF0000',\n",
    "    continuous_update=False,\n",
    "    disabled=False\n",
    ")\n",
    "\n",
    "# Create a dropdown list of tags\n",
    "tag_dropdown = widgets.SelectMultiple(\n",
    "    options=tags,\n",
    "    value=[],\n",
    "    description='Tags:',\n",
    "    disabled=False\n",
    ")\n",
    "\n",
    "# Create a dropdown for image orientation\n",
    "orientation_dropdown = widgets.Dropdown(\n",
    "    options=['Portrait', 'Landscape'],\n",
    "    value='Portrait',\n",
    "    description='Orientation:'\n",
    ")\n",
    "\n",
    "# Create sliders for image height and width\n",
    "height_slider = widgets.IntSlider(min=100, max=4000, step=100, description='Height:')\n",
    "width_slider = widgets.IntSlider(min=100, max=4000, step=100, description='Width:')\n",
    "\n",
    "#  Create a button to submit the form\n",
    "submit_button = widgets.Button(description='Submit')\n",
    "\n",
    "# Create a VBox container for the widgets\n",
    "form_container = widgets.VBox([\n",
    "    title_label,\n",
    "    pseudo,\n",
    "    color_picker,\n",
    "    orientation_dropdown,\n",
    "    height_slider,\n",
    "    width_slider,\n",
    "    tag_dropdown,\n",
    "    submit_button\n",
    "])\n",
    "\n",
    "form_container.layout = widgets.Layout(\n",
    "    width='600px',\n",
    "    height='500px',\n",
    "    justify_content='center',  # Centrer les widgets horizontalement\n",
    "    align_items='center'  # Centrer les widgets verticalement\n",
    ")\n",
    "\n",
    "\n",
    "# Define a function to handle form submission\n",
    "def on_submit_button_clicked(b):\n",
    "    user_data.update({\n",
    "        pseudo.value: {\n",
    "            'fav_color': color_picker.value,\n",
    "            'fav_orientation': orientation_dropdown.value,\n",
    "            'fav_height': height_slider.value,\n",
    "            'fav_width': width_slider.value,\n",
    "            'tags': tag_dropdown.value\n",
    "        }\n",
    "    }\n",
    "    )\n",
    "\n",
    "\n",
    "# Attach the on_submit_button_clicked function to the button click event\n",
    "clicked = submit_button.on_click(on_submit_button_clicked)\n",
    "\n",
    "# Display the form container\n",
    "display(form_container)"
   ]
  },
  {
   "cell_type": "code",
   "execution_count": 253,
   "outputs": [
    {
     "name": "stdout",
     "output_type": "stream",
     "text": [
      "('bird', 'person', 'surfboard', 'person')\n"
     ]
    }
   ],
   "source": [
    "print(user_data['Yannis']['tags'])"
   ],
   "metadata": {
    "collapsed": false
   }
  },
  {
   "cell_type": "code",
   "execution_count": 259,
   "metadata": {},
   "outputs": [
    {
     "name": "stdout",
     "output_type": "stream",
     "text": [
      "User Yannis saved to database successfully\n",
      "{'Yannis': {'fav_color': '#28a46a', 'fav_orientation': 'Landscape', 'fav_height': 1900, 'fav_width': 100, 'tags': ('bird', 'person', 'surfboard', 'person')}}\n"
     ]
    }
   ],
   "source": [
    "list_columns = ['fav_color', 'fav_orientation', 'fav_height', 'fav_width', 'tags']\n",
    "\n",
    "\n",
    "def save_metadata(user_data):\n",
    "    try:\n",
    "        # Open a connection to the database\n",
    "        conn = sqlite3.connect(os.path.join(metadata_path, 'metadata.db'))\n",
    "        # Create a cursor\n",
    "        c = conn.cursor()\n",
    "        # Create a table if it doesn't exist : filename, key, value\n",
    "        c.execute(\n",
    "            '''CREATE TABLE IF NOT EXISTS users (\n",
    "            pseudo text PRIMARY KEY,\n",
    "            fav_color text,\n",
    "            fav_orientation text,\n",
    "            fav_height integer,\n",
    "            fav_width integer,\n",
    "            fav_tags text\n",
    "        )''')\n",
    "\n",
    "        nb_users = len(user_data.keys())\n",
    "\n",
    "        check = True\n",
    "        # check if all data are usable\n",
    "        if nb_users >= 1:\n",
    "            for pseudo in user_data.keys():\n",
    "                for column in list_columns:\n",
    "                    if user_data[pseudo][column] is None:\n",
    "                        check = False\n",
    "                        return\n",
    "        else:\n",
    "            check = False\n",
    "\n",
    "        if check:\n",
    "            for pseudo in user_data.keys():\n",
    "                c.execute(\"SELECT * FROM users WHERE pseudo=?\", (pseudo,))\n",
    "                if c.fetchone():\n",
    "                    c.execute(\n",
    "                        \"UPDATE users SET fav_color=?, fav_orientation=?, fav_height=?, fav_width=?, tags = ? WHERE pseudo=?\",\n",
    "                        (user_data[pseudo]['fav_color'], user_data[pseudo]['fav_orientation'],\n",
    "                         user_data[pseudo]['fav_height'], user_data[pseudo]['fav_width'], str(user_data[pseudo]['tags']),\n",
    "                         pseudo))\n",
    "                    conn.commit()\n",
    "                else:\n",
    "                    c.execute(\"INSERT INTO users VALUES (?, ?, ?, ?, ?, ?)\", (\n",
    "                    pseudo, user_data[pseudo]['fav_color'], user_data[pseudo]['fav_orientation'],\n",
    "                    user_data[pseudo]['fav_height'], user_data[pseudo]['fav_width'], str(user_data[pseudo]['tags'])))\n",
    "                    conn.commit()\n",
    "                print(f\"User {pseudo} saved to database successfully\")\n",
    "            conn.close()\n",
    "        else:\n",
    "            print(\"Invalid User data\")\n",
    "\n",
    "    except Exception as e:\n",
    "        print(\"Error while saving user data to database\" + str(e))\n",
    "\n",
    "\n",
    "save_metadata(user_data)\n",
    "print(user_data)"
   ]
  },
  {
   "cell_type": "code",
   "execution_count": null,
   "outputs": [],
   "source": [],
   "metadata": {
    "collapsed": false
   }
  },
  {
   "cell_type": "code",
   "execution_count": null,
   "outputs": [],
   "source": [],
   "metadata": {
    "collapsed": false
   }
  }
 ],
 "metadata": {
  "kernelspec": {
   "display_name": "Python 3 (ipykernel)",
   "language": "python",
   "name": "python3"
  },
  "language_info": {
   "codemirror_mode": {
    "name": "ipython",
    "version": 3
   },
   "file_extension": ".py",
   "mimetype": "text/x-python",
   "name": "python",
   "nbconvert_exporter": "python",
   "pygments_lexer": "ipython3",
   "version": "3.11.1"
  }
 },
 "nbformat": 4,
 "nbformat_minor": 1
}
