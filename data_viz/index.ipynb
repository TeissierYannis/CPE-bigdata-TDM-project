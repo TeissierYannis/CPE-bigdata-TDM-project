{
 "cells": [
  {
   "cell_type": "markdown",
   "metadata": {},
   "source": []
  },
  {
   "cell_type": "markdown",
   "metadata": {},
   "source": [
    "# Imports\n",
    "\n",
    "The code above imports various Python modules and libraries for data processing, visualization, and analysis. Below is a description of each module and library imported:\n",
    "\n",
    "- **os** - This module provides a portable way of using operating system dependent functionality. It is used to create subdirectories within the base folder path.\n",
    "- **spacy** - This module is used to perform natural language processing (NLP) tasks. It is used to extract the location from the 'Description' property value.\n",
    "- **folium** - This module is used to create interactive maps. It is used to create the map of the images' locations.\n",
    "- **sqlite3** - This module is used to create a connection to a SQLite database. It is used to retrieve metadata from the database.\n",
    "- **datetime** - This module is used to convert the 'DateTime' property value to a datetime object. It is used to create the map of the images' locations.\n",
    "- **squarify** - This module is used to create treemap.\n",
    "- **webcolors** - This module is used to convert color names to RGB values. It is used to get the most common colors in the images.\n",
    "- **collections** - This module is used to create a Counter object. It is used to count the number of images with a specific property value.\n",
    "- **numpy** - This module is used to perform various mathematical operations. It is used to calculate the mean and standard deviation of the images' dimensions.\n",
    "- **pandas** - This module is used to create a DataFrame object. It is used to create a DataFrame of the images' metadata.\n",
    "- **tqdm** - This module is used to create a progress bar. It is used to show the progress of many of the functions.\n",
    "- **mysql.connector** - This module is used to create a connection to a MariaDB database. It is used to retrieve metadata from the database.\n",
    "- **load_dotenv** - This function is used to load the environment variables from the .env file. It is used to set the SQL variables.\n",
    "- **matplotlib.pyplot** - This module is used to create various types of plots. It is used to create all the plots in this notebook.\n",
    "- **geopy.geocoders** - This module is used to geocode the location of the images. It is used to create the map of the images' locations.\n",
    "- **scipy.spatial.distance** - This module is used to calculate the distance between two points. It is used to create the dendrogram.\n",
    "- **scipy.cluster.hierarchy** - This module is used to create a dendrogram. It is used to create the dendrogram.\n",
    "- **concurrent.futures** - This module is used to create a ThreadPoolExecutor object. It is used to create the map of the images' locations."
   ]
  },
  {
   "cell_type": "code",
   "execution_count": null,
   "outputs": [],
   "source": [
    "!pip install spacy folium mysql-connector-python python-dotenv squarify webcolors numpy pandas tqdm mysql-connector-python python-dotenv matplotlib geopy scipy"
   ],
   "metadata": {
    "collapsed": false,
    "ExecuteTime": {
     "start_time": "2023-04-22T16:27:51.628798Z",
     "end_time": "2023-04-22T16:27:54.725954Z"
    }
   }
  },
  {
   "cell_type": "code",
   "execution_count": null,
   "metadata": {
    "ExecuteTime": {
     "start_time": "2023-04-22T16:27:54.723939Z",
     "end_time": "2023-04-22T16:28:01.508194Z"
    }
   },
   "outputs": [],
   "source": [
    "import os\n",
    "import spacy\n",
    "import folium\n",
    "import sqlite3\n",
    "import datetime\n",
    "import squarify\n",
    "import webcolors\n",
    "import collections\n",
    "import numpy as np\n",
    "import pandas as pd\n",
    "import mysql.connector\n",
    "import concurrent.futures\n",
    "import matplotlib.pyplot as plt\n",
    "\n",
    "from tqdm import tqdm\n",
    "from dotenv import load_dotenv\n",
    "from collections import Counter\n",
    "from geopy.geocoders import Nominatim\n",
    "from scipy.spatial.distance import pdist\n",
    "from scipy.cluster.hierarchy import dendrogram, linkage\n"
   ]
  },
  {
   "cell_type": "markdown",
   "metadata": {},
   "source": [
    "# Settings base variables and paths\n",
    "\n",
    "The code above sets the basic variables and paths for the project, but also loads the environment variables from the .env file."
   ]
  },
  {
   "cell_type": "code",
   "execution_count": null,
   "metadata": {
    "ExecuteTime": {
     "start_time": "2023-04-22T16:28:01.513037Z",
     "end_time": "2023-04-22T16:28:01.523489Z"
    }
   },
   "outputs": [],
   "source": [
    "load_dotenv()\n",
    "\n",
    "# Set the base folder path for the project\n",
    "output_path = \"../output\"\n",
    "images_path = os.path.join(output_path, \"images\")\n",
    "metadata_path = os.path.join(output_path, \"metadata\")\n",
    "config_path = os.path.join(output_path, \"config\")\n",
    "\n",
    "list_of_paths = [output_path, images_path, metadata_path, config_path]\n",
    "\n",
    "# Set SQL variables\n",
    "sql_host = os.getenv(\"SQL_HOST\")\n",
    "sql_user = os.getenv(\"SQL_USER\")\n",
    "sql_password = os.getenv(\"SQL_PASSWORD\")\n",
    "sql_database = os.getenv(\"SQL_DATABASE\")"
   ]
  },
  {
   "cell_type": "markdown",
   "metadata": {},
   "source": [
    "# Get the metadata from db and clean it\n",
    "\n",
    "The code above retrieves the metadata from the database and cleans it. It creates a dataframe with all the metadata.\n",
    "\n",
    "### Get the metadata from the database\n",
    "\n",
    "The function \"get_metadata_from_sqlite_db\" is used to retrieve the metadata from the SQLite database. This function is not used in the notebook anymore since we get our metadata from a remote mariadb database. It was useful to get the metadata from the local database when we were still developing the project."
   ]
  },
  {
   "cell_type": "code",
   "execution_count": null,
   "metadata": {
    "ExecuteTime": {
     "start_time": "2023-04-22T16:28:01.530491Z",
     "end_time": "2023-04-22T16:28:01.559639Z"
    }
   },
   "outputs": [],
   "source": [
    "def get_metadata_from_sqlite_db(db_name='metadata.db'):\n",
    "    \"\"\"\n",
    "    !! UNUSED !!\n",
    "    Get the metadata from the sqlite database\n",
    "\n",
    "    :param db_name: The name of the database\n",
    "    :return: A dictionary with the metadata\n",
    "    \"\"\"\n",
    "    # Open a connection to the database\n",
    "    conn = sqlite3.connect(os.path.join(metadata_path, db_name))\n",
    "    # Create a cursor\n",
    "    c = conn.cursor()\n",
    "\n",
    "    # Retrieve the metadata\n",
    "    c.execute(\"\"\"\n",
    "        SELECT filename, GROUP_CONCAT(key || '\\t' || value, '\\n') AS metadata\n",
    "        FROM metadata\n",
    "        GROUP BY filename;\n",
    "    \"\"\")\n",
    "    metadata = c.fetchall()\n",
    "\n",
    "    # Close the connection\n",
    "    conn.close()\n",
    "\n",
    "    # Convert the metadata to a DataFrame\n",
    "    result = {}\n",
    "    for image in tqdm(metadata, desc=\"Get metadata from database\"):\n",
    "        try:\n",
    "            result[image[0]] = {}\n",
    "            props = image[1].split('\\n')\n",
    "            for prop in props:\n",
    "                if prop:\n",
    "                    k, value = prop.split('\\t')\n",
    "                    result[image[0]][k] = value\n",
    "        except Exception as e:\n",
    "            print(e, image)\n",
    "\n",
    "    return result"
   ]
  },
  {
   "cell_type": "markdown",
   "source": [
    "The function \"get_metadata_from_mariadb_db\" is used to retrieve the metadata from the remote MariaDB database. It returns a dictionary with the metadata."
   ],
   "metadata": {
    "collapsed": false
   }
  },
  {
   "cell_type": "code",
   "execution_count": null,
   "outputs": [],
   "source": [
    "def get_metadata_from_mariadb_db(db_name='bigdata', user='root', password='', host='localhost', port='3306'):\n",
    "    \"\"\"\n",
    "    Get the metadata from the MariaDB database\n",
    "\n",
    "    :param db_name: The name of the database\n",
    "    :param user: The username to connect to the database\n",
    "    :param password: The password to connect to the database\n",
    "    :param host: The hostname or IP address of the database server\n",
    "    :param port: The port number to connect to the database server\n",
    "    :return: A dictionary with the metadata\n",
    "    \"\"\"\n",
    "    print(\"Connecting to database...\")\n",
    "\n",
    "    # Open a connection to the database\n",
    "    conn = mysql.connector.connect(\n",
    "        user=user,\n",
    "        password=password,\n",
    "        host=host,\n",
    "        port=port,\n",
    "        database=db_name\n",
    "    )\n",
    "    # Create a cursor\n",
    "    c = conn.cursor()\n",
    "\n",
    "    print(\"Retrieving metadata from database...\")\n",
    "\n",
    "    # Retrieve the metadata\n",
    "    c.execute(\"\"\"\n",
    "        SELECT filename, GROUP_CONCAT(CONCAT(mkey, '\\t', mvalue) SEPARATOR '\\n') AS metadata\n",
    "        FROM metadata\n",
    "        GROUP BY filename;\n",
    "    \"\"\")\n",
    "    metadata = c.fetchall()\n",
    "\n",
    "    # Close the connection\n",
    "    conn.close()\n",
    "\n",
    "    # Convert the metadata to a dictionary\n",
    "    result = {}\n",
    "    for image in tqdm(metadata, desc=\"Get metadata from database\"):\n",
    "        try:\n",
    "            result[image[0]] = {}\n",
    "            props = image[1].split('\\n')\n",
    "            for prop in props:\n",
    "                if prop:\n",
    "                    k, value = prop.split('\\t')\n",
    "                    result[image[0]][k] = value\n",
    "        except Exception as e:\n",
    "            print(e, image)\n",
    "\n",
    "    return result"
   ],
   "metadata": {
    "collapsed": false,
    "ExecuteTime": {
     "start_time": "2023-04-22T16:28:01.546129Z",
     "end_time": "2023-04-22T16:28:01.561638Z"
    }
   }
  },
  {
   "cell_type": "markdown",
   "source": [
    "### Clean the metadata\n",
    "\n",
    "The function \"dms_to_decimal\" is used to convert the GPS coordinates from DMS (degrees, minutes, seconds) to DD (decimal degrees). It is used to clean the GPS coordinates."
   ],
   "metadata": {
    "collapsed": false
   }
  },
  {
   "cell_type": "code",
   "execution_count": null,
   "outputs": [],
   "source": [
    "def dms_to_decimal(degrees, minutes, seconds):\n",
    "    \"\"\"\n",
    "    Convert DMS (degrees, minutes, seconds) coordinates to DD (decimal degrees)\n",
    "    :param degrees: degrees\n",
    "    :param minutes: minutes\n",
    "    :param seconds:  seconds\n",
    "    :return: decimal coordinates\n",
    "    \"\"\"\n",
    "    decimal_degrees = abs(degrees) + (minutes / 60) + (seconds / 3600)\n",
    "\n",
    "    if degrees < 0:\n",
    "        decimal_degrees = -decimal_degrees\n",
    "\n",
    "    return decimal_degrees"
   ],
   "metadata": {
    "collapsed": false,
    "ExecuteTime": {
     "start_time": "2023-04-22T16:28:01.560638Z",
     "end_time": "2023-04-22T16:28:01.581298Z"
    }
   }
  },
  {
   "cell_type": "markdown",
   "source": [
    "The function \"clean_gps_infos\" is used to clean the GPS coordinates. It checks if the GPS coordinates are in DMS or DD format and converts them to DD if needed. It also checks if the GPS coordinates are valid or not. It returns a dictionary with the cleaned metadata."
   ],
   "metadata": {
    "collapsed": false
   }
  },
  {
   "cell_type": "code",
   "execution_count": null,
   "outputs": [],
   "source": [
    "def clean_gps_infos(metadata_to_cln):\n",
    "    \"\"\"\n",
    "    Clean the GPS infos\n",
    "\n",
    "    :param metadata_to_cln: The metadata to clean\n",
    "    :return: A dictionary with the cleaned metadata\n",
    "    \"\"\"\n",
    "\n",
    "    cpt_valid, cpt_invalid, cpt_converted = 0, 0, 0\n",
    "    for file in tqdm(metadata_to_cln, desc=\"Clean GPS values\"):\n",
    "        file_meta = metadata_to_cln[file]\n",
    "\n",
    "        if 'Latitude' in file_meta:\n",
    "            has_dms_values = file_meta['LatitudeDegrees'] != '0.000000' or file_meta['LongitudeDegrees'] != '0.000000'\n",
    "            has_decimal_values = file_meta['Latitude'] != '0.000000' or file_meta['Longitude'] != '0.000000'\n",
    "\n",
    "            if has_dms_values or has_decimal_values:\n",
    "                try:\n",
    "                    should_convert = '.' not in file_meta['Latitude'] and has_dms_values\n",
    "                except:\n",
    "                    continue\n",
    "\n",
    "                if should_convert:\n",
    "                    # calculate the decimal coordinates from the degrees coordinates\n",
    "                    latitude = dms_to_decimal(\n",
    "                        float(file_meta['LatitudeDegrees']),\n",
    "                        float(file_meta['LatitudeMinutes']),\n",
    "                        float(file_meta['LatitudeSeconds']))\n",
    "\n",
    "                    longitude = dms_to_decimal(\n",
    "                        float(file_meta['LongitudeDegrees']),\n",
    "                        float(file_meta['LongitudeMinutes']),\n",
    "                        float(file_meta['LongitudeSeconds']))\n",
    "\n",
    "                    cpt_converted += 1\n",
    "                else:\n",
    "                    # convert the coordinates to float\n",
    "                    latitude = float(file_meta['Latitude'])\n",
    "                    longitude = float(file_meta['Longitude'])\n",
    "\n",
    "                # update the metadata with the calculated latitude and longitude\n",
    "                metadata_to_cln[file]['Latitude'] = latitude\n",
    "                metadata_to_cln[file]['Longitude'] = longitude\n",
    "                cpt_valid += 1\n",
    "\n",
    "            else:\n",
    "                metadata_to_cln[file]['Latitude'] = None\n",
    "                metadata_to_cln[file]['Longitude'] = None\n",
    "                metadata_to_cln[file]['Altitude'] = None\n",
    "                cpt_invalid += 1\n",
    "\n",
    "    print(\"GPS values : \\n\",\n",
    "          \"Valid : \", cpt_valid,\n",
    "          \"\\nInvalid : \", cpt_invalid,\n",
    "          \"\\nConverted : \", cpt_converted,\n",
    "          )\n",
    "\n",
    "    return metadata_to_cln"
   ],
   "metadata": {
    "collapsed": false,
    "ExecuteTime": {
     "start_time": "2023-04-22T16:28:01.582299Z",
     "end_time": "2023-04-22T16:28:01.636647Z"
    }
   }
  },
  {
   "cell_type": "markdown",
   "source": [
    "The function \"clean_metadata\" is used to clean the metadata. It removes useless characters from the 'Make' property values and format the 'DateTime' property values. It also clean the tags property values by converting them to list instead of string, and calls the function \"clean_gps_infos\" to clean the GPS coordinates. It returns a dictionary with the cleaned metadata."
   ],
   "metadata": {
    "collapsed": false
   }
  },
  {
   "cell_type": "code",
   "execution_count": null,
   "outputs": [],
   "source": [
    "def clean_metadata(metadata_to_clean):\n",
    "    \"\"\"\n",
    "    Clean the metadata\n",
    "    Remove special characters from the 'Make' property values\n",
    "    Remove the 'T' and '-' characters from the 'DateTime' property values\n",
    "\n",
    "    :param metadata_to_clean: The metadata to clean\n",
    "    :return: A dictionary with the cleaned metadata\n",
    "    \"\"\"\n",
    "    cln_meta = metadata_to_clean.copy()\n",
    "\n",
    "    # Clean 'Make' property values\n",
    "    try:\n",
    "        for file in tqdm(cln_meta, desc=\"Clean 'Make' property values\"):\n",
    "            if 'Make' in cln_meta[file]:\n",
    "                cln_meta[file]['Make'] = ''.join(filter(str.isalpha, cln_meta[file]['Make'])).replace('CORPORATION','').replace('CORP', '').replace('COMPANY', '').replace('LTD', '').replace('IMAGING', '')\n",
    "    except Exception as e:\n",
    "        print(e)\n",
    "\n",
    "    # Clean 'DateTime' property values\n",
    "    cpt, cpt_error = 0, 0\n",
    "    date_error = []\n",
    "    try:\n",
    "\n",
    "        for file in tqdm(cln_meta, desc=\"Clean 'DateTime' property values\"):\n",
    "            if 'DateTimeOriginal' in cln_meta[file]:\n",
    "                date = cln_meta[file]['DateTimeOriginal']\n",
    "                try:\n",
    "                    if date is not None:\n",
    "                        tmp = date.replace('T', ' ').replace('-', ':').split('+')[0]\n",
    "                        cln_meta[file]['DateTimeOriginal'] = datetime.datetime.strptime(tmp[:19], '%Y:%m:%d %H:%M:%S')\n",
    "                        # if the year is after actual year, we assume that the date is wrong\n",
    "                        if cln_meta[file]['DateTimeOriginal'].year > datetime.datetime.now().year:\n",
    "                            date_error.append(cln_meta[file]['DateTimeOriginal'])\n",
    "                            cln_meta[file]['DateTimeOriginal'] = None\n",
    "                            cpt_error += 1\n",
    "                        else:\n",
    "                            cpt += 1\n",
    "                except ValueError:\n",
    "                    date_error.append(date)\n",
    "                    cln_meta[file]['DateTimeOriginal'] = None\n",
    "                    cpt_error += 1\n",
    "    except Exception as e:\n",
    "        print(e)\n",
    "\n",
    "    print(f\"Metadata cleaned ! {cpt}/{len(cln_meta)} dates OK, {cpt_error} dates KO\")\n",
    "    print(f\"Dates KO : {date_error}\")\n",
    "\n",
    "    # Clean 'tags' property values\n",
    "    for file in tqdm(cln_meta, desc=\"Clean 'tags' property values\"):\n",
    "        if 'tags' in cln_meta[file]:\n",
    "            val = None\n",
    "            if cln_meta[file]['tags'] is not None:\n",
    "                val = eval(cln_meta[file]['tags'])\n",
    "            cln_meta[file]['tags'] = val\n",
    "\n",
    "    # Clean the GPS infos\n",
    "    cln_meta = clean_gps_infos(cln_meta)\n",
    "\n",
    "    return cln_meta"
   ],
   "metadata": {
    "collapsed": false,
    "ExecuteTime": {
     "start_time": "2023-04-22T16:47:06.151964Z",
     "end_time": "2023-04-22T16:47:06.222260Z"
    }
   }
  },
  {
   "cell_type": "markdown",
   "source": [
    "The function \"get_metadata\" is used to get the metadata from the database. If the metadata file already exists, it reads it. Otherwise, it gets the metadata from the database, cleans it, saves it in a CSV file and returns it."
   ],
   "metadata": {
    "collapsed": false
   }
  },
  {
   "cell_type": "code",
   "execution_count": null,
   "outputs": [],
   "source": [
    "def get_metadata():\n",
    "    \"\"\"\n",
    "    Get the metadata from the database\n",
    "    :return: A JSON object with the metadata\n",
    "    \"\"\"\n",
    "    # Check if the metadata file already exists\n",
    "    if os.path.isfile('metadata.csv'):\n",
    "        # If the file exists, read it\n",
    "        return pd.read_csv('metadata.csv')\n",
    "    else:\n",
    "        # Get the metadata from the database\n",
    "        # brut_metadata = get_metadata_from_mariadb_db(sql_database, sql_user, sql_password, sql_host)\n",
    "        brut_metadata = get_metadata_from_mariadb_db(sql_database, sql_user, sql_password, sql_host)\n",
    "        # Clean the metadata\n",
    "        cln_metadata = clean_metadata(brut_metadata)\n",
    "        # Convert the metadata to a DataFrame\n",
    "        df_metadata = pd.DataFrame.from_dict(cln_metadata).transpose()\n",
    "        # Fill the 'Make' property NaN values with 'Undefined'\n",
    "        df_metadata['Make'].fillna('Undefined', inplace=True)\n",
    "\n",
    "        df_metadata.to_csv('metadata.csv', index=False, mode='w')\n",
    "\n",
    "        return df_metadata"
   ],
   "metadata": {
    "collapsed": false,
    "ExecuteTime": {
     "start_time": "2023-04-22T16:45:22.390734Z",
     "end_time": "2023-04-22T16:45:22.429981Z"
    }
   }
  },
  {
   "cell_type": "code",
   "execution_count": null,
   "outputs": [],
   "source": [
    "df_metadata = get_metadata()"
   ],
   "metadata": {
    "collapsed": false,
    "ExecuteTime": {
     "start_time": "2023-04-22T16:47:12.741467Z",
     "end_time": "2023-04-22T16:47:54.454127Z"
    }
   }
  },
  {
   "cell_type": "markdown",
   "source": [
    "### Overview of the metadata\n",
    "\n",
    "The code below displays a little overview of the metadata.\n",
    "The first give a general overview of the metadata.\n",
    "The second displays the number data per property."
   ],
   "metadata": {
    "collapsed": false
   }
  },
  {
   "cell_type": "code",
   "execution_count": null,
   "outputs": [],
   "source": [
    "df_metadata.head()"
   ],
   "metadata": {
    "collapsed": false,
    "ExecuteTime": {
     "start_time": "2023-04-22T16:28:03.117626Z",
     "end_time": "2023-04-22T16:28:03.187359Z"
    }
   }
  },
  {
   "cell_type": "code",
   "execution_count": null,
   "outputs": [],
   "source": [
    "print(f'Number of images : {len(df_metadata[\"filename\"])}')\n",
    "df_metadata.count()"
   ],
   "metadata": {
    "collapsed": false,
    "ExecuteTime": {
     "start_time": "2023-04-22T16:28:03.148055Z",
     "end_time": "2023-04-22T16:28:03.191885Z"
    }
   }
  },
  {
   "cell_type": "markdown",
   "source": [
    "# Define the functions to display the metadata\n",
    "\n",
    "- \"display_bar\" is used to display a bar chart.\n",
    "- \"display_pie\" is used to display a pie chart.\n",
    "- \"display_curve\" is used to display a curve chart.\n",
    "- \"display_histogram\" is used to display a histogram.\n",
    "- \"display_tree_map\" is used to display a tree map."
   ],
   "metadata": {
    "collapsed": false
   }
  },
  {
   "cell_type": "code",
   "execution_count": null,
   "outputs": [],
   "source": [
    "def display_bar(title, x_label, y_label, x_values, y_values, colors=None, rotation=90):\n",
    "    \"\"\"\n",
    "    Display a bar chart\n",
    "\n",
    "    :param title: The title of the chart\n",
    "    :param x_label: The x-axis label\n",
    "    :param y_label: The y-axis label\n",
    "    :param x_values: The values of the x-axis\n",
    "    :param y_values: The values of the y-axis\n",
    "    :param colors: The colors of the bars\n",
    "    :param rotation: The rotation of the x-axis labels\n",
    "    \"\"\"\n",
    "    plt.bar(x_values, y_values, color=colors)\n",
    "    plt.title(title)\n",
    "    plt.xlabel(x_label)\n",
    "    plt.ylabel(y_label)\n",
    "    plt.xticks(rotation=rotation)\n",
    "    plt.show()"
   ],
   "metadata": {
    "collapsed": false,
    "ExecuteTime": {
     "start_time": "2023-04-22T16:40:15.619513Z",
     "end_time": "2023-04-22T16:40:15.639062Z"
    }
   }
  },
  {
   "cell_type": "code",
   "execution_count": null,
   "outputs": [],
   "source": [
    "def display_pie(title, values, labels, colors=None, autopct=\"%1.1f%%\", legend_title=None, legend_loc=None,\n",
    "                legend_margin=None):\n",
    "    \"\"\"\n",
    "    Display a pie chart\n",
    "\n",
    "    :param title: The title of the chart\n",
    "    :param values: The values of the chart\n",
    "    :param labels: The labels of the chart\n",
    "    :param colors: The colors of the chart\n",
    "    :param autopct: The percentage format\n",
    "    :param legend_title: The title of the legend,\n",
    "    :param legend_loc: The location of the legend\n",
    "    :param legend_margin: The margin of the legend\n",
    "    \"\"\"\n",
    "    plt.pie(values, labels=labels, autopct=autopct, colors=colors)\n",
    "    if legend_title is not None or legend_loc is not None or legend_margin is not None:\n",
    "        plt.legend(title=legend_title, loc=legend_loc, bbox_to_anchor=legend_margin)\n",
    "    plt.title(title)\n",
    "    plt.show()"
   ],
   "metadata": {
    "collapsed": false,
    "ExecuteTime": {
     "start_time": "2023-04-22T16:40:16.169545Z",
     "end_time": "2023-04-22T16:40:16.197599Z"
    }
   }
  },
  {
   "cell_type": "code",
   "execution_count": null,
   "outputs": [],
   "source": [
    "def display_curve(title, x_label, y_label, x_values, y_values, rotation=90):\n",
    "    \"\"\"\n",
    "    Display a curve\n",
    "\n",
    "    :param title: The title of the curve\n",
    "    :param x_label: The label of the x_axis\n",
    "    :param y_label: The label of the y_axis\n",
    "    :param x_values: The values of the x_axis\n",
    "    :param y_values: The values of the y_axis\n",
    "    :param rotation: The rotation of the x_axis labels\n",
    "    \"\"\"\n",
    "\n",
    "    plt.plot(x_values, y_values)\n",
    "    plt.xticks(rotation=rotation)\n",
    "    plt.xlabel(x_label)\n",
    "    plt.ylabel(y_label)\n",
    "    plt.title(title)\n",
    "    plt.show()"
   ],
   "metadata": {
    "collapsed": false,
    "ExecuteTime": {
     "start_time": "2023-04-22T16:40:16.694225Z",
     "end_time": "2023-04-22T16:40:16.722249Z"
    }
   }
  },
  {
   "cell_type": "code",
   "execution_count": null,
   "outputs": [],
   "source": [
    "def display_histogram(title, x_label, y_label, x_values, bins=10, rotation=90):\n",
    "    \"\"\"\n",
    "    Display a histogram\n",
    "\n",
    "    :param title: The title of the histogram\n",
    "    :param x_label: The label of the x_axis\n",
    "    :param y_label: The label of the y_axis\n",
    "    :param x_values: The values of the x_axis\n",
    "    :param bins: The number of bins\n",
    "    :param rotation: The rotation of the x_axis labels\n",
    "    \"\"\"\n",
    "\n",
    "    plt.hist(x_values, bins=bins)\n",
    "    plt.xticks(rotation=rotation)\n",
    "    plt.xlabel(x_label)\n",
    "    plt.ylabel(y_label)\n",
    "    plt.title(title)\n",
    "    plt.show()"
   ],
   "metadata": {
    "collapsed": false,
    "ExecuteTime": {
     "start_time": "2023-04-22T16:40:17.156293Z",
     "end_time": "2023-04-22T16:40:17.175798Z"
    }
   }
  },
  {
   "cell_type": "code",
   "execution_count": null,
   "outputs": [],
   "source": [
    "def display_tree_map(title, sizes, labels, colors, alpha=0.6):\n",
    "    \"\"\"\n",
    "    Display a tree map\n",
    "\n",
    "    :param title: The title of the tree map\n",
    "    :param sizes: The sizes of the tree map\n",
    "    :param labels: The labels of the tree map\n",
    "    :param colors: The colors of the tree map\n",
    "    :param alpha: The alpha of the tree map\n",
    "    \"\"\"\n",
    "    squarify.plot(sizes=sizes, label=labels, color=colors, alpha=alpha)\n",
    "    plt.title(title)\n",
    "    plt.show()"
   ],
   "metadata": {
    "collapsed": false,
    "ExecuteTime": {
     "start_time": "2023-04-22T16:40:17.617559Z",
     "end_time": "2023-04-22T16:40:17.639851Z"
    }
   }
  },
  {
   "cell_type": "markdown",
   "source": [
    "# Graph images : size (static)\n",
    "\n",
    "The function \"graph_images_size_static\" is used to graph the number of images per size category. It takes a dataframe of the metadata as a parameter and return a graph of the number of images per size category. The interval size is 200 by default and the number of intervals is 4 by default."
   ],
   "metadata": {
    "collapsed": false
   }
  },
  {
   "cell_type": "code",
   "execution_count": null,
   "outputs": [],
   "source": [
    "def graph_images_size_static(df_meta, interval_size=3000, nb_intervals=2):\n",
    "    \"\"\"\n",
    "    Graph the number of images per size category\n",
    "\n",
    "    :param df_meta: The metadata to graph\n",
    "    :param interval_size: The size of the intervals\n",
    "    :param nb_intervals: The number of intervals\n",
    "    \"\"\"\n",
    "\n",
    "    # Calculate the minimum size of each image and store it in a new column\n",
    "    df_meta['min_size'] = df_meta[['ImageWidth', 'ImageHeight']].min(axis=1)\n",
    "\n",
    "    # Determine the maximum minimum size\n",
    "    max_min_size = df_meta['min_size'].max()\n",
    "\n",
    "    # Create a list of intervals based on the interval size and number of intervals\n",
    "    inter = [i * interval_size for i in range(nb_intervals + 1)]\n",
    "\n",
    "    # Create a list of labels for each interval\n",
    "    labels = [f'{inter[i]}-{inter[i + 1]}' for i in range(nb_intervals)]\n",
    "\n",
    "    # Categorize each image based on its size and interval\n",
    "    df_meta['size_category'] = pd.cut(df_meta['min_size'], bins=inter, labels=labels)\n",
    "\n",
    "    # Count the number of images in each category\n",
    "    size_counts = df_meta['size_category'].value_counts()\n",
    "\n",
    "    display_bar(title='Number of images per size category', x_label='Size category', y_label='Number of images',\n",
    "                x_values=size_counts.index, y_values=size_counts.values)"
   ],
   "metadata": {
    "collapsed": false,
    "ExecuteTime": {
     "start_time": "2023-04-22T16:40:18.562460Z",
     "end_time": "2023-04-22T16:40:18.578058Z"
    }
   }
  },
  {
   "cell_type": "code",
   "execution_count": null,
   "outputs": [],
   "source": [
    "graph_images_size_static(df_metadata, 5000, 3)"
   ],
   "metadata": {
    "collapsed": false,
    "ExecuteTime": {
     "start_time": "2023-04-22T16:40:19.257919Z",
     "end_time": "2023-04-22T16:40:19.381408Z"
    }
   }
  },
  {
   "cell_type": "markdown",
   "source": [
    "# Graph images : size (dynamic)\n",
    "\n",
    "The function \"graph_images_size_dynamic\" is used to graph the number of images per size category. It takes a dataframe of metadata as an argument and returns a graph with the number of images per size category. The interval size is calculated dynamically. The number of columns in the graph is 7 by default.\n",
    "\n",
    "You can choose the type of graph to display (bar, pie or all for both)."
   ],
   "metadata": {
    "collapsed": false
   }
  },
  {
   "cell_type": "code",
   "execution_count": null,
   "outputs": [],
   "source": [
    "def graph_images_size_dynamic(df_meta, nb_intervals=7, graph_type='all'):\n",
    "    \"\"\"\n",
    "    Graph the number of images per size category\n",
    "    The interval size is calculated dynamically\n",
    "\n",
    "    :param df_meta: The metadata to graph\n",
    "    :param nb_intervals: The number of intervals in the graph\n",
    "    :param graph_type: The type of graph to display (bar, pie or all for both)\n",
    "    \"\"\"\n",
    "\n",
    "    # Calculate the minimum size of each image and store it in a new column\n",
    "    df_meta['min_size'] = df_meta[['ImageHeight', 'ImageWidth']].min(axis=1)\n",
    "    df_meta['min_size'].fillna(1, inplace=True)\n",
    "\n",
    "    # Determine the maximum minimum size and calculate the number of bins dynamically based on the number of columns\n",
    "    max_min_size = df_meta['min_size'].max()\n",
    "    num_images = len(df_meta)\n",
    "    num_bins = int(num_images / (num_images / nb_intervals))\n",
    "\n",
    "    # Create a list of bins based on the maximum minimum size and number of bins\n",
    "    bins = [i * (max_min_size / num_bins) for i in range(num_bins + 1)]\n",
    "\n",
    "    # Create a list of labels for each bin\n",
    "    labels = [f'{int(bins[i])}-{int(bins[i + 1])}' for i in range(num_bins)]\n",
    "\n",
    "    # Categorize each image based on its size and bin\n",
    "    df_meta['size_category'] = pd.cut(df_meta['min_size'], bins=bins, labels=labels)\n",
    "\n",
    "    # Count the number of images in each category\n",
    "    size_counts = df_meta['size_category'].value_counts()\n",
    "\n",
    "    title = 'Number of images per size category'\n",
    "    x_label = 'Image size'\n",
    "    y_label = 'Number of images'\n",
    "\n",
    "    # Create the appropriate chart based on the graph type parameter\n",
    "    if graph_type == 'bar':\n",
    "        display_bar(title=title, x_label=x_label, y_label=y_label, x_values=size_counts.index,\n",
    "                    y_values=size_counts.values)\n",
    "    elif graph_type == 'pie':\n",
    "        display_pie(title=title, values=size_counts.values, labels=size_counts.index)\n",
    "    elif graph_type == 'all':\n",
    "        display_bar(title=title, x_label=x_label, y_label=y_label, x_values=size_counts.index,\n",
    "                    y_values=size_counts.values)\n",
    "        display_pie(title=title, values=size_counts.values, labels=size_counts.index)\n",
    "    else:\n",
    "        raise ValueError('Invalid graph type')\n"
   ],
   "metadata": {
    "collapsed": false,
    "ExecuteTime": {
     "start_time": "2023-04-22T16:42:54.413839Z",
     "end_time": "2023-04-22T16:42:54.441395Z"
    }
   }
  },
  {
   "cell_type": "code",
   "execution_count": null,
   "outputs": [],
   "source": [
    "graph_images_size_dynamic(df_metadata, 5, 'all')"
   ],
   "metadata": {
    "collapsed": false,
    "ExecuteTime": {
     "start_time": "2023-04-22T15:59:15.821302Z",
     "end_time": "2023-04-22T16:01:11.387483Z"
    }
   }
  },
  {
   "cell_type": "markdown",
   "source": [
    "# Graph images : DateTime\n",
    "\n",
    "The function \"graph_images_datetime\" is used to graph the number of images per year. It takes a dataframe of metadata as an argument and returns a graph with the number of images per year.\n",
    "\n",
    "You can choose the type of graph to display (bar, pie, curve or all for all).\n"
   ],
   "metadata": {
    "collapsed": false
   }
  },
  {
   "cell_type": "code",
   "execution_count": null,
   "outputs": [],
   "source": [
    "def graph_images_year(df_meta, nb_intervals=10, graph_type='all'):\n",
    "    \"\"\"\n",
    "    Graph the number of images per year\n",
    "\n",
    "    :param df_meta: The metadata to graph (expects a list of dictionaries)\n",
    "    :param graph_type: The type of graph to display (bar, pie, curve or all for all)\n",
    "    :param nb_intervals: The number of intervals to display\n",
    "    \"\"\"\n",
    "\n",
    "    # Extract year from the 'DateTime' column and create a new 'Year' column\n",
    "    df_meta['Year'] = pd.DatetimeIndex(df_meta['DateTimeOriginal']).year\n",
    "\n",
    "    # Group the data by year and count the number of images for each year\n",
    "    image_count = df_meta.groupby('Year').size().reset_index(name='count').sort_values('count', ascending=False)[\n",
    "                  :nb_intervals]\n",
    "    image_count['Year'] = image_count['Year'].astype(int)\n",
    "\n",
    "    # Set the title of the graph\n",
    "    title = 'Number of images per year'\n",
    "    x_label = 'Year'\n",
    "    y_label = 'Number of images'\n",
    "\n",
    "    # Display different types of graphs based on the 'graph_type' parameter\n",
    "    if graph_type == 'bar':\n",
    "        # Display a bar chart\n",
    "        image_count.plot(kind='bar', x='Year', y='count')\n",
    "        display_bar(title=title, x_label=x_label, y_label=y_label, x_values=image_count['Year'],\n",
    "                    y_values=image_count['count'])\n",
    "\n",
    "    elif graph_type == 'pie':\n",
    "        # Display a pie chart using a custom function 'display_pie'\n",
    "        display_pie(title=title, values=image_count['count'], labels=image_count['Year'])\n",
    "\n",
    "    elif graph_type == 'curve':\n",
    "        # Display a line chart using a custom function 'display_curve'\n",
    "        image_count = df_meta.groupby('Year').size().reset_index(name='count').sort_values('Year', ascending=True)\n",
    "        display_curve(title=title, x_label=x_label, y_label=y_label, x_values=image_count['Year'],\n",
    "                      y_values=image_count['count'])\n",
    "\n",
    "    elif graph_type == 'all':\n",
    "        # Display all three types of graphs: bar, pie, and line charts\n",
    "\n",
    "        # Bar chart\n",
    "        image_count.plot(kind='bar', x='Year', y='count')\n",
    "        display_bar(title=title, x_label=x_label, y_label=y_label, x_values=image_count['Year'],\n",
    "                    y_values=image_count['count'])\n",
    "\n",
    "        # Pie chart\n",
    "        display_pie(title=title, values=image_count['count'], labels=image_count['Year'])\n",
    "\n",
    "        # Line chart\n",
    "        image_count = image_count.sort_values('Year', ascending=True)\n",
    "        display_curve(title=title, x_label=x_label, y_label=y_label, x_values=image_count['Year'],\n",
    "                      y_values=image_count['count'])\n",
    "    else:\n",
    "        # Raise an error if an invalid 'graph_type' parameter is passed\n",
    "        raise ValueError('Invalid graph type')"
   ],
   "metadata": {
    "collapsed": false,
    "ExecuteTime": {
     "start_time": "2023-04-22T16:28:09.114441Z",
     "end_time": "2023-04-22T16:28:09.134515Z"
    }
   }
  },
  {
   "cell_type": "code",
   "execution_count": null,
   "outputs": [],
   "source": [
    "graph_images_year(df_metadata, 10, 'all')"
   ],
   "metadata": {
    "collapsed": false
   }
  },
  {
   "cell_type": "markdown",
   "metadata": {},
   "source": [
    "# Graph images : Brand\n",
    "\n",
    "The function \"graph_images_brand\" is used to graph the number of images per brand. It takes a dataframe of metadata as an argument and returns a graph with the number of images per brand.\n",
    "\n",
    "You can choose the type of graph to display (bar, pie or all for both), and the number of columns to display."
   ]
  },
  {
   "cell_type": "code",
   "execution_count": null,
   "metadata": {
    "ExecuteTime": {
     "start_time": "2023-04-22T16:28:10.645997Z",
     "end_time": "2023-04-22T16:28:10.699123Z"
    }
   },
   "outputs": [],
   "source": [
    "def graph_images_brand(df_meta, graph_type='all', nb_columns=5):\n",
    "    \"\"\"\n",
    "    Graph the number of images per brand\n",
    "\n",
    "    :param df_meta: The metadata to graph\n",
    "    :param graph_type: The type of graph to display (bar, pie or all for both)\n",
    "    :param nb_columns: The number of columns to display\n",
    "    \"\"\"\n",
    "\n",
    "    # Initialize an empty dictionary to store the counts of each brand\n",
    "    counts = {}\n",
    "\n",
    "    # Loop through each brand in the metadata and count the number of occurrences\n",
    "    for make in df_meta['Make']:\n",
    "        if make is not None:\n",
    "            counts[make] = counts.get(make, 0) + 1\n",
    "\n",
    "    sorted_counts = dict(sorted(counts.items(), key=lambda x: x[1], reverse=True))\n",
    "\n",
    "    # Convert the dictionary into two lists of labels and values for graphing\n",
    "    labels = list(sorted_counts.keys())[:nb_columns]\n",
    "    values = list(sorted_counts.values())[:nb_columns]\n",
    "\n",
    "    # Set the title for the graph\n",
    "    title = 'Number of images per brand'\n",
    "    x_label = 'Brand'\n",
    "    y_label = 'Number of images'\n",
    "\n",
    "    # Determine which type of graph to display based on the 'graph_type' parameter\n",
    "    if graph_type == 'bar':\n",
    "        # Display a bar graph\n",
    "        display_bar(title=title, x_label=x_label, y_label=y_label, x_values=labels, y_values=values)\n",
    "    elif graph_type == 'pie':\n",
    "        # Display a pie chart\n",
    "        display_pie(title=title, values=values, labels=labels)\n",
    "    elif graph_type == 'all':\n",
    "        # Display both a bar graph and a pie chart\n",
    "        display_bar(title=title, x_label=x_label, y_label=y_label, x_values=labels, y_values=values)\n",
    "        display_pie(title=title, values=values, labels=labels)\n",
    "    else:\n",
    "        # Raise an error if the 'graph_type' parameter is invalid\n",
    "        raise ValueError('Invalid graph type')"
   ]
  },
  {
   "cell_type": "code",
   "execution_count": null,
   "outputs": [],
   "source": [
    "graph_images_brand(df_metadata, 'all', 10)"
   ],
   "metadata": {
    "collapsed": false,
    "ExecuteTime": {
     "start_time": "2023-04-22T16:28:11.174778Z",
     "end_time": "2023-04-22T16:28:11.481650Z"
    }
   }
  },
  {
   "cell_type": "markdown",
   "metadata": {},
   "source": [
    "# Graph images : Images with GPS\n",
    "\n",
    "#### Overview\n",
    "\n",
    "The following code is used to give the count of images with GPS data."
   ]
  },
  {
   "cell_type": "code",
   "execution_count": null,
   "metadata": {
    "ExecuteTime": {
     "start_time": "2023-04-22T16:28:12.152355Z",
     "end_time": "2023-04-22T16:28:12.269745Z"
    }
   },
   "outputs": [],
   "source": [
    "print(f\"Number of images with GPS data : {df_metadata['Latitude'].count()}\")"
   ]
  },
  {
   "cell_type": "markdown",
   "source": [
    "### Extract GPS coordinates\n",
    "\n",
    "The function \"get_coordinates\" is used to extract the coordinates of the images with GPS data. It takes a dataframe of metadata as an argument and returns a dictionary with the coordinates of the images with GPS data."
   ],
   "metadata": {
    "collapsed": false
   }
  },
  {
   "cell_type": "code",
   "execution_count": null,
   "outputs": [],
   "source": [
    "def get_coordinates(df_meta):\n",
    "    \"\"\"\n",
    "    Extract the coordinates of the images with GPS data\n",
    "\n",
    "    :param df_meta: The metadata to extract the coordinates from\n",
    "    \"\"\"\n",
    "    coords = {}\n",
    "    for file, lattitude, longitude, altitude in zip(\n",
    "            df_meta['filename'],\n",
    "            df_meta['Latitude'],\n",
    "            df_meta['Longitude'],\n",
    "            df_meta['Altitude']\n",
    "    ):\n",
    "        if lattitude is not None and not np.isnan(lattitude) \\\n",
    "                and longitude is not None and not np.isnan(longitude):\n",
    "            coords.update({file: [lattitude, longitude, altitude]})\n",
    "\n",
    "    return coords"
   ],
   "metadata": {
    "collapsed": false,
    "ExecuteTime": {
     "start_time": "2023-04-22T16:28:13.243986Z",
     "end_time": "2023-04-22T16:28:13.280569Z"
    }
   }
  },
  {
   "cell_type": "code",
   "execution_count": null,
   "outputs": [],
   "source": [
    "coordinates = get_coordinates(df_metadata)"
   ],
   "metadata": {
    "collapsed": false,
    "ExecuteTime": {
     "start_time": "2023-04-22T16:28:13.867709Z",
     "end_time": "2023-04-22T16:28:13.888256Z"
    }
   }
  },
  {
   "cell_type": "markdown",
   "metadata": {},
   "source": [
    "### Using a Map with markers\n",
    "\n",
    "The function \"display_coordinates_on_map\" is used to display the coordinates of the images with GPS data on a map. It takes a dictionary of coordinates as an argument and returns a map with the coordinates displayed as markers.\n",
    "\n",
    "Inside the method comments, you can find a way to display the images as markers instead of the default markers."
   ]
  },
  {
   "cell_type": "code",
   "execution_count": null,
   "metadata": {
    "ExecuteTime": {
     "start_time": "2023-04-22T16:28:57.791902Z",
     "end_time": "2023-04-22T16:28:57.896606Z"
    }
   },
   "outputs": [],
   "source": [
    "def display_coordinates_on_map(coordinates_list):\n",
    "    \"\"\"\n",
    "    Display the coordinates on a map\n",
    "\n",
    "    :param coordinates_list: The coordinates to display\n",
    "    :return: The map with the coordinates displayed as markers\n",
    "    \"\"\"\n",
    "\n",
    "    # create a map centered at a specific location\n",
    "    m = folium.Map(location=[0, 0], zoom_start=1)\n",
    "\n",
    "    # add markers for each set of coordinates\n",
    "    for image, coords in coordinates_list.items():\n",
    "        if coords != [0.0, 0.0, '0.000000']:\n",
    "            lat, lon, alt = coords\n",
    "\n",
    "            # Create a marker with the image as the icon\n",
    "            # !warning! : the image must be download and you need to add :\n",
    "            # from folium.features import CustomIcon\n",
    "\n",
    "            # image_path = '../output/images/' + key\n",
    "            # icon = CustomIcon(icon_image=image_path, icon_size=(100, 100))\n",
    "            # folium.Marker(location=coord, icon=icon).add_to(m)\n",
    "            folium.Marker(location=[lat, lon], tooltip=image, popup=f'file:{image}\\ncoord:{coords}').add_to(m)\n",
    "    return m"
   ]
  },
  {
   "cell_type": "code",
   "execution_count": null,
   "outputs": [],
   "source": [
    "display_coordinates_on_map(coordinates)"
   ],
   "metadata": {
    "collapsed": false,
    "ExecuteTime": {
     "start_time": "2023-04-22T16:28:59.628934Z",
     "end_time": "2023-04-22T16:29:00.537162Z"
    }
   }
  },
  {
   "cell_type": "markdown",
   "metadata": {},
   "source": [
    "### Using graphs by country\n",
    "\n",
    "#### get country\n",
    "\n",
    "The get_country_single method is used to obtain the country corresponding to a single geographic coordinate. It takes a key and a coordinate as input, makes a request to the Nominatim service to obtain location information, extracts the country from the received data, and adds the country to the coordinate. In case of an error, it displays an error message with the concerned key and coordinate."
   ]
  },
  {
   "cell_type": "code",
   "execution_count": null,
   "metadata": {
    "ExecuteTime": {
     "start_time": "2023-04-22T16:37:46.640580Z",
     "end_time": "2023-04-22T16:37:46.672616Z"
    }
   },
   "outputs": [],
   "source": [
    "def get_country_single(key, coord):\n",
    "    \"\"\"\n",
    "    Get the country of a single coordinate\n",
    "\n",
    "    :param key: The key for the coordinate\n",
    "    :param coord: The coordinate to get the country from\n",
    "    :return: The key and coordinate with the country added\n",
    "    \"\"\"\n",
    "    # Create a geolocator\n",
    "    geolocator = Nominatim(user_agent=\"geoapiExercises\")\n",
    "\n",
    "    # Check if the country hasn't been found yet\n",
    "    if len(coord) < 4:\n",
    "        try:\n",
    "            # Get location information\n",
    "            location = geolocator.reverse(coord, exactly_one=True, language='en')\n",
    "            address = location.raw['address']\n",
    "            # Get the country\n",
    "            country = address.get('country')\n",
    "            coord.append(country)\n",
    "        except:\n",
    "            print(f\"Error with {key} : {coord}\")\n",
    "\n",
    "    return key, coord"
   ]
  },
  {
   "cell_type": "markdown",
   "source": [
    "The get_country method is used to obtain the country for each coordinate in a list of coordinates. It utilizes the get_country_single method to process each coordinate individually and optimizes the processing by using multithreading. The number of threads used can be specified using the num_threads parameter. The get_country method submits each coordinate to a ThreadPoolExecutor, which runs instances of get_country_single in parallel. The results are then gathered and returned as an updated coordinates dictionary with the countries added."
   ],
   "metadata": {
    "collapsed": false
   }
  },
  {
   "cell_type": "code",
   "execution_count": null,
   "outputs": [],
   "source": [
    "def get_country(coordinates_list, num_threads=4):\n",
    "    \"\"\"\n",
    "    Get the country of each coordinate using multithreading\n",
    "\n",
    "    :param coordinates_list: The coordinates to get the country from\n",
    "    :param num_threads: The number of threads to use for processing\n",
    "    :return: The coordinates with the country added\n",
    "    \"\"\"\n",
    "    # Create a dictionary to store the updated coordinates\n",
    "    updated_coordinates = {}\n",
    "\n",
    "    # Create a ThreadPoolExecutor with the specified number of threads\n",
    "    with concurrent.futures.ThreadPoolExecutor(max_workers=num_threads) as executor:\n",
    "        # Submit each coordinate to the executor for processing\n",
    "        futures = [executor.submit(get_country_single, key, coord) for key, coord in coordinates_list.items()]\n",
    "\n",
    "        # Iterate over the completed futures and store the results in the updated_coordinates dictionary\n",
    "        for future in tqdm(concurrent.futures.as_completed(futures), total=len(coordinates_list), desc='Getting country information'):\n",
    "            try:\n",
    "                key, coord = future.result()\n",
    "                updated_coordinates[key] = coord\n",
    "            except Exception as e:\n",
    "                print(f\"Error processing coordinates: {e}\")\n",
    "\n",
    "    # Return the updated coordinates dictionary with the countries added\n",
    "    return updated_coordinates"
   ],
   "metadata": {
    "collapsed": false
   }
  },
  {
   "cell_type": "code",
   "execution_count": null,
   "outputs": [],
   "source": [
    "get_country(coordinates, 100)"
   ],
   "metadata": {
    "collapsed": false,
    "ExecuteTime": {
     "start_time": "2023-04-22T16:37:47.340169Z",
     "end_time": "2023-04-22T16:38:19.210354Z"
    }
   }
  },
  {
   "cell_type": "markdown",
   "source": [
    "### Display graphs\n",
    "\n",
    "The function \"graph_images_countries\" is used to display graphs about the number of images by country. It takes a dictionary of coordinates as an argument and returns a graph.\n",
    "\n",
    "The parameter \"nb_inter\" is used to set the number of interval to display. The parameter \"graph\" is used to set the type of graph to display (bar, pie, all)."
   ],
   "metadata": {
    "collapsed": false
   }
  },
  {
   "cell_type": "code",
   "execution_count": null,
   "outputs": [],
   "source": [
    "def graph_images_countries(coord_list, nb_inter=5, graph='all'):\n",
    "    \"\"\"\n",
    "    Display graphs about the number of images by country\n",
    "\n",
    "    :param coord_list: list of coordinates\n",
    "    :param nb_inter: number of interval\n",
    "    :param graph: type of graph to display (bar, pie, all)\n",
    "    \"\"\"\n",
    "\n",
    "    # Create a pandas DataFrame from the coordinates dictionary\n",
    "    df = pd.DataFrame.from_dict(coord_list, orient='index',\n",
    "                                columns=['Latitude', 'Longitude', 'Altitude', 'Country'])\n",
    "\n",
    "    # Group the DataFrame by continent and count the number of images\n",
    "    country_count = df.groupby('Country')['Country'].count()\n",
    "    country_count = country_count.sort_values(ascending=False)[:nb_inter]\n",
    "\n",
    "    title = 'Number of images by country'\n",
    "    x_label = 'Country'\n",
    "    y_label = 'Image Count'\n",
    "\n",
    "    if graph == 'bar':\n",
    "        display_bar(title=title, x_label=x_label, y_label=y_label, x_values=country_count.index,\n",
    "                    y_values=country_count.values)\n",
    "    elif graph == 'pie':\n",
    "        display_pie(title=title, values=country_count.values, labels=country_count.index)\n",
    "    else:\n",
    "        display_bar(title=title, x_label=x_label, y_label=y_label, x_values=country_count.index,\n",
    "                    y_values=country_count.values)\n",
    "        display_pie(title=title, values=country_count.values, labels=country_count.index)"
   ],
   "metadata": {
    "collapsed": false,
    "ExecuteTime": {
     "start_time": "2023-04-22T16:38:52.199116Z",
     "end_time": "2023-04-22T16:38:52.273132Z"
    }
   }
  },
  {
   "cell_type": "code",
   "execution_count": null,
   "outputs": [],
   "source": [
    "graph_images_countries(coordinates, 10, 'all')"
   ],
   "metadata": {
    "collapsed": false,
    "ExecuteTime": {
     "start_time": "2023-04-22T16:38:53.056549Z",
     "end_time": "2023-04-22T16:38:53.349464Z"
    }
   }
  },
  {
   "cell_type": "markdown",
   "source": [
    "### Using altitude\n",
    "\n",
    "The function \"graph_images_altitudes\" is used to display graphs about the number of images by altitude. It takes a dictionary of coordinates as an argument and returns a graph.\n",
    "You can use the parameter \"nb_inter\" to set the number of interval to display. The parameter \"graph\" is used to set the type of graph to display (histogram, pie, all)."
   ],
   "metadata": {
    "collapsed": false
   }
  },
  {
   "cell_type": "code",
   "execution_count": null,
   "outputs": [],
   "source": [
    "def graph_images_altitudes(coord_list, nb_inter=5, graph='all'):\n",
    "    \"\"\"\n",
    "    Display graphs about the number of images by altitude.\n",
    "\n",
    "    :param coord_list: list of coordinates\n",
    "    :param nb_inter: number of interval\n",
    "    :param graph: type of graph to display (histogram, pie, all)\n",
    "    \"\"\"\n",
    "    # Extract altitudes from the given coordinates\n",
    "    altitudes = []\n",
    "    for img in coord_list:\n",
    "        alt = float(coord_list[img][2])\n",
    "        if alt > 0.0:\n",
    "            altitudes.append(alt)\n",
    "\n",
    "    # Create intervals using numpy's linspace()\n",
    "    intervalles = np.linspace(0, max(altitudes), nb_inter + 1)\n",
    "\n",
    "    # Convert the intervals into pairs of intervals\n",
    "    intervalles = [(int(intervalles[i]), int(intervalles[i + 1])) for i in range(len(intervalles) - 1)]\n",
    "\n",
    "    # Count how many altitudes are in each interval\n",
    "    counts = [0] * len(intervalles)\n",
    "    for altitude in altitudes:\n",
    "        for i, intervalle in enumerate(intervalles):\n",
    "            if intervalle[0] <= altitude < intervalle[1]:\n",
    "                counts[i] += 1\n",
    "\n",
    "    # Create a list of names for the intervals\n",
    "    intervals_name = [\"{}-{}\".format(interval[0], interval[1]) for interval in intervalles]\n",
    "\n",
    "    title = 'Number of images by altitude'\n",
    "    x_label = 'Altitude'\n",
    "    y_label = 'Image Count'\n",
    "\n",
    "    # Display the chosen graph(s)\n",
    "    if graph == 'histogram':\n",
    "        display_histogram(title=title, x_label=x_label, y_label=y_label, x_values=altitudes, bins=nb_inter)\n",
    "    elif graph == 'pie':\n",
    "        display_pie(title=title, values=counts, labels=intervals_name)\n",
    "    elif graph == 'bar':\n",
    "        display_bar(title=title, x_label=x_label, y_label=y_label, x_values=intervals_name, y_values=counts)\n",
    "    else:\n",
    "        display_histogram(title=title, x_label=x_label, y_label=y_label, x_values=altitudes, bins=nb_inter)\n",
    "        display_bar(title=title, x_label=x_label, y_label=y_label, x_values=intervals_name, y_values=counts)\n",
    "        display_pie(title=title, values=counts, labels=intervals_name)"
   ],
   "metadata": {
    "collapsed": false,
    "ExecuteTime": {
     "start_time": "2023-04-22T16:39:01.389863Z",
     "end_time": "2023-04-22T16:39:01.435307Z"
    }
   }
  },
  {
   "cell_type": "code",
   "execution_count": null,
   "outputs": [],
   "source": [
    "graph_images_altitudes(coordinates, 5, 'all')"
   ],
   "metadata": {
    "collapsed": false
   }
  },
  {
   "cell_type": "markdown",
   "metadata": {},
   "source": [
    "# Graph images : by Dominant Color\n",
    "\n",
    "The function closest_colour is used to find the closest color in the webcolors library. It takes a color as an argument and returns the closest color."
   ]
  },
  {
   "cell_type": "code",
   "execution_count": null,
   "outputs": [],
   "source": [
    "def closest_colour(requested_colour):\n",
    "    \"\"\"\n",
    "    Find the closest color in the webcolors library\n",
    "\n",
    "    :param requested_colour: color to find\n",
    "    :return: the closest color\n",
    "    \"\"\"\n",
    "    min_colours = {}\n",
    "    for key, name in webcolors.CSS3_HEX_TO_NAMES.items():\n",
    "        r_c, g_c, b_c = webcolors.hex_to_rgb(key)\n",
    "        rd = (r_c - requested_colour[0]) ** 2\n",
    "        gd = (g_c - requested_colour[1]) ** 2\n",
    "        bd = (b_c - requested_colour[2]) ** 2\n",
    "        min_colours[(rd + gd + bd)] = name\n",
    "    return min_colours[min(min_colours.keys())]"
   ],
   "metadata": {
    "collapsed": false,
    "ExecuteTime": {
     "start_time": "2023-04-22T16:31:17.859442Z",
     "end_time": "2023-04-22T16:31:17.880676Z"
    }
   }
  },
  {
   "cell_type": "markdown",
   "source": [
    "The function get_colour_name is used to get the name of a color. It takes a color as an argument and returns the actual name and the closest name."
   ],
   "metadata": {
    "collapsed": false
   }
  },
  {
   "cell_type": "code",
   "execution_count": null,
   "outputs": [],
   "source": [
    "def get_colour_name(requested_colour):\n",
    "    \"\"\"\n",
    "    Get the name of the closest color\n",
    "\n",
    "    :param requested_colour: color to find\n",
    "    :return: the actual name and the closest name\n",
    "    \"\"\"\n",
    "    try:\n",
    "        closest_name = actual_name = webcolors.rgb_to_name(requested_colour)\n",
    "    except ValueError:\n",
    "        closest_name = closest_colour(requested_colour)\n",
    "        actual_name = None\n",
    "    return actual_name, closest_name"
   ],
   "metadata": {
    "collapsed": false
   }
  },
  {
   "cell_type": "markdown",
   "source": [],
   "metadata": {
    "collapsed": false
   }
  },
  {
   "cell_type": "markdown",
   "source": [
    "\n",
    "The function \"graph_images_dominant_color\" is used to display graphs about the dominant color of images. It takes a dataframe of images as an argument and returns a graph.\n",
    "You can use the parameter \"nb_inter\" to set the number of interval to display. The parameter \"graph\" is used to set the type of graph to display (bar, pie, treemap, all)."
   ],
   "metadata": {
    "collapsed": false
   }
  },
  {
   "cell_type": "code",
   "execution_count": null,
   "outputs": [],
   "source": [
    "def graph_dominant_colors(df_meta, nb_inter=5, graph='all'):\n",
    "    \"\"\"\n",
    "    Display graphs about the number of images by dominant color\n",
    "\n",
    "    :param df_meta: DataFrame of metadata\n",
    "    :param nb_inter: number of interval\n",
    "    :param graph: type of graph to display (bar, pie, treemap, all)\n",
    "    \"\"\"\n",
    "\n",
    "    # Create a dictionary of dominant colors\n",
    "    dict_dom_color = {}\n",
    "    df_dict_meta = df_meta[\"dominant_color\"].to_dict()\n",
    "\n",
    "    # convert string of dom color to list\n",
    "    for img in df_dict_meta:\n",
    "        try:\n",
    "            if df_dict_meta[img] is not None and df_dict_meta[img] is not np.nan:\n",
    "                list_dom_color = eval(df_dict_meta[img])\n",
    "                dict_dom_color.update({img: list_dom_color})\n",
    "        except:\n",
    "            print(f\"Error with {img} : {df_dict_meta[img]}\")\n",
    "\n",
    "    # Count the number of times each color appears\n",
    "    color_counts = Counter()\n",
    "    for image_colors in dict_dom_color.values():\n",
    "        for color, percentage in image_colors:\n",
    "            color_counts[color] += percentage\n",
    "\n",
    "    # Map hexadecimal codes to color names\n",
    "    color_names = {}\n",
    "    for code in color_counts.keys():\n",
    "        try:\n",
    "            rgb = webcolors.hex_to_rgb(code)\n",
    "            actual, closest = get_colour_name(rgb)\n",
    "            color_names[code] = closest\n",
    "        except ValueError:\n",
    "            pass\n",
    "\n",
    "    # Create a dictionary of color percentages\n",
    "    dict_res = {}\n",
    "    for key, val in color_names.items():\n",
    "        if val in dict_res:\n",
    "            dict_res[val] += round(color_counts[key] / 100, 5)\n",
    "        else:\n",
    "            dict_res[val] = round(color_counts[key] / 100, 5)\n",
    "\n",
    "    # Create a bar graph showing the dominant colors in the images\n",
    "    if sum(dict_res.values()) > 100:\n",
    "        raise Exception('Error : sum of percentages is greater than 100')\n",
    "\n",
    "    columns = dict_res.__len__()\n",
    "    if columns > nb_inter: columns = nb_inter\n",
    "\n",
    "    # Sort the dictionary by value\n",
    "    sorted_colors = sorted(dict_res.items(), key=lambda x: x[1], reverse=True)\n",
    "    top_colors = dict(sorted_colors[:columns])\n",
    "    color_labels = list(top_colors.keys())\n",
    "    sizes = list(top_colors.values())\n",
    "    color = [webcolors.name_to_hex(c) for c in top_colors]\n",
    "\n",
    "    title = 'Top Colors'\n",
    "    x_label = 'Color'\n",
    "    y_label = 'Percentage'\n",
    "\n",
    "    if graph == 'bar':\n",
    "        display_bar(title=title, x_label=x_label, y_label=y_label, colors=top_colors.keys(),\n",
    "                    x_values=top_colors.keys(), y_values=top_colors.values())\n",
    "    elif graph == 'pie':\n",
    "        display_pie(title=title, values=top_colors.values(), labels=top_colors.keys(), colors=color_labels)\n",
    "    elif graph == 'treemap':\n",
    "        display_tree_map(title=title, sizes=sizes, labels=color_labels, colors=color, alpha=.7)\n",
    "    else:\n",
    "        display_bar(title=title, x_label=x_label, y_label=y_label, colors=top_colors.keys(),\n",
    "                    x_values=top_colors.keys(), y_values=top_colors.values())\n",
    "        display_pie(title=title, values=top_colors.values(), labels=top_colors.keys(), colors=color_labels)\n",
    "        display_tree_map(title=title, sizes=sizes, labels=color_labels, colors=color, alpha=.7)"
   ],
   "metadata": {
    "collapsed": false
   }
  },
  {
   "cell_type": "code",
   "execution_count": null,
   "outputs": [],
   "source": [
    "graph_dominant_colors(df_metadata, 20, 'all')"
   ],
   "metadata": {
    "collapsed": false
   }
  },
  {
   "cell_type": "markdown",
   "metadata": {},
   "source": [
    "# Graph images : by Tags\n",
    "\n",
    "The function \"graph_top_tags\" is used to display graphs about the most common tags on images. It takes a dataframe of images as an argument and returns a graph.\n",
    "You can choose the number of tags to display and the type of graph to display (bar, pie, treemap, all)."
   ]
  },
  {
   "cell_type": "code",
   "execution_count": null,
   "metadata": {},
   "outputs": [],
   "source": [
    "def graph_top_tags(df_meta, nb_inter=5, graph='all'):\n",
    "    \"\"\"\n",
    "    Display graphs about the number of images by tags\n",
    "\n",
    "    :param df_meta: DataFrame of metadata\n",
    "    :param nb_inter: number of interval\n",
    "    :param graph: type of graph to display (bar, pie, treemap, all)\n",
    "    \"\"\"\n",
    "\n",
    "    all_tags = []\n",
    "    for tags in df_meta['tags']:\n",
    "        if tags is not None and tags is not np.nan:\n",
    "            all_tags += tags\n",
    "\n",
    "    top_tags = dict(collections.Counter(all_tags).most_common(nb_inter))\n",
    "\n",
    "    title = 'Top Tags'\n",
    "    x_label = 'Tag'\n",
    "    y_label = 'Count'\n",
    "\n",
    "    if graph == 'bar':\n",
    "        display_bar(title=title, x_label=x_label, y_label=y_label,\n",
    "                    x_values=top_tags.keys(), y_values=top_tags.values())\n",
    "    elif graph == 'pie':\n",
    "        display_pie(title=title, values=top_tags.values(), labels=top_tags.keys())\n",
    "    else:\n",
    "        display_bar(title=title, x_label=x_label, y_label=y_label,\n",
    "                    x_values=top_tags.keys(), y_values=top_tags.values())\n",
    "        display_pie(title=title, values=top_tags.values(), labels=top_tags.keys())"
   ]
  },
  {
   "cell_type": "code",
   "execution_count": null,
   "outputs": [],
   "source": [
    "graph_top_tags(df_metadata, 15, 'all')"
   ],
   "metadata": {
    "collapsed": false
   }
  },
  {
   "cell_type": "markdown",
   "source": [
    "## Tags by category\n",
    "\n",
    "The function \"categorize_tags\" is used to categorize tags based on similarity to category prototypes. It takes a dataframe of images as an argument and returns a dictionary of categories."
   ],
   "metadata": {
    "collapsed": false
   }
  },
  {
   "cell_type": "code",
   "execution_count": null,
   "metadata": {},
   "outputs": [],
   "source": [
    "def categorize_tags(df_meta, categories_list : list):\n",
    "    \"\"\"\n",
    "    Categorize tags based on similarity to category prototypes\n",
    "\n",
    "    :param categories_list: list of categories\n",
    "    :param df_meta: DataFrame of metadata\n",
    "    :return: dictionary of categories\n",
    "    \"\"\"\n",
    "    # Concatenate all tags in a list\n",
    "    all_tags = []\n",
    "    for tags in df_meta['tags']:\n",
    "        try:\n",
    "            tags = eval(tags)\n",
    "            if tags is not None and tags is not np.nan:\n",
    "                all_tags += tags\n",
    "        except:\n",
    "            print(\"Error : \", tags)\n",
    "\n",
    "    try:\n",
    "        nlp = spacy.load(\"en_core_web_md\")  # load pre-trained word embedding model\n",
    "    except OSError:\n",
    "        !python -m spacy download en_core_web_lg\n",
    "\n",
    "    categories = {}\n",
    "    for cate in categories_list:\n",
    "        categories[cate] = {}\n",
    "\n",
    "    # categorize words based on similarity to category prototypes\n",
    "    for word in tqdm(all_tags, desc=\"Categorizing tags\"):\n",
    "        # find the most similar category prototype for the word\n",
    "        max_similarity = -1\n",
    "        chosen_category = \"other\"\n",
    "        for category in categories:\n",
    "            similarity = nlp(word).similarity(nlp(category))\n",
    "            if similarity > max_similarity:\n",
    "                max_similarity = similarity\n",
    "                chosen_category = category\n",
    "\n",
    "        # add the word into the appropriate category dictionary\n",
    "        categories[chosen_category].update({word: max_similarity})\n",
    "\n",
    "    return categories"
   ]
  },
  {
   "cell_type": "code",
   "execution_count": null,
   "outputs": [],
   "source": [
    "cate_list= ['Fruit', 'Animal', 'Electronics', 'Furniture', 'Vehicle', 'Clothing', 'Sport', 'Kitchen', 'Outdoor', 'Accessory']\n",
    "cat_tags = categorize_tags(df_metadata, cate_list)"
   ],
   "metadata": {
    "collapsed": false
   }
  },
  {
   "cell_type": "markdown",
   "source": [
    "## Graph tags by category\n",
    "\n",
    "The function \"graph_categorized_tags\" is used to display a Denrogram of categorized tags. It takes a dictionary of categorized tags as an argument and returns a graph."
   ],
   "metadata": {
    "collapsed": false
   }
  },
  {
   "cell_type": "code",
   "execution_count": null,
   "outputs": [],
   "source": [
    "def graph_categorized_tags(categorized_tags):\n",
    "    \"\"\"\n",
    "    Display a Denrogram of categorized tags\n",
    "\n",
    "    :param categorized_tags: dictionary of categorized tags\n",
    "    \"\"\"\n",
    "    keys_and_subkeys = []\n",
    "    for key, subdict in categorized_tags.items():\n",
    "        for subkey in subdict:\n",
    "            keys_and_subkeys.append((key, subkey))\n",
    "\n",
    "    labels = [f\"{key} -> {subkey}\" for key, subkey in keys_and_subkeys]\n",
    "\n",
    "    def custom_distance(x, y):\n",
    "        key1, subkey1 = x\n",
    "        key2, subkey2 = y\n",
    "        if key1 == key2:\n",
    "            return abs(categorized_tags[key1][subkey1] - categorized_tags[key2][subkey2])\n",
    "        else:\n",
    "            return 1.0\n",
    "\n",
    "    dist_matrix = pdist(keys_and_subkeys, custom_distance)\n",
    "    Z = linkage(dist_matrix, method='average')\n",
    "\n",
    "    plt.figure(figsize=(10, 7))\n",
    "    dendrogram(Z, labels=labels, orientation='top', leaf_font_size=10)\n",
    "    plt.xlabel(\"Distance\")\n",
    "    plt.tight_layout()\n",
    "    plt.show()"
   ],
   "metadata": {
    "collapsed": false
   }
  },
  {
   "cell_type": "code",
   "execution_count": null,
   "outputs": [],
   "source": [
    "graph_categorized_tags(cat_tags)"
   ],
   "metadata": {
    "collapsed": false
   }
  }
 ],
 "metadata": {
  "kernelspec": {
   "display_name": "Python 3 (ipykernel)",
   "language": "python",
   "name": "python3"
  },
  "language_info": {
   "codemirror_mode": {
    "name": "ipython",
    "version": 3
   },
   "file_extension": ".py",
   "mimetype": "text/x-python",
   "name": "python",
   "nbconvert_exporter": "python",
   "pygments_lexer": "ipython3",
   "version": "3.11.1"
  }
 },
 "nbformat": 4,
 "nbformat_minor": 1
}
