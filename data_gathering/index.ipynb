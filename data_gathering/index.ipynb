{
 "cells": [
  {
   "cell_type": "markdown",
   "metadata": {},
   "source": [
    "# Imports\n",
    "The code imports several libraries to work correctly. The libraries are as follows:\n",
    "\n",
    "- tqdm is a library that provides a progress bar for loops and iteration, which is helpful for keeping track of the progress of long-running processes.\n",
    "- PIL (Python Imaging Library) is a library used for opening, manipulating, and saving image files.\n",
    "- The pickle library allows the user to serialize and deserialize Python objects, meaning that the user can save a Python object to a file and then load it back later.\n",
    "- The os library provides a way of using operating system dependent functionality like reading or writing to the file system.\n",
    "- The zipfile library provides functionality to create, read, write, append, and list a ZIP file.\n",
    "- requests library is used for sending HTTP requests to web servers and downloading content.\n",
    "- functools is a module that implements higher-order functions. Higher-order functions are functions that take other functions as inputs, or that return functions as output.\n",
    "- pathlib is a library for working with file paths, which is part of the Python Standard Library starting from Python 3.4.\n",
    "- Finally, tqdm.auto automatically enables or disables the progress bar depending on the context of use, so that it only shows when the output is connected to a terminal or not."
   ]
  },
  {
   "cell_type": "code",
   "execution_count": 2,
   "metadata": {},
   "outputs": [],
   "source": [
    "from PIL import Image\n",
    "import pickle\n",
    "import os\n",
    "import zipfile\n",
    "import requests\n",
    "import functools\n",
    "import pathlib\n",
    "from tqdm import tqdm\n",
    "import json"
   ]
  },
  {
   "cell_type": "markdown",
   "metadata": {},
   "source": [
    "# Settings base variables and paths\n",
    "For this project, we used the COCO dataset, which is a large-scale object detection. The dataset contains over 40,000 images.\n",
    "The code sets the base variables and paths for the project. The variables are as follows:"
   ]
  },
  {
   "cell_type": "code",
   "execution_count": 3,
   "metadata": {},
   "outputs": [],
   "source": [
    "# Set the base folder path for the project\n",
    "output_path = \"../output\"\n",
    "images_path = os.path.join(output_path, \"images\")\n",
    "metadata_path = os.path.join(output_path, \"metadata\")\n",
    "config_path = os.path.join(output_path, \"config\")\n",
    "\n",
    "list_of_paths = [output_path, images_path, metadata_path, config_path]\n",
    "\n",
    "# Set the base URL for the dataset\n",
    "dataset_url = \"http://images.cocodataset.org/zips/test2017.zip\""
   ]
  },
  {
   "cell_type": "markdown",
   "metadata": {},
   "source": [
    "# Create folder structure\n",
    "The code creates the folder structure for the project. The folder structure is as follows:\n",
    "- output\n",
    "    - images\n",
    "    - metadata\n",
    "    - config\n",
    "\n",
    "This method creates a folder with the given path if it doesn't already exist, It also outputs a message to inform the user if the folder was created or if it already exists.\n",
    "This is useful for organizing and managing files in a project. By creating a folder to store data and resources, it keeps the working directory tidy and makes it easier to locate files. Additionally, by checking if the folder exists before creating it, it prevents the program from overwriting existing data or throwing an error."
   ]
  },
  {
   "cell_type": "code",
   "execution_count": 4,
   "metadata": {},
   "outputs": [],
   "source": [
    "def create_folder(path):\n",
    "    \"\"\"\n",
    "    This function creates a folder at the specified path.\n",
    "    If the folder already exists, it will print a message saying so.\n",
    "    If there is an error creating the folder, it will print the error message.\n",
    "\n",
    "    Parameters:\n",
    "        :param path (str): The path of the folder to be created.\n",
    "\n",
    "    Returns:\n",
    "    None\n",
    "    \"\"\"\n",
    "    try:\n",
    "        # Use os.mkdir to create the folder at the specified path\n",
    "        os.mkdir(path)\n",
    "        print(f\"Folder {path} created\")\n",
    "    except FileExistsError:\n",
    "        # If the folder already exists, print a message saying so\n",
    "        print(f\"Folder {path} already exists\")\n",
    "    except Exception as e:\n",
    "        # If there is an error creating the folder, print the error message\n",
    "        print(f\"Error creating folder {path}: {e}\")"
   ]
  },
  {
   "cell_type": "markdown",
   "metadata": {},
   "source": [
    "# Create the folder structure\n",
    "This method initializes a list of folders by calling the create_folder method for each folder in the list.\n",
    "The purpose of this method is to make sure that all necessary folders exist before the program continues its execution.\n",
    "If a folder does not exist, the create_folder method will create it. If a folder already exists, the method will simply print a message indicating that the folder already exists. In case of any other error, the method will print the error message."
   ]
  },
  {
   "cell_type": "code",
   "execution_count": 5,
   "metadata": {},
   "outputs": [],
   "source": [
    "def init_folder(folder_names: list):\n",
    "    for folder_name in folder_names:\n",
    "        create_folder(folder_name)"
   ]
  },
  {
   "cell_type": "code",
   "execution_count": 6,
   "metadata": {},
   "outputs": [
    {
     "name": "stdout",
     "output_type": "stream",
     "text": [
      "Folder ../output already exists\n",
      "Folder ../output/images already exists\n",
      "Folder ../output/metadata already exists\n",
      "Folder ../output/config already exists\n"
     ]
    }
   ],
   "source": [
    "init_folder(list_of_paths)"
   ]
  },
  {
   "cell_type": "markdown",
   "metadata": {},
   "source": [
    "# Define methods for downloading the dataset\n",
    "The following code block is a method to download a file from a given URL and save it to a specified filename.\n",
    "\n",
    "The method starts by creating a session (s = requests.Session()) and then mounting it to the URL (s.mount(url, requests.adapters.HTTPAdapter(max_retries=3))). This sets the maximum number of retries to 3 if the connection to the URL fails.\n",
    "\n",
    "Then, the method makes a GET request to the URL (r = s.get(url, stream=True, allow_redirects=True)) and checks if it returns a successful response (r.raise_for_status()). If there was an HTTP error during the request, the error message is printed (print(f\"HTTP error occurred while downloading dataset: {e}\")).\n",
    "\n",
    "The method also checks the file size specified in the response headers and assigns it to the variable file_size (file_size = int(r.headers.get('Content-Length', 0))). If the file size is 0, a default value of \"(Unknown total file size)\" is assigned to the variable desc; otherwise, the variable desc is left empty.\n",
    "\n",
    "Next, the method resolves the file path and creates a directory if it doesn't already exist (path.parent.mkdir(parents=True, exist_ok=True)). The method then creates a tqdm progress bar to show the download progress (with tqdm.tqdm(total=file_size, unit='B', unit_scale=True, desc=desc) as pbar:).\n",
    "\n",
    "Finally, the method writes the contents of the file to disk in chunks (for chunk in r.iter_content(chunk_size=1024):), updating the progress bar for each chunk that is written to disk (pbar.update(len(chunk))). If an error occurred during the download, a message with the error is printed (print(f\"Error occurred while downloading dataset: {e}\")). The file path is returned when the method is finished."
   ]
  },
  {
   "cell_type": "code",
   "execution_count": 7,
   "metadata": {},
   "outputs": [],
   "source": [
    "def download(url, filename):\n",
    "    \"\"\"\n",
    "    This download a file from a given URL and save it to a specified filename.\n",
    "\n",
    "    Parameters:\n",
    "        :param url (str): The URL of the file to be downloaded.\n",
    "        :param filename (str): The filename to save the file as.\n",
    "\n",
    "    Returns:\n",
    "    path (str): The path of the downloaded file.\n",
    "    \"\"\"\n",
    "    try:\n",
    "        # Create a session object to persist the state of connection\n",
    "        s = requests.Session()\n",
    "        # Retry connecting to the URL up to 3 times\n",
    "        s.mount(url, requests.adapters.HTTPAdapter(max_retries=3))\n",
    "        # Send a GET request to the URL to start the download\n",
    "        r = s.get(url, stream=True, allow_redirects=True)\n",
    "        # Raise an error if the response is not 200 OK\n",
    "        r.raise_for_status()\n",
    "        # Get the file size from the Content-Length header, default to 0 if not present\n",
    "        file_size = int(r.headers.get('Content-Length', 0))\n",
    "        # Get the absolute path to the target file\n",
    "        path = pathlib.Path(filename).expanduser().resolve()\n",
    "        # Create parent directories if they don't exist\n",
    "        path.parent.mkdir(parents=True, exist_ok=True)\n",
    "        # Set the description to display while downloading, \"(Unknown total file size)\" if file size is 0\n",
    "        desc = \"(Unknown total file size)\" if file_size == 0 else \"\"\n",
    "        # Enable decoding the response content\n",
    "        r.raw.read = functools.partial(r.raw.read, decode_content=True)\n",
    "        # Use tqdm to display the download progress\n",
    "        with tqdm(total=file_size, unit='B', unit_scale=True, desc=desc) as pbar:\n",
    "            # Open the target file in binary write mode\n",
    "            with path.open(\"wb\") as f:\n",
    "                # Write each chunk of data from the response to the file\n",
    "                for chunk in r.iter_content(chunk_size=1024):\n",
    "                    f.write(chunk)\n",
    "                    pbar.update(len(chunk))\n",
    "        # Return the path to the downloaded file\n",
    "        return path\n",
    "    # Handle HTTP error if the response is not 200 OK\n",
    "    except requests.exceptions.HTTPError as e:\n",
    "        print(f\"HTTP error occurred while downloading dataset: {e}\")\n",
    "    # Handle any other exceptions that might occur while downloading the file\n",
    "    except Exception as e:\n",
    "        print(f\"Error occurred while downloading dataset: {e}\")"
   ]
  },
  {
   "cell_type": "markdown",
   "metadata": {},
   "source": [
    "# Download the dataset\n",
    "The following code block downloads the dataset from the URL and saves it to the specified filename. The method also prints a message to inform the user that the download is complete."
   ]
  },
  {
   "cell_type": "code",
   "execution_count": 8,
   "metadata": {},
   "outputs": [],
   "source": [
    "def download_dataset(dataset_url, image_path):\n",
    "    \"\"\"\n",
    "    Downloads the dataset from the given URL, unzips it, and stores the images in the specified image path.\n",
    "\n",
    "    Args:\n",
    "        :param dataset_url (str): URL of the dataset to be downloaded\n",
    "        :param image_path (str): Path to store the images after unzipping the dataset\n",
    "    \"\"\"\n",
    "    # Check if the dataset has already been downloaded\n",
    "    # Check if the archive.zip file exists\n",
    "    if not os.path.exists('archive.zip'):\n",
    "        # Download the dataset from the given url\n",
    "        download(dataset_url, 'archive.zip')\n",
    "        print(\"Dataset downloaded!\")\n",
    "        try:\n",
    "            # Extract the contents of the archive.zip to the specified image path\n",
    "            with zipfile.ZipFile('archive.zip', 'r') as zip_ref:\n",
    "                zip_ref.extractall(image_path)\n",
    "            print(\"Dataset unzipped\")\n",
    "        except Exception as e:\n",
    "            print(f\"Error occurred while unzipping dataset: {e}\")\n",
    "        try:\n",
    "            # Remove the archive.zip file\n",
    "            os.remove('archive.zip')\n",
    "            print(\"archive.zip removed\")\n",
    "        except Exception as e:\n",
    "            print(f\"Error occurred while removing archive.zip: {e}\")"
   ]
  },
  {
   "cell_type": "code",
   "execution_count": 9,
   "metadata": {},
   "outputs": [
    {
     "name": "stderr",
     "output_type": "stream",
     "text": [
      "100%|██████████| 6.65G/6.65G [04:02<00:00, 27.4MB/s] \n"
     ]
    },
    {
     "name": "stdout",
     "output_type": "stream",
     "text": [
      "Dataset downloaded!\n",
      "Dataset unzipped\n",
      "archive.zip removed\n"
     ]
    }
   ],
   "source": [
    "download_dataset(dataset_url, images_path)"
   ]
  },
  {
   "cell_type": "markdown",
   "metadata": {},
   "source": [
    "# Define methods to get all the image paths\n",
    "The get_all_images method is used to retrieve all images present in the specified image path. It uses the os.walk function to traverse through all subdirectories within the image path and collects the file names that end with either '.png' or '.jpg' extensions. The full path of each image is then generated by joining the root directory and the file name. The method returns a list of all images' full paths. In case of any error, an error message is printed and an empty list is returned."
   ]
  },
  {
   "cell_type": "code",
   "execution_count": 10,
   "metadata": {},
   "outputs": [],
   "source": [
    "def get_all_images(path):\n",
    "    \"\"\"Get all images from the given path.\n",
    "\n",
    "    Args:\n",
    "    param: image_path (str): path to the directory containing the images.\n",
    "\n",
    "    Returns:\n",
    "    - list: a list of full path to all the images with png or jpg extensions.\n",
    "    - empty list: an empty list if an error occurred while fetching images.\n",
    "    \"\"\"\n",
    "    try:\n",
    "        # use os.walk to traverse all the subdirectories and get all images\n",
    "        return [os.path.join(root, name)\n",
    "                for root, dirs, files in os.walk(path)\n",
    "                for name in files\n",
    "                if name.endswith((\".png\", \".jpg\"))]\n",
    "    except Exception as e:\n",
    "        # return an empty list and log the error message if an error occurred\n",
    "        print(f\"An error occurred while fetching images: {e}\")\n",
    "        return []"
   ]
  },
  {
   "cell_type": "markdown",
   "metadata": {},
   "source": [
    "# Define methods to set a checkpoint system\n",
    "\n",
    "## Method: create_checkpoint\n",
    "This method is used to create a checkpoint file containing the latest processed image.\n",
    "\n",
    "The method first tries to open a file named checkpoint.txt in write mode. Then it writes the latest_file into it. If any error occurs during this process, the error message is printed with the message \"An error occurred while creating checkpoint: [error message]\"."
   ]
  },
  {
   "cell_type": "code",
   "execution_count": 11,
   "metadata": {},
   "outputs": [],
   "source": [
    "# Method to create a checkpoint with the latest file\n",
    "def create_checkpoint(latest_file):\n",
    "    \"\"\"\n",
    "   Creates a checkpoint file containing the latest processed file name.\n",
    "\n",
    "   Parameters:\n",
    "       :param latest_file (str): The name of the latest processed file.\n",
    "\n",
    "   Returns:\n",
    "       None\n",
    "   \"\"\"\n",
    "    try:\n",
    "        # Open a file in write mode\n",
    "        with open('checkpoint.txt', 'w') as f:\n",
    "            # Write the latest file to the checkpoint\n",
    "            f.write(latest_file)\n",
    "    except Exception as e:\n",
    "        # Print error message\n",
    "        print(f\"An error occurred while creating checkpoint: {e}\")"
   ]
  },
  {
   "cell_type": "markdown",
   "metadata": {},
   "source": [
    "## Method: load_checkpoint\n",
    "This method is used to load the checkpoint file to get the latest processed image.\n",
    "\n",
    "The method first checks if the checkpoint file exists by verifying the existence of checkpoint.txt. If the checkpoint file exists, it opens the file in read mode, reads the content, and returns it. If the checkpoint file does not exist, it prints \"Checkpoint not found\" and returns None. If any error occurs during this process, the error message is printed with the message \"An error occurred while loading checkpoint: [error message]\"."
   ]
  },
  {
   "cell_type": "code",
   "execution_count": 12,
   "metadata": {},
   "outputs": [],
   "source": [
    "# Method to load a checkpoint\n",
    "def load_checkpoint():\n",
    "    \"\"\"\n",
    "    Loads the checkpoint file if it exists.\n",
    "\n",
    "    Returns:\n",
    "        str: The name of the latest processed file, None if checkpoint file not found.\n",
    "    \"\"\"\n",
    "    try:\n",
    "        # Check if checkpoint exists\n",
    "        if os.path.exists('checkpoint.txt'):\n",
    "            # Open the checkpoint in read mode\n",
    "            with open('checkpoint.txt', 'r') as f:\n",
    "                # Return the contents of the checkpoint\n",
    "                return f.read()\n",
    "        else:\n",
    "            # Print message if checkpoint not found\n",
    "            print(\"Checkpoint not found\")\n",
    "            return None\n",
    "    except Exception as e:\n",
    "        # Print error message\n",
    "        print(f\"An error occurred while loading checkpoint: {e}\")\n",
    "        return None"
   ]
  },
  {
   "cell_type": "markdown",
   "metadata": {},
   "source": [
    "## Method: remove_checkpoint\n",
    "This method is used to remove the checkpoint file.\n",
    "\n",
    "The method first checks if the checkpoint file exists by verifying the existence of checkpoint.txt. If the checkpoint file exists, it removes the file and prints \"Checkpoint removed successfully\". If the checkpoint file does not exist, it prints \"Checkpoint not found\". If any error occurs during this process, the error message is printed with the message \"An error occurred while removing checkpoint: [error message]\"."
   ]
  },
  {
   "cell_type": "code",
   "execution_count": 13,
   "metadata": {},
   "outputs": [],
   "source": [
    "# Method to remove a checkpoint\n",
    "def remove_checkpoint():\n",
    "    \"\"\"\n",
    "    Removes the checkpoint file if it exists.\n",
    "\n",
    "    Returns:\n",
    "        None\n",
    "    \"\"\"\n",
    "    try:\n",
    "        # Check if checkpoint exists\n",
    "        if os.path.exists('checkpoint.txt'):\n",
    "            # Remove the checkpoint\n",
    "            os.remove('checkpoint.txt')\n",
    "            # Print success message\n",
    "            print(\"Checkpoint removed successfully\")\n",
    "        else:\n",
    "            # Print message if checkpoint not found\n",
    "            print(\"Checkpoint not found\")\n",
    "    except Exception as e:\n",
    "        # Print error message\n",
    "        print(f\"An error occurred while removing checkpoint: {e}\")"
   ]
  },
  {
   "cell_type": "markdown",
   "metadata": {},
   "source": [
    "# Define methods to set test dataset\n",
    "The set_test_dataset method is used to limit the number of images in a given directory. The method takes two arguments, image_path and amount. The image_path argument specifies the directory containing the images, while the amount argument specifies the number of images that should be kept in the directory. The method works by looping through all the files in the directory and removing any file if the number of files exceeds the value specified by amount. If an error occurs during the execution of the method, an error message will be printed."
   ]
  },
  {
   "cell_type": "code",
   "execution_count": 14,
   "metadata": {},
   "outputs": [],
   "source": [
    "def set_test_dataset(image_path, amount=100):\n",
    "    \"\"\"\n",
    "    This function removes all images from the given image_path except the first amount images.\n",
    "\n",
    "    Parameters:\n",
    "    :param image_path (str): The path to the image folder.\n",
    "    :param amount (int, optional): The number of images to keep in the folder. Defaults to 100.\n",
    "\n",
    "    Returns:\n",
    "    None\n",
    "    \"\"\"\n",
    "    try:\n",
    "\n",
    "        # loop through the images in the directory using tqdm\n",
    "        for root, dirs, files in os.walk(image_path, topdown=False):\n",
    "            for name in tqdm(files, desc=\"Removing images\"):\n",
    "                # check if the number of images is greater than the amount specified\n",
    "                if len(os.listdir(image_path)) > amount:\n",
    "                    # remove the image if the number of images is greater than the specified amount\n",
    "                    os.remove(os.path.join(root, name))\n",
    "        # print message indicating that images were removed successfully\n",
    "        print(\"All images removed except \" + str(amount) + \" images\")\n",
    "    except Exception as e:\n",
    "        # print error message if there was an error during removal of images\n",
    "        print(f\"An error occurred while setting test dataset: {e}\")"
   ]
  },
  {
   "cell_type": "markdown",
   "metadata": {},
   "source": [
    "# Define methods to process dataset\n",
    "The arrange_dataset method performs several tasks to clean up and organize a directory containing images. The steps are as follows:\n",
    "\n",
    "- Get a list of all the image files in the directory using the get_all_images method.\n",
    "\n",
    "- Load the latest checkpoint using the load_checkpoint method, which is used to keep track of the last image file processed.\n",
    "\n",
    "- For each image file in the list, the method checks if it is the same as the latest checkpoint. If it is, it skips it and sets the checkpoint to None. If the checkpoint is not None, the method skips it. If the checkpoint is None, it moves the file to the image_path directory using the os.rename method. It also creates a checkpoint using the create_checkpoint method to keep track of the last image processed.\n",
    "\n",
    "- After processing all the image files, the method removes the checkpoint using the remove_checkpoint method.\n",
    "\n",
    "- The method then removes all subdirectories in the image_path directory using os.rmdir.\n",
    "\n",
    "- If the is_test argument is set to True, the method calls the set_test_dataset method to remove all images except for a certain number specified by the amount argument (defaults to 100).\n",
    "\n",
    "The method includes a try-except block to catch any errors that may occur while processing the images. If an error occurs, it prints a message indicating that an error occurred while arranging the dataset.\n"
   ]
  },
  {
   "cell_type": "code",
   "execution_count": 15,
   "metadata": {},
   "outputs": [],
   "source": [
    "def arrange_dataset(image_path, is_test=False):\n",
    "    \"\"\"\n",
    "    Arrange the dataset stored in `image_path`.\n",
    "\n",
    "    :param image_path: path to the dataset folder.\n",
    "    :param is_test: If True, the dataset will be set to a test set with only 100 images.\n",
    "    \"\"\"\n",
    "    try:\n",
    "        # Get a list of all images in the path\n",
    "        img_files = get_all_images(image_path)\n",
    "        # Load the last checkpoint if it exists\n",
    "        checkpoint = load_checkpoint()\n",
    "        # Iterate over all image files\n",
    "        for file in tqdm(img_files, desc=\"Moving all file to images folder\"):\n",
    "            # Check if the current file matches the checkpoint\n",
    "            if checkpoint == file:\n",
    "                # If it does, reset the checkpoint\n",
    "                checkpoint = None\n",
    "                continue\n",
    "            # If the checkpoint is not None, skip this file\n",
    "            elif checkpoint is not None:\n",
    "                continue\n",
    "            # If neither of the above conditions are met, move the file\n",
    "            else:\n",
    "                os.rename(file, os.path.join(image_path, os.path.basename(file)))\n",
    "                # Create a new checkpoint after moving the file\n",
    "                create_checkpoint(file)\n",
    "        # Print a message indicating that all files have been moved\n",
    "        print(\"All files moved to images folder\")\n",
    "        # Remove the checkpoint since all files have been moved\n",
    "        remove_checkpoint()\n",
    "\n",
    "        # Remove all subfolders in the image path\n",
    "        for root, dirs, files in os.walk(image_path, topdown=False):\n",
    "            for name in dirs:\n",
    "                os.rmdir(os.path.join(root, name))\n",
    "        # Print a message indicating that all subfolders have been removed\n",
    "        print(\"All subfolders removed\")\n",
    "\n",
    "        print(is_test)\n",
    "        # If is_test is True, set the test dataset\n",
    "        if is_test:\n",
    "            print(\"Setting test dataset\" + image_path)\n",
    "            set_test_dataset(image_path)\n",
    "            print(\"Test dataset set successfully\")\n",
    "    # Catch any exceptions that may occur\n",
    "    except Exception as e:\n",
    "        print(\"An error occurred while arranging the dataset: \", e)"
   ]
  },
  {
   "cell_type": "code",
   "execution_count": 16,
   "metadata": {},
   "outputs": [
    {
     "name": "stdout",
     "output_type": "stream",
     "text": [
      "Checkpoint not found\n"
     ]
    },
    {
     "name": "stderr",
     "output_type": "stream",
     "text": [
      "Moving all file to images folder: 100%|██████████| 40770/40770 [00:05<00:00, 6936.47it/s]\n"
     ]
    },
    {
     "name": "stdout",
     "output_type": "stream",
     "text": [
      "All files moved to images folder\n",
      "Checkpoint removed successfully\n",
      "All subfolders removed\n",
      "True\n",
      "Setting test dataset../output/images\n"
     ]
    },
    {
     "name": "stderr",
     "output_type": "stream",
     "text": [
      "Removing images: 100%|██████████| 40670/40670 [05:45<00:00, 117.61it/s] "
     ]
    },
    {
     "name": "stdout",
     "output_type": "stream",
     "text": [
      "All images removed except 100 images\n",
      "Test dataset set successfully\n"
     ]
    },
    {
     "name": "stderr",
     "output_type": "stream",
     "text": [
      "\n"
     ]
    }
   ],
   "source": [
    "arrange_dataset(images_path, True)"
   ]
  },
  {
   "cell_type": "markdown",
   "metadata": {},
   "source": [
    "# Define methods to get metadata\n",
    "The method get_metadata is used to extract metadata information from an image file and return it in a dictionary format. The method takes two parameters: img_file and image_path. img_file is the file name of the image and image_path is the path to the directory where the image is stored.\n",
    "\n",
    "The method uses the Image module from the Python Imaging Library (PIL) to open the image file. Then it gets the EXIF data from the image and stores it in a dictionary along with other metadata information such as the file name, size, height, width, format, and mode of the image.\n",
    "\n",
    "If an error occurs while processing the image file, the method will print an error message and return None. Otherwise, the method returns the metadata information in the form of a dictionary.\n"
   ]
  },
  {
   "cell_type": "code",
   "execution_count": 17,
   "metadata": {},
   "outputs": [],
   "source": [
    "def get_metadata(img_file, image_path):\n",
    "    \"\"\"\n",
    "    This function extracts metadata information from an image file and returns it in a dictionary format.\n",
    "\n",
    "    Parameters:\n",
    "    img_file (str): The file name of the image.\n",
    "    image_path (str): The path to the directory where the image is stored.\n",
    "\n",
    "    Returns:\n",
    "    dict: A dictionary containing the metadata information of the image. If an error occurs, the function returns None.\n",
    "    \"\"\"\n",
    "    try:\n",
    "        # get the base name of the image file\n",
    "        img_name = os.path.basename(img_file)\n",
    "        # open the image using the Image module from the PIL library\n",
    "        image = Image.open(os.path.join(image_path, img_name))\n",
    "        # get the EXIF data from the image\n",
    "        exif = image.getexif()\n",
    "\n",
    "        # store metadata information in a dictionary\n",
    "        metadata = {\n",
    "            \"filename\": image.filename,\n",
    "            \"size\": image.size,\n",
    "            \"height\": image.height,\n",
    "            \"width\": image.width,\n",
    "            \"format\": image.format,\n",
    "            \"mode\": image.mode,\n",
    "        }\n",
    "        # check if EXIF data exists\n",
    "        if exif:\n",
    "            # store relevant EXIF data in the metadata dictionary TODO: Add more EXIF data\n",
    "            metadata[\"Make\"] = exif.get(271, \"\")\n",
    "            metadata[\"Model\"] = exif.get(272, \"\")\n",
    "            metadata[\"DateTime\"] = exif.get(306, \"\")\n",
    "    except Exception as e:\n",
    "        # print an error message if an error occurs\n",
    "        print(f\"An error occurred while processing {img_file}: {str(e)}\")\n",
    "        return None\n",
    "\n",
    "    # return the metadata information\n",
    "    return metadata\n"
   ]
  },
  {
   "cell_type": "markdown",
   "metadata": {},
   "source": [
    "# Define the method to save the metadata\n",
    "The method save_metadata is used to save the metadata information of an image in either pickle or json format. The method takes in 4 arguments:\n",
    "\n",
    "- metadata (dict): The metadata information of an image.\n",
    "- img_name (str): The file name of the image.\n",
    "- metadata_path (str): The path to the directory where the metadata will be saved.\n",
    "- save_format (str): The format in which the metadata will be saved. The default is 'pickle'.\n",
    "\n",
    "The method first checks if the save_format argument is equal to 'pickle'. If it is, it uses the pickle module to save the metadata information in pickle format. The file name of the saved metadata is created by joining the metadata_path with the base name of the image file (obtained using os.path.basename) and the '.pickle' extension.\n",
    "\n",
    "If the save_format argument is equal to 'json', the method uses the json module to save the metadata information in json format. The file name of the saved metadata is created by joining the metadata_path with the base name of the image file (obtained using os.path.basename) and the '.json' extension.\n",
    "\n",
    "If the save_format argument is neither 'pickle' nor 'json', the method raises a ValueError with the message \"Invalid save format\".\n",
    "\n",
    "The method uses a try-except block to catch any exceptions that may occur during the saving of the metadata. If an error occurs, it prints an error message that includes the image file name and the error message.\n"
   ]
  },
  {
   "cell_type": "code",
   "execution_count": 18,
   "metadata": {},
   "outputs": [],
   "source": [
    "def save_metadata(metadata, img_name, metadata_path, save_format='pickle'):\n",
    "    \"\"\"\n",
    "    This function saves the metadata information of an image in either pickle or json format.\n",
    "    Parameters:\n",
    "    metadata (dict): The metadata information of an image.\n",
    "    img_name (str): The file name of the image.\n",
    "    metadata_path (str): The path to the directory where the metadata will be saved.\n",
    "    save_format (str): The format in which the metadata will be saved. The default is 'pickle'.\n",
    "\n",
    "    Returns:\n",
    "    None\n",
    "    \"\"\"\n",
    "    try:\n",
    "        if save_format == 'pickle':\n",
    "            # save the metadata in pickle format\n",
    "            with open(os.path.join(metadata_path, os.path.splitext(os.path.basename(img_name))[0] + '.pickle'), 'wb') as f:\n",
    "                pickle.dump(metadata, f)\n",
    "        elif save_format == 'json':\n",
    "            # save the metadata in json format\n",
    "            with open(os.path.join(metadata_path, os.path.splitext(os.path.basename(img_name))[0] + '.json'), 'w') as f:\n",
    "                json.dump(metadata, f)\n",
    "        else:\n",
    "            raise ValueError(\"Invalid save format\")\n",
    "    except Exception as e:\n",
    "        # print an error message if an error occurs\n",
    "        print(f\"An error occurred while saving metadata for {img_name}: {str(e)}\")\n"
   ]
  },
  {
   "cell_type": "markdown",
   "metadata": {},
   "source": [
    "# Get all the metadata\n",
    "The method get_all_metadata is used to extract metadata information from all images in a directory and save the metadata information in either pickle or json format. The method takes in 3 arguments:\n",
    "- image_path (str): The path to the directory where the images are stored.\n",
    "- metadata_path (str): The path to the directory where the metadata will be saved.\n",
    "- save_format (str): The format in which the metadata will be saved. The default is 'pickle'."
   ]
  },
  {
   "cell_type": "code",
   "execution_count": 19,
   "metadata": {},
   "outputs": [],
   "source": [
    "def get_all_metadata(image_path, metadata_path, save_format='pickle'):\n",
    "    \"\"\"\n",
    "    This function extracts metadata from all images in a directory and saves the metadata information in either pickle or json format.\n",
    "    Parameters:\n",
    "    image_path (str): The path to the directory where the images are stored.\n",
    "    metadata_path (str): The path to the directory where the metadata will be saved.\n",
    "\n",
    "    Returns:\n",
    "    None\n",
    "    \"\"\"\n",
    "    # Get a list of all images in the directory\n",
    "    img_files = get_all_images(image_path)\n",
    "\n",
    "    # Create a progress bar to track the progress of processing all images\n",
    "    checkpoint = load_checkpoint()\n",
    "    for img in tqdm(img_files, desc=\"Get all metadata of the images and save to individual pikkle file\"):\n",
    "        # Check if the metadata extraction process was interrupted previously\n",
    "        if checkpoint == img:\n",
    "            # If the checkpoint is found, set it to None and continue processing the remaining images\n",
    "            checkpoint = None\n",
    "            continue\n",
    "        elif checkpoint is not None:\n",
    "            # If the checkpoint is not None and not equal to the current image, continue to the next image\n",
    "            continue\n",
    "        else:\n",
    "            # Extract the metadata of the current image\n",
    "            metadata = get_metadata(img, image_path)\n",
    "            if metadata:\n",
    "                # Save the metadata of the current image\n",
    "                save_metadata(metadata, img, metadata_path, save_format)\n",
    "                # Create a checkpoint to track the progress of the metadata extraction process\n",
    "                create_checkpoint(img)\n",
    "\n",
    "    # Remove the checkpoint file once all metadata have been extracted and saved\n",
    "    remove_checkpoint()\n"
   ]
  },
  {
   "cell_type": "code",
   "execution_count": 20,
   "metadata": {},
   "outputs": [
    {
     "name": "stdout",
     "output_type": "stream",
     "text": [
      "Checkpoint not found\n"
     ]
    },
    {
     "name": "stderr",
     "output_type": "stream",
     "text": [
      "Get all metadata of the images and save to individual pikkle file: 100%|██████████| 100/100 [00:00<00:00, 3459.39it/s]"
     ]
    },
    {
     "name": "stdout",
     "output_type": "stream",
     "text": [
      "Checkpoint removed successfully\n"
     ]
    },
    {
     "name": "stderr",
     "output_type": "stream",
     "text": [
      "\n"
     ]
    }
   ],
   "source": [
    "get_all_metadata(images_path, metadata_path, save_format='json')"
   ]
  },
  {
   "cell_type": "markdown",
   "metadata": {},
   "source": [
    "# How to look at the metadata (pickle format)"
   ]
  },
  {
   "cell_type": "code",
   "execution_count": 21,
   "metadata": {},
   "outputs": [
    {
     "ename": "UnpicklingError",
     "evalue": "invalid load key, '{'.",
     "output_type": "error",
     "traceback": [
      "\u001B[0;31m---------------------------------------------------------------------------\u001B[0m",
      "\u001B[0;31mUnpicklingError\u001B[0m                           Traceback (most recent call last)",
      "Cell \u001B[0;32mIn[21], line 5\u001B[0m\n\u001B[1;32m      3\u001B[0m \u001B[38;5;66;03m# Load the metadata\u001B[39;00m\n\u001B[1;32m      4\u001B[0m \u001B[38;5;28;01mwith\u001B[39;00m \u001B[38;5;28mopen\u001B[39m(os\u001B[38;5;241m.\u001B[39mpath\u001B[38;5;241m.\u001B[39mjoin(metadata_path, metadata_file), \u001B[38;5;124m'\u001B[39m\u001B[38;5;124mrb\u001B[39m\u001B[38;5;124m'\u001B[39m) \u001B[38;5;28;01mas\u001B[39;00m f:\n\u001B[0;32m----> 5\u001B[0m     metadata \u001B[38;5;241m=\u001B[39m \u001B[43mpickle\u001B[49m\u001B[38;5;241;43m.\u001B[39;49m\u001B[43mload\u001B[49m\u001B[43m(\u001B[49m\u001B[43mf\u001B[49m\u001B[43m)\u001B[49m\n\u001B[1;32m      6\u001B[0m \u001B[38;5;66;03m# Print the metadata\u001B[39;00m\n\u001B[1;32m      7\u001B[0m \u001B[38;5;28mprint\u001B[39m(metadata)\n",
      "\u001B[0;31mUnpicklingError\u001B[0m: invalid load key, '{'."
     ]
    }
   ],
   "source": [
    "# Get the first file of metadata directory\n",
    "metadata_file = os.listdir(metadata_path)[0]\n",
    "# Load the metadata\n",
    "with open(os.path.join(metadata_path, metadata_file), 'rb') as f:\n",
    "    metadata = pickle.load(f)\n",
    "# Print the metadata\n",
    "print(metadata)"
   ]
  },
  {
   "cell_type": "markdown",
   "metadata": {},
   "source": [
    "# How to look at the metadata (json format)"
   ]
  },
  {
   "cell_type": "code",
   "execution_count": 22,
   "metadata": {},
   "outputs": [
    {
     "name": "stdout",
     "output_type": "stream",
     "text": [
      "{'filename': '../output/images/000000300857.jpg', 'size': [640, 480], 'height': 480, 'width': 640, 'format': 'JPEG', 'mode': 'RGB'}\n"
     ]
    }
   ],
   "source": [
    "# Get the first file of metadata directory\n",
    "metadata_file = os.listdir(metadata_path)[0]\n",
    "# Load the metadata\n",
    "with open(os.path.join(metadata_path, metadata_file), 'r') as f:\n",
    "    metadata = json.load(f)\n",
    "# Print the metadata\n",
    "print(metadata)"
   ]
  },
  {
   "cell_type": "code",
   "execution_count": null,
   "metadata": {},
   "outputs": [],
   "source": []
  }
 ],
 "metadata": {
  "kernelspec": {
   "display_name": "Python 3 (ipykernel)",
   "language": "python",
   "name": "python3"
  },
  "language_info": {
   "codemirror_mode": {
    "name": "ipython",
    "version": 3
   },
   "file_extension": ".py",
   "mimetype": "text/x-python",
   "name": "python",
   "nbconvert_exporter": "python",
   "pygments_lexer": "ipython3",
   "version": "3.9.6"
  }
 },
 "nbformat": 4,
 "nbformat_minor": 1
}
